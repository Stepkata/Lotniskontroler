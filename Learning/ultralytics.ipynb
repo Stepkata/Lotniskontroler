{
 "cells": [
  {
   "metadata": {
    "ExecuteTime": {
     "end_time": "2025-06-23T14:42:39.497644Z",
     "start_time": "2025-06-23T14:42:36.932990Z"
    }
   },
   "cell_type": "code",
   "source": "from ultralytics import YOLO",
   "id": "1be464e6b5ff7ce3",
   "outputs": [],
   "execution_count": 1
  },
  {
   "metadata": {
    "ExecuteTime": {
     "end_time": "2025-06-23T14:42:39.836630Z",
     "start_time": "2025-06-23T14:42:39.502449Z"
    }
   },
   "cell_type": "code",
   "source": "model = YOLO('yolov8n.yaml')  ",
   "id": "b29863eb8b850612",
   "outputs": [],
   "execution_count": 2
  },
  {
   "metadata": {
    "ExecuteTime": {
     "end_time": "2025-06-23T15:22:16.180269Z",
     "start_time": "2025-06-23T14:42:40.037318Z"
    }
   },
   "cell_type": "code",
   "source": [
    "results = model.train(\n",
    "    data='data.yaml',\n",
    "    freeze=5,\n",
    "    epochs=50,\n",
    "    imgsz=416,\n",
    "    batch=32,\n",
    "    device=0,\n",
    "    lr0=0.015,\n",
    "    patience=10,\n",
    "    save=True\n",
    ")"
   ],
   "id": "b4b81b5d9be71be3",
   "outputs": [
    {
     "name": "stdout",
     "output_type": "stream",
     "text": [
      "New https://pypi.org/project/ultralytics/8.3.158 available 😃 Update with 'pip install -U ultralytics'\n",
      "Ultralytics 8.3.148 🚀 Python-3.10.16 torch-2.7.0+cu128 CUDA:0 (NVIDIA GeForce RTX 4060 Laptop GPU, 8188MiB)\n",
      "\u001B[34m\u001B[1mengine/trainer: \u001B[0magnostic_nms=False, amp=True, augment=False, auto_augment=randaugment, batch=32, bgr=0.0, box=7.5, cache=False, cfg=None, classes=None, close_mosaic=10, cls=0.5, conf=None, copy_paste=0.0, copy_paste_mode=flip, cos_lr=False, cutmix=0.0, data=data.yaml, degrees=0.0, deterministic=True, device=0, dfl=1.5, dnn=False, dropout=0.0, dynamic=False, embed=None, epochs=50, erasing=0.4, exist_ok=False, fliplr=0.5, flipud=0.0, format=torchscript, fraction=1.0, freeze=5, half=False, hsv_h=0.015, hsv_s=0.7, hsv_v=0.4, imgsz=416, int8=False, iou=0.7, keras=False, kobj=1.0, line_width=None, lr0=0.015, lrf=0.01, mask_ratio=4, max_det=300, mixup=0.0, mode=train, model=yolov8n.yaml, momentum=0.937, mosaic=1.0, multi_scale=False, name=train11, nbs=64, nms=False, opset=None, optimize=False, optimizer=auto, overlap_mask=True, patience=10, perspective=0.0, plots=True, pose=12.0, pretrained=True, profile=False, project=None, rect=False, resume=False, retina_masks=False, save=True, save_conf=False, save_crop=False, save_dir=runs/detect/train11, save_frames=False, save_json=False, save_period=-1, save_txt=False, scale=0.5, seed=0, shear=0.0, show=False, show_boxes=True, show_conf=True, show_labels=True, simplify=True, single_cls=False, source=None, split=val, stream_buffer=False, task=detect, time=None, tracker=botsort.yaml, translate=0.1, val=True, verbose=True, vid_stride=1, visualize=False, warmup_bias_lr=0.1, warmup_epochs=3.0, warmup_momentum=0.8, weight_decay=0.0005, workers=8, workspace=None\n",
      "Overriding model.yaml nc=80 with nc=5\n",
      "\n",
      "                   from  n    params  module                                       arguments                     \n",
      "  0                  -1  1       464  ultralytics.nn.modules.conv.Conv             [3, 16, 3, 2]                 \n",
      "  1                  -1  1      4672  ultralytics.nn.modules.conv.Conv             [16, 32, 3, 2]                \n",
      "  2                  -1  1      7360  ultralytics.nn.modules.block.C2f             [32, 32, 1, True]             \n",
      "  3                  -1  1     18560  ultralytics.nn.modules.conv.Conv             [32, 64, 3, 2]                \n",
      "  4                  -1  2     49664  ultralytics.nn.modules.block.C2f             [64, 64, 2, True]             \n",
      "  5                  -1  1     73984  ultralytics.nn.modules.conv.Conv             [64, 128, 3, 2]               \n",
      "  6                  -1  2    197632  ultralytics.nn.modules.block.C2f             [128, 128, 2, True]           \n",
      "  7                  -1  1    295424  ultralytics.nn.modules.conv.Conv             [128, 256, 3, 2]              \n",
      "  8                  -1  1    460288  ultralytics.nn.modules.block.C2f             [256, 256, 1, True]           \n",
      "  9                  -1  1    164608  ultralytics.nn.modules.block.SPPF            [256, 256, 5]                 \n",
      " 10                  -1  1         0  torch.nn.modules.upsampling.Upsample         [None, 2, 'nearest']          \n",
      " 11             [-1, 6]  1         0  ultralytics.nn.modules.conv.Concat           [1]                           \n",
      " 12                  -1  1    148224  ultralytics.nn.modules.block.C2f             [384, 128, 1]                 \n",
      " 13                  -1  1         0  torch.nn.modules.upsampling.Upsample         [None, 2, 'nearest']          \n",
      " 14             [-1, 4]  1         0  ultralytics.nn.modules.conv.Concat           [1]                           \n",
      " 15                  -1  1     37248  ultralytics.nn.modules.block.C2f             [192, 64, 1]                  \n",
      " 16                  -1  1     36992  ultralytics.nn.modules.conv.Conv             [64, 64, 3, 2]                \n",
      " 17            [-1, 12]  1         0  ultralytics.nn.modules.conv.Concat           [1]                           \n",
      " 18                  -1  1    123648  ultralytics.nn.modules.block.C2f             [192, 128, 1]                 \n",
      " 19                  -1  1    147712  ultralytics.nn.modules.conv.Conv             [128, 128, 3, 2]              \n",
      " 20             [-1, 9]  1         0  ultralytics.nn.modules.conv.Concat           [1]                           \n",
      " 21                  -1  1    493056  ultralytics.nn.modules.block.C2f             [384, 256, 1]                 \n",
      " 22        [15, 18, 21]  1    752287  ultralytics.nn.modules.head.Detect           [5, [64, 128, 256]]           \n",
      "YOLOv8n summary: 129 layers, 3,011,823 parameters, 3,011,807 gradients, 8.2 GFLOPs\n",
      "\n",
      "Freezing layer 'model.0.conv.weight'\n",
      "Freezing layer 'model.0.bn.weight'\n",
      "Freezing layer 'model.0.bn.bias'\n",
      "Freezing layer 'model.1.conv.weight'\n",
      "Freezing layer 'model.1.bn.weight'\n",
      "Freezing layer 'model.1.bn.bias'\n",
      "Freezing layer 'model.2.cv1.conv.weight'\n",
      "Freezing layer 'model.2.cv1.bn.weight'\n",
      "Freezing layer 'model.2.cv1.bn.bias'\n",
      "Freezing layer 'model.2.cv2.conv.weight'\n",
      "Freezing layer 'model.2.cv2.bn.weight'\n",
      "Freezing layer 'model.2.cv2.bn.bias'\n",
      "Freezing layer 'model.2.m.0.cv1.conv.weight'\n",
      "Freezing layer 'model.2.m.0.cv1.bn.weight'\n",
      "Freezing layer 'model.2.m.0.cv1.bn.bias'\n",
      "Freezing layer 'model.2.m.0.cv2.conv.weight'\n",
      "Freezing layer 'model.2.m.0.cv2.bn.weight'\n",
      "Freezing layer 'model.2.m.0.cv2.bn.bias'\n",
      "Freezing layer 'model.3.conv.weight'\n",
      "Freezing layer 'model.3.bn.weight'\n",
      "Freezing layer 'model.3.bn.bias'\n",
      "Freezing layer 'model.4.cv1.conv.weight'\n",
      "Freezing layer 'model.4.cv1.bn.weight'\n",
      "Freezing layer 'model.4.cv1.bn.bias'\n",
      "Freezing layer 'model.4.cv2.conv.weight'\n",
      "Freezing layer 'model.4.cv2.bn.weight'\n",
      "Freezing layer 'model.4.cv2.bn.bias'\n",
      "Freezing layer 'model.4.m.0.cv1.conv.weight'\n",
      "Freezing layer 'model.4.m.0.cv1.bn.weight'\n",
      "Freezing layer 'model.4.m.0.cv1.bn.bias'\n",
      "Freezing layer 'model.4.m.0.cv2.conv.weight'\n",
      "Freezing layer 'model.4.m.0.cv2.bn.weight'\n",
      "Freezing layer 'model.4.m.0.cv2.bn.bias'\n",
      "Freezing layer 'model.4.m.1.cv1.conv.weight'\n",
      "Freezing layer 'model.4.m.1.cv1.bn.weight'\n",
      "Freezing layer 'model.4.m.1.cv1.bn.bias'\n",
      "Freezing layer 'model.4.m.1.cv2.conv.weight'\n",
      "Freezing layer 'model.4.m.1.cv2.bn.weight'\n",
      "Freezing layer 'model.4.m.1.cv2.bn.bias'\n",
      "Freezing layer 'model.22.dfl.conv.weight'\n",
      "\u001B[34m\u001B[1mAMP: \u001B[0mrunning Automatic Mixed Precision (AMP) checks...\n",
      "\u001B[34m\u001B[1mAMP: \u001B[0mchecks passed ✅\n",
      "\u001B[34m\u001B[1mtrain: \u001B[0mFast image access ✅ (ping: 2.1±0.3 ms, read: 4.0±1.3 MB/s, size: 17.1 KB)\n"
     ]
    },
    {
     "name": "stderr",
     "output_type": "stream",
     "text": [
      "\u001B[34m\u001B[1mtrain: \u001B[0mScanning /mnt/c/Users/Razogarz/PycharmProjects/airport-controller/rivalAgents/train/labels.cache... 6181 images, 0 backgrounds, 0 corrupt: 100%|██████████| 6181/6181 [00:00<?, ?it/s]\n"
     ]
    },
    {
     "name": "stdout",
     "output_type": "stream",
     "text": [
      "\u001B[34m\u001B[1mval: \u001B[0mFast image access ✅ (ping: 3.0±0.3 ms, read: 3.3±0.9 MB/s, size: 19.3 KB)\n"
     ]
    },
    {
     "name": "stderr",
     "output_type": "stream",
     "text": [
      "\u001B[34m\u001B[1mval: \u001B[0mScanning /mnt/c/Users/Razogarz/PycharmProjects/airport-controller/rivalAgents/valid/labels.cache... 1766 images, 0 backgrounds, 0 corrupt: 100%|██████████| 1766/1766 [00:00<?, ?it/s]\n"
     ]
    },
    {
     "name": "stdout",
     "output_type": "stream",
     "text": [
      "Plotting labels to runs/detect/train11/labels.jpg... \n",
      "\u001B[34m\u001B[1moptimizer:\u001B[0m 'optimizer=auto' found, ignoring 'lr0=0.015' and 'momentum=0.937' and determining best 'optimizer', 'lr0' and 'momentum' automatically... \n",
      "\u001B[34m\u001B[1moptimizer:\u001B[0m AdamW(lr=0.001111, momentum=0.9) with parameter groups 57 weight(decay=0.0), 64 weight(decay=0.0005), 63 bias(decay=0.0)\n",
      "Image sizes 416 train, 416 val\n",
      "Using 8 dataloader workers\n",
      "Logging results to \u001B[1mruns/detect/train11\u001B[0m\n",
      "Starting training for 50 epochs...\n",
      "\n",
      "      Epoch    GPU_mem   box_loss   cls_loss   dfl_loss  Instances       Size\n"
     ]
    },
    {
     "name": "stderr",
     "output_type": "stream",
     "text": [
      "       1/50      1.05G      4.741      6.915      3.486          8        416: 100%|██████████| 194/194 [00:26<00:00,  7.31it/s]\n",
      "                 Class     Images  Instances      Box(P          R      mAP50  mAP50-95): 100%|██████████| 28/28 [00:10<00:00,  2.80it/s]"
     ]
    },
    {
     "name": "stdout",
     "output_type": "stream",
     "text": [
      "                   all       1766       1766          0          0          0          0\n"
     ]
    },
    {
     "name": "stderr",
     "output_type": "stream",
     "text": [
      "\n"
     ]
    },
    {
     "name": "stdout",
     "output_type": "stream",
     "text": [
      "\n",
      "      Epoch    GPU_mem   box_loss   cls_loss   dfl_loss  Instances       Size\n"
     ]
    },
    {
     "name": "stderr",
     "output_type": "stream",
     "text": [
      "       2/50      1.41G      3.248      3.978      2.274          7        416: 100%|██████████| 194/194 [00:23<00:00,  8.23it/s]\n",
      "                 Class     Images  Instances      Box(P          R      mAP50  mAP50-95): 100%|██████████| 28/28 [00:10<00:00,  2.79it/s]"
     ]
    },
    {
     "name": "stdout",
     "output_type": "stream",
     "text": [
      "                   all       1766       1766      0.479     0.0194     0.0194    0.00497\n"
     ]
    },
    {
     "name": "stderr",
     "output_type": "stream",
     "text": [
      "\n"
     ]
    },
    {
     "name": "stdout",
     "output_type": "stream",
     "text": [
      "\n",
      "      Epoch    GPU_mem   box_loss   cls_loss   dfl_loss  Instances       Size\n"
     ]
    },
    {
     "name": "stderr",
     "output_type": "stream",
     "text": [
      "       3/50      1.43G      2.945      3.419      2.041          4        416: 100%|██████████| 194/194 [00:22<00:00,  8.61it/s]\n",
      "                 Class     Images  Instances      Box(P          R      mAP50  mAP50-95): 100%|██████████| 28/28 [00:10<00:00,  2.72it/s]"
     ]
    },
    {
     "name": "stdout",
     "output_type": "stream",
     "text": [
      "                   all       1766       1766      0.353      0.067     0.0573     0.0193\n"
     ]
    },
    {
     "name": "stderr",
     "output_type": "stream",
     "text": [
      "\n"
     ]
    },
    {
     "name": "stdout",
     "output_type": "stream",
     "text": [
      "\n",
      "      Epoch    GPU_mem   box_loss   cls_loss   dfl_loss  Instances       Size\n"
     ]
    },
    {
     "name": "stderr",
     "output_type": "stream",
     "text": [
      "       4/50      1.45G      2.826      3.288      1.959         11        416: 100%|██████████| 194/194 [00:22<00:00,  8.63it/s]\n",
      "                 Class     Images  Instances      Box(P          R      mAP50  mAP50-95): 100%|██████████| 28/28 [00:10<00:00,  2.71it/s]"
     ]
    },
    {
     "name": "stdout",
     "output_type": "stream",
     "text": [
      "                   all       1766       1766      0.352     0.0847     0.0563      0.019\n"
     ]
    },
    {
     "name": "stderr",
     "output_type": "stream",
     "text": [
      "\n"
     ]
    },
    {
     "name": "stdout",
     "output_type": "stream",
     "text": [
      "\n",
      "      Epoch    GPU_mem   box_loss   cls_loss   dfl_loss  Instances       Size\n"
     ]
    },
    {
     "name": "stderr",
     "output_type": "stream",
     "text": [
      "       5/50      1.45G      2.703      3.134      1.878          8        416: 100%|██████████| 194/194 [00:22<00:00,  8.59it/s]\n",
      "                 Class     Images  Instances      Box(P          R      mAP50  mAP50-95): 100%|██████████| 28/28 [00:10<00:00,  2.74it/s]"
     ]
    },
    {
     "name": "stdout",
     "output_type": "stream",
     "text": [
      "                   all       1766       1766      0.114      0.139      0.064     0.0213\n"
     ]
    },
    {
     "name": "stderr",
     "output_type": "stream",
     "text": [
      "\n"
     ]
    },
    {
     "name": "stdout",
     "output_type": "stream",
     "text": [
      "\n",
      "      Epoch    GPU_mem   box_loss   cls_loss   dfl_loss  Instances       Size\n"
     ]
    },
    {
     "name": "stderr",
     "output_type": "stream",
     "text": [
      "       6/50      1.45G      2.632      3.037      1.826          5        416: 100%|██████████| 194/194 [00:22<00:00,  8.46it/s]\n",
      "                 Class     Images  Instances      Box(P          R      mAP50  mAP50-95): 100%|██████████| 28/28 [00:10<00:00,  2.59it/s]"
     ]
    },
    {
     "name": "stdout",
     "output_type": "stream",
     "text": [
      "                   all       1766       1766      0.348      0.129     0.0819     0.0259\n"
     ]
    },
    {
     "name": "stderr",
     "output_type": "stream",
     "text": [
      "\n"
     ]
    },
    {
     "name": "stdout",
     "output_type": "stream",
     "text": [
      "\n",
      "      Epoch    GPU_mem   box_loss   cls_loss   dfl_loss  Instances       Size\n"
     ]
    },
    {
     "name": "stderr",
     "output_type": "stream",
     "text": [
      "       7/50      1.45G      2.609          3      1.795          8        416: 100%|██████████| 194/194 [00:22<00:00,  8.47it/s]\n",
      "                 Class     Images  Instances      Box(P          R      mAP50  mAP50-95): 100%|██████████| 28/28 [00:10<00:00,  2.59it/s]"
     ]
    },
    {
     "name": "stdout",
     "output_type": "stream",
     "text": [
      "                   all       1766       1766      0.458     0.0705     0.0924     0.0305\n"
     ]
    },
    {
     "name": "stderr",
     "output_type": "stream",
     "text": [
      "\n"
     ]
    },
    {
     "name": "stdout",
     "output_type": "stream",
     "text": [
      "\n",
      "      Epoch    GPU_mem   box_loss   cls_loss   dfl_loss  Instances       Size\n"
     ]
    },
    {
     "name": "stderr",
     "output_type": "stream",
     "text": [
      "       8/50      1.45G      2.559      2.953      1.756         10        416: 100%|██████████| 194/194 [00:22<00:00,  8.46it/s]\n",
      "                 Class     Images  Instances      Box(P          R      mAP50  mAP50-95): 100%|██████████| 28/28 [00:10<00:00,  2.63it/s]"
     ]
    },
    {
     "name": "stdout",
     "output_type": "stream",
     "text": [
      "                   all       1766       1766       0.38      0.188      0.132     0.0505\n"
     ]
    },
    {
     "name": "stderr",
     "output_type": "stream",
     "text": [
      "\n"
     ]
    },
    {
     "name": "stdout",
     "output_type": "stream",
     "text": [
      "\n",
      "      Epoch    GPU_mem   box_loss   cls_loss   dfl_loss  Instances       Size\n"
     ]
    },
    {
     "name": "stderr",
     "output_type": "stream",
     "text": [
      "       9/50      1.45G      2.505      2.871       1.75          7        416: 100%|██████████| 194/194 [00:22<00:00,  8.67it/s]\n",
      "                 Class     Images  Instances      Box(P          R      mAP50  mAP50-95): 100%|██████████| 28/28 [00:09<00:00,  2.82it/s]"
     ]
    },
    {
     "name": "stdout",
     "output_type": "stream",
     "text": [
      "                   all       1766       1766      0.293      0.092      0.116     0.0379\n"
     ]
    },
    {
     "name": "stderr",
     "output_type": "stream",
     "text": [
      "\n"
     ]
    },
    {
     "name": "stdout",
     "output_type": "stream",
     "text": [
      "\n",
      "      Epoch    GPU_mem   box_loss   cls_loss   dfl_loss  Instances       Size\n"
     ]
    },
    {
     "name": "stderr",
     "output_type": "stream",
     "text": [
      "      10/50      1.45G      2.493      2.854      1.734          5        416: 100%|██████████| 194/194 [00:21<00:00,  8.85it/s]\n",
      "                 Class     Images  Instances      Box(P          R      mAP50  mAP50-95): 100%|██████████| 28/28 [00:10<00:00,  2.77it/s]"
     ]
    },
    {
     "name": "stdout",
     "output_type": "stream",
     "text": [
      "                   all       1766       1766      0.238       0.22      0.175     0.0634\n"
     ]
    },
    {
     "name": "stderr",
     "output_type": "stream",
     "text": [
      "\n"
     ]
    },
    {
     "name": "stdout",
     "output_type": "stream",
     "text": [
      "\n",
      "      Epoch    GPU_mem   box_loss   cls_loss   dfl_loss  Instances       Size\n"
     ]
    },
    {
     "name": "stderr",
     "output_type": "stream",
     "text": [
      "      11/50      1.45G      2.467      2.769      1.718         12        416: 100%|██████████| 194/194 [00:22<00:00,  8.77it/s]\n",
      "                 Class     Images  Instances      Box(P          R      mAP50  mAP50-95): 100%|██████████| 28/28 [00:09<00:00,  2.86it/s]\n"
     ]
    },
    {
     "name": "stdout",
     "output_type": "stream",
     "text": [
      "                   all       1766       1766      0.477      0.226      0.194      0.073\n",
      "\n",
      "      Epoch    GPU_mem   box_loss   cls_loss   dfl_loss  Instances       Size\n"
     ]
    },
    {
     "name": "stderr",
     "output_type": "stream",
     "text": [
      "      12/50      1.45G      2.463      2.789      1.718         13        416: 100%|██████████| 194/194 [00:22<00:00,  8.46it/s]\n",
      "                 Class     Images  Instances      Box(P          R      mAP50  mAP50-95): 100%|██████████| 28/28 [00:09<00:00,  2.86it/s]"
     ]
    },
    {
     "name": "stdout",
     "output_type": "stream",
     "text": [
      "                   all       1766       1766      0.312      0.226      0.205     0.0725\n"
     ]
    },
    {
     "name": "stderr",
     "output_type": "stream",
     "text": [
      "\n"
     ]
    },
    {
     "name": "stdout",
     "output_type": "stream",
     "text": [
      "\n",
      "      Epoch    GPU_mem   box_loss   cls_loss   dfl_loss  Instances       Size\n"
     ]
    },
    {
     "name": "stderr",
     "output_type": "stream",
     "text": [
      "      13/50      1.45G      2.426      2.729      1.687          8        416: 100%|██████████| 194/194 [00:22<00:00,  8.47it/s]\n",
      "                 Class     Images  Instances      Box(P          R      mAP50  mAP50-95): 100%|██████████| 28/28 [00:10<00:00,  2.72it/s]"
     ]
    },
    {
     "name": "stdout",
     "output_type": "stream",
     "text": [
      "                   all       1766       1766      0.289      0.235      0.205     0.0793\n"
     ]
    },
    {
     "name": "stderr",
     "output_type": "stream",
     "text": [
      "\n"
     ]
    },
    {
     "name": "stdout",
     "output_type": "stream",
     "text": [
      "\n",
      "      Epoch    GPU_mem   box_loss   cls_loss   dfl_loss  Instances       Size\n"
     ]
    },
    {
     "name": "stderr",
     "output_type": "stream",
     "text": [
      "      14/50      1.45G      2.432      2.712      1.678          6        416: 100%|██████████| 194/194 [00:23<00:00,  8.38it/s]\n",
      "                 Class     Images  Instances      Box(P          R      mAP50  mAP50-95): 100%|██████████| 28/28 [00:10<00:00,  2.72it/s]"
     ]
    },
    {
     "name": "stdout",
     "output_type": "stream",
     "text": [
      "                   all       1766       1766      0.325      0.203      0.174     0.0586\n"
     ]
    },
    {
     "name": "stderr",
     "output_type": "stream",
     "text": [
      "\n"
     ]
    },
    {
     "name": "stdout",
     "output_type": "stream",
     "text": [
      "\n",
      "      Epoch    GPU_mem   box_loss   cls_loss   dfl_loss  Instances       Size\n"
     ]
    },
    {
     "name": "stderr",
     "output_type": "stream",
     "text": [
      "      15/50      1.45G      2.412      2.679      1.667         10        416: 100%|██████████| 194/194 [00:22<00:00,  8.58it/s]\n",
      "                 Class     Images  Instances      Box(P          R      mAP50  mAP50-95): 100%|██████████| 28/28 [00:10<00:00,  2.77it/s]\n"
     ]
    },
    {
     "name": "stdout",
     "output_type": "stream",
     "text": [
      "                   all       1766       1766       0.44       0.22      0.176     0.0619\n",
      "\n",
      "      Epoch    GPU_mem   box_loss   cls_loss   dfl_loss  Instances       Size\n"
     ]
    },
    {
     "name": "stderr",
     "output_type": "stream",
     "text": [
      "      16/50      1.45G      2.388      2.651      1.657         12        416: 100%|██████████| 194/194 [00:22<00:00,  8.46it/s]\n",
      "                 Class     Images  Instances      Box(P          R      mAP50  mAP50-95): 100%|██████████| 28/28 [00:10<00:00,  2.74it/s]\n"
     ]
    },
    {
     "name": "stdout",
     "output_type": "stream",
     "text": [
      "                   all       1766       1766      0.278      0.286      0.231     0.0886\n",
      "\n",
      "      Epoch    GPU_mem   box_loss   cls_loss   dfl_loss  Instances       Size\n"
     ]
    },
    {
     "name": "stderr",
     "output_type": "stream",
     "text": [
      "      17/50      1.45G      2.381      2.597       1.66          4        416: 100%|██████████| 194/194 [00:22<00:00,  8.74it/s]\n",
      "                 Class     Images  Instances      Box(P          R      mAP50  mAP50-95): 100%|██████████| 28/28 [00:10<00:00,  2.79it/s]"
     ]
    },
    {
     "name": "stdout",
     "output_type": "stream",
     "text": [
      "                   all       1766       1766      0.444      0.256      0.216     0.0771\n"
     ]
    },
    {
     "name": "stderr",
     "output_type": "stream",
     "text": [
      "\n"
     ]
    },
    {
     "name": "stdout",
     "output_type": "stream",
     "text": [
      "\n",
      "      Epoch    GPU_mem   box_loss   cls_loss   dfl_loss  Instances       Size\n"
     ]
    },
    {
     "name": "stderr",
     "output_type": "stream",
     "text": [
      "      18/50      1.45G       2.37      2.619      1.649          6        416: 100%|██████████| 194/194 [00:22<00:00,  8.66it/s]\n",
      "                 Class     Images  Instances      Box(P          R      mAP50  mAP50-95): 100%|██████████| 28/28 [00:09<00:00,  2.96it/s]"
     ]
    },
    {
     "name": "stdout",
     "output_type": "stream",
     "text": [
      "                   all       1766       1766      0.258      0.275      0.201     0.0722\n"
     ]
    },
    {
     "name": "stderr",
     "output_type": "stream",
     "text": [
      "\n"
     ]
    },
    {
     "name": "stdout",
     "output_type": "stream",
     "text": [
      "\n",
      "      Epoch    GPU_mem   box_loss   cls_loss   dfl_loss  Instances       Size\n"
     ]
    },
    {
     "name": "stderr",
     "output_type": "stream",
     "text": [
      "      19/50      1.45G      2.347      2.566      1.636          6        416: 100%|██████████| 194/194 [00:22<00:00,  8.60it/s]\n",
      "                 Class     Images  Instances      Box(P          R      mAP50  mAP50-95): 100%|██████████| 28/28 [00:10<00:00,  2.70it/s]"
     ]
    },
    {
     "name": "stdout",
     "output_type": "stream",
     "text": [
      "                   all       1766       1766      0.496      0.275      0.257      0.101\n"
     ]
    },
    {
     "name": "stderr",
     "output_type": "stream",
     "text": [
      "\n"
     ]
    },
    {
     "name": "stdout",
     "output_type": "stream",
     "text": [
      "\n",
      "      Epoch    GPU_mem   box_loss   cls_loss   dfl_loss  Instances       Size\n"
     ]
    },
    {
     "name": "stderr",
     "output_type": "stream",
     "text": [
      "      20/50      1.45G      2.334      2.553      1.632          6        416: 100%|██████████| 194/194 [00:23<00:00,  8.19it/s]\n",
      "                 Class     Images  Instances      Box(P          R      mAP50  mAP50-95): 100%|██████████| 28/28 [00:10<00:00,  2.66it/s]"
     ]
    },
    {
     "name": "stdout",
     "output_type": "stream",
     "text": [
      "                   all       1766       1766        0.3      0.266       0.21     0.0762\n"
     ]
    },
    {
     "name": "stderr",
     "output_type": "stream",
     "text": [
      "\n"
     ]
    },
    {
     "name": "stdout",
     "output_type": "stream",
     "text": [
      "\n",
      "      Epoch    GPU_mem   box_loss   cls_loss   dfl_loss  Instances       Size\n"
     ]
    },
    {
     "name": "stderr",
     "output_type": "stream",
     "text": [
      "      21/50      1.45G      2.333      2.533      1.636          6        416: 100%|██████████| 194/194 [00:23<00:00,  8.36it/s]\n",
      "                 Class     Images  Instances      Box(P          R      mAP50  mAP50-95): 100%|██████████| 28/28 [00:10<00:00,  2.69it/s]\n"
     ]
    },
    {
     "name": "stdout",
     "output_type": "stream",
     "text": [
      "                   all       1766       1766      0.417      0.272      0.256      0.103\n",
      "\n",
      "      Epoch    GPU_mem   box_loss   cls_loss   dfl_loss  Instances       Size\n"
     ]
    },
    {
     "name": "stderr",
     "output_type": "stream",
     "text": [
      "      22/50      1.45G      2.329      2.493      1.627          8        416: 100%|██████████| 194/194 [00:22<00:00,  8.59it/s]\n",
      "                 Class     Images  Instances      Box(P          R      mAP50  mAP50-95): 100%|██████████| 28/28 [00:10<00:00,  2.64it/s]"
     ]
    },
    {
     "name": "stdout",
     "output_type": "stream",
     "text": [
      "                   all       1766       1766      0.401      0.319        0.3      0.117\n"
     ]
    },
    {
     "name": "stderr",
     "output_type": "stream",
     "text": [
      "\n"
     ]
    },
    {
     "name": "stdout",
     "output_type": "stream",
     "text": [
      "\n",
      "      Epoch    GPU_mem   box_loss   cls_loss   dfl_loss  Instances       Size\n"
     ]
    },
    {
     "name": "stderr",
     "output_type": "stream",
     "text": [
      "      23/50      1.45G       2.32      2.497       1.62          8        416: 100%|██████████| 194/194 [00:22<00:00,  8.56it/s]\n",
      "                 Class     Images  Instances      Box(P          R      mAP50  mAP50-95): 100%|██████████| 28/28 [00:10<00:00,  2.77it/s]"
     ]
    },
    {
     "name": "stdout",
     "output_type": "stream",
     "text": [
      "                   all       1766       1766      0.381       0.31      0.271      0.107\n"
     ]
    },
    {
     "name": "stderr",
     "output_type": "stream",
     "text": [
      "\n"
     ]
    },
    {
     "name": "stdout",
     "output_type": "stream",
     "text": [
      "\n",
      "      Epoch    GPU_mem   box_loss   cls_loss   dfl_loss  Instances       Size\n"
     ]
    },
    {
     "name": "stderr",
     "output_type": "stream",
     "text": [
      "      24/50      1.45G      2.295       2.46      1.611          8        416: 100%|██████████| 194/194 [00:23<00:00,  8.28it/s]\n",
      "                 Class     Images  Instances      Box(P          R      mAP50  mAP50-95): 100%|██████████| 28/28 [00:10<00:00,  2.68it/s]"
     ]
    },
    {
     "name": "stdout",
     "output_type": "stream",
     "text": [
      "                   all       1766       1766      0.282      0.254      0.193     0.0687\n"
     ]
    },
    {
     "name": "stderr",
     "output_type": "stream",
     "text": [
      "\n"
     ]
    },
    {
     "name": "stdout",
     "output_type": "stream",
     "text": [
      "\n",
      "      Epoch    GPU_mem   box_loss   cls_loss   dfl_loss  Instances       Size\n"
     ]
    },
    {
     "name": "stderr",
     "output_type": "stream",
     "text": [
      "      25/50      1.45G      2.297      2.434      1.607          7        416: 100%|██████████| 194/194 [00:23<00:00,  8.26it/s]\n",
      "                 Class     Images  Instances      Box(P          R      mAP50  mAP50-95): 100%|██████████| 28/28 [00:10<00:00,  2.70it/s]"
     ]
    },
    {
     "name": "stdout",
     "output_type": "stream",
     "text": [
      "                   all       1766       1766      0.418      0.316      0.314      0.127\n"
     ]
    },
    {
     "name": "stderr",
     "output_type": "stream",
     "text": [
      "\n"
     ]
    },
    {
     "name": "stdout",
     "output_type": "stream",
     "text": [
      "\n",
      "      Epoch    GPU_mem   box_loss   cls_loss   dfl_loss  Instances       Size\n"
     ]
    },
    {
     "name": "stderr",
     "output_type": "stream",
     "text": [
      "      26/50      1.45G      2.291      2.409      1.608         11        416: 100%|██████████| 194/194 [00:22<00:00,  8.58it/s]\n",
      "                 Class     Images  Instances      Box(P          R      mAP50  mAP50-95): 100%|██████████| 28/28 [00:10<00:00,  2.61it/s]\n"
     ]
    },
    {
     "name": "stdout",
     "output_type": "stream",
     "text": [
      "                   all       1766       1766      0.413      0.308      0.311      0.123\n",
      "\n",
      "      Epoch    GPU_mem   box_loss   cls_loss   dfl_loss  Instances       Size\n"
     ]
    },
    {
     "name": "stderr",
     "output_type": "stream",
     "text": [
      "      27/50      1.45G      2.287      2.405      1.606         12        416: 100%|██████████| 194/194 [00:22<00:00,  8.56it/s]\n",
      "                 Class     Images  Instances      Box(P          R      mAP50  mAP50-95): 100%|██████████| 28/28 [00:10<00:00,  2.65it/s]"
     ]
    },
    {
     "name": "stdout",
     "output_type": "stream",
     "text": [
      "                   all       1766       1766      0.525      0.294      0.282      0.106\n"
     ]
    },
    {
     "name": "stderr",
     "output_type": "stream",
     "text": [
      "\n"
     ]
    },
    {
     "name": "stdout",
     "output_type": "stream",
     "text": [
      "\n",
      "      Epoch    GPU_mem   box_loss   cls_loss   dfl_loss  Instances       Size\n"
     ]
    },
    {
     "name": "stderr",
     "output_type": "stream",
     "text": [
      "      28/50      1.45G      2.284       2.38      1.601          7        416: 100%|██████████| 194/194 [00:22<00:00,  8.46it/s]\n",
      "                 Class     Images  Instances      Box(P          R      mAP50  mAP50-95): 100%|██████████| 28/28 [00:09<00:00,  2.88it/s]"
     ]
    },
    {
     "name": "stdout",
     "output_type": "stream",
     "text": [
      "                   all       1766       1766      0.478      0.343      0.329      0.128\n"
     ]
    },
    {
     "name": "stderr",
     "output_type": "stream",
     "text": [
      "\n"
     ]
    },
    {
     "name": "stdout",
     "output_type": "stream",
     "text": [
      "\n",
      "      Epoch    GPU_mem   box_loss   cls_loss   dfl_loss  Instances       Size\n"
     ]
    },
    {
     "name": "stderr",
     "output_type": "stream",
     "text": [
      "      29/50      1.45G      2.281      2.384      1.597          5        416: 100%|██████████| 194/194 [00:22<00:00,  8.58it/s]\n",
      "                 Class     Images  Instances      Box(P          R      mAP50  mAP50-95): 100%|██████████| 28/28 [00:10<00:00,  2.74it/s]"
     ]
    },
    {
     "name": "stdout",
     "output_type": "stream",
     "text": [
      "                   all       1766       1766      0.333      0.325      0.288      0.109\n"
     ]
    },
    {
     "name": "stderr",
     "output_type": "stream",
     "text": [
      "\n"
     ]
    },
    {
     "name": "stdout",
     "output_type": "stream",
     "text": [
      "\n",
      "      Epoch    GPU_mem   box_loss   cls_loss   dfl_loss  Instances       Size\n"
     ]
    },
    {
     "name": "stderr",
     "output_type": "stream",
     "text": [
      "      30/50      1.45G      2.246      2.338      1.579          6        416: 100%|██████████| 194/194 [00:22<00:00,  8.65it/s]\n",
      "                 Class     Images  Instances      Box(P          R      mAP50  mAP50-95): 100%|██████████| 28/28 [00:10<00:00,  2.78it/s]"
     ]
    },
    {
     "name": "stdout",
     "output_type": "stream",
     "text": [
      "                   all       1766       1766      0.398       0.35      0.336      0.135\n"
     ]
    },
    {
     "name": "stderr",
     "output_type": "stream",
     "text": [
      "\n"
     ]
    },
    {
     "name": "stdout",
     "output_type": "stream",
     "text": [
      "\n",
      "      Epoch    GPU_mem   box_loss   cls_loss   dfl_loss  Instances       Size\n"
     ]
    },
    {
     "name": "stderr",
     "output_type": "stream",
     "text": [
      "      31/50      1.45G      2.248      2.361      1.582          7        416: 100%|██████████| 194/194 [00:22<00:00,  8.61it/s]\n",
      "                 Class     Images  Instances      Box(P          R      mAP50  mAP50-95): 100%|██████████| 28/28 [00:10<00:00,  2.66it/s]"
     ]
    },
    {
     "name": "stdout",
     "output_type": "stream",
     "text": [
      "                   all       1766       1766      0.386      0.367      0.345       0.14\n"
     ]
    },
    {
     "name": "stderr",
     "output_type": "stream",
     "text": [
      "\n"
     ]
    },
    {
     "name": "stdout",
     "output_type": "stream",
     "text": [
      "\n",
      "      Epoch    GPU_mem   box_loss   cls_loss   dfl_loss  Instances       Size\n"
     ]
    },
    {
     "name": "stderr",
     "output_type": "stream",
     "text": [
      "      32/50      1.45G      2.251      2.346      1.579         10        416: 100%|██████████| 194/194 [00:23<00:00,  8.27it/s]\n",
      "                 Class     Images  Instances      Box(P          R      mAP50  mAP50-95): 100%|██████████| 28/28 [00:10<00:00,  2.77it/s]"
     ]
    },
    {
     "name": "stdout",
     "output_type": "stream",
     "text": [
      "                   all       1766       1766      0.399      0.354      0.334      0.134\n"
     ]
    },
    {
     "name": "stderr",
     "output_type": "stream",
     "text": [
      "\n"
     ]
    },
    {
     "name": "stdout",
     "output_type": "stream",
     "text": [
      "\n",
      "      Epoch    GPU_mem   box_loss   cls_loss   dfl_loss  Instances       Size\n"
     ]
    },
    {
     "name": "stderr",
     "output_type": "stream",
     "text": [
      "      33/50      1.45G      2.235      2.318      1.568          7        416: 100%|██████████| 194/194 [00:22<00:00,  8.73it/s]\n",
      "                 Class     Images  Instances      Box(P          R      mAP50  mAP50-95): 100%|██████████| 28/28 [00:10<00:00,  2.80it/s]"
     ]
    },
    {
     "name": "stdout",
     "output_type": "stream",
     "text": [
      "                   all       1766       1766       0.43      0.355      0.356      0.142\n"
     ]
    },
    {
     "name": "stderr",
     "output_type": "stream",
     "text": [
      "\n"
     ]
    },
    {
     "name": "stdout",
     "output_type": "stream",
     "text": [
      "\n",
      "      Epoch    GPU_mem   box_loss   cls_loss   dfl_loss  Instances       Size\n"
     ]
    },
    {
     "name": "stderr",
     "output_type": "stream",
     "text": [
      "      34/50      1.45G      2.239      2.298       1.57          6        416: 100%|██████████| 194/194 [00:22<00:00,  8.65it/s]\n",
      "                 Class     Images  Instances      Box(P          R      mAP50  mAP50-95): 100%|██████████| 28/28 [00:09<00:00,  2.85it/s]"
     ]
    },
    {
     "name": "stdout",
     "output_type": "stream",
     "text": [
      "                   all       1766       1766      0.463      0.399      0.388      0.156\n"
     ]
    },
    {
     "name": "stderr",
     "output_type": "stream",
     "text": [
      "\n"
     ]
    },
    {
     "name": "stdout",
     "output_type": "stream",
     "text": [
      "\n",
      "      Epoch    GPU_mem   box_loss   cls_loss   dfl_loss  Instances       Size\n"
     ]
    },
    {
     "name": "stderr",
     "output_type": "stream",
     "text": [
      "      35/50      1.45G      2.222      2.296      1.559          4        416: 100%|██████████| 194/194 [00:22<00:00,  8.53it/s]\n",
      "                 Class     Images  Instances      Box(P          R      mAP50  mAP50-95): 100%|██████████| 28/28 [00:10<00:00,  2.70it/s]"
     ]
    },
    {
     "name": "stdout",
     "output_type": "stream",
     "text": [
      "                   all       1766       1766      0.453      0.418      0.395      0.161\n"
     ]
    },
    {
     "name": "stderr",
     "output_type": "stream",
     "text": [
      "\n"
     ]
    },
    {
     "name": "stdout",
     "output_type": "stream",
     "text": [
      "\n",
      "      Epoch    GPU_mem   box_loss   cls_loss   dfl_loss  Instances       Size\n"
     ]
    },
    {
     "name": "stderr",
     "output_type": "stream",
     "text": [
      "      36/50      1.45G      2.221      2.272      1.563          7        416: 100%|██████████| 194/194 [00:22<00:00,  8.58it/s]\n",
      "                 Class     Images  Instances      Box(P          R      mAP50  mAP50-95): 100%|██████████| 28/28 [00:10<00:00,  2.77it/s]"
     ]
    },
    {
     "name": "stdout",
     "output_type": "stream",
     "text": [
      "                   all       1766       1766      0.459      0.375      0.372      0.152\n"
     ]
    },
    {
     "name": "stderr",
     "output_type": "stream",
     "text": [
      "\n"
     ]
    },
    {
     "name": "stdout",
     "output_type": "stream",
     "text": [
      "\n",
      "      Epoch    GPU_mem   box_loss   cls_loss   dfl_loss  Instances       Size\n"
     ]
    },
    {
     "name": "stderr",
     "output_type": "stream",
     "text": [
      "      37/50      1.45G      2.201      2.256      1.546          4        416: 100%|██████████| 194/194 [00:23<00:00,  8.43it/s]\n",
      "                 Class     Images  Instances      Box(P          R      mAP50  mAP50-95): 100%|██████████| 28/28 [00:10<00:00,  2.66it/s]"
     ]
    },
    {
     "name": "stdout",
     "output_type": "stream",
     "text": [
      "                   all       1766       1766      0.459      0.392      0.392       0.16\n"
     ]
    },
    {
     "name": "stderr",
     "output_type": "stream",
     "text": [
      "\n"
     ]
    },
    {
     "name": "stdout",
     "output_type": "stream",
     "text": [
      "\n",
      "      Epoch    GPU_mem   box_loss   cls_loss   dfl_loss  Instances       Size\n"
     ]
    },
    {
     "name": "stderr",
     "output_type": "stream",
     "text": [
      "      38/50      1.45G      2.211      2.244      1.561          2        416: 100%|██████████| 194/194 [00:25<00:00,  7.54it/s]\n",
      "                 Class     Images  Instances      Box(P          R      mAP50  mAP50-95): 100%|██████████| 28/28 [00:13<00:00,  2.01it/s]"
     ]
    },
    {
     "name": "stdout",
     "output_type": "stream",
     "text": [
      "                   all       1766       1766       0.48      0.383      0.405      0.166\n"
     ]
    },
    {
     "name": "stderr",
     "output_type": "stream",
     "text": [
      "\n"
     ]
    },
    {
     "name": "stdout",
     "output_type": "stream",
     "text": [
      "\n",
      "      Epoch    GPU_mem   box_loss   cls_loss   dfl_loss  Instances       Size\n"
     ]
    },
    {
     "name": "stderr",
     "output_type": "stream",
     "text": [
      "      39/50      1.45G        2.2      2.235      1.559          8        416: 100%|██████████| 194/194 [00:46<00:00,  4.18it/s]\n",
      "                 Class     Images  Instances      Box(P          R      mAP50  mAP50-95): 100%|██████████| 28/28 [00:16<00:00,  1.66it/s]"
     ]
    },
    {
     "name": "stdout",
     "output_type": "stream",
     "text": [
      "                   all       1766       1766      0.457      0.393      0.386      0.154\n"
     ]
    },
    {
     "name": "stderr",
     "output_type": "stream",
     "text": [
      "\n"
     ]
    },
    {
     "name": "stdout",
     "output_type": "stream",
     "text": [
      "\n",
      "      Epoch    GPU_mem   box_loss   cls_loss   dfl_loss  Instances       Size\n"
     ]
    },
    {
     "name": "stderr",
     "output_type": "stream",
     "text": [
      "      40/50      1.45G      2.207      2.213      1.548         10        416: 100%|██████████| 194/194 [00:41<00:00,  4.73it/s]\n",
      "                 Class     Images  Instances      Box(P          R      mAP50  mAP50-95): 100%|██████████| 28/28 [00:18<00:00,  1.53it/s]"
     ]
    },
    {
     "name": "stdout",
     "output_type": "stream",
     "text": [
      "                   all       1766       1766      0.509        0.4      0.418      0.172\n"
     ]
    },
    {
     "name": "stderr",
     "output_type": "stream",
     "text": [
      "\n"
     ]
    },
    {
     "name": "stdout",
     "output_type": "stream",
     "text": [
      "Closing dataloader mosaic\n",
      "\n",
      "      Epoch    GPU_mem   box_loss   cls_loss   dfl_loss  Instances       Size\n"
     ]
    },
    {
     "name": "stderr",
     "output_type": "stream",
     "text": [
      "      41/50      1.45G      2.089      1.999       1.65          5        416: 100%|██████████| 194/194 [00:50<00:00,  3.83it/s]\n",
      "                 Class     Images  Instances      Box(P          R      mAP50  mAP50-95): 100%|██████████| 28/28 [00:47<00:00,  1.69s/it]"
     ]
    },
    {
     "name": "stdout",
     "output_type": "stream",
     "text": [
      "                   all       1766       1766      0.508       0.41      0.425      0.177\n"
     ]
    },
    {
     "name": "stderr",
     "output_type": "stream",
     "text": [
      "\n"
     ]
    },
    {
     "name": "stdout",
     "output_type": "stream",
     "text": [
      "\n",
      "      Epoch    GPU_mem   box_loss   cls_loss   dfl_loss  Instances       Size\n"
     ]
    },
    {
     "name": "stderr",
     "output_type": "stream",
     "text": [
      "      42/50      1.45G      2.079      1.949      1.639          5        416: 100%|██████████| 194/194 [01:36<00:00,  2.00it/s]\n",
      "                 Class     Images  Instances      Box(P          R      mAP50  mAP50-95): 100%|██████████| 28/28 [00:14<00:00,  1.98it/s]"
     ]
    },
    {
     "name": "stdout",
     "output_type": "stream",
     "text": [
      "                   all       1766       1766      0.504      0.419      0.422      0.175\n"
     ]
    },
    {
     "name": "stderr",
     "output_type": "stream",
     "text": [
      "\n"
     ]
    },
    {
     "name": "stdout",
     "output_type": "stream",
     "text": [
      "\n",
      "      Epoch    GPU_mem   box_loss   cls_loss   dfl_loss  Instances       Size\n"
     ]
    },
    {
     "name": "stderr",
     "output_type": "stream",
     "text": [
      "      43/50      1.45G       2.07       1.94      1.633          5        416: 100%|██████████| 194/194 [01:41<00:00,  1.91it/s]\n",
      "                 Class     Images  Instances      Box(P          R      mAP50  mAP50-95): 100%|██████████| 28/28 [00:24<00:00,  1.16it/s]"
     ]
    },
    {
     "name": "stdout",
     "output_type": "stream",
     "text": [
      "                   all       1766       1766      0.483      0.441       0.43       0.18\n"
     ]
    },
    {
     "name": "stderr",
     "output_type": "stream",
     "text": [
      "\n"
     ]
    },
    {
     "name": "stdout",
     "output_type": "stream",
     "text": [
      "\n",
      "      Epoch    GPU_mem   box_loss   cls_loss   dfl_loss  Instances       Size\n"
     ]
    },
    {
     "name": "stderr",
     "output_type": "stream",
     "text": [
      "      44/50      1.45G       2.07      1.938      1.631          5        416: 100%|██████████| 194/194 [01:49<00:00,  1.77it/s]\n",
      "                 Class     Images  Instances      Box(P          R      mAP50  mAP50-95): 100%|██████████| 28/28 [00:22<00:00,  1.25it/s]"
     ]
    },
    {
     "name": "stdout",
     "output_type": "stream",
     "text": [
      "                   all       1766       1766      0.533      0.427      0.439      0.181\n"
     ]
    },
    {
     "name": "stderr",
     "output_type": "stream",
     "text": [
      "\n"
     ]
    },
    {
     "name": "stdout",
     "output_type": "stream",
     "text": [
      "\n",
      "      Epoch    GPU_mem   box_loss   cls_loss   dfl_loss  Instances       Size\n"
     ]
    },
    {
     "name": "stderr",
     "output_type": "stream",
     "text": [
      "      45/50      1.45G       2.06        1.9      1.629          5        416: 100%|██████████| 194/194 [00:47<00:00,  4.09it/s]\n",
      "                 Class     Images  Instances      Box(P          R      mAP50  mAP50-95): 100%|██████████| 28/28 [00:13<00:00,  2.15it/s]"
     ]
    },
    {
     "name": "stdout",
     "output_type": "stream",
     "text": [
      "                   all       1766       1766      0.513       0.43      0.443      0.187\n"
     ]
    },
    {
     "name": "stderr",
     "output_type": "stream",
     "text": [
      "\n"
     ]
    },
    {
     "name": "stdout",
     "output_type": "stream",
     "text": [
      "\n",
      "      Epoch    GPU_mem   box_loss   cls_loss   dfl_loss  Instances       Size\n"
     ]
    },
    {
     "name": "stderr",
     "output_type": "stream",
     "text": [
      "      46/50      1.45G      2.053      1.885      1.621          5        416: 100%|██████████| 194/194 [00:33<00:00,  5.74it/s]\n",
      "                 Class     Images  Instances      Box(P          R      mAP50  mAP50-95): 100%|██████████| 28/28 [00:21<00:00,  1.28it/s]"
     ]
    },
    {
     "name": "stdout",
     "output_type": "stream",
     "text": [
      "                   all       1766       1766       0.52      0.427      0.445      0.187\n"
     ]
    },
    {
     "name": "stderr",
     "output_type": "stream",
     "text": [
      "\n"
     ]
    },
    {
     "name": "stdout",
     "output_type": "stream",
     "text": [
      "\n",
      "      Epoch    GPU_mem   box_loss   cls_loss   dfl_loss  Instances       Size\n"
     ]
    },
    {
     "name": "stderr",
     "output_type": "stream",
     "text": [
      "      47/50      1.45G      2.046      1.884      1.622          5        416: 100%|██████████| 194/194 [00:57<00:00,  3.39it/s]\n",
      "                 Class     Images  Instances      Box(P          R      mAP50  mAP50-95): 100%|██████████| 28/28 [00:20<00:00,  1.36it/s]"
     ]
    },
    {
     "name": "stdout",
     "output_type": "stream",
     "text": [
      "                   all       1766       1766      0.511      0.436      0.452      0.191\n"
     ]
    },
    {
     "name": "stderr",
     "output_type": "stream",
     "text": [
      "\n"
     ]
    },
    {
     "name": "stdout",
     "output_type": "stream",
     "text": [
      "\n",
      "      Epoch    GPU_mem   box_loss   cls_loss   dfl_loss  Instances       Size\n"
     ]
    },
    {
     "name": "stderr",
     "output_type": "stream",
     "text": [
      "      48/50      1.45G      2.042      1.881      1.622          5        416: 100%|██████████| 194/194 [00:58<00:00,  3.30it/s]\n",
      "                 Class     Images  Instances      Box(P          R      mAP50  mAP50-95): 100%|██████████| 28/28 [00:21<00:00,  1.32it/s]"
     ]
    },
    {
     "name": "stdout",
     "output_type": "stream",
     "text": [
      "                   all       1766       1766       0.52      0.426      0.449      0.187\n"
     ]
    },
    {
     "name": "stderr",
     "output_type": "stream",
     "text": [
      "\n"
     ]
    },
    {
     "name": "stdout",
     "output_type": "stream",
     "text": [
      "\n",
      "      Epoch    GPU_mem   box_loss   cls_loss   dfl_loss  Instances       Size\n"
     ]
    },
    {
     "name": "stderr",
     "output_type": "stream",
     "text": [
      "      49/50      1.45G      2.044      1.857       1.62          5        416: 100%|██████████| 194/194 [00:59<00:00,  3.24it/s]\n",
      "                 Class     Images  Instances      Box(P          R      mAP50  mAP50-95): 100%|██████████| 28/28 [00:21<00:00,  1.32it/s]"
     ]
    },
    {
     "name": "stdout",
     "output_type": "stream",
     "text": [
      "                   all       1766       1766      0.531      0.443      0.459      0.194\n"
     ]
    },
    {
     "name": "stderr",
     "output_type": "stream",
     "text": [
      "\n"
     ]
    },
    {
     "name": "stdout",
     "output_type": "stream",
     "text": [
      "\n",
      "      Epoch    GPU_mem   box_loss   cls_loss   dfl_loss  Instances       Size\n"
     ]
    },
    {
     "name": "stderr",
     "output_type": "stream",
     "text": [
      "      50/50      1.45G      2.035      1.865      1.613          5        416: 100%|██████████| 194/194 [01:00<00:00,  3.22it/s]\n",
      "                 Class     Images  Instances      Box(P          R      mAP50  mAP50-95): 100%|██████████| 28/28 [00:20<00:00,  1.33it/s]"
     ]
    },
    {
     "name": "stdout",
     "output_type": "stream",
     "text": [
      "                   all       1766       1766      0.542       0.44      0.464      0.196\n"
     ]
    },
    {
     "name": "stderr",
     "output_type": "stream",
     "text": [
      "\n"
     ]
    },
    {
     "name": "stdout",
     "output_type": "stream",
     "text": [
      "\n",
      "50 epochs completed in 0.643 hours.\n",
      "Optimizer stripped from runs/detect/train11/weights/last.pt, 6.2MB\n",
      "Optimizer stripped from runs/detect/train11/weights/best.pt, 6.2MB\n",
      "\n",
      "Validating runs/detect/train11/weights/best.pt...\n",
      "Ultralytics 8.3.148 🚀 Python-3.10.16 torch-2.7.0+cu128 CUDA:0 (NVIDIA GeForce RTX 4060 Laptop GPU, 8188MiB)\n",
      "YOLOv8n summary (fused): 72 layers, 3,006,623 parameters, 0 gradients, 8.1 GFLOPs\n"
     ]
    },
    {
     "name": "stderr",
     "output_type": "stream",
     "text": [
      "                 Class     Images  Instances      Box(P          R      mAP50  mAP50-95): 100%|██████████| 28/28 [00:25<00:00,  1.11it/s]\n"
     ]
    },
    {
     "name": "stdout",
     "output_type": "stream",
     "text": [
      "                   all       1766       1766      0.529      0.443      0.463      0.196\n",
      "                     0        391        391      0.667       0.65       0.71      0.344\n",
      "                     1        389        389       0.51      0.424      0.431      0.173\n",
      "                     2        225        225      0.402     0.0844      0.148     0.0401\n",
      "                     3        366        366      0.504      0.366      0.377      0.156\n",
      "                     4        395        395      0.565      0.691      0.651      0.265\n",
      "Speed: 0.1ms preprocess, 2.9ms inference, 0.0ms loss, 3.9ms postprocess per image\n",
      "Results saved to \u001B[1mruns/detect/train11\u001B[0m\n"
     ]
    }
   ],
   "execution_count": 3
  },
  {
   "metadata": {
    "ExecuteTime": {
     "end_time": "2025-06-23T15:22:59.995385Z",
     "start_time": "2025-06-23T15:22:16.327132Z"
    }
   },
   "cell_type": "code",
   "source": "metrics = model.val()",
   "id": "49814fdc09c8e3b2",
   "outputs": [
    {
     "name": "stdout",
     "output_type": "stream",
     "text": [
      "Ultralytics 8.3.148 🚀 Python-3.10.16 torch-2.7.0+cu128 CUDA:0 (NVIDIA GeForce RTX 4060 Laptop GPU, 8188MiB)\n",
      "YOLOv8n summary (fused): 72 layers, 3,006,623 parameters, 0 gradients, 8.1 GFLOPs\n",
      "\u001B[34m\u001B[1mval: \u001B[0mFast image access ✅ (ping: 4.3±1.2 ms, read: 3.3±1.6 MB/s, size: 20.0 KB)\n"
     ]
    },
    {
     "name": "stderr",
     "output_type": "stream",
     "text": [
      "\u001B[34m\u001B[1mval: \u001B[0mScanning /mnt/c/Users/Razogarz/PycharmProjects/airport-controller/rivalAgents/valid/labels.cache... 1766 images, 0 backgrounds, 0 corrupt: 100%|██████████| 1766/1766 [00:00<?, ?it/s]\n",
      "                 Class     Images  Instances      Box(P          R      mAP50  mAP50-95): 100%|██████████| 56/56 [00:28<00:00,  1.98it/s]\n"
     ]
    },
    {
     "name": "stdout",
     "output_type": "stream",
     "text": [
      "                   all       1766       1766      0.526      0.444      0.463      0.195\n",
      "                     0        391        391      0.666       0.65       0.71      0.345\n",
      "                     1        389        389       0.51      0.424      0.431      0.173\n",
      "                     2        225        225       0.39     0.0844      0.147       0.04\n",
      "                     3        366        366      0.503      0.366      0.377      0.154\n",
      "                     4        395        395      0.562      0.694      0.651      0.264\n",
      "Speed: 0.3ms preprocess, 4.6ms inference, 0.0ms loss, 3.5ms postprocess per image\n",
      "Results saved to \u001B[1mruns/detect/train112\u001B[0m\n"
     ]
    }
   ],
   "execution_count": 5
  },
  {
   "metadata": {
    "ExecuteTime": {
     "end_time": "2025-06-23T15:24:08.373236Z",
     "start_time": "2025-06-23T15:23:00.042178Z"
    }
   },
   "cell_type": "code",
   "source": "_ = model.predict('./valid/images', conf=0.25, save=True)",
   "id": "5b839dc38b769a4b",
   "outputs": [
    {
     "name": "stdout",
     "output_type": "stream",
     "text": [
      "\n",
      "WARNING ⚠️ \n",
      "inference results will accumulate in RAM unless `stream=True` is passed, causing potential out-of-memory\n",
      "errors for large sources or long-running streams and videos. See https://docs.ultralytics.com/modes/predict/ for help.\n",
      "\n",
      "Example:\n",
      "    results = model(source=..., stream=True)  # generator of Results objects\n",
      "    for r in results:\n",
      "        boxes = r.boxes  # Boxes object for bbox outputs\n",
      "        masks = r.masks  # Masks object for segment masks outputs\n",
      "        probs = r.probs  # Class probabilities for classification outputs\n",
      "\n",
      "image 1/1766 /mnt/c/Users/Razogarz/PycharmProjects/airport-controller/rivalAgents/valid/images/009004_jpg.rf.0f740b5e6ccaea6cc4179f6b479938a1.jpg: 416x416 (no detections), 16.5ms\n",
      "image 2/1766 /mnt/c/Users/Razogarz/PycharmProjects/airport-controller/rivalAgents/valid/images/009005_jpg.rf.1282241890cc85a75efb33799f4697f3.jpg: 416x416 (no detections), 7.0ms\n",
      "image 3/1766 /mnt/c/Users/Razogarz/PycharmProjects/airport-controller/rivalAgents/valid/images/009009_jpg.rf.a9b812f04180caf37d20ba44cf2e1f5f.jpg: 416x416 (no detections), 10.3ms\n",
      "image 4/1766 /mnt/c/Users/Razogarz/PycharmProjects/airport-controller/rivalAgents/valid/images/009025_jpg.rf.4b29baf3c21372ab94c409f8705f53bb.jpg: 416x416 (no detections), 12.3ms\n",
      "image 5/1766 /mnt/c/Users/Razogarz/PycharmProjects/airport-controller/rivalAgents/valid/images/009029_jpg.rf.1bdc0520750c7e352c088c9fca463669.jpg: 416x416 (no detections), 14.3ms\n",
      "image 6/1766 /mnt/c/Users/Razogarz/PycharmProjects/airport-controller/rivalAgents/valid/images/009042_jpg.rf.edb3ac73bf5eca21a7e7ae2d0c11049b.jpg: 416x416 (no detections), 10.5ms\n",
      "image 7/1766 /mnt/c/Users/Razogarz/PycharmProjects/airport-controller/rivalAgents/valid/images/009048_jpg.rf.771cbc70e74d5935186ea4d05ced4de4.jpg: 416x416 1 3, 6.9ms\n",
      "image 8/1766 /mnt/c/Users/Razogarz/PycharmProjects/airport-controller/rivalAgents/valid/images/009053_jpg.rf.90f5cfce3e5d38e9fd00993c342caade.jpg: 416x416 (no detections), 16.4ms\n",
      "image 9/1766 /mnt/c/Users/Razogarz/PycharmProjects/airport-controller/rivalAgents/valid/images/009055_jpg.rf.fefaaff72dc5d498e40252e6f4ffaaf2.jpg: 416x416 (no detections), 12.4ms\n",
      "image 10/1766 /mnt/c/Users/Razogarz/PycharmProjects/airport-controller/rivalAgents/valid/images/009059_jpg.rf.83331fa33fa812b50cb54dfb75939391.jpg: 416x416 1 2, 8.4ms\n",
      "image 11/1766 /mnt/c/Users/Razogarz/PycharmProjects/airport-controller/rivalAgents/valid/images/009067_jpg.rf.cbae4b606234c4c76c3092c26e092481.jpg: 416x416 (no detections), 20.4ms\n",
      "image 12/1766 /mnt/c/Users/Razogarz/PycharmProjects/airport-controller/rivalAgents/valid/images/009068_jpg.rf.174d4594ae1d0b05d6f38177c1fd5f9d.jpg: 416x416 (no detections), 15.9ms\n",
      "image 13/1766 /mnt/c/Users/Razogarz/PycharmProjects/airport-controller/rivalAgents/valid/images/009080_jpg.rf.55176ff634506e17c2b2cf720bf23abd.jpg: 416x416 (no detections), 13.9ms\n",
      "image 14/1766 /mnt/c/Users/Razogarz/PycharmProjects/airport-controller/rivalAgents/valid/images/009084_jpg.rf.f9c0c6d52911fa2f66a6b9492d78f889.jpg: 416x416 (no detections), 14.0ms\n",
      "image 15/1766 /mnt/c/Users/Razogarz/PycharmProjects/airport-controller/rivalAgents/valid/images/009087_jpg.rf.441a0faea00c754d4e77a5d7fd2921d6.jpg: 416x416 (no detections), 18.5ms\n",
      "image 16/1766 /mnt/c/Users/Razogarz/PycharmProjects/airport-controller/rivalAgents/valid/images/009101_jpg.rf.c4b3f2d4b0018e45fdcebeda36c25167.jpg: 416x416 (no detections), 18.0ms\n",
      "image 17/1766 /mnt/c/Users/Razogarz/PycharmProjects/airport-controller/rivalAgents/valid/images/009115_jpg.rf.671312ab6e92d72f306a6bff8ec0da87.jpg: 416x416 (no detections), 19.5ms\n",
      "image 18/1766 /mnt/c/Users/Razogarz/PycharmProjects/airport-controller/rivalAgents/valid/images/009124_jpg.rf.a6cce5a5bb642c3319e067c7e353bbfc.jpg: 416x416 (no detections), 20.7ms\n",
      "image 19/1766 /mnt/c/Users/Razogarz/PycharmProjects/airport-controller/rivalAgents/valid/images/009140_jpg.rf.12e8eb8abce6be0138a8b523feda2f34.jpg: 416x416 (no detections), 7.1ms\n",
      "image 20/1766 /mnt/c/Users/Razogarz/PycharmProjects/airport-controller/rivalAgents/valid/images/009158_jpg.rf.665147e18095f229d616691bb941a692.jpg: 416x416 (no detections), 9.9ms\n",
      "image 21/1766 /mnt/c/Users/Razogarz/PycharmProjects/airport-controller/rivalAgents/valid/images/009160_jpg.rf.2d1548cb3f90c6c9ec08f6172dd428f2.jpg: 416x416 (no detections), 7.6ms\n",
      "image 22/1766 /mnt/c/Users/Razogarz/PycharmProjects/airport-controller/rivalAgents/valid/images/009168_jpg.rf.2a7f0e267e28c6cc46be5f6525bd21cf.jpg: 416x416 (no detections), 9.9ms\n",
      "image 23/1766 /mnt/c/Users/Razogarz/PycharmProjects/airport-controller/rivalAgents/valid/images/009173_jpg.rf.78044161cfa8090abfd2c2a12c2d508e.jpg: 416x416 (no detections), 11.8ms\n",
      "image 24/1766 /mnt/c/Users/Razogarz/PycharmProjects/airport-controller/rivalAgents/valid/images/009193_jpg.rf.cdedaa232bceb255ad1de0946b5d8933.jpg: 416x416 (no detections), 17.9ms\n",
      "image 25/1766 /mnt/c/Users/Razogarz/PycharmProjects/airport-controller/rivalAgents/valid/images/009202_jpg.rf.bdd0c4dac9704f7dfa9ebbd934329486.jpg: 416x416 1 2, 1 3, 8.5ms\n",
      "image 26/1766 /mnt/c/Users/Razogarz/PycharmProjects/airport-controller/rivalAgents/valid/images/009209_jpg.rf.f5394905a84c68ba8d61abd5c974a913.jpg: 416x416 (no detections), 18.9ms\n",
      "image 27/1766 /mnt/c/Users/Razogarz/PycharmProjects/airport-controller/rivalAgents/valid/images/009214_jpg.rf.aca930b9236e3877e278e4119ccd01e1.jpg: 416x416 1 4, 13.6ms\n",
      "image 28/1766 /mnt/c/Users/Razogarz/PycharmProjects/airport-controller/rivalAgents/valid/images/009221_jpg.rf.d968311621ca460d31d0ae9eae4dc512.jpg: 416x416 (no detections), 15.7ms\n",
      "image 29/1766 /mnt/c/Users/Razogarz/PycharmProjects/airport-controller/rivalAgents/valid/images/009228_jpg.rf.9612f6efea57a25eeaf868f9fd95d4ff.jpg: 416x416 (no detections), 13.9ms\n",
      "image 30/1766 /mnt/c/Users/Razogarz/PycharmProjects/airport-controller/rivalAgents/valid/images/009234_jpg.rf.c19ba07070db3890616aa56d296279d9.jpg: 416x416 (no detections), 14.0ms\n",
      "image 31/1766 /mnt/c/Users/Razogarz/PycharmProjects/airport-controller/rivalAgents/valid/images/009247_jpg.rf.93d0f0e59e72430c3d1c817746b03b9a.jpg: 416x416 (no detections), 10.2ms\n",
      "image 32/1766 /mnt/c/Users/Razogarz/PycharmProjects/airport-controller/rivalAgents/valid/images/009252_jpg.rf.3947f547eecedcdc23161e24ca9abeb7.jpg: 416x416 1 2, 19.4ms\n",
      "image 33/1766 /mnt/c/Users/Razogarz/PycharmProjects/airport-controller/rivalAgents/valid/images/009264_jpg.rf.7926f9949ce0bc8ae1aed428bda6b76c.jpg: 416x416 (no detections), 18.2ms\n",
      "image 34/1766 /mnt/c/Users/Razogarz/PycharmProjects/airport-controller/rivalAgents/valid/images/009269_jpg.rf.7b9b977b4d0daa292a9b37f442a96fc2.jpg: 416x416 (no detections), 7.4ms\n",
      "image 35/1766 /mnt/c/Users/Razogarz/PycharmProjects/airport-controller/rivalAgents/valid/images/009289_jpg.rf.384c238e336492ace3bc07652d82816a.jpg: 416x416 (no detections), 9.1ms\n",
      "image 36/1766 /mnt/c/Users/Razogarz/PycharmProjects/airport-controller/rivalAgents/valid/images/009297_jpg.rf.0e7efd0549ecf6061c76e34a6d4e182e.jpg: 416x416 (no detections), 12.2ms\n",
      "image 37/1766 /mnt/c/Users/Razogarz/PycharmProjects/airport-controller/rivalAgents/valid/images/009299_jpg.rf.eeacf1345bbc9d7e8beefa1afd792c35.jpg: 416x416 (no detections), 14.2ms\n",
      "image 38/1766 /mnt/c/Users/Razogarz/PycharmProjects/airport-controller/rivalAgents/valid/images/009309_jpg.rf.b32fd66a5760756e27bd94c7a35e78ac.jpg: 416x416 (no detections), 9.3ms\n",
      "image 39/1766 /mnt/c/Users/Razogarz/PycharmProjects/airport-controller/rivalAgents/valid/images/009320_jpg.rf.436c957ac8fadf06567c10726cf0268d.jpg: 416x416 (no detections), 10.3ms\n",
      "image 40/1766 /mnt/c/Users/Razogarz/PycharmProjects/airport-controller/rivalAgents/valid/images/009321_jpg.rf.6133df2026d1bb615486275cfba86b8f.jpg: 416x416 1 3, 9.8ms\n",
      "image 41/1766 /mnt/c/Users/Razogarz/PycharmProjects/airport-controller/rivalAgents/valid/images/009323_jpg.rf.0f886bb3cce11282b2913087d35aa742.jpg: 416x416 1 0, 15.5ms\n",
      "image 42/1766 /mnt/c/Users/Razogarz/PycharmProjects/airport-controller/rivalAgents/valid/images/009325_jpg.rf.80e1b611b16dee7213f86bf3f7dc74cd.jpg: 416x416 (no detections), 6.4ms\n",
      "image 43/1766 /mnt/c/Users/Razogarz/PycharmProjects/airport-controller/rivalAgents/valid/images/009332_jpg.rf.ae748849b4bf10a13bb6d95f20c2fcd1.jpg: 416x416 (no detections), 12.7ms\n",
      "image 44/1766 /mnt/c/Users/Razogarz/PycharmProjects/airport-controller/rivalAgents/valid/images/009333_jpg.rf.25ca6517371df307d893b3f544a99507.jpg: 416x416 (no detections), 18.6ms\n",
      "image 45/1766 /mnt/c/Users/Razogarz/PycharmProjects/airport-controller/rivalAgents/valid/images/009339_jpg.rf.9f511857237228fb46dc068bffebd676.jpg: 416x416 (no detections), 13.1ms\n",
      "image 46/1766 /mnt/c/Users/Razogarz/PycharmProjects/airport-controller/rivalAgents/valid/images/009342_jpg.rf.fbe353660bf996522b495a548255cb54.jpg: 416x416 2 4s, 16.3ms\n",
      "image 47/1766 /mnt/c/Users/Razogarz/PycharmProjects/airport-controller/rivalAgents/valid/images/009352_jpg.rf.f3e4d16225f35e47c9c9aa4077b7c57c.jpg: 416x416 1 1, 14.3ms\n",
      "image 48/1766 /mnt/c/Users/Razogarz/PycharmProjects/airport-controller/rivalAgents/valid/images/009364_jpg.rf.b58de69dcef1d0b38f02b66acc04d226.jpg: 416x416 1 2, 22.1ms\n",
      "image 49/1766 /mnt/c/Users/Razogarz/PycharmProjects/airport-controller/rivalAgents/valid/images/009370_jpg.rf.a3ed9d2209637aaa8ffd15d89ae77204.jpg: 416x416 1 0, 42.1ms\n",
      "image 50/1766 /mnt/c/Users/Razogarz/PycharmProjects/airport-controller/rivalAgents/valid/images/009373_jpg.rf.28996ccf331da5c5683387141198d700.jpg: 416x416 (no detections), 42.0ms\n",
      "image 51/1766 /mnt/c/Users/Razogarz/PycharmProjects/airport-controller/rivalAgents/valid/images/009374_jpg.rf.72109482e153a2608dcc3b49af526577.jpg: 416x416 (no detections), 17.4ms\n",
      "image 52/1766 /mnt/c/Users/Razogarz/PycharmProjects/airport-controller/rivalAgents/valid/images/009380_jpg.rf.82e5a37ce223ec52035289eca626049c.jpg: 416x416 (no detections), 8.3ms\n",
      "image 53/1766 /mnt/c/Users/Razogarz/PycharmProjects/airport-controller/rivalAgents/valid/images/009386_jpg.rf.cc5d8dbbc970c6c35970ee84ba48712a.jpg: 416x416 (no detections), 18.5ms\n",
      "image 54/1766 /mnt/c/Users/Razogarz/PycharmProjects/airport-controller/rivalAgents/valid/images/009388_jpg.rf.576834b1f1c8d9c7e9577e35310113b3.jpg: 416x416 2 0s, 16.9ms\n",
      "image 55/1766 /mnt/c/Users/Razogarz/PycharmProjects/airport-controller/rivalAgents/valid/images/009393_jpg.rf.acf64807404abba42a7a7711bb674f81.jpg: 416x416 (no detections), 16.1ms\n",
      "image 56/1766 /mnt/c/Users/Razogarz/PycharmProjects/airport-controller/rivalAgents/valid/images/009401_jpg.rf.756cface681dbc0b7adb080e1b5f6107.jpg: 416x416 (no detections), 13.2ms\n",
      "image 57/1766 /mnt/c/Users/Razogarz/PycharmProjects/airport-controller/rivalAgents/valid/images/009403_jpg.rf.91da2b349c784b58bfb533403a1d17c2.jpg: 416x416 (no detections), 7.0ms\n",
      "image 58/1766 /mnt/c/Users/Razogarz/PycharmProjects/airport-controller/rivalAgents/valid/images/009406_jpg.rf.0e80ac0e4ff8f01aaefbad346b135d17.jpg: 416x416 (no detections), 17.3ms\n",
      "image 59/1766 /mnt/c/Users/Razogarz/PycharmProjects/airport-controller/rivalAgents/valid/images/009433_jpg.rf.ca78939321591e79e4ac9142f10f1f7a.jpg: 416x416 (no detections), 11.8ms\n",
      "image 60/1766 /mnt/c/Users/Razogarz/PycharmProjects/airport-controller/rivalAgents/valid/images/009438_jpg.rf.86de35bdb47017bedbc3bf623bb7b441.jpg: 416x416 (no detections), 16.8ms\n",
      "image 61/1766 /mnt/c/Users/Razogarz/PycharmProjects/airport-controller/rivalAgents/valid/images/009460_jpg.rf.eaf32671619dfa0a31a3d85fc281db40.jpg: 416x416 (no detections), 11.2ms\n",
      "image 62/1766 /mnt/c/Users/Razogarz/PycharmProjects/airport-controller/rivalAgents/valid/images/009471_jpg.rf.269939df5ff2f5268faf39fa4cecc550.jpg: 416x416 (no detections), 11.0ms\n",
      "image 63/1766 /mnt/c/Users/Razogarz/PycharmProjects/airport-controller/rivalAgents/valid/images/009488_jpg.rf.3a9dd50a712d9344cf58b49ab97f88bb.jpg: 416x416 1 0, 1 1, 12.4ms\n",
      "image 64/1766 /mnt/c/Users/Razogarz/PycharmProjects/airport-controller/rivalAgents/valid/images/009514_jpg.rf.36d2c0dbd51ce81839e011ed0ebfa03a.jpg: 416x416 (no detections), 12.2ms\n",
      "image 65/1766 /mnt/c/Users/Razogarz/PycharmProjects/airport-controller/rivalAgents/valid/images/009526_jpg.rf.066dc4554cf1a2f436141786a9a6d229.jpg: 416x416 1 0, 1 2, 18.0ms\n",
      "image 66/1766 /mnt/c/Users/Razogarz/PycharmProjects/airport-controller/rivalAgents/valid/images/009527_jpg.rf.bb535eeb7f7874d285a109d1b4023184.jpg: 416x416 (no detections), 7.7ms\n",
      "image 67/1766 /mnt/c/Users/Razogarz/PycharmProjects/airport-controller/rivalAgents/valid/images/009558_jpg.rf.f27eba4b7dcc11bc4b8e93fb67fad338.jpg: 416x416 (no detections), 17.7ms\n",
      "image 68/1766 /mnt/c/Users/Razogarz/PycharmProjects/airport-controller/rivalAgents/valid/images/009561_jpg.rf.b8d90c437af4dc3eb747ad5bf47a2e85.jpg: 416x416 (no detections), 8.2ms\n",
      "image 69/1766 /mnt/c/Users/Razogarz/PycharmProjects/airport-controller/rivalAgents/valid/images/009563_jpg.rf.4d849c7dcce2045b7930c26fc060059f.jpg: 416x416 (no detections), 16.9ms\n",
      "image 70/1766 /mnt/c/Users/Razogarz/PycharmProjects/airport-controller/rivalAgents/valid/images/009565_jpg.rf.44d16afac3556fdcf5d8bcbdd3610645.jpg: 416x416 (no detections), 9.8ms\n",
      "image 71/1766 /mnt/c/Users/Razogarz/PycharmProjects/airport-controller/rivalAgents/valid/images/009567_jpg.rf.768578a444d2336428202de23d175a9e.jpg: 416x416 (no detections), 14.4ms\n",
      "image 72/1766 /mnt/c/Users/Razogarz/PycharmProjects/airport-controller/rivalAgents/valid/images/009578_jpg.rf.248995864f26d4a21e04c7f25157d158.jpg: 416x416 (no detections), 19.8ms\n",
      "image 73/1766 /mnt/c/Users/Razogarz/PycharmProjects/airport-controller/rivalAgents/valid/images/009581_jpg.rf.f9ab2d19d8605a80fa95876c4ac14099.jpg: 416x416 (no detections), 24.1ms\n",
      "image 74/1766 /mnt/c/Users/Razogarz/PycharmProjects/airport-controller/rivalAgents/valid/images/009582_jpg.rf.6e925775be7d5149e96d4ab257af34d5.jpg: 416x416 (no detections), 11.5ms\n",
      "image 75/1766 /mnt/c/Users/Razogarz/PycharmProjects/airport-controller/rivalAgents/valid/images/009610_jpg.rf.98231ac9ef89ad3c15acbf1c5114d763.jpg: 416x416 (no detections), 6.9ms\n",
      "image 76/1766 /mnt/c/Users/Razogarz/PycharmProjects/airport-controller/rivalAgents/valid/images/009612_jpg.rf.1daa94462a421c426e04b6b5cc88a096.jpg: 416x416 (no detections), 18.1ms\n",
      "image 77/1766 /mnt/c/Users/Razogarz/PycharmProjects/airport-controller/rivalAgents/valid/images/009625_jpg.rf.64f6d95a18aae00dab4ac9c8e79b9270.jpg: 416x416 (no detections), 14.7ms\n",
      "image 78/1766 /mnt/c/Users/Razogarz/PycharmProjects/airport-controller/rivalAgents/valid/images/009631_jpg.rf.245c546a357ae8f265a17a03b3441eee.jpg: 416x416 (no detections), 22.4ms\n",
      "image 79/1766 /mnt/c/Users/Razogarz/PycharmProjects/airport-controller/rivalAgents/valid/images/009637_jpg.rf.38879481eb9e210b94d9456256ed281f.jpg: 416x416 1 2, 1 3, 15.6ms\n",
      "image 80/1766 /mnt/c/Users/Razogarz/PycharmProjects/airport-controller/rivalAgents/valid/images/009639_jpg.rf.13b2e108d558378b7d48b213a4faaa9d.jpg: 416x416 (no detections), 19.7ms\n",
      "image 81/1766 /mnt/c/Users/Razogarz/PycharmProjects/airport-controller/rivalAgents/valid/images/009651_jpg.rf.1e1b480e519ca94e2b1145754f2c32de.jpg: 416x416 (no detections), 9.0ms\n",
      "image 82/1766 /mnt/c/Users/Razogarz/PycharmProjects/airport-controller/rivalAgents/valid/images/009657_jpg.rf.485968ed56ab4057e903a6491f3d4748.jpg: 416x416 (no detections), 13.7ms\n",
      "image 83/1766 /mnt/c/Users/Razogarz/PycharmProjects/airport-controller/rivalAgents/valid/images/009672_jpg.rf.dbcf7696434d757bdf93582c96d9850c.jpg: 416x416 (no detections), 10.3ms\n",
      "image 84/1766 /mnt/c/Users/Razogarz/PycharmProjects/airport-controller/rivalAgents/valid/images/009681_jpg.rf.82b2dc85aa3b2cd1b27b379daf5dcff6.jpg: 416x416 (no detections), 23.0ms\n",
      "image 85/1766 /mnt/c/Users/Razogarz/PycharmProjects/airport-controller/rivalAgents/valid/images/009700_jpg.rf.2d82dd3331af99739b48f5dc29519fe7.jpg: 416x416 (no detections), 15.8ms\n",
      "image 86/1766 /mnt/c/Users/Razogarz/PycharmProjects/airport-controller/rivalAgents/valid/images/009701_jpg.rf.12a6b09c001570dfe3a4f5ec8235dbfe.jpg: 416x416 2 4s, 18.4ms\n",
      "image 87/1766 /mnt/c/Users/Razogarz/PycharmProjects/airport-controller/rivalAgents/valid/images/009702_jpg.rf.c31fe2bfb22706c34f7c7f75142505e5.jpg: 416x416 (no detections), 14.7ms\n",
      "image 88/1766 /mnt/c/Users/Razogarz/PycharmProjects/airport-controller/rivalAgents/valid/images/009707_jpg.rf.30ffa96b8357f6bef31c87eb60dd861b.jpg: 416x416 (no detections), 15.0ms\n",
      "image 89/1766 /mnt/c/Users/Razogarz/PycharmProjects/airport-controller/rivalAgents/valid/images/009715_jpg.rf.23c68f9cf0ce26692dd9687f2fca65d9.jpg: 416x416 (no detections), 11.9ms\n",
      "image 90/1766 /mnt/c/Users/Razogarz/PycharmProjects/airport-controller/rivalAgents/valid/images/009718_jpg.rf.6739ede3a5753ffbf1c7995e5d0d9387.jpg: 416x416 (no detections), 16.8ms\n",
      "image 91/1766 /mnt/c/Users/Razogarz/PycharmProjects/airport-controller/rivalAgents/valid/images/009724_jpg.rf.5b371856e9f6c454e69e6535301895f8.jpg: 416x416 (no detections), 7.9ms\n",
      "image 92/1766 /mnt/c/Users/Razogarz/PycharmProjects/airport-controller/rivalAgents/valid/images/009727_jpg.rf.0095f0dc333d1f86a5d3e3f402e10f94.jpg: 416x416 (no detections), 14.2ms\n",
      "image 93/1766 /mnt/c/Users/Razogarz/PycharmProjects/airport-controller/rivalAgents/valid/images/009744_jpg.rf.5072afc633373dabe249e40832276ced.jpg: 416x416 (no detections), 10.3ms\n",
      "image 94/1766 /mnt/c/Users/Razogarz/PycharmProjects/airport-controller/rivalAgents/valid/images/009754_jpg.rf.4a64a3e5017e819111a331d2494e6114.jpg: 416x416 1 2, 12.6ms\n",
      "image 95/1766 /mnt/c/Users/Razogarz/PycharmProjects/airport-controller/rivalAgents/valid/images/009755_jpg.rf.2e5ba4ac5d9695521d5f60e34fda2127.jpg: 416x416 1 2, 1 3, 17.3ms\n",
      "image 96/1766 /mnt/c/Users/Razogarz/PycharmProjects/airport-controller/rivalAgents/valid/images/009781_jpg.rf.0321311555dda1fcdc56f5f647f179b8.jpg: 416x416 (no detections), 15.4ms\n",
      "image 97/1766 /mnt/c/Users/Razogarz/PycharmProjects/airport-controller/rivalAgents/valid/images/009783_jpg.rf.f1da63af55c852d06c891821b04359d3.jpg: 416x416 1 2, 16.6ms\n",
      "image 98/1766 /mnt/c/Users/Razogarz/PycharmProjects/airport-controller/rivalAgents/valid/images/009795_jpg.rf.2c259d9e229badcdc70bd7dcfdcf6199.jpg: 416x416 (no detections), 22.7ms\n",
      "image 99/1766 /mnt/c/Users/Razogarz/PycharmProjects/airport-controller/rivalAgents/valid/images/009798_jpg.rf.28dae36658b80f4811d739a52fb134b4.jpg: 416x416 (no detections), 17.4ms\n",
      "image 100/1766 /mnt/c/Users/Razogarz/PycharmProjects/airport-controller/rivalAgents/valid/images/009807_jpg.rf.2eb7b6f34a56f1f4d53a877fb4202eb2.jpg: 416x416 (no detections), 18.3ms\n",
      "image 101/1766 /mnt/c/Users/Razogarz/PycharmProjects/airport-controller/rivalAgents/valid/images/009811_jpg.rf.9449d7553dc8f6089b95fea72156ae56.jpg: 416x416 (no detections), 10.3ms\n",
      "image 102/1766 /mnt/c/Users/Razogarz/PycharmProjects/airport-controller/rivalAgents/valid/images/009817_jpg.rf.272fc1b1110edb0994e220e7b37e6ccd.jpg: 416x416 (no detections), 9.2ms\n",
      "image 103/1766 /mnt/c/Users/Razogarz/PycharmProjects/airport-controller/rivalAgents/valid/images/009820_jpg.rf.daf90780e5183a79af11a5b87cad7342.jpg: 416x416 (no detections), 17.5ms\n",
      "image 104/1766 /mnt/c/Users/Razogarz/PycharmProjects/airport-controller/rivalAgents/valid/images/009821_jpg.rf.319a4ed9224ddd449e7f48294a7e97af.jpg: 416x416 (no detections), 11.9ms\n",
      "image 105/1766 /mnt/c/Users/Razogarz/PycharmProjects/airport-controller/rivalAgents/valid/images/009825_jpg.rf.c58b1fbfe618b2256b129c53db532e76.jpg: 416x416 (no detections), 18.3ms\n",
      "image 106/1766 /mnt/c/Users/Razogarz/PycharmProjects/airport-controller/rivalAgents/valid/images/009826_jpg.rf.3ed8ab6259b7ce91bd0ca670e5eb7b87.jpg: 416x416 (no detections), 13.2ms\n",
      "image 107/1766 /mnt/c/Users/Razogarz/PycharmProjects/airport-controller/rivalAgents/valid/images/009834_jpg.rf.26bdc01c1a1f531c6394f7bedea471f6.jpg: 416x416 1 3, 10.7ms\n",
      "image 108/1766 /mnt/c/Users/Razogarz/PycharmProjects/airport-controller/rivalAgents/valid/images/009839_jpg.rf.eb5e13667d6de69640ec347fe79cc583.jpg: 416x416 (no detections), 13.9ms\n",
      "image 109/1766 /mnt/c/Users/Razogarz/PycharmProjects/airport-controller/rivalAgents/valid/images/009845_jpg.rf.52a7a52c6acd9305674fc3622141833f.jpg: 416x416 (no detections), 10.5ms\n",
      "image 110/1766 /mnt/c/Users/Razogarz/PycharmProjects/airport-controller/rivalAgents/valid/images/009848_jpg.rf.e0a57af7285a8b6bf4f9d77e803c5262.jpg: 416x416 (no detections), 10.3ms\n",
      "image 111/1766 /mnt/c/Users/Razogarz/PycharmProjects/airport-controller/rivalAgents/valid/images/009857_jpg.rf.91440e2f91ec8435d712434045efd3c8.jpg: 416x416 2 1s, 1 2, 18.3ms\n",
      "image 112/1766 /mnt/c/Users/Razogarz/PycharmProjects/airport-controller/rivalAgents/valid/images/009860_jpg.rf.8cd060cd8962fbce097d1fcf9e4fb18d.jpg: 416x416 (no detections), 16.4ms\n",
      "image 113/1766 /mnt/c/Users/Razogarz/PycharmProjects/airport-controller/rivalAgents/valid/images/009864_jpg.rf.6398e5a12154434b0f6ca999bda4b103.jpg: 416x416 (no detections), 7.6ms\n",
      "image 114/1766 /mnt/c/Users/Razogarz/PycharmProjects/airport-controller/rivalAgents/valid/images/009869_jpg.rf.7e9bbb0b3ad1ee49e57f693a1ded5c4e.jpg: 416x416 (no detections), 8.1ms\n",
      "image 115/1766 /mnt/c/Users/Razogarz/PycharmProjects/airport-controller/rivalAgents/valid/images/009872_jpg.rf.67b5680635856eea2210373f0ff04d12.jpg: 416x416 (no detections), 13.8ms\n",
      "image 116/1766 /mnt/c/Users/Razogarz/PycharmProjects/airport-controller/rivalAgents/valid/images/009879_jpg.rf.2f936abfbe202b216b538d569df3e19c.jpg: 416x416 (no detections), 15.2ms\n",
      "image 117/1766 /mnt/c/Users/Razogarz/PycharmProjects/airport-controller/rivalAgents/valid/images/009881_jpg.rf.962957dbe5095d48243a3768fe80ead0.jpg: 416x416 (no detections), 10.7ms\n",
      "image 118/1766 /mnt/c/Users/Razogarz/PycharmProjects/airport-controller/rivalAgents/valid/images/009882_jpg.rf.7a82f2737f6b5dd0b87f98bcf107a9ac.jpg: 416x416 (no detections), 16.1ms\n",
      "image 119/1766 /mnt/c/Users/Razogarz/PycharmProjects/airport-controller/rivalAgents/valid/images/009895_jpg.rf.31925aacd7c35bcb3f6a12006bb114f5.jpg: 416x416 1 2, 12.3ms\n",
      "image 120/1766 /mnt/c/Users/Razogarz/PycharmProjects/airport-controller/rivalAgents/valid/images/009907_jpg.rf.f719134ff921a4ea47f3d2197f57850a.jpg: 416x416 1 1, 1 2, 12.6ms\n",
      "image 121/1766 /mnt/c/Users/Razogarz/PycharmProjects/airport-controller/rivalAgents/valid/images/009921_jpg.rf.6867004b2f69dbdc31f3026f110f80c8.jpg: 416x416 (no detections), 12.6ms\n",
      "image 122/1766 /mnt/c/Users/Razogarz/PycharmProjects/airport-controller/rivalAgents/valid/images/009949_jpg.rf.020635ffcb483ef7b8ab691efa5f694e.jpg: 416x416 (no detections), 15.3ms\n",
      "image 123/1766 /mnt/c/Users/Razogarz/PycharmProjects/airport-controller/rivalAgents/valid/images/009951_jpg.rf.a21d5c8478c97cdc02d781c96ed659b5.jpg: 416x416 (no detections), 9.4ms\n",
      "image 124/1766 /mnt/c/Users/Razogarz/PycharmProjects/airport-controller/rivalAgents/valid/images/009954_jpg.rf.76efe0bd96dc9dc278b9de0dd1eb4241.jpg: 416x416 1 2, 12.0ms\n",
      "image 125/1766 /mnt/c/Users/Razogarz/PycharmProjects/airport-controller/rivalAgents/valid/images/009972_jpg.rf.041625d70e8104307f72be8adefffce2.jpg: 416x416 1 0, 19.0ms\n",
      "image 126/1766 /mnt/c/Users/Razogarz/PycharmProjects/airport-controller/rivalAgents/valid/images/009973_jpg.rf.0e5191454416907748d3be2ecff0465d.jpg: 416x416 (no detections), 11.3ms\n",
      "image 127/1766 /mnt/c/Users/Razogarz/PycharmProjects/airport-controller/rivalAgents/valid/images/009981_jpg.rf.296c08d4249511bc1974fecbf0c47ecb.jpg: 416x416 (no detections), 13.1ms\n",
      "image 128/1766 /mnt/c/Users/Razogarz/PycharmProjects/airport-controller/rivalAgents/valid/images/009982_jpg.rf.b6ef4c260fb49fad520558b1e90ceefa.jpg: 416x416 (no detections), 7.2ms\n",
      "image 129/1766 /mnt/c/Users/Razogarz/PycharmProjects/airport-controller/rivalAgents/valid/images/010001_jpg.rf.255d962e9cbd7047dc4aff8fec87840b.jpg: 416x416 (no detections), 14.6ms\n",
      "image 130/1766 /mnt/c/Users/Razogarz/PycharmProjects/airport-controller/rivalAgents/valid/images/010007_jpg.rf.b52eb678a66d7e47e433a5f60fdd7087.jpg: 416x416 1 4, 14.3ms\n",
      "image 131/1766 /mnt/c/Users/Razogarz/PycharmProjects/airport-controller/rivalAgents/valid/images/010013_jpg.rf.6d34e80c4636f11a0f1cb4fcef45b292.jpg: 416x416 (no detections), 6.6ms\n",
      "image 132/1766 /mnt/c/Users/Razogarz/PycharmProjects/airport-controller/rivalAgents/valid/images/010022_jpg.rf.83d05da0376b1ae842c953a45ebdb62a.jpg: 416x416 (no detections), 11.5ms\n",
      "image 133/1766 /mnt/c/Users/Razogarz/PycharmProjects/airport-controller/rivalAgents/valid/images/010028_jpg.rf.d3a860e09f09a1a9a7c2ac58c3bd2085.jpg: 416x416 (no detections), 20.6ms\n",
      "image 134/1766 /mnt/c/Users/Razogarz/PycharmProjects/airport-controller/rivalAgents/valid/images/010030_jpg.rf.644babf8748ef686c64c752b191b4b0c.jpg: 416x416 (no detections), 12.8ms\n",
      "image 135/1766 /mnt/c/Users/Razogarz/PycharmProjects/airport-controller/rivalAgents/valid/images/010042_jpg.rf.a011d0b340ca413de0882f6bdc177bef.jpg: 416x416 (no detections), 9.7ms\n",
      "image 136/1766 /mnt/c/Users/Razogarz/PycharmProjects/airport-controller/rivalAgents/valid/images/010047_jpg.rf.1d9a51c33c0faf44c53a63369da94231.jpg: 416x416 (no detections), 23.3ms\n",
      "image 137/1766 /mnt/c/Users/Razogarz/PycharmProjects/airport-controller/rivalAgents/valid/images/010048_jpg.rf.7876e195601fb1e59c3c15c603ecf5a8.jpg: 416x416 (no detections), 7.8ms\n",
      "image 138/1766 /mnt/c/Users/Razogarz/PycharmProjects/airport-controller/rivalAgents/valid/images/010049_jpg.rf.6990f4861b71e609b6588875bec87dfb.jpg: 416x416 (no detections), 11.8ms\n",
      "image 139/1766 /mnt/c/Users/Razogarz/PycharmProjects/airport-controller/rivalAgents/valid/images/010053_jpg.rf.d124208a4ccdcbd62873981a781cf387.jpg: 416x416 (no detections), 17.1ms\n",
      "image 140/1766 /mnt/c/Users/Razogarz/PycharmProjects/airport-controller/rivalAgents/valid/images/010068_jpg.rf.434b130176ec31dbf97f7e5e69455b66.jpg: 416x416 (no detections), 13.8ms\n",
      "image 141/1766 /mnt/c/Users/Razogarz/PycharmProjects/airport-controller/rivalAgents/valid/images/010075_jpg.rf.c144553897c38e0a0b34a6dbc72d7fd4.jpg: 416x416 1 0, 3 2s, 21.1ms\n",
      "image 142/1766 /mnt/c/Users/Razogarz/PycharmProjects/airport-controller/rivalAgents/valid/images/010076_jpg.rf.d119c21be6d9001f942dee7195eabc4f.jpg: 416x416 1 0, 10.5ms\n",
      "image 143/1766 /mnt/c/Users/Razogarz/PycharmProjects/airport-controller/rivalAgents/valid/images/010083_jpg.rf.c3fbd71a8d001568a2dace79d65ed93a.jpg: 416x416 (no detections), 8.8ms\n",
      "image 144/1766 /mnt/c/Users/Razogarz/PycharmProjects/airport-controller/rivalAgents/valid/images/010090_jpg.rf.e3593087cd5577fd1000f56bae42b05e.jpg: 416x416 (no detections), 13.3ms\n",
      "image 145/1766 /mnt/c/Users/Razogarz/PycharmProjects/airport-controller/rivalAgents/valid/images/010101_jpg.rf.3143306ee0b7cb8dd74b6e11320a3847.jpg: 416x416 1 2, 22.0ms\n",
      "image 146/1766 /mnt/c/Users/Razogarz/PycharmProjects/airport-controller/rivalAgents/valid/images/010121_jpg.rf.ba0fdd27db7ce2b8ca06616f1f6de4c5.jpg: 416x416 1 3, 21.2ms\n",
      "image 147/1766 /mnt/c/Users/Razogarz/PycharmProjects/airport-controller/rivalAgents/valid/images/010122_jpg.rf.a2998f21bff8a0ff9b231e69c6e54307.jpg: 416x416 (no detections), 11.3ms\n",
      "image 148/1766 /mnt/c/Users/Razogarz/PycharmProjects/airport-controller/rivalAgents/valid/images/010128_jpg.rf.2a176ba73d830e9e71841920e7d6df39.jpg: 416x416 (no detections), 17.1ms\n",
      "image 149/1766 /mnt/c/Users/Razogarz/PycharmProjects/airport-controller/rivalAgents/valid/images/010135_jpg.rf.ff28c949990c398036b5609ac4c0eea1.jpg: 416x416 (no detections), 12.4ms\n",
      "image 150/1766 /mnt/c/Users/Razogarz/PycharmProjects/airport-controller/rivalAgents/valid/images/010136_jpg.rf.7893b0811e0745a47dd1dc2c637b2007.jpg: 416x416 (no detections), 30.7ms\n",
      "image 151/1766 /mnt/c/Users/Razogarz/PycharmProjects/airport-controller/rivalAgents/valid/images/010141_jpg.rf.48c93f5d15ad3bcc03b9b046239da986.jpg: 416x416 (no detections), 19.8ms\n",
      "image 152/1766 /mnt/c/Users/Razogarz/PycharmProjects/airport-controller/rivalAgents/valid/images/010147_jpg.rf.08bfecd801ddc4ec72fa7aeb23d444d5.jpg: 416x416 (no detections), 18.1ms\n",
      "image 153/1766 /mnt/c/Users/Razogarz/PycharmProjects/airport-controller/rivalAgents/valid/images/010160_jpg.rf.69d30d4fad92eb9559dac448d53a0ab6.jpg: 416x416 (no detections), 20.1ms\n",
      "image 154/1766 /mnt/c/Users/Razogarz/PycharmProjects/airport-controller/rivalAgents/valid/images/010167_jpg.rf.1f0cfa2c8fe6f2a8e918da58c9e12466.jpg: 416x416 1 2, 1 3, 13.5ms\n",
      "image 155/1766 /mnt/c/Users/Razogarz/PycharmProjects/airport-controller/rivalAgents/valid/images/010171_jpg.rf.ade8324f6b94ff99c09ef5eb8027fbbb.jpg: 416x416 1 3, 23.3ms\n",
      "image 156/1766 /mnt/c/Users/Razogarz/PycharmProjects/airport-controller/rivalAgents/valid/images/010175_jpg.rf.88cc2e8fe4792514bfe7da9ea019e1b1.jpg: 416x416 1 1, 13.8ms\n",
      "image 157/1766 /mnt/c/Users/Razogarz/PycharmProjects/airport-controller/rivalAgents/valid/images/010177_jpg.rf.60c12dbb00ab442f7dfc8c606d8755b0.jpg: 416x416 1 3, 18.7ms\n",
      "image 158/1766 /mnt/c/Users/Razogarz/PycharmProjects/airport-controller/rivalAgents/valid/images/010179_jpg.rf.b7213abc02850e702d0e743c9afb2b8f.jpg: 416x416 (no detections), 17.4ms\n",
      "image 159/1766 /mnt/c/Users/Razogarz/PycharmProjects/airport-controller/rivalAgents/valid/images/010180_jpg.rf.ad8f263e5f30cb89aa1a0dcea139ff5e.jpg: 416x416 (no detections), 13.7ms\n",
      "image 160/1766 /mnt/c/Users/Razogarz/PycharmProjects/airport-controller/rivalAgents/valid/images/010188_jpg.rf.d924682c25ccb60c7d77935036cd5c85.jpg: 416x416 (no detections), 23.1ms\n",
      "image 161/1766 /mnt/c/Users/Razogarz/PycharmProjects/airport-controller/rivalAgents/valid/images/010200_jpg.rf.52e4dda7c56841320d5bbc0a4d125b19.jpg: 416x416 (no detections), 10.4ms\n",
      "image 162/1766 /mnt/c/Users/Razogarz/PycharmProjects/airport-controller/rivalAgents/valid/images/010215_jpg.rf.4f1236ef58906c393dc8bad675b2e896.jpg: 416x416 (no detections), 14.0ms\n",
      "image 163/1766 /mnt/c/Users/Razogarz/PycharmProjects/airport-controller/rivalAgents/valid/images/010220_jpg.rf.7329a053c7c477b57062f7e05ad05184.jpg: 416x416 2 3s, 10.7ms\n",
      "image 164/1766 /mnt/c/Users/Razogarz/PycharmProjects/airport-controller/rivalAgents/valid/images/010229_jpg.rf.b71ce0b9fa4933a566873ddcb00c538b.jpg: 416x416 (no detections), 14.8ms\n",
      "image 165/1766 /mnt/c/Users/Razogarz/PycharmProjects/airport-controller/rivalAgents/valid/images/010237_jpg.rf.17f08fff9e2f2164ad428f089a078b60.jpg: 416x416 (no detections), 18.5ms\n",
      "image 166/1766 /mnt/c/Users/Razogarz/PycharmProjects/airport-controller/rivalAgents/valid/images/010238_jpg.rf.e6bf9569200ce8c34452f1dcd5ed8450.jpg: 416x416 1 2, 16.5ms\n",
      "image 167/1766 /mnt/c/Users/Razogarz/PycharmProjects/airport-controller/rivalAgents/valid/images/010244_jpg.rf.a6db419f0312b3d7dc82b44be9276468.jpg: 416x416 (no detections), 19.9ms\n",
      "image 168/1766 /mnt/c/Users/Razogarz/PycharmProjects/airport-controller/rivalAgents/valid/images/010252_jpg.rf.c43aada0647640f5017bde5213d935f3.jpg: 416x416 (no detections), 8.6ms\n",
      "image 169/1766 /mnt/c/Users/Razogarz/PycharmProjects/airport-controller/rivalAgents/valid/images/010309_jpg.rf.cddac92f66a2372e93c25acea97d0d08.jpg: 416x416 (no detections), 10.8ms\n",
      "image 170/1766 /mnt/c/Users/Razogarz/PycharmProjects/airport-controller/rivalAgents/valid/images/010318_jpg.rf.7c24d08cb81a65ad17e213a254074f06.jpg: 416x416 (no detections), 16.2ms\n",
      "image 171/1766 /mnt/c/Users/Razogarz/PycharmProjects/airport-controller/rivalAgents/valid/images/010325_jpg.rf.f032fa01c96281143860192d2f20fb2b.jpg: 416x416 (no detections), 16.9ms\n",
      "image 172/1766 /mnt/c/Users/Razogarz/PycharmProjects/airport-controller/rivalAgents/valid/images/010328_jpg.rf.862ef432470cb26ce1cc354f80b632e2.jpg: 416x416 (no detections), 16.3ms\n",
      "image 173/1766 /mnt/c/Users/Razogarz/PycharmProjects/airport-controller/rivalAgents/valid/images/010338_jpg.rf.b5a9352fa9a7916d8406e69999d3ab43.jpg: 416x416 (no detections), 15.3ms\n",
      "image 174/1766 /mnt/c/Users/Razogarz/PycharmProjects/airport-controller/rivalAgents/valid/images/010353_jpg.rf.602f5afabf5cd32f83e4b23d9e6abc10.jpg: 416x416 (no detections), 15.4ms\n",
      "image 175/1766 /mnt/c/Users/Razogarz/PycharmProjects/airport-controller/rivalAgents/valid/images/010357_jpg.rf.ded1a5c8d8c972a199cf42fa71bdeedd.jpg: 416x416 (no detections), 17.3ms\n",
      "image 176/1766 /mnt/c/Users/Razogarz/PycharmProjects/airport-controller/rivalAgents/valid/images/010368_jpg.rf.048fcf6611e648849ee2502ea92d5c47.jpg: 416x416 (no detections), 9.3ms\n",
      "image 177/1766 /mnt/c/Users/Razogarz/PycharmProjects/airport-controller/rivalAgents/valid/images/010375_jpg.rf.2fb2a8db36a75fe00a7a64e40fa1b432.jpg: 416x416 (no detections), 14.8ms\n",
      "image 178/1766 /mnt/c/Users/Razogarz/PycharmProjects/airport-controller/rivalAgents/valid/images/010388_jpg.rf.983ad46e58ecedf36d30160b631f4f69.jpg: 416x416 (no detections), 17.2ms\n",
      "image 179/1766 /mnt/c/Users/Razogarz/PycharmProjects/airport-controller/rivalAgents/valid/images/010395_jpg.rf.ff6d9a29e47cb3a51b1e969827870c60.jpg: 416x416 1 2, 11.7ms\n",
      "image 180/1766 /mnt/c/Users/Razogarz/PycharmProjects/airport-controller/rivalAgents/valid/images/010398_jpg.rf.468310e2ce65bf31c8c35d6be34a95bf.jpg: 416x416 (no detections), 13.7ms\n",
      "image 181/1766 /mnt/c/Users/Razogarz/PycharmProjects/airport-controller/rivalAgents/valid/images/010401_jpg.rf.814771dfff78f5d43884120809544339.jpg: 416x416 (no detections), 21.7ms\n",
      "image 182/1766 /mnt/c/Users/Razogarz/PycharmProjects/airport-controller/rivalAgents/valid/images/010420_jpg.rf.875e65e432117f5d9a220a2d6be0b16e.jpg: 416x416 (no detections), 17.8ms\n",
      "image 183/1766 /mnt/c/Users/Razogarz/PycharmProjects/airport-controller/rivalAgents/valid/images/010431_jpg.rf.443284607b7834d30c6a43c6863f7e71.jpg: 416x416 1 3, 14.2ms\n",
      "image 184/1766 /mnt/c/Users/Razogarz/PycharmProjects/airport-controller/rivalAgents/valid/images/010467_jpg.rf.62dbb2ce60a9fc4da7c4fdaba32f887b.jpg: 416x416 (no detections), 17.2ms\n",
      "image 185/1766 /mnt/c/Users/Razogarz/PycharmProjects/airport-controller/rivalAgents/valid/images/010471_jpg.rf.dd117abb0bd248a03e171d6e33f03104.jpg: 416x416 (no detections), 12.3ms\n",
      "image 186/1766 /mnt/c/Users/Razogarz/PycharmProjects/airport-controller/rivalAgents/valid/images/010485_jpg.rf.8d5861eccfa870aa0a25a6ba3f8fdbf8.jpg: 416x416 (no detections), 20.5ms\n",
      "image 187/1766 /mnt/c/Users/Razogarz/PycharmProjects/airport-controller/rivalAgents/valid/images/010492_jpg.rf.3fbd86aa29edb78e5cc665d00dadf917.jpg: 416x416 1 2, 18.4ms\n",
      "image 188/1766 /mnt/c/Users/Razogarz/PycharmProjects/airport-controller/rivalAgents/valid/images/010508_jpg.rf.e2a4c2c2cb53ad42f96521c5914f4c93.jpg: 416x416 (no detections), 16.5ms\n",
      "image 189/1766 /mnt/c/Users/Razogarz/PycharmProjects/airport-controller/rivalAgents/valid/images/010525_jpg.rf.57f9a26ca7c739519eb545cbb96b6192.jpg: 416x416 (no detections), 15.1ms\n",
      "image 190/1766 /mnt/c/Users/Razogarz/PycharmProjects/airport-controller/rivalAgents/valid/images/010527_jpg.rf.ba3cf6b228f7b96aa9470829b51da4ef.jpg: 416x416 (no detections), 22.1ms\n",
      "image 191/1766 /mnt/c/Users/Razogarz/PycharmProjects/airport-controller/rivalAgents/valid/images/010555_jpg.rf.a579fab95fd2664ae765120f6f6cd524.jpg: 416x416 1 1, 8.8ms\n",
      "image 192/1766 /mnt/c/Users/Razogarz/PycharmProjects/airport-controller/rivalAgents/valid/images/010557_jpg.rf.4a01980e0ed5fe24d12748e91552fe56.jpg: 416x416 (no detections), 20.5ms\n",
      "image 193/1766 /mnt/c/Users/Razogarz/PycharmProjects/airport-controller/rivalAgents/valid/images/010562_jpg.rf.0c13ba4dcdc28cf0bf40f85aad93be31.jpg: 416x416 (no detections), 11.1ms\n",
      "image 194/1766 /mnt/c/Users/Razogarz/PycharmProjects/airport-controller/rivalAgents/valid/images/010586_jpg.rf.b0158a41def341090ffee37d7a0c00f0.jpg: 416x416 (no detections), 18.6ms\n",
      "image 195/1766 /mnt/c/Users/Razogarz/PycharmProjects/airport-controller/rivalAgents/valid/images/010604_jpg.rf.77ee7d1c746eb6218e0cc4d9bb676fed.jpg: 416x416 (no detections), 19.5ms\n",
      "image 196/1766 /mnt/c/Users/Razogarz/PycharmProjects/airport-controller/rivalAgents/valid/images/010611_jpg.rf.42f7c66edab4acb43115048763ca933d.jpg: 416x416 1 0, 31.3ms\n",
      "image 197/1766 /mnt/c/Users/Razogarz/PycharmProjects/airport-controller/rivalAgents/valid/images/010618_jpg.rf.5c08c95151b7da6973166c7c909b1119.jpg: 416x416 (no detections), 7.8ms\n",
      "image 198/1766 /mnt/c/Users/Razogarz/PycharmProjects/airport-controller/rivalAgents/valid/images/010669_jpg.rf.935a9fea45e58b6c5c7a19bef77f4f73.jpg: 416x416 (no detections), 15.3ms\n",
      "image 199/1766 /mnt/c/Users/Razogarz/PycharmProjects/airport-controller/rivalAgents/valid/images/010678_jpg.rf.834a2c4c0aae7c4db462457f97da2d17.jpg: 416x416 (no detections), 9.6ms\n",
      "image 200/1766 /mnt/c/Users/Razogarz/PycharmProjects/airport-controller/rivalAgents/valid/images/010699_jpg.rf.26bb21536246d627a52ab02feb7aff5d.jpg: 416x416 (no detections), 8.4ms\n",
      "image 201/1766 /mnt/c/Users/Razogarz/PycharmProjects/airport-controller/rivalAgents/valid/images/010719_jpg.rf.6672af59c2b8f94396bd05e0687971c6.jpg: 416x416 (no detections), 12.9ms\n",
      "image 202/1766 /mnt/c/Users/Razogarz/PycharmProjects/airport-controller/rivalAgents/valid/images/010721_jpg.rf.54ddc4fba1e7a56d7a4ce450ae799e7e.jpg: 416x416 (no detections), 15.8ms\n",
      "image 203/1766 /mnt/c/Users/Razogarz/PycharmProjects/airport-controller/rivalAgents/valid/images/010727_jpg.rf.9d083e337add3aed4cbaf4d00d14eee5.jpg: 416x416 1 0, 22.8ms\n",
      "image 204/1766 /mnt/c/Users/Razogarz/PycharmProjects/airport-controller/rivalAgents/valid/images/010732_jpg.rf.27199e0815b1f28eac9acdc9d08c951f.jpg: 416x416 1 1, 1 3, 18.0ms\n",
      "image 205/1766 /mnt/c/Users/Razogarz/PycharmProjects/airport-controller/rivalAgents/valid/images/010762_jpg.rf.236b30475562831b5638a8d521ac180e.jpg: 416x416 (no detections), 17.0ms\n",
      "image 206/1766 /mnt/c/Users/Razogarz/PycharmProjects/airport-controller/rivalAgents/valid/images/010766_jpg.rf.f93dc3dc8db466cfc4712125aa9fa3c4.jpg: 416x416 (no detections), 9.2ms\n",
      "image 207/1766 /mnt/c/Users/Razogarz/PycharmProjects/airport-controller/rivalAgents/valid/images/010784_jpg.rf.65f98fe037f70fcbf0b52d778cf1b531.jpg: 416x416 (no detections), 12.7ms\n",
      "image 208/1766 /mnt/c/Users/Razogarz/PycharmProjects/airport-controller/rivalAgents/valid/images/010793_jpg.rf.045fe109a5ae58124c822ce35bb4d2a9.jpg: 416x416 (no detections), 7.4ms\n",
      "image 209/1766 /mnt/c/Users/Razogarz/PycharmProjects/airport-controller/rivalAgents/valid/images/010797_jpg.rf.0c0f64eb3bb3314340075fcbb543cdbc.jpg: 416x416 (no detections), 18.7ms\n",
      "image 210/1766 /mnt/c/Users/Razogarz/PycharmProjects/airport-controller/rivalAgents/valid/images/010805_jpg.rf.5d624ccdf6de02e42d3d2d65006721de.jpg: 416x416 (no detections), 6.8ms\n",
      "image 211/1766 /mnt/c/Users/Razogarz/PycharmProjects/airport-controller/rivalAgents/valid/images/010812_jpg.rf.f65e46d20af4a1e13a85c9d894053e30.jpg: 416x416 (no detections), 14.1ms\n",
      "image 212/1766 /mnt/c/Users/Razogarz/PycharmProjects/airport-controller/rivalAgents/valid/images/010822_jpg.rf.dc351da4d2a95b54821acc62cb60c803.jpg: 416x416 (no detections), 7.6ms\n",
      "image 213/1766 /mnt/c/Users/Razogarz/PycharmProjects/airport-controller/rivalAgents/valid/images/010831_jpg.rf.23834decb339395c7231e05907888cf7.jpg: 416x416 (no detections), 9.1ms\n",
      "image 214/1766 /mnt/c/Users/Razogarz/PycharmProjects/airport-controller/rivalAgents/valid/images/011639_jpg.rf.292418e6c7d994b52fc6768dcbd8ee07.jpg: 416x416 1 3, 16.2ms\n",
      "image 215/1766 /mnt/c/Users/Razogarz/PycharmProjects/airport-controller/rivalAgents/valid/images/012036_jpg.rf.4a596474cb93de59252e9f9ddce611d1.jpg: 416x416 (no detections), 18.9ms\n",
      "image 216/1766 /mnt/c/Users/Razogarz/PycharmProjects/airport-controller/rivalAgents/valid/images/012868_jpg.rf.3ef7719c0ddb90cc40e0fbd878777cf5.jpg: 416x416 1 0, 1 1, 9.4ms\n",
      "image 217/1766 /mnt/c/Users/Razogarz/PycharmProjects/airport-controller/rivalAgents/valid/images/013855_jpg.rf.5e8b29cf9a3a801aae8fb2aea8ad83e7.jpg: 416x416 (no detections), 12.4ms\n",
      "image 218/1766 /mnt/c/Users/Razogarz/PycharmProjects/airport-controller/rivalAgents/valid/images/014636_jpg.rf.2ee2d121559fcf22beb619bddbb13d12.jpg: 416x416 2 4s, 25.2ms\n",
      "image 219/1766 /mnt/c/Users/Razogarz/PycharmProjects/airport-controller/rivalAgents/valid/images/014699_jpg.rf.45ee20d560a7d54b6380fc572f6b336c.jpg: 416x416 (no detections), 17.1ms\n",
      "image 220/1766 /mnt/c/Users/Razogarz/PycharmProjects/airport-controller/rivalAgents/valid/images/014718_jpg.rf.f82693636fbd14404755f43be177d3ed.jpg: 416x416 1 0, 20.4ms\n",
      "image 221/1766 /mnt/c/Users/Razogarz/PycharmProjects/airport-controller/rivalAgents/valid/images/015308_jpg.rf.1a142817820828744ea0718bc2d35ca8.jpg: 416x416 (no detections), 17.8ms\n",
      "image 222/1766 /mnt/c/Users/Razogarz/PycharmProjects/airport-controller/rivalAgents/valid/images/015841_jpg.rf.4c2c7f54067ed7f874146cea608523a0.jpg: 416x416 1 3, 19.1ms\n",
      "image 223/1766 /mnt/c/Users/Razogarz/PycharmProjects/airport-controller/rivalAgents/valid/images/015864_jpg.rf.d6828548901c04b4aa0a52424103592a.jpg: 416x416 (no detections), 16.2ms\n",
      "image 224/1766 /mnt/c/Users/Razogarz/PycharmProjects/airport-controller/rivalAgents/valid/images/015983_jpg.rf.72cbd5d738d40b10d92f19946ca6568a.jpg: 416x416 (no detections), 29.2ms\n",
      "image 225/1766 /mnt/c/Users/Razogarz/PycharmProjects/airport-controller/rivalAgents/valid/images/016065_jpg.rf.81db8509bc5051e603736a5e916c49e4.jpg: 416x416 1 0, 27.2ms\n",
      "image 226/1766 /mnt/c/Users/Razogarz/PycharmProjects/airport-controller/rivalAgents/valid/images/016123_jpg.rf.f26a26e56a633b9ad561e9ca00d0291f.jpg: 416x416 1 0, 15.3ms\n",
      "image 227/1766 /mnt/c/Users/Razogarz/PycharmProjects/airport-controller/rivalAgents/valid/images/016125_jpg.rf.f45422f8015d5adef48bac08005b7181.jpg: 416x416 1 0, 13.2ms\n",
      "image 228/1766 /mnt/c/Users/Razogarz/PycharmProjects/airport-controller/rivalAgents/valid/images/016143_jpg.rf.62bbb6f8532aed21f9b5663207b8c8e9.jpg: 416x416 1 0, 14.8ms\n",
      "image 229/1766 /mnt/c/Users/Razogarz/PycharmProjects/airport-controller/rivalAgents/valid/images/016209_jpg.rf.84ddae2b5ebc970c90f02c25cbfda9d8.jpg: 416x416 (no detections), 16.2ms\n",
      "image 230/1766 /mnt/c/Users/Razogarz/PycharmProjects/airport-controller/rivalAgents/valid/images/016241_jpg.rf.9449c69a599f5c3d9e38497db7f51880.jpg: 416x416 1 0, 33.6ms\n",
      "image 231/1766 /mnt/c/Users/Razogarz/PycharmProjects/airport-controller/rivalAgents/valid/images/016242_jpg.rf.8a8773c8ec11d52916b393faeb2e203e.jpg: 416x416 1 1, 12.9ms\n",
      "image 232/1766 /mnt/c/Users/Razogarz/PycharmProjects/airport-controller/rivalAgents/valid/images/016307_jpg.rf.28945da042a7b684b80467fabe72f9f9.jpg: 416x416 1 0, 6.8ms\n",
      "image 233/1766 /mnt/c/Users/Razogarz/PycharmProjects/airport-controller/rivalAgents/valid/images/016314_jpg.rf.3fc731bb50c6d43d694ac57a98c5f7ab.jpg: 416x416 1 0, 12.6ms\n",
      "image 234/1766 /mnt/c/Users/Razogarz/PycharmProjects/airport-controller/rivalAgents/valid/images/016399_jpg.rf.616beb6839013b5fbc78a8c3ab03358e.jpg: 416x416 (no detections), 13.7ms\n",
      "image 235/1766 /mnt/c/Users/Razogarz/PycharmProjects/airport-controller/rivalAgents/valid/images/016406_jpg.rf.08514fada62efaf898156c46aa8113fe.jpg: 416x416 1 0, 13.1ms\n",
      "image 236/1766 /mnt/c/Users/Razogarz/PycharmProjects/airport-controller/rivalAgents/valid/images/016424_jpg.rf.4f4181569f156d2897b00ff45c78548e.jpg: 416x416 1 0, 15.3ms\n",
      "image 237/1766 /mnt/c/Users/Razogarz/PycharmProjects/airport-controller/rivalAgents/valid/images/016437_jpg.rf.355574aa871b374585d43395b0054608.jpg: 416x416 (no detections), 30.7ms\n",
      "image 238/1766 /mnt/c/Users/Razogarz/PycharmProjects/airport-controller/rivalAgents/valid/images/016456_jpg.rf.b844a6dfdcc4ba659708691384220108.jpg: 416x416 2 0s, 13.6ms\n",
      "image 239/1766 /mnt/c/Users/Razogarz/PycharmProjects/airport-controller/rivalAgents/valid/images/016495_jpg.rf.d9886f877773920f21b102ca157a7ccb.jpg: 416x416 1 0, 14.3ms\n",
      "image 240/1766 /mnt/c/Users/Razogarz/PycharmProjects/airport-controller/rivalAgents/valid/images/016496_jpg.rf.9498008af7fdb4841c2dc3bc3201ca9b.jpg: 416x416 2 0s, 8.5ms\n",
      "image 241/1766 /mnt/c/Users/Razogarz/PycharmProjects/airport-controller/rivalAgents/valid/images/016520_jpg.rf.8f02d12fd129445af31d6f16d51988a4.jpg: 416x416 1 0, 11.4ms\n",
      "image 242/1766 /mnt/c/Users/Razogarz/PycharmProjects/airport-controller/rivalAgents/valid/images/016527_jpg.rf.eccfba3f4fbf2b4c955594e8cb28567d.jpg: 416x416 (no detections), 19.6ms\n",
      "image 243/1766 /mnt/c/Users/Razogarz/PycharmProjects/airport-controller/rivalAgents/valid/images/016535_jpg.rf.4dc2e272fb00cec6b4c8cd9112ef813f.jpg: 416x416 1 0, 13.2ms\n",
      "image 244/1766 /mnt/c/Users/Razogarz/PycharmProjects/airport-controller/rivalAgents/valid/images/016553_jpg.rf.076f58c2dc05e3ea9f8b27e6b4fc94fc.jpg: 416x416 1 0, 6.9ms\n",
      "image 245/1766 /mnt/c/Users/Razogarz/PycharmProjects/airport-controller/rivalAgents/valid/images/016616_jpg.rf.e6974b8808c17cd750038383f320d028.jpg: 416x416 (no detections), 15.2ms\n",
      "image 246/1766 /mnt/c/Users/Razogarz/PycharmProjects/airport-controller/rivalAgents/valid/images/016622_jpg.rf.9b39828f087cd9f4e9024d46899ec647.jpg: 416x416 1 1, 11.4ms\n",
      "image 247/1766 /mnt/c/Users/Razogarz/PycharmProjects/airport-controller/rivalAgents/valid/images/016640_jpg.rf.cf7ff0e5d30744aeba952a0a28d52fb3.jpg: 416x416 1 0, 13.5ms\n",
      "image 248/1766 /mnt/c/Users/Razogarz/PycharmProjects/airport-controller/rivalAgents/valid/images/016643_jpg.rf.c905ee9105122c9fc08d61a304ea0728.jpg: 416x416 2 0s, 10.0ms\n",
      "image 249/1766 /mnt/c/Users/Razogarz/PycharmProjects/airport-controller/rivalAgents/valid/images/016671_jpg.rf.eec0b562829d8113f06042d8797c5a2f.jpg: 416x416 1 2, 1 3, 13.6ms\n",
      "image 250/1766 /mnt/c/Users/Razogarz/PycharmProjects/airport-controller/rivalAgents/valid/images/016814_jpg.rf.3c62a8d0d183d90244bdb8b466a24b52.jpg: 416x416 (no detections), 15.4ms\n",
      "image 251/1766 /mnt/c/Users/Razogarz/PycharmProjects/airport-controller/rivalAgents/valid/images/016844_jpg.rf.9f53c89702752345cb03cc83b9604a96.jpg: 416x416 1 0, 16.3ms\n",
      "image 252/1766 /mnt/c/Users/Razogarz/PycharmProjects/airport-controller/rivalAgents/valid/images/016845_jpg.rf.c2c2443e98eb93d3440d0c87a01f6d75.jpg: 416x416 (no detections), 11.1ms\n",
      "image 253/1766 /mnt/c/Users/Razogarz/PycharmProjects/airport-controller/rivalAgents/valid/images/016859_jpg.rf.da6a809af7598f1fae6363f38bec4c01.jpg: 416x416 1 0, 17.2ms\n",
      "image 254/1766 /mnt/c/Users/Razogarz/PycharmProjects/airport-controller/rivalAgents/valid/images/016900_jpg.rf.129a8c26298f0be0671efb1393e84e89.jpg: 416x416 1 0, 8.8ms\n",
      "image 255/1766 /mnt/c/Users/Razogarz/PycharmProjects/airport-controller/rivalAgents/valid/images/016918_jpg.rf.beac059b16b6ef363b0e9bf67a2a91b8.jpg: 416x416 1 0, 8.8ms\n",
      "image 256/1766 /mnt/c/Users/Razogarz/PycharmProjects/airport-controller/rivalAgents/valid/images/016958_jpg.rf.f8db6cf1151ab342c6366e147be41c89.jpg: 416x416 1 0, 12.5ms\n",
      "image 257/1766 /mnt/c/Users/Razogarz/PycharmProjects/airport-controller/rivalAgents/valid/images/016972_jpg.rf.01927f17357f529960b76d692875646f.jpg: 416x416 2 0s, 8.0ms\n",
      "image 258/1766 /mnt/c/Users/Razogarz/PycharmProjects/airport-controller/rivalAgents/valid/images/016977_jpg.rf.6d77e1617132a7b8eeaed4425eb27bf7.jpg: 416x416 1 0, 7.6ms\n",
      "image 259/1766 /mnt/c/Users/Razogarz/PycharmProjects/airport-controller/rivalAgents/valid/images/017018_jpg.rf.ef643e455acd8e4fe64cc824a85e5f35.jpg: 416x416 1 0, 22.3ms\n",
      "image 260/1766 /mnt/c/Users/Razogarz/PycharmProjects/airport-controller/rivalAgents/valid/images/017035_jpg.rf.10d9f41548e4e1b25dc2e8fe1e423f49.jpg: 416x416 (no detections), 14.6ms\n",
      "image 261/1766 /mnt/c/Users/Razogarz/PycharmProjects/airport-controller/rivalAgents/valid/images/017081_jpg.rf.7fc544c0bfa3b79587df92e319f139a6.jpg: 416x416 (no detections), 10.5ms\n",
      "image 262/1766 /mnt/c/Users/Razogarz/PycharmProjects/airport-controller/rivalAgents/valid/images/017111_jpg.rf.60d989f69b19f915fc84d47866e03c6c.jpg: 416x416 2 0s, 12.6ms\n",
      "image 263/1766 /mnt/c/Users/Razogarz/PycharmProjects/airport-controller/rivalAgents/valid/images/017127_jpg.rf.3be46f9cc74b3a90501ef992e1505d2b.jpg: 416x416 1 0, 17.1ms\n",
      "image 264/1766 /mnt/c/Users/Razogarz/PycharmProjects/airport-controller/rivalAgents/valid/images/017156_jpg.rf.48bac33c458f551a8723dd7c3ac3e8eb.jpg: 416x416 1 0, 6.7ms\n",
      "image 265/1766 /mnt/c/Users/Razogarz/PycharmProjects/airport-controller/rivalAgents/valid/images/017169_jpg.rf.e693c3d73b9a6be85c287fe3699d6f6c.jpg: 416x416 (no detections), 18.8ms\n",
      "image 266/1766 /mnt/c/Users/Razogarz/PycharmProjects/airport-controller/rivalAgents/valid/images/017181_jpg.rf.ca6a82ca7c2c40a6c056730136285b5e.jpg: 416x416 1 0, 6.8ms\n",
      "image 267/1766 /mnt/c/Users/Razogarz/PycharmProjects/airport-controller/rivalAgents/valid/images/017192_jpg.rf.cfb2a7114b6a6cd1d2f3a80719d78f95.jpg: 416x416 1 0, 12.7ms\n",
      "image 268/1766 /mnt/c/Users/Razogarz/PycharmProjects/airport-controller/rivalAgents/valid/images/017234_jpg.rf.41ff6159455f5e89280ff1ba4869b0af.jpg: 416x416 (no detections), 19.5ms\n",
      "image 269/1766 /mnt/c/Users/Razogarz/PycharmProjects/airport-controller/rivalAgents/valid/images/017276_jpg.rf.b173b12d88fc8352c0ba7916d2a7afe1.jpg: 416x416 (no detections), 7.2ms\n",
      "image 270/1766 /mnt/c/Users/Razogarz/PycharmProjects/airport-controller/rivalAgents/valid/images/017314_jpg.rf.aa28a143421858f74266a86165e899bc.jpg: 416x416 1 0, 9.4ms\n",
      "image 271/1766 /mnt/c/Users/Razogarz/PycharmProjects/airport-controller/rivalAgents/valid/images/017318_jpg.rf.f3af541e538e143fca8fe4d3010b4172.jpg: 416x416 2 0s, 12.0ms\n",
      "image 272/1766 /mnt/c/Users/Razogarz/PycharmProjects/airport-controller/rivalAgents/valid/images/017322_jpg.rf.b8bb161dcbfe8b77abc9d35a84f5baea.jpg: 416x416 1 0, 10.4ms\n",
      "image 273/1766 /mnt/c/Users/Razogarz/PycharmProjects/airport-controller/rivalAgents/valid/images/017328_jpg.rf.4d303e01fd75986be60992e679767fb0.jpg: 416x416 1 0, 8.2ms\n",
      "image 274/1766 /mnt/c/Users/Razogarz/PycharmProjects/airport-controller/rivalAgents/valid/images/017345_jpg.rf.152f5ca45df7da60ee1d14dc230e9c9f.jpg: 416x416 1 4, 17.9ms\n",
      "image 275/1766 /mnt/c/Users/Razogarz/PycharmProjects/airport-controller/rivalAgents/valid/images/017386_jpg.rf.54457346e253f37d17e51bea6e638559.jpg: 416x416 1 0, 21.2ms\n",
      "image 276/1766 /mnt/c/Users/Razogarz/PycharmProjects/airport-controller/rivalAgents/valid/images/017388_jpg.rf.6da912b61a70539e2c5f8451bc2a9ef8.jpg: 416x416 (no detections), 10.4ms\n",
      "image 277/1766 /mnt/c/Users/Razogarz/PycharmProjects/airport-controller/rivalAgents/valid/images/017420_jpg.rf.6e4b0184810cb4b9fe55e49002ec22ee.jpg: 416x416 1 0, 14.0ms\n",
      "image 278/1766 /mnt/c/Users/Razogarz/PycharmProjects/airport-controller/rivalAgents/valid/images/017430_jpg.rf.034c69bc333a4860051d310dcdb8fc94.jpg: 416x416 2 0s, 14.7ms\n",
      "image 279/1766 /mnt/c/Users/Razogarz/PycharmProjects/airport-controller/rivalAgents/valid/images/017511_jpg.rf.984e124a7adffb22947e375bd7cf2968.jpg: 416x416 1 0, 18.3ms\n",
      "image 280/1766 /mnt/c/Users/Razogarz/PycharmProjects/airport-controller/rivalAgents/valid/images/017522_jpg.rf.2d9851471e3cb8646110e25d045ec6f1.jpg: 416x416 1 0, 17.4ms\n",
      "image 281/1766 /mnt/c/Users/Razogarz/PycharmProjects/airport-controller/rivalAgents/valid/images/017537_jpg.rf.44d67b898cabc76b1e64babc2ce41fc1.jpg: 416x416 1 0, 24.6ms\n",
      "image 282/1766 /mnt/c/Users/Razogarz/PycharmProjects/airport-controller/rivalAgents/valid/images/017541_jpg.rf.78ee819023b3acb9501ee1c144813491.jpg: 416x416 1 0, 28.2ms\n",
      "image 283/1766 /mnt/c/Users/Razogarz/PycharmProjects/airport-controller/rivalAgents/valid/images/017567_jpg.rf.f796f25c501436c47f20d5bc343d035f.jpg: 416x416 (no detections), 24.5ms\n",
      "image 284/1766 /mnt/c/Users/Razogarz/PycharmProjects/airport-controller/rivalAgents/valid/images/017574_jpg.rf.c92d0595753fb408beca0fb0986ad7e0.jpg: 416x416 (no detections), 22.5ms\n",
      "image 285/1766 /mnt/c/Users/Razogarz/PycharmProjects/airport-controller/rivalAgents/valid/images/017588_jpg.rf.ee1e3dfacab40f8678618c63a2985054.jpg: 416x416 1 0, 20.8ms\n",
      "image 286/1766 /mnt/c/Users/Razogarz/PycharmProjects/airport-controller/rivalAgents/valid/images/017598_jpg.rf.7f03a51f2b02d77b97174775b0b26132.jpg: 416x416 (no detections), 28.9ms\n",
      "image 287/1766 /mnt/c/Users/Razogarz/PycharmProjects/airport-controller/rivalAgents/valid/images/017611_jpg.rf.d72f50e21ee64bf737577399152c44b9.jpg: 416x416 (no detections), 20.4ms\n",
      "image 288/1766 /mnt/c/Users/Razogarz/PycharmProjects/airport-controller/rivalAgents/valid/images/017642_jpg.rf.7bd621a64067804b43eeb3677ce59d69.jpg: 416x416 2 0s, 11.1ms\n",
      "image 289/1766 /mnt/c/Users/Razogarz/PycharmProjects/airport-controller/rivalAgents/valid/images/017690_jpg.rf.838b008aa2ddc78b8b8105734b34feef.jpg: 416x416 1 0, 19.6ms\n",
      "image 290/1766 /mnt/c/Users/Razogarz/PycharmProjects/airport-controller/rivalAgents/valid/images/017694_jpg.rf.6346d9c762e0fd689150e5094fb97bb4.jpg: 416x416 1 0, 17.2ms\n",
      "image 291/1766 /mnt/c/Users/Razogarz/PycharmProjects/airport-controller/rivalAgents/valid/images/017721_jpg.rf.7d68ded05aa775582fbf56f286c7ce10.jpg: 416x416 1 0, 22.2ms\n",
      "image 292/1766 /mnt/c/Users/Razogarz/PycharmProjects/airport-controller/rivalAgents/valid/images/017772_jpg.rf.643cefd27f037d7370fe35eb66d43747.jpg: 416x416 2 0s, 16.3ms\n",
      "image 293/1766 /mnt/c/Users/Razogarz/PycharmProjects/airport-controller/rivalAgents/valid/images/017781_jpg.rf.2609ce1da209e291e14a40b4d8b92edd.jpg: 416x416 (no detections), 19.9ms\n",
      "image 294/1766 /mnt/c/Users/Razogarz/PycharmProjects/airport-controller/rivalAgents/valid/images/017783_jpg.rf.7b537db13a7b4f643415e6208f02e3e8.jpg: 416x416 (no detections), 18.9ms\n",
      "image 295/1766 /mnt/c/Users/Razogarz/PycharmProjects/airport-controller/rivalAgents/valid/images/017808_jpg.rf.d9998500be479d68a1a2d3c0572e074d.jpg: 416x416 (no detections), 18.9ms\n",
      "image 296/1766 /mnt/c/Users/Razogarz/PycharmProjects/airport-controller/rivalAgents/valid/images/017866_jpg.rf.c7a917fbf6e4a1b84cb05c79c5e76a10.jpg: 416x416 1 0, 1 1, 12.0ms\n",
      "image 297/1766 /mnt/c/Users/Razogarz/PycharmProjects/airport-controller/rivalAgents/valid/images/017892_jpg.rf.d3e2e18dbd843eb1cb685f96b833a6f7.jpg: 416x416 1 0, 16.7ms\n",
      "image 298/1766 /mnt/c/Users/Razogarz/PycharmProjects/airport-controller/rivalAgents/valid/images/017915_jpg.rf.5d4af2fc99f7c42572554868a6ea2238.jpg: 416x416 1 0, 15.9ms\n",
      "image 299/1766 /mnt/c/Users/Razogarz/PycharmProjects/airport-controller/rivalAgents/valid/images/017933_jpg.rf.eb752c31b2f6045ca47aa86a3a29a44d.jpg: 416x416 1 0, 7.8ms\n",
      "image 300/1766 /mnt/c/Users/Razogarz/PycharmProjects/airport-controller/rivalAgents/valid/images/018006_jpg.rf.c256068ac189fddf76815a8fbcb31c38.jpg: 416x416 1 0, 13.5ms\n",
      "image 301/1766 /mnt/c/Users/Razogarz/PycharmProjects/airport-controller/rivalAgents/valid/images/018040_jpg.rf.1310f145fd8a53757e8a85a0851bbf9f.jpg: 416x416 2 0s, 11.6ms\n",
      "image 302/1766 /mnt/c/Users/Razogarz/PycharmProjects/airport-controller/rivalAgents/valid/images/018073_jpg.rf.5f671b41aeea1ce5f95ce9861108c4a4.jpg: 416x416 1 0, 16.5ms\n",
      "image 303/1766 /mnt/c/Users/Razogarz/PycharmProjects/airport-controller/rivalAgents/valid/images/018091_jpg.rf.3c1ec22b01bed51111f8560ecbca03ed.jpg: 416x416 1 0, 9.3ms\n",
      "image 304/1766 /mnt/c/Users/Razogarz/PycharmProjects/airport-controller/rivalAgents/valid/images/018097_jpg.rf.71ee1959d4f0826ec47e9e967f162e2f.jpg: 416x416 (no detections), 15.2ms\n",
      "image 305/1766 /mnt/c/Users/Razogarz/PycharmProjects/airport-controller/rivalAgents/valid/images/018132_jpg.rf.71a7bec2f6913d270f05cb3541c97d37.jpg: 416x416 1 0, 14.9ms\n",
      "image 306/1766 /mnt/c/Users/Razogarz/PycharmProjects/airport-controller/rivalAgents/valid/images/018147_jpg.rf.3ca63a0674a9eb4701ec27a1b2cd4f06.jpg: 416x416 (no detections), 17.8ms\n",
      "image 307/1766 /mnt/c/Users/Razogarz/PycharmProjects/airport-controller/rivalAgents/valid/images/018186_jpg.rf.44bc430bde540717bfeff4309ecdb401.jpg: 416x416 2 0s, 20.2ms\n",
      "image 308/1766 /mnt/c/Users/Razogarz/PycharmProjects/airport-controller/rivalAgents/valid/images/018218_jpg.rf.259d8f5f97a434ecb13bdd31f5da3626.jpg: 416x416 1 0, 10.2ms\n",
      "image 309/1766 /mnt/c/Users/Razogarz/PycharmProjects/airport-controller/rivalAgents/valid/images/018305_jpg.rf.2ef3994d76021b18f92def864fa281e6.jpg: 416x416 1 0, 16.3ms\n",
      "image 310/1766 /mnt/c/Users/Razogarz/PycharmProjects/airport-controller/rivalAgents/valid/images/018332_jpg.rf.3b84aca8c8c21a739a3caacb1d902456.jpg: 416x416 (no detections), 7.3ms\n",
      "image 311/1766 /mnt/c/Users/Razogarz/PycharmProjects/airport-controller/rivalAgents/valid/images/018334_jpg.rf.d2434d1743236d35a1018cb0e8124adb.jpg: 416x416 1 0, 13.0ms\n",
      "image 312/1766 /mnt/c/Users/Razogarz/PycharmProjects/airport-controller/rivalAgents/valid/images/018339_jpg.rf.152373b79958afb6e096bda5b75debec.jpg: 416x416 1 0, 18.8ms\n",
      "image 313/1766 /mnt/c/Users/Razogarz/PycharmProjects/airport-controller/rivalAgents/valid/images/018410_jpg.rf.67cef74c544750b046a0bd0102fec585.jpg: 416x416 1 1, 15.5ms\n",
      "image 314/1766 /mnt/c/Users/Razogarz/PycharmProjects/airport-controller/rivalAgents/valid/images/018453_jpg.rf.fd89260fcf5d738b1f3d664744621eba.jpg: 416x416 1 0, 14.2ms\n",
      "image 315/1766 /mnt/c/Users/Razogarz/PycharmProjects/airport-controller/rivalAgents/valid/images/018475_jpg.rf.03d49b01248cb89d719d2db70d568c8d.jpg: 416x416 1 0, 9.5ms\n",
      "image 316/1766 /mnt/c/Users/Razogarz/PycharmProjects/airport-controller/rivalAgents/valid/images/018523_jpg.rf.f6cbd6562563439d9cbd5165251e1fb6.jpg: 416x416 1 0, 9.3ms\n",
      "image 317/1766 /mnt/c/Users/Razogarz/PycharmProjects/airport-controller/rivalAgents/valid/images/018540_jpg.rf.d7f750334cbc45c7fd082ae2c967984c.jpg: 416x416 2 0s, 11.9ms\n",
      "image 318/1766 /mnt/c/Users/Razogarz/PycharmProjects/airport-controller/rivalAgents/valid/images/018546_jpg.rf.0e3cee490f34bea1e384812f80a7af02.jpg: 416x416 1 0, 14.3ms\n",
      "image 319/1766 /mnt/c/Users/Razogarz/PycharmProjects/airport-controller/rivalAgents/valid/images/018558_jpg.rf.c84e2b0c50b1276e19b05e0174c1975f.jpg: 416x416 1 0, 12.2ms\n",
      "image 320/1766 /mnt/c/Users/Razogarz/PycharmProjects/airport-controller/rivalAgents/valid/images/018589_jpg.rf.63453a5db01bd43a37fc65361b932a4d.jpg: 416x416 1 0, 8.8ms\n",
      "image 321/1766 /mnt/c/Users/Razogarz/PycharmProjects/airport-controller/rivalAgents/valid/images/018607_jpg.rf.44ef1317d47aa7cace1c1184ba7f1bdf.jpg: 416x416 1 0, 12.4ms\n",
      "image 322/1766 /mnt/c/Users/Razogarz/PycharmProjects/airport-controller/rivalAgents/valid/images/018655_jpg.rf.18707a08f92e99ae2f524110fa29f40b.jpg: 416x416 1 0, 12.6ms\n",
      "image 323/1766 /mnt/c/Users/Razogarz/PycharmProjects/airport-controller/rivalAgents/valid/images/018678_jpg.rf.b1c93a72dd51b647f0053d7a1cb3e695.jpg: 416x416 (no detections), 7.0ms\n",
      "image 324/1766 /mnt/c/Users/Razogarz/PycharmProjects/airport-controller/rivalAgents/valid/images/018690_jpg.rf.741e2190131c3ac8b91a94eab2994a43.jpg: 416x416 (no detections), 14.7ms\n",
      "image 325/1766 /mnt/c/Users/Razogarz/PycharmProjects/airport-controller/rivalAgents/valid/images/018725_jpg.rf.7de8ea55570b36879bc1d3349c114dad.jpg: 416x416 1 0, 6.8ms\n",
      "image 326/1766 /mnt/c/Users/Razogarz/PycharmProjects/airport-controller/rivalAgents/valid/images/018745_jpg.rf.3f94ebe859d048dbebc4da3bfbb54593.jpg: 416x416 (no detections), 14.2ms\n",
      "image 327/1766 /mnt/c/Users/Razogarz/PycharmProjects/airport-controller/rivalAgents/valid/images/018749_jpg.rf.886491bd02f9d3dc042ae10c01312888.jpg: 416x416 1 0, 8.0ms\n",
      "image 328/1766 /mnt/c/Users/Razogarz/PycharmProjects/airport-controller/rivalAgents/valid/images/018750_jpg.rf.a3b015b943b6a54e4ceba84cab49de86.jpg: 416x416 1 0, 14.1ms\n",
      "image 329/1766 /mnt/c/Users/Razogarz/PycharmProjects/airport-controller/rivalAgents/valid/images/018783_jpg.rf.bfeb3c366b621ceb9adb18a787e9058e.jpg: 416x416 1 0, 8.4ms\n",
      "image 330/1766 /mnt/c/Users/Razogarz/PycharmProjects/airport-controller/rivalAgents/valid/images/018803_jpg.rf.5b0ad9061d8ab1a338445d3467d22527.jpg: 416x416 1 0, 13.3ms\n",
      "image 331/1766 /mnt/c/Users/Razogarz/PycharmProjects/airport-controller/rivalAgents/valid/images/018826_jpg.rf.2caea3c3d7e3e51cba47db73bf5e6f8e.jpg: 416x416 1 0, 20.3ms\n",
      "image 332/1766 /mnt/c/Users/Razogarz/PycharmProjects/airport-controller/rivalAgents/valid/images/018852_jpg.rf.72eca6ea629f5ec6f436bf8dc28b55ed.jpg: 416x416 (no detections), 10.0ms\n",
      "image 333/1766 /mnt/c/Users/Razogarz/PycharmProjects/airport-controller/rivalAgents/valid/images/018887_jpg.rf.229d233895a88f6a6a40adccf93fd94e.jpg: 416x416 1 0, 15.4ms\n",
      "image 334/1766 /mnt/c/Users/Razogarz/PycharmProjects/airport-controller/rivalAgents/valid/images/018899_jpg.rf.a59655e11c72b96ae146dd8ab0ef786c.jpg: 416x416 2 0s, 13.3ms\n",
      "image 335/1766 /mnt/c/Users/Razogarz/PycharmProjects/airport-controller/rivalAgents/valid/images/018917_jpg.rf.8e16415f8027ce32eb233f6c3851e67e.jpg: 416x416 (no detections), 9.2ms\n",
      "image 336/1766 /mnt/c/Users/Razogarz/PycharmProjects/airport-controller/rivalAgents/valid/images/018932_jpg.rf.16d4090b0498a959d4fb46ea10234fc9.jpg: 416x416 1 0, 11.8ms\n",
      "image 337/1766 /mnt/c/Users/Razogarz/PycharmProjects/airport-controller/rivalAgents/valid/images/018975_jpg.rf.bca88991ef6b306c7877dd1d2335ceff.jpg: 416x416 1 0, 9.4ms\n",
      "image 338/1766 /mnt/c/Users/Razogarz/PycharmProjects/airport-controller/rivalAgents/valid/images/018986_jpg.rf.2089f04cadd409d6cd27eda7c77212f0.jpg: 416x416 2 0s, 18.2ms\n",
      "image 339/1766 /mnt/c/Users/Razogarz/PycharmProjects/airport-controller/rivalAgents/valid/images/019037_jpg.rf.c8e96ed9e84b0a0b029a3ae26d3393fd.jpg: 416x416 (no detections), 16.7ms\n",
      "image 340/1766 /mnt/c/Users/Razogarz/PycharmProjects/airport-controller/rivalAgents/valid/images/019183_jpg.rf.59ad793667e611a3202d0c894a05bd20.jpg: 416x416 (no detections), 14.0ms\n",
      "image 341/1766 /mnt/c/Users/Razogarz/PycharmProjects/airport-controller/rivalAgents/valid/images/019248_jpg.rf.af7c62007971a3cee726db05f49c913a.jpg: 416x416 1 0, 14.0ms\n",
      "image 342/1766 /mnt/c/Users/Razogarz/PycharmProjects/airport-controller/rivalAgents/valid/images/019249_jpg.rf.efb1a2713b10b606fb5ff39b1e71b916.jpg: 416x416 2 0s, 13.9ms\n",
      "image 343/1766 /mnt/c/Users/Razogarz/PycharmProjects/airport-controller/rivalAgents/valid/images/019260_jpg.rf.fd58a5d0fe1def88a8f253e7488577e6.jpg: 416x416 1 0, 17.3ms\n",
      "image 344/1766 /mnt/c/Users/Razogarz/PycharmProjects/airport-controller/rivalAgents/valid/images/019302_jpg.rf.5c5fe8b60968669263eda8ed7c4a26cc.jpg: 416x416 1 0, 10.5ms\n",
      "image 345/1766 /mnt/c/Users/Razogarz/PycharmProjects/airport-controller/rivalAgents/valid/images/019320_jpg.rf.49ba8151fec74575925a243bfb02de16.jpg: 416x416 1 0, 14.0ms\n",
      "image 346/1766 /mnt/c/Users/Razogarz/PycharmProjects/airport-controller/rivalAgents/valid/images/019377_jpg.rf.0708fc70cfec1a18ed20f03ac04147d4.jpg: 416x416 1 0, 7.8ms\n",
      "image 347/1766 /mnt/c/Users/Razogarz/PycharmProjects/airport-controller/rivalAgents/valid/images/019411_jpg.rf.b538fce76c021b309d5627b1f6232805.jpg: 416x416 1 0, 16.3ms\n",
      "image 348/1766 /mnt/c/Users/Razogarz/PycharmProjects/airport-controller/rivalAgents/valid/images/019416_jpg.rf.99e7db1ce2d922f8c38b05ea1783ea98.jpg: 416x416 2 0s, 12.5ms\n",
      "image 349/1766 /mnt/c/Users/Razogarz/PycharmProjects/airport-controller/rivalAgents/valid/images/019430_jpg.rf.57afd64a75c039d15ffd2bcb9604ef32.jpg: 416x416 2 0s, 16.4ms\n",
      "image 350/1766 /mnt/c/Users/Razogarz/PycharmProjects/airport-controller/rivalAgents/valid/images/019431_jpg.rf.e0aefab12804735bb75f7438cf02380d.jpg: 416x416 1 0, 1 2, 11.9ms\n",
      "image 351/1766 /mnt/c/Users/Razogarz/PycharmProjects/airport-controller/rivalAgents/valid/images/019451_jpg.rf.69fbb2f82cba44717d7c1e025023a3a1.jpg: 416x416 (no detections), 18.1ms\n",
      "image 352/1766 /mnt/c/Users/Razogarz/PycharmProjects/airport-controller/rivalAgents/valid/images/019473_jpg.rf.95dbe401afeb3e32335cc458df6ca6f3.jpg: 416x416 1 0, 11.0ms\n",
      "image 353/1766 /mnt/c/Users/Razogarz/PycharmProjects/airport-controller/rivalAgents/valid/images/019486_jpg.rf.68dc4fe21189050a6e387feddb5f2411.jpg: 416x416 (no detections), 19.3ms\n",
      "image 354/1766 /mnt/c/Users/Razogarz/PycharmProjects/airport-controller/rivalAgents/valid/images/019503_jpg.rf.67dded532b96e9a219a527664ca6539d.jpg: 416x416 1 0, 18.7ms\n",
      "image 355/1766 /mnt/c/Users/Razogarz/PycharmProjects/airport-controller/rivalAgents/valid/images/019527_jpg.rf.ff678657d3aaca09f77b72e17ca7708c.jpg: 416x416 1 0, 10.6ms\n",
      "image 356/1766 /mnt/c/Users/Razogarz/PycharmProjects/airport-controller/rivalAgents/valid/images/019555_jpg.rf.89471470d5476c090138d2a310f7a458.jpg: 416x416 (no detections), 11.5ms\n",
      "image 357/1766 /mnt/c/Users/Razogarz/PycharmProjects/airport-controller/rivalAgents/valid/images/019638_jpg.rf.112d045ee821e0cd1996bc69f7e5a779.jpg: 416x416 1 3, 14.7ms\n",
      "image 358/1766 /mnt/c/Users/Razogarz/PycharmProjects/airport-controller/rivalAgents/valid/images/019664_jpg.rf.db48c76b70e52bb7e27ec571e6f3c6c7.jpg: 416x416 1 0, 7.7ms\n",
      "image 359/1766 /mnt/c/Users/Razogarz/PycharmProjects/airport-controller/rivalAgents/valid/images/019665_jpg.rf.07fabab23d3e2f452004dbaf39324365.jpg: 416x416 (no detections), 13.3ms\n",
      "image 360/1766 /mnt/c/Users/Razogarz/PycharmProjects/airport-controller/rivalAgents/valid/images/019697_jpg.rf.82df84c1c283b2eae9a458f289fbeacc.jpg: 416x416 2 0s, 9.8ms\n",
      "image 361/1766 /mnt/c/Users/Razogarz/PycharmProjects/airport-controller/rivalAgents/valid/images/019704_jpg.rf.7aa3951835518407a4e0b1740c9fdb21.jpg: 416x416 1 0, 13.2ms\n",
      "image 362/1766 /mnt/c/Users/Razogarz/PycharmProjects/airport-controller/rivalAgents/valid/images/019755_jpg.rf.67a5dc86768d99772cc5254763b44dc6.jpg: 416x416 1 0, 7.7ms\n",
      "image 363/1766 /mnt/c/Users/Razogarz/PycharmProjects/airport-controller/rivalAgents/valid/images/019757_jpg.rf.b6d3bf7fcfbfc923a1d7871f2b3e5f94.jpg: 416x416 (no detections), 12.2ms\n",
      "image 364/1766 /mnt/c/Users/Razogarz/PycharmProjects/airport-controller/rivalAgents/valid/images/019824_jpg.rf.fbade0ffd28168b19974bf3d8cd6cf2c.jpg: 416x416 1 0, 13.9ms\n",
      "image 365/1766 /mnt/c/Users/Razogarz/PycharmProjects/airport-controller/rivalAgents/valid/images/019858_jpg.rf.e33c8765a1f69f8985b9a0196f23e698.jpg: 416x416 (no detections), 9.3ms\n",
      "image 366/1766 /mnt/c/Users/Razogarz/PycharmProjects/airport-controller/rivalAgents/valid/images/019860_jpg.rf.9646c2ef19aaafa42c2ca94744b53f7f.jpg: 416x416 1 0, 17.5ms\n",
      "image 367/1766 /mnt/c/Users/Razogarz/PycharmProjects/airport-controller/rivalAgents/valid/images/019895_jpg.rf.06334d22bdfbc686c32b56232d2d59b3.jpg: 416x416 1 0, 16.5ms\n",
      "image 368/1766 /mnt/c/Users/Razogarz/PycharmProjects/airport-controller/rivalAgents/valid/images/019901_jpg.rf.74a12caa59d0ce7f3b501b148889df15.jpg: 416x416 1 0, 11.8ms\n",
      "image 369/1766 /mnt/c/Users/Razogarz/PycharmProjects/airport-controller/rivalAgents/valid/images/019917_jpg.rf.2ee6fdae4da5fa0bf43eccff4effb6c0.jpg: 416x416 2 0s, 8.9ms\n",
      "image 370/1766 /mnt/c/Users/Razogarz/PycharmProjects/airport-controller/rivalAgents/valid/images/019931_jpg.rf.5ed4952b40011f57e7bda32326923a01.jpg: 416x416 1 0, 1 1, 14.9ms\n",
      "image 371/1766 /mnt/c/Users/Razogarz/PycharmProjects/airport-controller/rivalAgents/valid/images/019963_jpg.rf.5031555741a6d727a90467091189d253.jpg: 416x416 1 0, 15.9ms\n",
      "image 372/1766 /mnt/c/Users/Razogarz/PycharmProjects/airport-controller/rivalAgents/valid/images/019993_jpg.rf.965eb4814231f713fe95a076dbb35de0.jpg: 416x416 1 0, 15.3ms\n",
      "image 373/1766 /mnt/c/Users/Razogarz/PycharmProjects/airport-controller/rivalAgents/valid/images/020008_jpg.rf.28fbc26767ca8ee6ddcda73d56cfe3fe.jpg: 416x416 1 0, 6.8ms\n",
      "image 374/1766 /mnt/c/Users/Razogarz/PycharmProjects/airport-controller/rivalAgents/valid/images/020039_jpg.rf.0fb5d5fa8c9b201914bf45b3a4ea8f7f.jpg: 416x416 (no detections), 12.2ms\n",
      "image 375/1766 /mnt/c/Users/Razogarz/PycharmProjects/airport-controller/rivalAgents/valid/images/020088_jpg.rf.2f204132b514cf50f0066a2496fd1b42.jpg: 416x416 (no detections), 6.9ms\n",
      "image 376/1766 /mnt/c/Users/Razogarz/PycharmProjects/airport-controller/rivalAgents/valid/images/020090_jpg.rf.9bb3fca998e2eb52edaa964fe6b4e2b8.jpg: 416x416 1 0, 9.6ms\n",
      "image 377/1766 /mnt/c/Users/Razogarz/PycharmProjects/airport-controller/rivalAgents/valid/images/020100_jpg.rf.7bf3cb4e186fd7a58af587f35999505c.jpg: 416x416 1 0, 10.6ms\n",
      "image 378/1766 /mnt/c/Users/Razogarz/PycharmProjects/airport-controller/rivalAgents/valid/images/020101_jpg.rf.46af852dc671208eacef205c6c880222.jpg: 416x416 (no detections), 11.3ms\n",
      "image 379/1766 /mnt/c/Users/Razogarz/PycharmProjects/airport-controller/rivalAgents/valid/images/020112_jpg.rf.3b1e18e0f145083f6fbc85f1b95b9f6b.jpg: 416x416 1 0, 7.0ms\n",
      "image 380/1766 /mnt/c/Users/Razogarz/PycharmProjects/airport-controller/rivalAgents/valid/images/020132_jpg.rf.798fdf5c0e446c52c8d6f17521ea8a58.jpg: 416x416 1 0, 13.9ms\n",
      "image 381/1766 /mnt/c/Users/Razogarz/PycharmProjects/airport-controller/rivalAgents/valid/images/020176_jpg.rf.2557777d26aa9ac361c243efe84fce47.jpg: 416x416 1 0, 12.9ms\n",
      "image 382/1766 /mnt/c/Users/Razogarz/PycharmProjects/airport-controller/rivalAgents/valid/images/020241_jpg.rf.130762cb4458052e37136bd23b8722ab.jpg: 416x416 1 0, 7.1ms\n",
      "image 383/1766 /mnt/c/Users/Razogarz/PycharmProjects/airport-controller/rivalAgents/valid/images/020244_jpg.rf.8ba0646739d8e6759fd81860707b7c0a.jpg: 416x416 (no detections), 14.0ms\n",
      "image 384/1766 /mnt/c/Users/Razogarz/PycharmProjects/airport-controller/rivalAgents/valid/images/020324_jpg.rf.8133bb64f734562c91fe745e5998d909.jpg: 416x416 2 0s, 10.1ms\n",
      "image 385/1766 /mnt/c/Users/Razogarz/PycharmProjects/airport-controller/rivalAgents/valid/images/020326_jpg.rf.a7c149b3720d6116cba33a67f6172a8a.jpg: 416x416 1 0, 11.0ms\n",
      "image 386/1766 /mnt/c/Users/Razogarz/PycharmProjects/airport-controller/rivalAgents/valid/images/020362_jpg.rf.bba896731224bca1258fa5b7ad3c90d9.jpg: 416x416 (no detections), 6.6ms\n",
      "image 387/1766 /mnt/c/Users/Razogarz/PycharmProjects/airport-controller/rivalAgents/valid/images/020408_jpg.rf.2ba4a4d125b4469864f9f489b50e43af.jpg: 416x416 1 0, 12.8ms\n",
      "image 388/1766 /mnt/c/Users/Razogarz/PycharmProjects/airport-controller/rivalAgents/valid/images/020410_jpg.rf.a201ed73f129199f29c81b0aa13138ca.jpg: 416x416 1 0, 8.2ms\n",
      "image 389/1766 /mnt/c/Users/Razogarz/PycharmProjects/airport-controller/rivalAgents/valid/images/020434_jpg.rf.a2b123bdaa25b06e1c4b388c63ac9fc1.jpg: 416x416 1 1, 16.3ms\n",
      "image 390/1766 /mnt/c/Users/Razogarz/PycharmProjects/airport-controller/rivalAgents/valid/images/020480_jpg.rf.ce6db8959a12e31bd278f665150a02ab.jpg: 416x416 1 1, 20.4ms\n",
      "image 391/1766 /mnt/c/Users/Razogarz/PycharmProjects/airport-controller/rivalAgents/valid/images/020496_jpg.rf.b3fbc11e234486203a9a0ae96e45d6c9.jpg: 416x416 1 4, 15.5ms\n",
      "image 392/1766 /mnt/c/Users/Razogarz/PycharmProjects/airport-controller/rivalAgents/valid/images/020546_jpg.rf.985e2a1a99e101d6ff4c66148797dff6.jpg: 416x416 1 0, 10.4ms\n",
      "image 393/1766 /mnt/c/Users/Razogarz/PycharmProjects/airport-controller/rivalAgents/valid/images/020574_jpg.rf.5c30f4e2b39979c6faf9d49b7b60d1a5.jpg: 416x416 1 0, 16.0ms\n",
      "image 394/1766 /mnt/c/Users/Razogarz/PycharmProjects/airport-controller/rivalAgents/valid/images/020592_jpg.rf.4ebc0d80623df1777cca9b4e3066b0c3.jpg: 416x416 (no detections), 13.7ms\n",
      "image 395/1766 /mnt/c/Users/Razogarz/PycharmProjects/airport-controller/rivalAgents/valid/images/020638_jpg.rf.d19af9889979db79c991d560db56cc4e.jpg: 416x416 1 0, 16.3ms\n",
      "image 396/1766 /mnt/c/Users/Razogarz/PycharmProjects/airport-controller/rivalAgents/valid/images/020647_jpg.rf.42b34dd07d406498c35e7a8a6990b069.jpg: 416x416 1 0, 9.9ms\n",
      "image 397/1766 /mnt/c/Users/Razogarz/PycharmProjects/airport-controller/rivalAgents/valid/images/020663_jpg.rf.4a015c07665ff06e44b9d0ee4da657d6.jpg: 416x416 1 0, 10.0ms\n",
      "image 398/1766 /mnt/c/Users/Razogarz/PycharmProjects/airport-controller/rivalAgents/valid/images/020669_jpg.rf.5c2d382b117748949a546690fa2f119d.jpg: 416x416 1 0, 8.3ms\n",
      "image 399/1766 /mnt/c/Users/Razogarz/PycharmProjects/airport-controller/rivalAgents/valid/images/020727_jpg.rf.a6de53f90172ba63359a760045a5b3d4.jpg: 416x416 1 0, 1 1, 21.1ms\n",
      "image 400/1766 /mnt/c/Users/Razogarz/PycharmProjects/airport-controller/rivalAgents/valid/images/020760_jpg.rf.7c75699b61516ac41de688034f61fc60.jpg: 416x416 (no detections), 13.2ms\n",
      "image 401/1766 /mnt/c/Users/Razogarz/PycharmProjects/airport-controller/rivalAgents/valid/images/020775_jpg.rf.1c379e07ad909fcc6e023d0c328efd2d.jpg: 416x416 1 0, 14.6ms\n",
      "image 402/1766 /mnt/c/Users/Razogarz/PycharmProjects/airport-controller/rivalAgents/valid/images/020790_jpg.rf.fab107f8baca42d068457c03eaab8d1b.jpg: 416x416 3 0s, 12.3ms\n",
      "image 403/1766 /mnt/c/Users/Razogarz/PycharmProjects/airport-controller/rivalAgents/valid/images/020835_jpg.rf.8cde5ceaa660cab6cad4a908fcdddb0b.jpg: 416x416 (no detections), 13.5ms\n",
      "image 404/1766 /mnt/c/Users/Razogarz/PycharmProjects/airport-controller/rivalAgents/valid/images/020915_jpg.rf.bd551b988560d40adaa87fce3d4767e6.jpg: 416x416 (no detections), 10.7ms\n",
      "image 405/1766 /mnt/c/Users/Razogarz/PycharmProjects/airport-controller/rivalAgents/valid/images/020918_jpg.rf.0b380df4eb322077e287d651d123f65e.jpg: 416x416 2 0s, 1 1, 13.7ms\n",
      "image 406/1766 /mnt/c/Users/Razogarz/PycharmProjects/airport-controller/rivalAgents/valid/images/020964_jpg.rf.2a4981a59ce4b73b8b18e61d0a86b632.jpg: 416x416 1 0, 9.3ms\n",
      "image 407/1766 /mnt/c/Users/Razogarz/PycharmProjects/airport-controller/rivalAgents/valid/images/020966_jpg.rf.338fe56c8916275f466ee4ff704db4b9.jpg: 416x416 (no detections), 12.8ms\n",
      "image 408/1766 /mnt/c/Users/Razogarz/PycharmProjects/airport-controller/rivalAgents/valid/images/020989_jpg.rf.a567bcdb066b7e43d10822a3da3ac649.jpg: 416x416 1 0, 18.8ms\n",
      "image 409/1766 /mnt/c/Users/Razogarz/PycharmProjects/airport-controller/rivalAgents/valid/images/021034_jpg.rf.a680f81af0afe7eaa3fa868eb44fbe0d.jpg: 416x416 (no detections), 6.4ms\n",
      "image 410/1766 /mnt/c/Users/Razogarz/PycharmProjects/airport-controller/rivalAgents/valid/images/021050_jpg.rf.f0b36fdbb09ad1ae06e46240e62b23e2.jpg: 416x416 1 0, 7.8ms\n",
      "image 411/1766 /mnt/c/Users/Razogarz/PycharmProjects/airport-controller/rivalAgents/valid/images/021092_jpg.rf.baed8d9686467cbe87e8713e819886b0.jpg: 416x416 1 3, 15.3ms\n",
      "image 412/1766 /mnt/c/Users/Razogarz/PycharmProjects/airport-controller/rivalAgents/valid/images/021097_jpg.rf.29b90d355974446805313e954c632b9d.jpg: 416x416 1 0, 7.6ms\n",
      "image 413/1766 /mnt/c/Users/Razogarz/PycharmProjects/airport-controller/rivalAgents/valid/images/021124_jpg.rf.c24b7c88768fca941f29fc266e434b82.jpg: 416x416 (no detections), 18.6ms\n",
      "image 414/1766 /mnt/c/Users/Razogarz/PycharmProjects/airport-controller/rivalAgents/valid/images/021146_jpg.rf.d09c438f7b59714fef0404302dbaed7b.jpg: 416x416 (no detections), 9.8ms\n",
      "image 415/1766 /mnt/c/Users/Razogarz/PycharmProjects/airport-controller/rivalAgents/valid/images/021154_jpg.rf.18211fded4d431d54c17e82c3f3d6f28.jpg: 416x416 1 0, 14.8ms\n",
      "image 416/1766 /mnt/c/Users/Razogarz/PycharmProjects/airport-controller/rivalAgents/valid/images/021160_jpg.rf.f0b9ad82b7afb0cdc959229b9306b991.jpg: 416x416 1 0, 13.2ms\n",
      "image 417/1766 /mnt/c/Users/Razogarz/PycharmProjects/airport-controller/rivalAgents/valid/images/021202_jpg.rf.b69d697d91460b13c2906d95013bde81.jpg: 416x416 1 0, 7.5ms\n",
      "image 418/1766 /mnt/c/Users/Razogarz/PycharmProjects/airport-controller/rivalAgents/valid/images/021231_jpg.rf.bc08ca6ec2824e6e45f301258259e4d5.jpg: 416x416 (no detections), 18.3ms\n",
      "image 419/1766 /mnt/c/Users/Razogarz/PycharmProjects/airport-controller/rivalAgents/valid/images/021248_jpg.rf.9c3d85e95fb7490be4f547ecdd08a0f8.jpg: 416x416 1 0, 12.0ms\n",
      "image 420/1766 /mnt/c/Users/Razogarz/PycharmProjects/airport-controller/rivalAgents/valid/images/021269_jpg.rf.0f094a32c284c66a54873f62f6f69b32.jpg: 416x416 1 0, 7.2ms\n",
      "image 421/1766 /mnt/c/Users/Razogarz/PycharmProjects/airport-controller/rivalAgents/valid/images/021282_jpg.rf.a0012e0a74c2213124c8503a504a11b9.jpg: 416x416 1 0, 14.0ms\n",
      "image 422/1766 /mnt/c/Users/Razogarz/PycharmProjects/airport-controller/rivalAgents/valid/images/021336_jpg.rf.296bb74fcd1cf0bd4028307e3d47d3d7.jpg: 416x416 (no detections), 18.3ms\n",
      "image 423/1766 /mnt/c/Users/Razogarz/PycharmProjects/airport-controller/rivalAgents/valid/images/021348_jpg.rf.8482ec89d1c40444b84d30082f02d34f.jpg: 416x416 (no detections), 14.5ms\n",
      "image 424/1766 /mnt/c/Users/Razogarz/PycharmProjects/airport-controller/rivalAgents/valid/images/021374_jpg.rf.22361ad0f70b49ab4e16864ad67623ea.jpg: 416x416 (no detections), 13.3ms\n",
      "image 425/1766 /mnt/c/Users/Razogarz/PycharmProjects/airport-controller/rivalAgents/valid/images/021397_jpg.rf.03ef0b8e7bb06e27dfafbbd43a152cfa.jpg: 416x416 2 0s, 1 4, 10.8ms\n",
      "image 426/1766 /mnt/c/Users/Razogarz/PycharmProjects/airport-controller/rivalAgents/valid/images/021415_jpg.rf.557b9c9d57b79238778c32da71fc10f9.jpg: 416x416 1 3, 7.6ms\n",
      "image 427/1766 /mnt/c/Users/Razogarz/PycharmProjects/airport-controller/rivalAgents/valid/images/021454_jpg.rf.77172a96a72f52c7be852b3a0aa45ffa.jpg: 416x416 2 0s, 8.3ms\n",
      "image 428/1766 /mnt/c/Users/Razogarz/PycharmProjects/airport-controller/rivalAgents/valid/images/021493_jpg.rf.d8cea5dcf801f43a2614447566a6e05f.jpg: 416x416 (no detections), 7.7ms\n",
      "image 429/1766 /mnt/c/Users/Razogarz/PycharmProjects/airport-controller/rivalAgents/valid/images/021507_jpg.rf.c4ec6ab173d894fa5793df62e669858e.jpg: 416x416 1 0, 12.6ms\n",
      "image 430/1766 /mnt/c/Users/Razogarz/PycharmProjects/airport-controller/rivalAgents/valid/images/021510_jpg.rf.dfa5954288f233b31a28d9465fd97544.jpg: 416x416 1 0, 13.8ms\n",
      "image 431/1766 /mnt/c/Users/Razogarz/PycharmProjects/airport-controller/rivalAgents/valid/images/021517_jpg.rf.66b42145a35e2ef169a899c21b602e0f.jpg: 416x416 (no detections), 8.0ms\n",
      "image 432/1766 /mnt/c/Users/Razogarz/PycharmProjects/airport-controller/rivalAgents/valid/images/021521_jpg.rf.2fd024315f9690f7b08490273c28a228.jpg: 416x416 2 0s, 11.8ms\n",
      "image 433/1766 /mnt/c/Users/Razogarz/PycharmProjects/airport-controller/rivalAgents/valid/images/021560_jpg.rf.70ef8c2f2ab75d63f0fe4f3a37b0533b.jpg: 416x416 (no detections), 10.7ms\n",
      "image 434/1766 /mnt/c/Users/Razogarz/PycharmProjects/airport-controller/rivalAgents/valid/images/021575_jpg.rf.336961dbce16beb03f36c1cebede78f5.jpg: 416x416 (no detections), 16.8ms\n",
      "image 435/1766 /mnt/c/Users/Razogarz/PycharmProjects/airport-controller/rivalAgents/valid/images/021585_jpg.rf.20399bde2fb1c4d2c75ff5d14a3bea64.jpg: 416x416 1 0, 14.7ms\n",
      "image 436/1766 /mnt/c/Users/Razogarz/PycharmProjects/airport-controller/rivalAgents/valid/images/021626_jpg.rf.08814240d58c61964d41abc86acfb084.jpg: 416x416 2 0s, 1 1, 10.1ms\n",
      "image 437/1766 /mnt/c/Users/Razogarz/PycharmProjects/airport-controller/rivalAgents/valid/images/021646_jpg.rf.7000e25d81a666d12aba4ce200b03c10.jpg: 416x416 (no detections), 13.2ms\n",
      "image 438/1766 /mnt/c/Users/Razogarz/PycharmProjects/airport-controller/rivalAgents/valid/images/021676_jpg.rf.4c5d7d4e0540edcf68f0517a9a72c594.jpg: 416x416 (no detections), 10.9ms\n",
      "image 439/1766 /mnt/c/Users/Razogarz/PycharmProjects/airport-controller/rivalAgents/valid/images/021790_jpg.rf.132831eecfbd0415fce0b45e000a52ba.jpg: 416x416 (no detections), 10.9ms\n",
      "image 440/1766 /mnt/c/Users/Razogarz/PycharmProjects/airport-controller/rivalAgents/valid/images/021818_jpg.rf.3c86f95b8ab43fc10916b324c5a7aff3.jpg: 416x416 (no detections), 17.7ms\n",
      "image 441/1766 /mnt/c/Users/Razogarz/PycharmProjects/airport-controller/rivalAgents/valid/images/021918_jpg.rf.1fd9789b2dd338c9eab0d6db10ff256a.jpg: 416x416 (no detections), 13.3ms\n",
      "image 442/1766 /mnt/c/Users/Razogarz/PycharmProjects/airport-controller/rivalAgents/valid/images/021928_jpg.rf.f6e0ecd54c6d813418e5d7afe23a9f64.jpg: 416x416 2 0s, 7.5ms\n",
      "image 443/1766 /mnt/c/Users/Razogarz/PycharmProjects/airport-controller/rivalAgents/valid/images/021949_jpg.rf.ed98628bac91176b5984aeeb9f2f4bad.jpg: 416x416 1 0, 12.0ms\n",
      "image 444/1766 /mnt/c/Users/Razogarz/PycharmProjects/airport-controller/rivalAgents/valid/images/021974_jpg.rf.4dc8724784862cbb10556009527bd37b.jpg: 416x416 1 0, 12.5ms\n",
      "image 445/1766 /mnt/c/Users/Razogarz/PycharmProjects/airport-controller/rivalAgents/valid/images/022034_jpg.rf.be0b748bdd9271a72912f9141a70ca43.jpg: 416x416 1 0, 1 1, 16.5ms\n",
      "image 446/1766 /mnt/c/Users/Razogarz/PycharmProjects/airport-controller/rivalAgents/valid/images/022048_jpg.rf.f429f38e12a5db358076e63722c1ce91.jpg: 416x416 (no detections), 22.5ms\n",
      "image 447/1766 /mnt/c/Users/Razogarz/PycharmProjects/airport-controller/rivalAgents/valid/images/022095_jpg.rf.999908d8fb49245f27795f076a393145.jpg: 416x416 1 0, 18.2ms\n",
      "image 448/1766 /mnt/c/Users/Razogarz/PycharmProjects/airport-controller/rivalAgents/valid/images/022107_jpg.rf.62f9f2a64f2e547bafd4658855d20a4e.jpg: 416x416 1 0, 20.9ms\n",
      "image 449/1766 /mnt/c/Users/Razogarz/PycharmProjects/airport-controller/rivalAgents/valid/images/022127_jpg.rf.ba16d2e897ea8c69fe9cbccd8e34149f.jpg: 416x416 1 0, 13.0ms\n",
      "image 450/1766 /mnt/c/Users/Razogarz/PycharmProjects/airport-controller/rivalAgents/valid/images/022146_jpg.rf.84194dc8c619c693f8f7b4de48973ccf.jpg: 416x416 (no detections), 9.5ms\n",
      "image 451/1766 /mnt/c/Users/Razogarz/PycharmProjects/airport-controller/rivalAgents/valid/images/022179_jpg.rf.fc1555c49cfc10d104ce666284cc4e9a.jpg: 416x416 (no detections), 17.4ms\n",
      "image 452/1766 /mnt/c/Users/Razogarz/PycharmProjects/airport-controller/rivalAgents/valid/images/022181_jpg.rf.41e5b98ef7a9848876bfbdc9d8f6243f.jpg: 416x416 1 0, 1 1, 11.7ms\n",
      "image 453/1766 /mnt/c/Users/Razogarz/PycharmProjects/airport-controller/rivalAgents/valid/images/022203_jpg.rf.f228f6e8bf21053a5e8a873e8f8a66b2.jpg: 416x416 (no detections), 13.1ms\n",
      "image 454/1766 /mnt/c/Users/Razogarz/PycharmProjects/airport-controller/rivalAgents/valid/images/022237_jpg.rf.92a5765362f7cbfe03e9ae99e08017b2.jpg: 416x416 (no detections), 16.1ms\n",
      "image 455/1766 /mnt/c/Users/Razogarz/PycharmProjects/airport-controller/rivalAgents/valid/images/022240_jpg.rf.db0a0887f404c873a7daf757cd1749f5.jpg: 416x416 2 0s, 9.5ms\n",
      "image 456/1766 /mnt/c/Users/Razogarz/PycharmProjects/airport-controller/rivalAgents/valid/images/022245_jpg.rf.3accf88014e338c603ab413edc95dab7.jpg: 416x416 (no detections), 15.0ms\n",
      "image 457/1766 /mnt/c/Users/Razogarz/PycharmProjects/airport-controller/rivalAgents/valid/images/022252_jpg.rf.66f218c814694fe9d9c963b1f3b9b032.jpg: 416x416 (no detections), 12.5ms\n",
      "image 458/1766 /mnt/c/Users/Razogarz/PycharmProjects/airport-controller/rivalAgents/valid/images/022255_jpg.rf.30c78e826d4fc7785df4b13f872c703b.jpg: 416x416 2 0s, 7.9ms\n",
      "image 459/1766 /mnt/c/Users/Razogarz/PycharmProjects/airport-controller/rivalAgents/valid/images/022283_jpg.rf.9f4daaaa1b2189fb7b4514a5517c8c5a.jpg: 416x416 1 0, 11.8ms\n",
      "image 460/1766 /mnt/c/Users/Razogarz/PycharmProjects/airport-controller/rivalAgents/valid/images/022285_jpg.rf.db52ae4a4c1eafc152c58c9df0c251ac.jpg: 416x416 1 1, 17.2ms\n",
      "image 461/1766 /mnt/c/Users/Razogarz/PycharmProjects/airport-controller/rivalAgents/valid/images/022291_jpg.rf.c866b1213f594fb690bae810e6e632fa.jpg: 416x416 (no detections), 10.9ms\n",
      "image 462/1766 /mnt/c/Users/Razogarz/PycharmProjects/airport-controller/rivalAgents/valid/images/022345_jpg.rf.f8435d663ae25ad964efd7ff0ad6fd75.jpg: 416x416 2 0s, 13.8ms\n",
      "image 463/1766 /mnt/c/Users/Razogarz/PycharmProjects/airport-controller/rivalAgents/valid/images/022347_jpg.rf.9ea519f20d753b4ba2a1333b3707e490.jpg: 416x416 2 0s, 15.6ms\n",
      "image 464/1766 /mnt/c/Users/Razogarz/PycharmProjects/airport-controller/rivalAgents/valid/images/022358_jpg.rf.cd93a4b9e1187eaa05ef37106fba4370.jpg: 416x416 (no detections), 12.2ms\n",
      "image 465/1766 /mnt/c/Users/Razogarz/PycharmProjects/airport-controller/rivalAgents/valid/images/022413_jpg.rf.632f72821167badd2b772d0a9eaf70bd.jpg: 416x416 1 0, 9.7ms\n",
      "image 466/1766 /mnt/c/Users/Razogarz/PycharmProjects/airport-controller/rivalAgents/valid/images/022425_jpg.rf.54f01e0b3960191876b130e12ed132db.jpg: 416x416 1 0, 12.8ms\n",
      "image 467/1766 /mnt/c/Users/Razogarz/PycharmProjects/airport-controller/rivalAgents/valid/images/022461_jpg.rf.5e25691d9d62cfff6f34a2b2e18a3619.jpg: 416x416 1 0, 11.9ms\n",
      "image 468/1766 /mnt/c/Users/Razogarz/PycharmProjects/airport-controller/rivalAgents/valid/images/022490_jpg.rf.5f7aff85800f2670f12b7db878cdef9f.jpg: 416x416 (no detections), 10.2ms\n",
      "image 469/1766 /mnt/c/Users/Razogarz/PycharmProjects/airport-controller/rivalAgents/valid/images/022513_jpg.rf.6d0802e4961d8f2193f2506dc65d2bf1.jpg: 416x416 (no detections), 22.7ms\n",
      "image 470/1766 /mnt/c/Users/Razogarz/PycharmProjects/airport-controller/rivalAgents/valid/images/022548_jpg.rf.adb7fc06804e10f2436c34745dc4177c.jpg: 416x416 1 0, 16.8ms\n",
      "image 471/1766 /mnt/c/Users/Razogarz/PycharmProjects/airport-controller/rivalAgents/valid/images/022557_jpg.rf.fcc6684717e2f36508757951031924cb.jpg: 416x416 1 0, 14.6ms\n",
      "image 472/1766 /mnt/c/Users/Razogarz/PycharmProjects/airport-controller/rivalAgents/valid/images/022566_jpg.rf.da26f64408c0c3d2f95fdd4f4dd992ad.jpg: 416x416 2 0s, 23.8ms\n",
      "image 473/1766 /mnt/c/Users/Razogarz/PycharmProjects/airport-controller/rivalAgents/valid/images/022577_jpg.rf.f25e9cace3e5961b21d9872bf4361a94.jpg: 416x416 2 0s, 18.4ms\n",
      "image 474/1766 /mnt/c/Users/Razogarz/PycharmProjects/airport-controller/rivalAgents/valid/images/022602_jpg.rf.72dbb687dd80b528894aa91f820c9b2b.jpg: 416x416 1 0, 12.6ms\n",
      "image 475/1766 /mnt/c/Users/Razogarz/PycharmProjects/airport-controller/rivalAgents/valid/images/022614_jpg.rf.82b44a9027b289da0c1f30ab14e54c5b.jpg: 416x416 (no detections), 13.1ms\n",
      "image 476/1766 /mnt/c/Users/Razogarz/PycharmProjects/airport-controller/rivalAgents/valid/images/022630_jpg.rf.6d01f448e566d83405b933012acc93c3.jpg: 416x416 1 0, 9.0ms\n",
      "image 477/1766 /mnt/c/Users/Razogarz/PycharmProjects/airport-controller/rivalAgents/valid/images/022638_jpg.rf.bbe29838fbb3e8f27b72793b300f6cd7.jpg: 416x416 1 0, 8.4ms\n",
      "image 478/1766 /mnt/c/Users/Razogarz/PycharmProjects/airport-controller/rivalAgents/valid/images/022671_jpg.rf.18ffddb052c5ee07284e645a2e18eb77.jpg: 416x416 1 0, 14.1ms\n",
      "image 479/1766 /mnt/c/Users/Razogarz/PycharmProjects/airport-controller/rivalAgents/valid/images/022678_jpg.rf.1c1f8a97a34d9e99793981b2aa9afe09.jpg: 416x416 1 0, 12.4ms\n",
      "image 480/1766 /mnt/c/Users/Razogarz/PycharmProjects/airport-controller/rivalAgents/valid/images/022828_jpg.rf.fa87a265e2e6c5f283639dbe470016eb.jpg: 416x416 (no detections), 16.1ms\n",
      "image 481/1766 /mnt/c/Users/Razogarz/PycharmProjects/airport-controller/rivalAgents/valid/images/022834_jpg.rf.d6b7b37617a416888c0f64b7fe46f31f.jpg: 416x416 (no detections), 12.0ms\n",
      "image 482/1766 /mnt/c/Users/Razogarz/PycharmProjects/airport-controller/rivalAgents/valid/images/022838_jpg.rf.f062856b9d6397b1e6356eb875361c8d.jpg: 416x416 2 0s, 12.6ms\n",
      "image 483/1766 /mnt/c/Users/Razogarz/PycharmProjects/airport-controller/rivalAgents/valid/images/022867_jpg.rf.5a971dd995973d28082ad74fbdac48df.jpg: 416x416 (no detections), 11.1ms\n",
      "image 484/1766 /mnt/c/Users/Razogarz/PycharmProjects/airport-controller/rivalAgents/valid/images/022986_jpg.rf.5595b0ef01406f72e79c242faa1d43e3.jpg: 416x416 1 0, 13.2ms\n",
      "image 485/1766 /mnt/c/Users/Razogarz/PycharmProjects/airport-controller/rivalAgents/valid/images/023019_jpg.rf.4bcdb25fba83233858a04346cb76e92a.jpg: 416x416 1 0, 16.6ms\n",
      "image 486/1766 /mnt/c/Users/Razogarz/PycharmProjects/airport-controller/rivalAgents/valid/images/023065_jpg.rf.2b2a99921698630a2b299710dce59833.jpg: 416x416 (no detections), 7.2ms\n",
      "image 487/1766 /mnt/c/Users/Razogarz/PycharmProjects/airport-controller/rivalAgents/valid/images/023120_jpg.rf.3696b9852728145c84ec892ccd4a78ee.jpg: 416x416 1 0, 19.9ms\n",
      "image 488/1766 /mnt/c/Users/Razogarz/PycharmProjects/airport-controller/rivalAgents/valid/images/023172_jpg.rf.6ee730a2d02eca3c0c78e7d6b5b717b2.jpg: 416x416 2 0s, 15.9ms\n",
      "image 489/1766 /mnt/c/Users/Razogarz/PycharmProjects/airport-controller/rivalAgents/valid/images/023197_jpg.rf.b2dcd4a33c6d480148b64e027c3afe10.jpg: 416x416 1 0, 13.8ms\n",
      "image 490/1766 /mnt/c/Users/Razogarz/PycharmProjects/airport-controller/rivalAgents/valid/images/023204_jpg.rf.dbe1233ab898b90c4a7626e11ec0b4e9.jpg: 416x416 1 0, 1 1, 12.8ms\n",
      "image 491/1766 /mnt/c/Users/Razogarz/PycharmProjects/airport-controller/rivalAgents/valid/images/023222_jpg.rf.1cc93e41ce35b8b593272ae652e5fcf4.jpg: 416x416 (no detections), 16.7ms\n",
      "image 492/1766 /mnt/c/Users/Razogarz/PycharmProjects/airport-controller/rivalAgents/valid/images/023251_jpg.rf.c31ef479f60a2883177e0d7681eb701f.jpg: 416x416 1 0, 25.9ms\n",
      "image 493/1766 /mnt/c/Users/Razogarz/PycharmProjects/airport-controller/rivalAgents/valid/images/023262_jpg.rf.e53f596af75344a62272652c29d53606.jpg: 416x416 1 0, 1 1, 16.6ms\n",
      "image 494/1766 /mnt/c/Users/Razogarz/PycharmProjects/airport-controller/rivalAgents/valid/images/023265_jpg.rf.b806e58954cd56a1302bbb48335abd66.jpg: 416x416 (no detections), 15.8ms\n",
      "image 495/1766 /mnt/c/Users/Razogarz/PycharmProjects/airport-controller/rivalAgents/valid/images/023271_jpg.rf.97c5ba09bd9fe190901e2a6fa2d614b2.jpg: 416x416 1 0, 11.0ms\n",
      "image 496/1766 /mnt/c/Users/Razogarz/PycharmProjects/airport-controller/rivalAgents/valid/images/023316_jpg.rf.b5df6b03875c2c3621c0c82eafe66062.jpg: 416x416 (no detections), 13.4ms\n",
      "image 497/1766 /mnt/c/Users/Razogarz/PycharmProjects/airport-controller/rivalAgents/valid/images/023334_jpg.rf.fd5fac64101f8e406efbdd5c29807d67.jpg: 416x416 (no detections), 25.9ms\n",
      "image 498/1766 /mnt/c/Users/Razogarz/PycharmProjects/airport-controller/rivalAgents/valid/images/023346_jpg.rf.ffcfffb33771afaec7e02adc520f4f44.jpg: 416x416 1 0, 1 1, 16.2ms\n",
      "image 499/1766 /mnt/c/Users/Razogarz/PycharmProjects/airport-controller/rivalAgents/valid/images/023431_jpg.rf.ce1f2398534be33a57251d20d1a91bda.jpg: 416x416 1 0, 15.8ms\n",
      "image 500/1766 /mnt/c/Users/Razogarz/PycharmProjects/airport-controller/rivalAgents/valid/images/023447_jpg.rf.eb495465ad6db8bc36781f1b10543f2d.jpg: 416x416 (no detections), 19.2ms\n",
      "image 501/1766 /mnt/c/Users/Razogarz/PycharmProjects/airport-controller/rivalAgents/valid/images/023448_jpg.rf.8e748e3e0f35839c783847c04951b286.jpg: 416x416 1 0, 18.3ms\n",
      "image 502/1766 /mnt/c/Users/Razogarz/PycharmProjects/airport-controller/rivalAgents/valid/images/023453_jpg.rf.f408fe0ef81b317386acb12d6e20a8f0.jpg: 416x416 2 0s, 11.7ms\n",
      "image 503/1766 /mnt/c/Users/Razogarz/PycharmProjects/airport-controller/rivalAgents/valid/images/023494_jpg.rf.12de562ad1ac288bbb23b84ac1a4c3d6.jpg: 416x416 1 0, 13.5ms\n",
      "image 504/1766 /mnt/c/Users/Razogarz/PycharmProjects/airport-controller/rivalAgents/valid/images/023513_jpg.rf.623012e5db455ff6cf641153f13f58d0.jpg: 416x416 1 0, 12.5ms\n",
      "image 505/1766 /mnt/c/Users/Razogarz/PycharmProjects/airport-controller/rivalAgents/valid/images/023519_jpg.rf.9e7ff504535be6970a0042dad89ddc70.jpg: 416x416 1 0, 7.0ms\n",
      "image 506/1766 /mnt/c/Users/Razogarz/PycharmProjects/airport-controller/rivalAgents/valid/images/023531_jpg.rf.be8053779938deef7506d27c6efaf986.jpg: 416x416 1 0, 16.2ms\n",
      "image 507/1766 /mnt/c/Users/Razogarz/PycharmProjects/airport-controller/rivalAgents/valid/images/023577_jpg.rf.9e1ae50bbc6246f9876f4b0ecbb6715d.jpg: 416x416 (no detections), 8.7ms\n",
      "image 508/1766 /mnt/c/Users/Razogarz/PycharmProjects/airport-controller/rivalAgents/valid/images/023656_jpg.rf.49480ef7ce364989c152341568e29bb0.jpg: 416x416 (no detections), 15.9ms\n",
      "image 509/1766 /mnt/c/Users/Razogarz/PycharmProjects/airport-controller/rivalAgents/valid/images/023659_jpg.rf.660797bdb3b356ec485c0d8700b4c0b1.jpg: 416x416 (no detections), 13.2ms\n",
      "image 510/1766 /mnt/c/Users/Razogarz/PycharmProjects/airport-controller/rivalAgents/valid/images/023668_jpg.rf.0560ff7920f83ff42861a27a7558b52f.jpg: 416x416 1 1, 9.3ms\n",
      "image 511/1766 /mnt/c/Users/Razogarz/PycharmProjects/airport-controller/rivalAgents/valid/images/023769_jpg.rf.c9484f54518f08dcb8eb496d8d5808a2.jpg: 416x416 1 0, 13.3ms\n",
      "image 512/1766 /mnt/c/Users/Razogarz/PycharmProjects/airport-controller/rivalAgents/valid/images/023770_jpg.rf.2a4b4d00fabc3ad3665340e0fc9d5d97.jpg: 416x416 1 0, 9.7ms\n",
      "image 513/1766 /mnt/c/Users/Razogarz/PycharmProjects/airport-controller/rivalAgents/valid/images/023771_jpg.rf.548928c4f845465b0f54882061acd052.jpg: 416x416 1 0, 12.7ms\n",
      "image 514/1766 /mnt/c/Users/Razogarz/PycharmProjects/airport-controller/rivalAgents/valid/images/023778_jpg.rf.dc77c826214421bab0b1b2f9e4179718.jpg: 416x416 (no detections), 9.6ms\n",
      "image 515/1766 /mnt/c/Users/Razogarz/PycharmProjects/airport-controller/rivalAgents/valid/images/023780_jpg.rf.3ce3ef64cd0705b9fa0050add185b02c.jpg: 416x416 (no detections), 14.0ms\n",
      "image 516/1766 /mnt/c/Users/Razogarz/PycharmProjects/airport-controller/rivalAgents/valid/images/023781_jpg.rf.54e0e59be58dcccd88b58919a59475b6.jpg: 416x416 1 0, 1 1, 12.8ms\n",
      "image 517/1766 /mnt/c/Users/Razogarz/PycharmProjects/airport-controller/rivalAgents/valid/images/023822_jpg.rf.672edf6556ba68a7b574d0d436d341af.jpg: 416x416 1 0, 13.4ms\n",
      "image 518/1766 /mnt/c/Users/Razogarz/PycharmProjects/airport-controller/rivalAgents/valid/images/023881_jpg.rf.f1a4383dbad63cee5b07cd145cbb6be7.jpg: 416x416 2 0s, 20.5ms\n",
      "image 519/1766 /mnt/c/Users/Razogarz/PycharmProjects/airport-controller/rivalAgents/valid/images/023889_jpg.rf.16d2c78cd0ad2ea0538b2aa599b8668b.jpg: 416x416 1 1, 8.0ms\n",
      "image 520/1766 /mnt/c/Users/Razogarz/PycharmProjects/airport-controller/rivalAgents/valid/images/023905_jpg.rf.7ebe153771f860fef80397a5f5f41eba.jpg: 416x416 1 1, 8.5ms\n",
      "image 521/1766 /mnt/c/Users/Razogarz/PycharmProjects/airport-controller/rivalAgents/valid/images/023939_jpg.rf.60cac095818c8ecd85ba48fa684594d8.jpg: 416x416 2 0s, 8.0ms\n",
      "image 522/1766 /mnt/c/Users/Razogarz/PycharmProjects/airport-controller/rivalAgents/valid/images/023943_jpg.rf.65ea7ac9fce6b7241fbc0f87ac60b65f.jpg: 416x416 1 0, 7.8ms\n",
      "image 523/1766 /mnt/c/Users/Razogarz/PycharmProjects/airport-controller/rivalAgents/valid/images/023954_jpg.rf.c95c042bea306b072506827d3556e60c.jpg: 416x416 1 0, 7.6ms\n",
      "image 524/1766 /mnt/c/Users/Razogarz/PycharmProjects/airport-controller/rivalAgents/valid/images/023975_jpg.rf.a200d52f9fd2a5e751624e239942a2ca.jpg: 416x416 1 0, 12.2ms\n",
      "image 525/1766 /mnt/c/Users/Razogarz/PycharmProjects/airport-controller/rivalAgents/valid/images/024090_jpg.rf.5298d5d23f10867eb1564c7b341c7d92.jpg: 416x416 2 0s, 9.0ms\n",
      "image 526/1766 /mnt/c/Users/Razogarz/PycharmProjects/airport-controller/rivalAgents/valid/images/024097_jpg.rf.b8cedd914c55a3186a00838e523a4c06.jpg: 416x416 2 0s, 1 1, 13.2ms\n",
      "image 527/1766 /mnt/c/Users/Razogarz/PycharmProjects/airport-controller/rivalAgents/valid/images/024108_jpg.rf.f5b0a0fcb14bae72e0090a48ec3d8a1c.jpg: 416x416 1 0, 28.6ms\n",
      "image 528/1766 /mnt/c/Users/Razogarz/PycharmProjects/airport-controller/rivalAgents/valid/images/024138_jpg.rf.fee402e6ffb597b5a793849ddff0d673.jpg: 416x416 1 0, 20.7ms\n",
      "image 529/1766 /mnt/c/Users/Razogarz/PycharmProjects/airport-controller/rivalAgents/valid/images/024154_jpg.rf.c051483bd052cd9e121477816d7d27fa.jpg: 416x416 1 0, 15.0ms\n",
      "image 530/1766 /mnt/c/Users/Razogarz/PycharmProjects/airport-controller/rivalAgents/valid/images/024211_jpg.rf.d62686cfd0e8db1083cac83767875e11.jpg: 416x416 (no detections), 18.0ms\n",
      "image 531/1766 /mnt/c/Users/Razogarz/PycharmProjects/airport-controller/rivalAgents/valid/images/024214_jpg.rf.3f277d31e541eb28cfd0451e9e3692de.jpg: 416x416 1 0, 14.6ms\n",
      "image 532/1766 /mnt/c/Users/Razogarz/PycharmProjects/airport-controller/rivalAgents/valid/images/024252_jpg.rf.75b72c281da22b2486c36b3a838ec639.jpg: 416x416 2 0s, 1 4, 9.6ms\n",
      "image 533/1766 /mnt/c/Users/Razogarz/PycharmProjects/airport-controller/rivalAgents/valid/images/024262_jpg.rf.263759ee55c74128dc944c217879205c.jpg: 416x416 1 0, 9.9ms\n",
      "image 534/1766 /mnt/c/Users/Razogarz/PycharmProjects/airport-controller/rivalAgents/valid/images/024267_jpg.rf.169e89146800a12813f6fbb9b70812c2.jpg: 416x416 1 0, 7.9ms\n",
      "image 535/1766 /mnt/c/Users/Razogarz/PycharmProjects/airport-controller/rivalAgents/valid/images/024312_jpg.rf.a9360186c3645cef0a98256a20beb7e3.jpg: 416x416 1 0, 11.3ms\n",
      "image 536/1766 /mnt/c/Users/Razogarz/PycharmProjects/airport-controller/rivalAgents/valid/images/024313_jpg.rf.0659c252c7d0efd02f6202e74e37ff30.jpg: 416x416 1 0, 18.0ms\n",
      "image 537/1766 /mnt/c/Users/Razogarz/PycharmProjects/airport-controller/rivalAgents/valid/images/024317_jpg.rf.8ece633428398a4b01145239947a3242.jpg: 416x416 1 0, 7.2ms\n",
      "image 538/1766 /mnt/c/Users/Razogarz/PycharmProjects/airport-controller/rivalAgents/valid/images/024334_jpg.rf.3f68b1b44010f3236a370f759937ae97.jpg: 416x416 1 0, 10.2ms\n",
      "image 539/1766 /mnt/c/Users/Razogarz/PycharmProjects/airport-controller/rivalAgents/valid/images/024344_jpg.rf.36da9ad604fae7389a6c777249c70e92.jpg: 416x416 1 0, 7.1ms\n",
      "image 540/1766 /mnt/c/Users/Razogarz/PycharmProjects/airport-controller/rivalAgents/valid/images/024369_jpg.rf.e8f06e7e1fcd05c5d13066c90433ccb3.jpg: 416x416 (no detections), 24.0ms\n",
      "image 541/1766 /mnt/c/Users/Razogarz/PycharmProjects/airport-controller/rivalAgents/valid/images/024415_jpg.rf.dbc17dacf4af4c18377e238479b2a89c.jpg: 416x416 (no detections), 14.0ms\n",
      "image 542/1766 /mnt/c/Users/Razogarz/PycharmProjects/airport-controller/rivalAgents/valid/images/024417_jpg.rf.36a575fe3895d80385fe53a982da6952.jpg: 416x416 (no detections), 19.1ms\n",
      "image 543/1766 /mnt/c/Users/Razogarz/PycharmProjects/airport-controller/rivalAgents/valid/images/024433_jpg.rf.7729a2ce7ad8981f1946ec78d38ca36e.jpg: 416x416 (no detections), 22.5ms\n",
      "image 544/1766 /mnt/c/Users/Razogarz/PycharmProjects/airport-controller/rivalAgents/valid/images/024484_jpg.rf.fba3f947cd6981414548e98f0d0737a3.jpg: 416x416 1 0, 23.0ms\n",
      "image 545/1766 /mnt/c/Users/Razogarz/PycharmProjects/airport-controller/rivalAgents/valid/images/024495_jpg.rf.e5e4e01697f87327019955287954c574.jpg: 416x416 1 0, 2 1s, 22.5ms\n",
      "image 546/1766 /mnt/c/Users/Razogarz/PycharmProjects/airport-controller/rivalAgents/valid/images/024514_jpg.rf.68ba2def90b7c09118e70500be31c8fb.jpg: 416x416 1 0, 19.5ms\n",
      "image 547/1766 /mnt/c/Users/Razogarz/PycharmProjects/airport-controller/rivalAgents/valid/images/024530_jpg.rf.e78c701431b5d6e9daaf27ef99b4d517.jpg: 416x416 (no detections), 24.6ms\n",
      "image 548/1766 /mnt/c/Users/Razogarz/PycharmProjects/airport-controller/rivalAgents/valid/images/024532_jpg.rf.402a9d018c533e3925142abbd49a7767.jpg: 416x416 1 0, 15.8ms\n",
      "image 549/1766 /mnt/c/Users/Razogarz/PycharmProjects/airport-controller/rivalAgents/valid/images/024546_jpg.rf.3c54794084a5383d926c6e107b58ce0a.jpg: 416x416 2 0s, 11.4ms\n",
      "image 550/1766 /mnt/c/Users/Razogarz/PycharmProjects/airport-controller/rivalAgents/valid/images/024646_jpg.rf.95ded4ce7849c923277a8908808c61f5.jpg: 416x416 2 0s, 15.1ms\n",
      "image 551/1766 /mnt/c/Users/Razogarz/PycharmProjects/airport-controller/rivalAgents/valid/images/024656_jpg.rf.37ae7ad67b6ed69811e4cfc1c5cfd012.jpg: 416x416 (no detections), 15.2ms\n",
      "image 552/1766 /mnt/c/Users/Razogarz/PycharmProjects/airport-controller/rivalAgents/valid/images/024709_jpg.rf.61ff23a4c0d1d15c6755ce6c1a4b5b3d.jpg: 416x416 1 0, 17.1ms\n",
      "image 553/1766 /mnt/c/Users/Razogarz/PycharmProjects/airport-controller/rivalAgents/valid/images/024736_jpg.rf.0b2a8072244aac64581539ef74473465.jpg: 416x416 (no detections), 17.4ms\n",
      "image 554/1766 /mnt/c/Users/Razogarz/PycharmProjects/airport-controller/rivalAgents/valid/images/024748_jpg.rf.b43331c782ccfba7e52e2a4441bb4d06.jpg: 416x416 1 0, 13.6ms\n",
      "image 555/1766 /mnt/c/Users/Razogarz/PycharmProjects/airport-controller/rivalAgents/valid/images/024753_jpg.rf.77f3796d56b989f745d994a375d7a375.jpg: 416x416 (no detections), 16.9ms\n",
      "image 556/1766 /mnt/c/Users/Razogarz/PycharmProjects/airport-controller/rivalAgents/valid/images/024770_jpg.rf.4b54ca24dc3d3d9aff16e6a06c7491ed.jpg: 416x416 (no detections), 19.3ms\n",
      "image 557/1766 /mnt/c/Users/Razogarz/PycharmProjects/airport-controller/rivalAgents/valid/images/024802_jpg.rf.77273c17d53cf953dfb3949372765b65.jpg: 416x416 (no detections), 26.8ms\n",
      "image 558/1766 /mnt/c/Users/Razogarz/PycharmProjects/airport-controller/rivalAgents/valid/images/024806_jpg.rf.be31d12b049c7d6f26a6c1902db1c8ce.jpg: 416x416 (no detections), 7.4ms\n",
      "image 559/1766 /mnt/c/Users/Razogarz/PycharmProjects/airport-controller/rivalAgents/valid/images/024816_jpg.rf.b7625743073c3bbca6081cd7f5135c63.jpg: 416x416 1 0, 14.8ms\n",
      "image 560/1766 /mnt/c/Users/Razogarz/PycharmProjects/airport-controller/rivalAgents/valid/images/024821_jpg.rf.d63193491e192784701e5030fe7f1c28.jpg: 416x416 1 0, 10.4ms\n",
      "image 561/1766 /mnt/c/Users/Razogarz/PycharmProjects/airport-controller/rivalAgents/valid/images/024861_jpg.rf.52afee03091ae1c6ea9fc03fe53cdfcc.jpg: 416x416 1 0, 22.4ms\n",
      "image 562/1766 /mnt/c/Users/Razogarz/PycharmProjects/airport-controller/rivalAgents/valid/images/024866_jpg.rf.4ce922c69e83ec8dd83d0c63e45b576d.jpg: 416x416 1 0, 16.7ms\n",
      "image 563/1766 /mnt/c/Users/Razogarz/PycharmProjects/airport-controller/rivalAgents/valid/images/024867_jpg.rf.38721d4d09b1c4a81cf95988db94e8f0.jpg: 416x416 1 0, 8.6ms\n",
      "image 564/1766 /mnt/c/Users/Razogarz/PycharmProjects/airport-controller/rivalAgents/valid/images/024881_jpg.rf.54ca02868ff79533ed60e088550a55e4.jpg: 416x416 2 0s, 20.8ms\n",
      "image 565/1766 /mnt/c/Users/Razogarz/PycharmProjects/airport-controller/rivalAgents/valid/images/024893_jpg.rf.b18c9c42c9c26cfac68ac5635d3c79f6.jpg: 416x416 (no detections), 14.8ms\n",
      "image 566/1766 /mnt/c/Users/Razogarz/PycharmProjects/airport-controller/rivalAgents/valid/images/024897_jpg.rf.43128c0c68410f0e88f6df2f3857a88e.jpg: 416x416 1 0, 20.3ms\n",
      "image 567/1766 /mnt/c/Users/Razogarz/PycharmProjects/airport-controller/rivalAgents/valid/images/024921_jpg.rf.b119401654628d4654e56d4eb280647d.jpg: 416x416 (no detections), 16.0ms\n",
      "image 568/1766 /mnt/c/Users/Razogarz/PycharmProjects/airport-controller/rivalAgents/valid/images/024938_jpg.rf.8e090c3d6f64b2cdd126cdade170dccc.jpg: 416x416 (no detections), 16.1ms\n",
      "image 569/1766 /mnt/c/Users/Razogarz/PycharmProjects/airport-controller/rivalAgents/valid/images/024948_jpg.rf.ba5962a4be1cec68e168bcb332a15bcc.jpg: 416x416 (no detections), 12.8ms\n",
      "image 570/1766 /mnt/c/Users/Razogarz/PycharmProjects/airport-controller/rivalAgents/valid/images/024959_jpg.rf.e2f50073ed829f33583885c3595acb3f.jpg: 416x416 2 0s, 19.2ms\n",
      "image 571/1766 /mnt/c/Users/Razogarz/PycharmProjects/airport-controller/rivalAgents/valid/images/024977_jpg.rf.aed708697687dbe289c9ffd1d391ec5f.jpg: 416x416 (no detections), 22.1ms\n",
      "image 572/1766 /mnt/c/Users/Razogarz/PycharmProjects/airport-controller/rivalAgents/valid/images/024980_jpg.rf.32b565d9284eef2d39676848fb4e9dc2.jpg: 416x416 1 0, 20.6ms\n",
      "image 573/1766 /mnt/c/Users/Razogarz/PycharmProjects/airport-controller/rivalAgents/valid/images/024996_jpg.rf.a9ba360cb61d9cab36719933e817f213.jpg: 416x416 1 0, 12.5ms\n",
      "image 574/1766 /mnt/c/Users/Razogarz/PycharmProjects/airport-controller/rivalAgents/valid/images/025002_jpg.rf.535ba8b66a1571885ea7a3c14678febd.jpg: 416x416 1 0, 1 1, 10.2ms\n",
      "image 575/1766 /mnt/c/Users/Razogarz/PycharmProjects/airport-controller/rivalAgents/valid/images/025025_jpg.rf.aa33276ae08ec2c1d822e1479cfecffe.jpg: 416x416 1 0, 15.1ms\n",
      "image 576/1766 /mnt/c/Users/Razogarz/PycharmProjects/airport-controller/rivalAgents/valid/images/025053_jpg.rf.b68c0b1096e11944034fc3c74ae86702.jpg: 416x416 2 0s, 18.5ms\n",
      "image 577/1766 /mnt/c/Users/Razogarz/PycharmProjects/airport-controller/rivalAgents/valid/images/025084_jpg.rf.5a7285c5561f160ee7b237bec8c8d2b0.jpg: 416x416 1 0, 20.1ms\n",
      "image 578/1766 /mnt/c/Users/Razogarz/PycharmProjects/airport-controller/rivalAgents/valid/images/025086_jpg.rf.0617748f38f36bd7b491fabbb16bde7b.jpg: 416x416 1 0, 6.9ms\n",
      "image 579/1766 /mnt/c/Users/Razogarz/PycharmProjects/airport-controller/rivalAgents/valid/images/025110_jpg.rf.1cd245b824076482c2b88016f0031852.jpg: 416x416 1 0, 12.9ms\n",
      "image 580/1766 /mnt/c/Users/Razogarz/PycharmProjects/airport-controller/rivalAgents/valid/images/025179_jpg.rf.57b6fb991262fc7d532a2f7598f79bbe.jpg: 416x416 1 0, 6.9ms\n",
      "image 581/1766 /mnt/c/Users/Razogarz/PycharmProjects/airport-controller/rivalAgents/valid/images/025197_jpg.rf.a7ac98c122ed2f7a0d9190fb05d50d90.jpg: 416x416 1 0, 8.4ms\n",
      "image 582/1766 /mnt/c/Users/Razogarz/PycharmProjects/airport-controller/rivalAgents/valid/images/025241_jpg.rf.44733584d63984cc27dfe2ae5e3efb85.jpg: 416x416 (no detections), 6.9ms\n",
      "image 583/1766 /mnt/c/Users/Razogarz/PycharmProjects/airport-controller/rivalAgents/valid/images/025313_jpg.rf.3162ea49b97711391113a606e7a3dd15.jpg: 416x416 (no detections), 10.4ms\n",
      "image 584/1766 /mnt/c/Users/Razogarz/PycharmProjects/airport-controller/rivalAgents/valid/images/025316_jpg.rf.9920bf40093d211082c886efb2692b37.jpg: 416x416 1 0, 9.5ms\n",
      "image 585/1766 /mnt/c/Users/Razogarz/PycharmProjects/airport-controller/rivalAgents/valid/images/025339_jpg.rf.f35d689168e46da43457655a8e75fc3a.jpg: 416x416 (no detections), 7.9ms\n",
      "image 586/1766 /mnt/c/Users/Razogarz/PycharmProjects/airport-controller/rivalAgents/valid/images/025354_jpg.rf.d7e966fa51720bc3dea7b5ac5fcaeed9.jpg: 416x416 (no detections), 19.3ms\n",
      "image 587/1766 /mnt/c/Users/Razogarz/PycharmProjects/airport-controller/rivalAgents/valid/images/025365_jpg.rf.7c081326b4c2b19fa43258c79d44bf93.jpg: 416x416 2 0s, 18.7ms\n",
      "image 588/1766 /mnt/c/Users/Razogarz/PycharmProjects/airport-controller/rivalAgents/valid/images/025381_jpg.rf.ae4f1723d252b8341deb753a40425fb0.jpg: 416x416 2 0s, 6.6ms\n",
      "image 589/1766 /mnt/c/Users/Razogarz/PycharmProjects/airport-controller/rivalAgents/valid/images/025402_jpg.rf.b2611af890a205de6efac6c19011bc78.jpg: 416x416 (no detections), 18.3ms\n",
      "image 590/1766 /mnt/c/Users/Razogarz/PycharmProjects/airport-controller/rivalAgents/valid/images/025443_jpg.rf.a4b6b44f3358a5a27afcc030279aa601.jpg: 416x416 1 4, 22.8ms\n",
      "image 591/1766 /mnt/c/Users/Razogarz/PycharmProjects/airport-controller/rivalAgents/valid/images/025505_jpg.rf.cd9ce99efe54e6b802567d86d05a46a7.jpg: 416x416 1 0, 19.6ms\n",
      "image 592/1766 /mnt/c/Users/Razogarz/PycharmProjects/airport-controller/rivalAgents/valid/images/025516_jpg.rf.1ffe28781a7f63fe2b01f29fc075febc.jpg: 416x416 1 0, 1 1, 10.8ms\n",
      "image 593/1766 /mnt/c/Users/Razogarz/PycharmProjects/airport-controller/rivalAgents/valid/images/025532_jpg.rf.c5c5e50436540932467bdc19f7e3e74d.jpg: 416x416 1 1, 13.1ms\n",
      "image 594/1766 /mnt/c/Users/Razogarz/PycharmProjects/airport-controller/rivalAgents/valid/images/025556_jpg.rf.a8d897475cc9d9aad942ce3fe8bfde4f.jpg: 416x416 (no detections), 19.6ms\n",
      "image 595/1766 /mnt/c/Users/Razogarz/PycharmProjects/airport-controller/rivalAgents/valid/images/025579_jpg.rf.d09f4aebc65e2db30a98273fd29ca2c4.jpg: 416x416 (no detections), 7.4ms\n",
      "image 596/1766 /mnt/c/Users/Razogarz/PycharmProjects/airport-controller/rivalAgents/valid/images/025584_jpg.rf.121c41d5eebab275495af96f55c9f92d.jpg: 416x416 (no detections), 6.9ms\n",
      "image 597/1766 /mnt/c/Users/Razogarz/PycharmProjects/airport-controller/rivalAgents/valid/images/025603_jpg.rf.b84d35d202856fe7012700c7ab8bb686.jpg: 416x416 1 0, 14.7ms\n",
      "image 598/1766 /mnt/c/Users/Razogarz/PycharmProjects/airport-controller/rivalAgents/valid/images/025631_jpg.rf.52df8def5c43b9be09cb7e7b0270b6f8.jpg: 416x416 1 0, 11.0ms\n",
      "image 599/1766 /mnt/c/Users/Razogarz/PycharmProjects/airport-controller/rivalAgents/valid/images/025648_jpg.rf.dbee46c1beebf5722e4f2cfa00365bb1.jpg: 416x416 (no detections), 12.2ms\n",
      "image 600/1766 /mnt/c/Users/Razogarz/PycharmProjects/airport-controller/rivalAgents/valid/images/025650_jpg.rf.b841fcfd188c52c6ffbdfb96fce0bf87.jpg: 416x416 1 0, 15.5ms\n",
      "image 601/1766 /mnt/c/Users/Razogarz/PycharmProjects/airport-controller/rivalAgents/valid/images/025660_jpg.rf.1f0e973f56d30d03546ab8b2932a9436.jpg: 416x416 (no detections), 6.7ms\n",
      "image 602/1766 /mnt/c/Users/Razogarz/PycharmProjects/airport-controller/rivalAgents/valid/images/025668_jpg.rf.36760663ed6a0002627f243202fc6734.jpg: 416x416 (no detections), 14.7ms\n",
      "image 603/1766 /mnt/c/Users/Razogarz/PycharmProjects/airport-controller/rivalAgents/valid/images/025722_jpg.rf.8d6de3996029196bf96b83f55377efc7.jpg: 416x416 1 0, 13.6ms\n",
      "image 604/1766 /mnt/c/Users/Razogarz/PycharmProjects/airport-controller/rivalAgents/valid/images/025753_jpg.rf.15701b9572e5eb542dfd0f2cb03ce011.jpg: 416x416 (no detections), 13.5ms\n",
      "image 605/1766 /mnt/c/Users/Razogarz/PycharmProjects/airport-controller/rivalAgents/valid/images/025763_jpg.rf.06384e6d67d75238bf33f1c8d2504390.jpg: 416x416 (no detections), 9.6ms\n",
      "image 606/1766 /mnt/c/Users/Razogarz/PycharmProjects/airport-controller/rivalAgents/valid/images/025764_jpg.rf.0c24b2b118ee6787bd659fe7eb099de7.jpg: 416x416 1 0, 13.6ms\n",
      "image 607/1766 /mnt/c/Users/Razogarz/PycharmProjects/airport-controller/rivalAgents/valid/images/025787_jpg.rf.dc0996d4cc3a4effd2a50ba27dcbacbd.jpg: 416x416 (no detections), 14.2ms\n",
      "image 608/1766 /mnt/c/Users/Razogarz/PycharmProjects/airport-controller/rivalAgents/valid/images/025816_jpg.rf.4d4f1268b6e56e1f2f919faf93defeac.jpg: 416x416 1 0, 10.1ms\n",
      "image 609/1766 /mnt/c/Users/Razogarz/PycharmProjects/airport-controller/rivalAgents/valid/images/025822_jpg.rf.a295c10ca25e1686cf076ac4b7b0833f.jpg: 416x416 (no detections), 17.5ms\n",
      "image 610/1766 /mnt/c/Users/Razogarz/PycharmProjects/airport-controller/rivalAgents/valid/images/025843_jpg.rf.3c4167215db190f1044ea165c9cbdf33.jpg: 416x416 1 0, 16.2ms\n",
      "image 611/1766 /mnt/c/Users/Razogarz/PycharmProjects/airport-controller/rivalAgents/valid/images/025860_jpg.rf.6eeb0263af0f1b32d9ad5f1bb8aa9c6d.jpg: 416x416 (no detections), 17.0ms\n",
      "image 612/1766 /mnt/c/Users/Razogarz/PycharmProjects/airport-controller/rivalAgents/valid/images/025870_jpg.rf.a90c3f23356b2d68e64e6cb9273b2247.jpg: 416x416 1 4, 12.4ms\n",
      "image 613/1766 /mnt/c/Users/Razogarz/PycharmProjects/airport-controller/rivalAgents/valid/images/025892_jpg.rf.7f073ab5f4654f37b564aa09c8082c5b.jpg: 416x416 1 0, 13.1ms\n",
      "image 614/1766 /mnt/c/Users/Razogarz/PycharmProjects/airport-controller/rivalAgents/valid/images/025921_jpg.rf.10c2058c789eb4dcef0c91ff4f84ab0d.jpg: 416x416 (no detections), 13.8ms\n",
      "image 615/1766 /mnt/c/Users/Razogarz/PycharmProjects/airport-controller/rivalAgents/valid/images/025979_jpg.rf.caceb229cd5a18451f93bccf4be240e2.jpg: 416x416 (no detections), 13.0ms\n",
      "image 616/1766 /mnt/c/Users/Razogarz/PycharmProjects/airport-controller/rivalAgents/valid/images/026042_jpg.rf.efca45253dec681e4fa47f4852e08359.jpg: 416x416 1 3, 7.0ms\n",
      "image 617/1766 /mnt/c/Users/Razogarz/PycharmProjects/airport-controller/rivalAgents/valid/images/026070_jpg.rf.33e3458d6dbb05498b92c2fadab8d666.jpg: 416x416 2 3s, 12.8ms\n",
      "image 618/1766 /mnt/c/Users/Razogarz/PycharmProjects/airport-controller/rivalAgents/valid/images/026071_jpg.rf.096c40d89390c46cd398f56050e09e96.jpg: 416x416 (no detections), 13.1ms\n",
      "image 619/1766 /mnt/c/Users/Razogarz/PycharmProjects/airport-controller/rivalAgents/valid/images/026087_jpg.rf.459614dc4c1da10fb1d1f2fe9ad1d5c5.jpg: 416x416 (no detections), 9.6ms\n",
      "image 620/1766 /mnt/c/Users/Razogarz/PycharmProjects/airport-controller/rivalAgents/valid/images/026092_jpg.rf.baf7d40d2472127f5486a261643d4ab3.jpg: 416x416 (no detections), 12.6ms\n",
      "image 621/1766 /mnt/c/Users/Razogarz/PycharmProjects/airport-controller/rivalAgents/valid/images/026102_jpg.rf.41dad50f4d1a0e57ee69763ff7db26e4.jpg: 416x416 1 4, 7.1ms\n",
      "image 622/1766 /mnt/c/Users/Razogarz/PycharmProjects/airport-controller/rivalAgents/valid/images/026119_jpg.rf.57617babcec1e5d2a572e24772f6083a.jpg: 416x416 (no detections), 6.6ms\n",
      "image 623/1766 /mnt/c/Users/Razogarz/PycharmProjects/airport-controller/rivalAgents/valid/images/026139_jpg.rf.8aec190aec36f835604ec2a99b4d6fae.jpg: 416x416 3 3s, 13.2ms\n",
      "image 624/1766 /mnt/c/Users/Razogarz/PycharmProjects/airport-controller/rivalAgents/valid/images/026147_jpg.rf.917b9a0eea9dfb193203a304e1924a15.jpg: 416x416 (no detections), 11.2ms\n",
      "image 625/1766 /mnt/c/Users/Razogarz/PycharmProjects/airport-controller/rivalAgents/valid/images/026190_jpg.rf.dccf31fe74598b8440a0e3f83b766ecd.jpg: 416x416 (no detections), 11.8ms\n",
      "image 626/1766 /mnt/c/Users/Razogarz/PycharmProjects/airport-controller/rivalAgents/valid/images/026192_jpg.rf.5280913409a3968a169d4eddb57ff3ea.jpg: 416x416 (no detections), 17.0ms\n",
      "image 627/1766 /mnt/c/Users/Razogarz/PycharmProjects/airport-controller/rivalAgents/valid/images/026196_jpg.rf.b5261a7ca19edec6d6b55efe4aaaa9f8.jpg: 416x416 (no detections), 7.5ms\n",
      "image 628/1766 /mnt/c/Users/Razogarz/PycharmProjects/airport-controller/rivalAgents/valid/images/026220_jpg.rf.8853ea2181b31bbb4bd12552d86182bc.jpg: 416x416 1 3, 13.0ms\n",
      "image 629/1766 /mnt/c/Users/Razogarz/PycharmProjects/airport-controller/rivalAgents/valid/images/026225_jpg.rf.3788688ca3845f6c5e4c3f63819f03f1.jpg: 416x416 2 4s, 9.5ms\n",
      "image 630/1766 /mnt/c/Users/Razogarz/PycharmProjects/airport-controller/rivalAgents/valid/images/026244_jpg.rf.525c729b94a91efc51b5d7480325eb92.jpg: 416x416 1 0, 12.3ms\n",
      "image 631/1766 /mnt/c/Users/Razogarz/PycharmProjects/airport-controller/rivalAgents/valid/images/026247_jpg.rf.d47a1f8514e733e7bfbcc6d28b6baa91.jpg: 416x416 1 1, 12.5ms\n",
      "image 632/1766 /mnt/c/Users/Razogarz/PycharmProjects/airport-controller/rivalAgents/valid/images/026250_jpg.rf.b6804168df43dcd4bc54e18e5a44c623.jpg: 416x416 1 1, 7.6ms\n",
      "image 633/1766 /mnt/c/Users/Razogarz/PycharmProjects/airport-controller/rivalAgents/valid/images/026260_jpg.rf.da118db8b9956275fe0fc045a2055848.jpg: 416x416 1 3, 13.1ms\n",
      "image 634/1766 /mnt/c/Users/Razogarz/PycharmProjects/airport-controller/rivalAgents/valid/images/026263_jpg.rf.e250f957ad03502f0ee8c9c1053a67b8.jpg: 416x416 1 1, 19.0ms\n",
      "image 635/1766 /mnt/c/Users/Razogarz/PycharmProjects/airport-controller/rivalAgents/valid/images/026315_jpg.rf.5a6f55f0d0b6e4c47db40036bc0bf522.jpg: 416x416 1 4, 13.1ms\n",
      "image 636/1766 /mnt/c/Users/Razogarz/PycharmProjects/airport-controller/rivalAgents/valid/images/026326_jpg.rf.45b14938c072a6c1e923ff02c62a66c4.jpg: 416x416 1 4, 12.8ms\n",
      "image 637/1766 /mnt/c/Users/Razogarz/PycharmProjects/airport-controller/rivalAgents/valid/images/026338_jpg.rf.743e96271ff74999805d29471b0c07c2.jpg: 416x416 (no detections), 6.9ms\n",
      "image 638/1766 /mnt/c/Users/Razogarz/PycharmProjects/airport-controller/rivalAgents/valid/images/026377_jpg.rf.a08fda7553dd2b17097479ec2557cc96.jpg: 416x416 1 1, 1 4, 14.6ms\n",
      "image 639/1766 /mnt/c/Users/Razogarz/PycharmProjects/airport-controller/rivalAgents/valid/images/026393_jpg.rf.10eb0a2b91d2e2934e557e2fb442cb2a.jpg: 416x416 (no detections), 8.8ms\n",
      "image 640/1766 /mnt/c/Users/Razogarz/PycharmProjects/airport-controller/rivalAgents/valid/images/026422_jpg.rf.e8859bb5fe1ef61d8ace62afeb2d919a.jpg: 416x416 1 1, 14.6ms\n",
      "image 641/1766 /mnt/c/Users/Razogarz/PycharmProjects/airport-controller/rivalAgents/valid/images/026426_jpg.rf.265d18474464ec9b518a620aa343be44.jpg: 416x416 (no detections), 12.3ms\n",
      "image 642/1766 /mnt/c/Users/Razogarz/PycharmProjects/airport-controller/rivalAgents/valid/images/026428_jpg.rf.7f78914eb50754df07f55df2d080ef47.jpg: 416x416 (no detections), 15.8ms\n",
      "image 643/1766 /mnt/c/Users/Razogarz/PycharmProjects/airport-controller/rivalAgents/valid/images/026437_jpg.rf.18b1d50302cb59c149df7aff5cba205a.jpg: 416x416 1 1, 18.1ms\n",
      "image 644/1766 /mnt/c/Users/Razogarz/PycharmProjects/airport-controller/rivalAgents/valid/images/026438_jpg.rf.98c1dc5a3e164121dc9ae60d9cd20c98.jpg: 416x416 1 3, 10.9ms\n",
      "image 645/1766 /mnt/c/Users/Razogarz/PycharmProjects/airport-controller/rivalAgents/valid/images/026445_jpg.rf.41dac73ae15d32f8accff5f538f28d95.jpg: 416x416 1 4, 10.6ms\n",
      "image 646/1766 /mnt/c/Users/Razogarz/PycharmProjects/airport-controller/rivalAgents/valid/images/026468_jpg.rf.59573d0ede4561f675d9af4f08bdd0de.jpg: 416x416 (no detections), 14.8ms\n",
      "image 647/1766 /mnt/c/Users/Razogarz/PycharmProjects/airport-controller/rivalAgents/valid/images/026486_jpg.rf.586099a5fadc482410b6be3ced94992d.jpg: 416x416 (no detections), 6.5ms\n",
      "image 648/1766 /mnt/c/Users/Razogarz/PycharmProjects/airport-controller/rivalAgents/valid/images/026544_jpg.rf.c66f14db1a40df3c972855c9e06d06a8.jpg: 416x416 (no detections), 17.4ms\n",
      "image 649/1766 /mnt/c/Users/Razogarz/PycharmProjects/airport-controller/rivalAgents/valid/images/026546_jpg.rf.b2a32a3bde981a6d855a6279e3e9a5bd.jpg: 416x416 1 4, 6.6ms\n",
      "image 650/1766 /mnt/c/Users/Razogarz/PycharmProjects/airport-controller/rivalAgents/valid/images/026572_jpg.rf.9189e4802d5b2eb54c3f32b85982c305.jpg: 416x416 1 1, 9.8ms\n",
      "image 651/1766 /mnt/c/Users/Razogarz/PycharmProjects/airport-controller/rivalAgents/valid/images/026585_jpg.rf.44b0b823581d41b107dc52f20a7e3b38.jpg: 416x416 1 0, 17.9ms\n",
      "image 652/1766 /mnt/c/Users/Razogarz/PycharmProjects/airport-controller/rivalAgents/valid/images/026612_jpg.rf.30f311a1ad90314169525118c8db2df9.jpg: 416x416 2 1s, 20.1ms\n",
      "image 653/1766 /mnt/c/Users/Razogarz/PycharmProjects/airport-controller/rivalAgents/valid/images/026652_jpg.rf.e579cd259f2e54a4cf7bb06a2e79ada0.jpg: 416x416 (no detections), 8.8ms\n",
      "image 654/1766 /mnt/c/Users/Razogarz/PycharmProjects/airport-controller/rivalAgents/valid/images/026672_jpg.rf.dbc7dc2518ff0bb738fac381aacdc89a.jpg: 416x416 (no detections), 7.8ms\n",
      "image 655/1766 /mnt/c/Users/Razogarz/PycharmProjects/airport-controller/rivalAgents/valid/images/026708_jpg.rf.70988adbe8c0e9408b58d0c14bac6ba0.jpg: 416x416 (no detections), 9.9ms\n",
      "image 656/1766 /mnt/c/Users/Razogarz/PycharmProjects/airport-controller/rivalAgents/valid/images/026717_jpg.rf.0fb8f4b7d5f5d401e8a408c38a099f22.jpg: 416x416 (no detections), 11.3ms\n",
      "image 657/1766 /mnt/c/Users/Razogarz/PycharmProjects/airport-controller/rivalAgents/valid/images/026726_jpg.rf.c601f77b2a48250c9a45c68b80963562.jpg: 416x416 (no detections), 12.5ms\n",
      "image 658/1766 /mnt/c/Users/Razogarz/PycharmProjects/airport-controller/rivalAgents/valid/images/026735_jpg.rf.e72dba7b342ac5cc74694b87f490c1ee.jpg: 416x416 2 2s, 7.8ms\n",
      "image 659/1766 /mnt/c/Users/Razogarz/PycharmProjects/airport-controller/rivalAgents/valid/images/026741_jpg.rf.0af9892ea43ee2dd985e9a75b1916bbc.jpg: 416x416 1 3, 9.5ms\n",
      "image 660/1766 /mnt/c/Users/Razogarz/PycharmProjects/airport-controller/rivalAgents/valid/images/026795_jpg.rf.5876aced7922ee13177a0bfcbf1f1cb3.jpg: 416x416 1 1, 13.1ms\n",
      "image 661/1766 /mnt/c/Users/Razogarz/PycharmProjects/airport-controller/rivalAgents/valid/images/026822_jpg.rf.c3713c2d0e1ecff96c84e0329d5d63a6.jpg: 416x416 2 1s, 10.2ms\n",
      "image 662/1766 /mnt/c/Users/Razogarz/PycharmProjects/airport-controller/rivalAgents/valid/images/026824_jpg.rf.92566d2039514b85906d4347219b8738.jpg: 416x416 1 4, 16.1ms\n",
      "image 663/1766 /mnt/c/Users/Razogarz/PycharmProjects/airport-controller/rivalAgents/valid/images/026825_jpg.rf.fba866c96cdf23f3863eaedd09a5ebfd.jpg: 416x416 1 1, 12.6ms\n",
      "image 664/1766 /mnt/c/Users/Razogarz/PycharmProjects/airport-controller/rivalAgents/valid/images/026838_jpg.rf.46a2abdaa3e12cae0bb9fc4430836283.jpg: 416x416 1 1, 13.0ms\n",
      "image 665/1766 /mnt/c/Users/Razogarz/PycharmProjects/airport-controller/rivalAgents/valid/images/026839_jpg.rf.fd1d1503d157a2329111ff9d94de6126.jpg: 416x416 1 4, 10.7ms\n",
      "image 666/1766 /mnt/c/Users/Razogarz/PycharmProjects/airport-controller/rivalAgents/valid/images/026842_jpg.rf.6283dd969ad67a355f28a2407c3fea86.jpg: 416x416 (no detections), 18.2ms\n",
      "image 667/1766 /mnt/c/Users/Razogarz/PycharmProjects/airport-controller/rivalAgents/valid/images/026844_jpg.rf.e2f153654fa948576547df4fde32e230.jpg: 416x416 2 3s, 12.8ms\n",
      "image 668/1766 /mnt/c/Users/Razogarz/PycharmProjects/airport-controller/rivalAgents/valid/images/026849_jpg.rf.bf05d76d0f4da01ad56a9d65cef202ba.jpg: 416x416 2 4s, 11.0ms\n",
      "image 669/1766 /mnt/c/Users/Razogarz/PycharmProjects/airport-controller/rivalAgents/valid/images/026874_jpg.rf.9d5550a93fd2cac947661a5d4d80b0f1.jpg: 416x416 2 4s, 11.2ms\n",
      "image 670/1766 /mnt/c/Users/Razogarz/PycharmProjects/airport-controller/rivalAgents/valid/images/026892_jpg.rf.0156d6d06333420980e07b062de5537a.jpg: 416x416 1 4, 11.4ms\n",
      "image 671/1766 /mnt/c/Users/Razogarz/PycharmProjects/airport-controller/rivalAgents/valid/images/026948_jpg.rf.1118c2abcc38a6473d370beeb9d0b62d.jpg: 416x416 1 1, 11.5ms\n",
      "image 672/1766 /mnt/c/Users/Razogarz/PycharmProjects/airport-controller/rivalAgents/valid/images/027007_jpg.rf.0f9a9a18b8a84d16ad7fed1e00e31c2d.jpg: 416x416 1 1, 1 4, 12.6ms\n",
      "image 673/1766 /mnt/c/Users/Razogarz/PycharmProjects/airport-controller/rivalAgents/valid/images/027019_jpg.rf.ab437f3e49dd4e8a4cc62f2274c81def.jpg: 416x416 1 4, 10.6ms\n",
      "image 674/1766 /mnt/c/Users/Razogarz/PycharmProjects/airport-controller/rivalAgents/valid/images/027022_jpg.rf.03b58899a7f1aae265773065e10f1aab.jpg: 416x416 (no detections), 20.8ms\n",
      "image 675/1766 /mnt/c/Users/Razogarz/PycharmProjects/airport-controller/rivalAgents/valid/images/027039_jpg.rf.34eebf02dc34d6a747939e224eea7612.jpg: 416x416 (no detections), 15.1ms\n",
      "image 676/1766 /mnt/c/Users/Razogarz/PycharmProjects/airport-controller/rivalAgents/valid/images/027060_jpg.rf.a5ec5bb5360d61677180ab88e76af396.jpg: 416x416 (no detections), 13.4ms\n",
      "image 677/1766 /mnt/c/Users/Razogarz/PycharmProjects/airport-controller/rivalAgents/valid/images/027081_jpg.rf.3d3bae8e325a3786686bcb4c5ad101c1.jpg: 416x416 (no detections), 16.8ms\n",
      "image 678/1766 /mnt/c/Users/Razogarz/PycharmProjects/airport-controller/rivalAgents/valid/images/027090_jpg.rf.2defc5e1e5fb2081c7374ac1941cca87.jpg: 416x416 (no detections), 9.6ms\n",
      "image 679/1766 /mnt/c/Users/Razogarz/PycharmProjects/airport-controller/rivalAgents/valid/images/027095_jpg.rf.7dcb3e9b8c3721a9a6c246fa1c2d903a.jpg: 416x416 (no detections), 11.9ms\n",
      "image 680/1766 /mnt/c/Users/Razogarz/PycharmProjects/airport-controller/rivalAgents/valid/images/027109_jpg.rf.366315db537b531ca88f6acd599d0a2a.jpg: 416x416 1 4, 16.1ms\n",
      "image 681/1766 /mnt/c/Users/Razogarz/PycharmProjects/airport-controller/rivalAgents/valid/images/027119_jpg.rf.8b8c91e562d5ed5951a4f2865e9ee3ea.jpg: 416x416 (no detections), 10.3ms\n",
      "image 682/1766 /mnt/c/Users/Razogarz/PycharmProjects/airport-controller/rivalAgents/valid/images/027127_jpg.rf.234e4a278aa51ba80f8739f5d6be818c.jpg: 416x416 (no detections), 12.7ms\n",
      "image 683/1766 /mnt/c/Users/Razogarz/PycharmProjects/airport-controller/rivalAgents/valid/images/027132_jpg.rf.855b406eafd5be583cc5742e9df8d0ab.jpg: 416x416 1 4, 13.4ms\n",
      "image 684/1766 /mnt/c/Users/Razogarz/PycharmProjects/airport-controller/rivalAgents/valid/images/027140_jpg.rf.01a7d88426e21a9f050dde21b5771b4f.jpg: 416x416 (no detections), 17.1ms\n",
      "image 685/1766 /mnt/c/Users/Razogarz/PycharmProjects/airport-controller/rivalAgents/valid/images/027153_jpg.rf.47a7023d6b1b52ce7470a7e054dfa941.jpg: 416x416 (no detections), 10.1ms\n",
      "image 686/1766 /mnt/c/Users/Razogarz/PycharmProjects/airport-controller/rivalAgents/valid/images/027154_jpg.rf.900d3be205119b458fe97edd8e45fbe4.jpg: 416x416 1 4, 14.3ms\n",
      "image 687/1766 /mnt/c/Users/Razogarz/PycharmProjects/airport-controller/rivalAgents/valid/images/027164_jpg.rf.cc061ac385b4e518ba9d940a45f588cb.jpg: 416x416 1 0, 9.7ms\n",
      "image 688/1766 /mnt/c/Users/Razogarz/PycharmProjects/airport-controller/rivalAgents/valid/images/027171_jpg.rf.e15592ce87a21f555bac4f5860b7e6cc.jpg: 416x416 1 3, 11.6ms\n",
      "image 689/1766 /mnt/c/Users/Razogarz/PycharmProjects/airport-controller/rivalAgents/valid/images/027176_jpg.rf.8173b07578f4b3dda1248fbd88e08811.jpg: 416x416 1 3, 13.1ms\n",
      "image 690/1766 /mnt/c/Users/Razogarz/PycharmProjects/airport-controller/rivalAgents/valid/images/027184_jpg.rf.fe671acb6873d8e9ece0d6ec00297d4d.jpg: 416x416 1 4, 11.0ms\n",
      "image 691/1766 /mnt/c/Users/Razogarz/PycharmProjects/airport-controller/rivalAgents/valid/images/027185_jpg.rf.221037166a41cf9a69aa7823c66ad1ca.jpg: 416x416 2 4s, 11.1ms\n",
      "image 692/1766 /mnt/c/Users/Razogarz/PycharmProjects/airport-controller/rivalAgents/valid/images/027191_jpg.rf.dd535899a796d1a0b1fec85978a5e188.jpg: 416x416 (no detections), 12.5ms\n",
      "image 693/1766 /mnt/c/Users/Razogarz/PycharmProjects/airport-controller/rivalAgents/valid/images/027194_jpg.rf.6f38583f8ed64d3ea483bbd3589be052.jpg: 416x416 (no detections), 11.0ms\n",
      "image 694/1766 /mnt/c/Users/Razogarz/PycharmProjects/airport-controller/rivalAgents/valid/images/027199_jpg.rf.fa397637e27cef8d3efd1571fa8f31be.jpg: 416x416 1 4, 7.1ms\n",
      "image 695/1766 /mnt/c/Users/Razogarz/PycharmProjects/airport-controller/rivalAgents/valid/images/027205_jpg.rf.6bb9d897f2f719bd4db7bf3b67dcab2c.jpg: 416x416 (no detections), 16.5ms\n",
      "image 696/1766 /mnt/c/Users/Razogarz/PycharmProjects/airport-controller/rivalAgents/valid/images/027249_jpg.rf.169f3753ae4d13c338a31dcb3f6638c3.jpg: 416x416 2 3s, 11.7ms\n",
      "image 697/1766 /mnt/c/Users/Razogarz/PycharmProjects/airport-controller/rivalAgents/valid/images/027263_jpg.rf.9f85124beaee5a44a05cf94474556a30.jpg: 416x416 1 4, 13.0ms\n",
      "image 698/1766 /mnt/c/Users/Razogarz/PycharmProjects/airport-controller/rivalAgents/valid/images/027272_jpg.rf.d56f29d2151d0b7dd9fff03a947dd16b.jpg: 416x416 (no detections), 7.6ms\n",
      "image 699/1766 /mnt/c/Users/Razogarz/PycharmProjects/airport-controller/rivalAgents/valid/images/027293_jpg.rf.0592b292fc4367f83fc8a3bbbe8350a1.jpg: 416x416 1 3, 11.2ms\n",
      "image 700/1766 /mnt/c/Users/Razogarz/PycharmProjects/airport-controller/rivalAgents/valid/images/027317_jpg.rf.3b90e3fc4fb3127d891bac370ba70ed0.jpg: 416x416 1 4, 9.4ms\n",
      "image 701/1766 /mnt/c/Users/Razogarz/PycharmProjects/airport-controller/rivalAgents/valid/images/027329_jpg.rf.44057fea0210d45c66e519f2f13b27b1.jpg: 416x416 1 2, 13.8ms\n",
      "image 702/1766 /mnt/c/Users/Razogarz/PycharmProjects/airport-controller/rivalAgents/valid/images/027347_jpg.rf.7121663dd852f79d3eeaacee0cb95d75.jpg: 416x416 1 1, 1 3, 13.1ms\n",
      "image 703/1766 /mnt/c/Users/Razogarz/PycharmProjects/airport-controller/rivalAgents/valid/images/027406_jpg.rf.7553398a4b0fff3281467e5464d959e7.jpg: 416x416 1 3, 18.3ms\n",
      "image 704/1766 /mnt/c/Users/Razogarz/PycharmProjects/airport-controller/rivalAgents/valid/images/027427_jpg.rf.811319dd5978b06a1c00c19ea1a3695b.jpg: 416x416 1 4, 7.1ms\n",
      "image 705/1766 /mnt/c/Users/Razogarz/PycharmProjects/airport-controller/rivalAgents/valid/images/027449_jpg.rf.dcc16ad3f6d3bdfc349e8135a18bd3b8.jpg: 416x416 2 3s, 13.6ms\n",
      "image 706/1766 /mnt/c/Users/Razogarz/PycharmProjects/airport-controller/rivalAgents/valid/images/027463_jpg.rf.8575f6318665896b9a2560a1d3ed813e.jpg: 416x416 (no detections), 6.5ms\n",
      "image 707/1766 /mnt/c/Users/Razogarz/PycharmProjects/airport-controller/rivalAgents/valid/images/027470_jpg.rf.8f5e14f9bfd3c158e56e13cf885894a7.jpg: 416x416 1 1, 1 4, 13.5ms\n",
      "image 708/1766 /mnt/c/Users/Razogarz/PycharmProjects/airport-controller/rivalAgents/valid/images/027505_jpg.rf.0045d9c9b2bca5f45026ef954cafb393.jpg: 416x416 1 1, 14.3ms\n",
      "image 709/1766 /mnt/c/Users/Razogarz/PycharmProjects/airport-controller/rivalAgents/valid/images/027514_jpg.rf.7fdc39ae9f5b0a518f0b3865609f49f3.jpg: 416x416 1 1, 1 4, 17.1ms\n",
      "image 710/1766 /mnt/c/Users/Razogarz/PycharmProjects/airport-controller/rivalAgents/valid/images/027526_jpg.rf.5b34bffa432fb9bcd3416bb4517aea7e.jpg: 416x416 (no detections), 15.8ms\n",
      "image 711/1766 /mnt/c/Users/Razogarz/PycharmProjects/airport-controller/rivalAgents/valid/images/027544_jpg.rf.65e73971cdb039b9c3ad885d56ce7fe6.jpg: 416x416 (no detections), 10.1ms\n",
      "image 712/1766 /mnt/c/Users/Razogarz/PycharmProjects/airport-controller/rivalAgents/valid/images/027608_jpg.rf.7e71c67d767d785c135c332c793755f9.jpg: 416x416 1 4, 11.7ms\n",
      "image 713/1766 /mnt/c/Users/Razogarz/PycharmProjects/airport-controller/rivalAgents/valid/images/027621_jpg.rf.d0d1b95e1705c3dd971b828dc9680cba.jpg: 416x416 1 3, 26.5ms\n",
      "image 714/1766 /mnt/c/Users/Razogarz/PycharmProjects/airport-controller/rivalAgents/valid/images/027623_jpg.rf.3c9b62c9eda8ba7a76eec0634ccff0a1.jpg: 416x416 1 4, 19.1ms\n",
      "image 715/1766 /mnt/c/Users/Razogarz/PycharmProjects/airport-controller/rivalAgents/valid/images/027633_jpg.rf.383671d629ceddd1aec78ca15eba57b3.jpg: 416x416 1 1, 16.5ms\n",
      "image 716/1766 /mnt/c/Users/Razogarz/PycharmProjects/airport-controller/rivalAgents/valid/images/027635_jpg.rf.0ab621c9aaf28297fbb1a2fb8bb8b5c5.jpg: 416x416 1 4, 11.7ms\n",
      "image 717/1766 /mnt/c/Users/Razogarz/PycharmProjects/airport-controller/rivalAgents/valid/images/027654_jpg.rf.0ef48ddd31b224f46ca49b8241d1878b.jpg: 416x416 1 3, 12.0ms\n",
      "image 718/1766 /mnt/c/Users/Razogarz/PycharmProjects/airport-controller/rivalAgents/valid/images/027681_jpg.rf.ba593fc25ddc93ed8daea81d371b149b.jpg: 416x416 (no detections), 12.9ms\n",
      "image 719/1766 /mnt/c/Users/Razogarz/PycharmProjects/airport-controller/rivalAgents/valid/images/027682_jpg.rf.9cfa5b019d4b8476cb1cdca21fade55e.jpg: 416x416 (no detections), 9.0ms\n",
      "image 720/1766 /mnt/c/Users/Razogarz/PycharmProjects/airport-controller/rivalAgents/valid/images/027688_jpg.rf.4eb00f1bb7433d50818e6328e5cf383a.jpg: 416x416 (no detections), 12.0ms\n",
      "image 721/1766 /mnt/c/Users/Razogarz/PycharmProjects/airport-controller/rivalAgents/valid/images/027695_jpg.rf.8e316e34c91e0319fb5ceeeba9632419.jpg: 416x416 1 4, 8.8ms\n",
      "image 722/1766 /mnt/c/Users/Razogarz/PycharmProjects/airport-controller/rivalAgents/valid/images/027715_jpg.rf.6092dac240d3931b5c35071eefd3f136.jpg: 416x416 2 4s, 6.9ms\n",
      "image 723/1766 /mnt/c/Users/Razogarz/PycharmProjects/airport-controller/rivalAgents/valid/images/027730_jpg.rf.8ce5ec934108a65d8a98323e912663ca.jpg: 416x416 (no detections), 6.5ms\n",
      "image 724/1766 /mnt/c/Users/Razogarz/PycharmProjects/airport-controller/rivalAgents/valid/images/027737_jpg.rf.7cff57921a4d5e497185cf3b893fd7f3.jpg: 416x416 1 3, 12.6ms\n",
      "image 725/1766 /mnt/c/Users/Razogarz/PycharmProjects/airport-controller/rivalAgents/valid/images/027748_jpg.rf.0e3f62ed01d6f0c5062216c10f841794.jpg: 416x416 1 3, 19.6ms\n",
      "image 726/1766 /mnt/c/Users/Razogarz/PycharmProjects/airport-controller/rivalAgents/valid/images/027762_jpg.rf.fc8d66ad7b95cc467c12f24ea13fe45d.jpg: 416x416 1 4, 13.2ms\n",
      "image 727/1766 /mnt/c/Users/Razogarz/PycharmProjects/airport-controller/rivalAgents/valid/images/027771_jpg.rf.06da13f43bacd96fafd571947822c779.jpg: 416x416 (no detections), 13.5ms\n",
      "image 728/1766 /mnt/c/Users/Razogarz/PycharmProjects/airport-controller/rivalAgents/valid/images/027776_jpg.rf.fb7476ecbe26a4905219b9d0a9e5717e.jpg: 416x416 1 4, 9.0ms\n",
      "image 729/1766 /mnt/c/Users/Razogarz/PycharmProjects/airport-controller/rivalAgents/valid/images/027789_jpg.rf.6a3406b3b1d591cb69104f8a4e83f940.jpg: 416x416 1 4, 13.7ms\n",
      "image 730/1766 /mnt/c/Users/Razogarz/PycharmProjects/airport-controller/rivalAgents/valid/images/027799_jpg.rf.5c56fb63703bcd72479cf95d70fba6dc.jpg: 416x416 (no detections), 9.8ms\n",
      "image 731/1766 /mnt/c/Users/Razogarz/PycharmProjects/airport-controller/rivalAgents/valid/images/027832_jpg.rf.72b29e66a0ade97c1b6866ef649647c4.jpg: 416x416 (no detections), 13.3ms\n",
      "image 732/1766 /mnt/c/Users/Razogarz/PycharmProjects/airport-controller/rivalAgents/valid/images/027836_jpg.rf.3dd53c2486bd69e061d147dc9902f7d2.jpg: 416x416 2 3s, 9.0ms\n",
      "image 733/1766 /mnt/c/Users/Razogarz/PycharmProjects/airport-controller/rivalAgents/valid/images/027852_jpg.rf.ed4967c1ef158e2aa624230bfbe9246c.jpg: 416x416 1 3, 16.1ms\n",
      "image 734/1766 /mnt/c/Users/Razogarz/PycharmProjects/airport-controller/rivalAgents/valid/images/027882_jpg.rf.e4fed54d2e8919108457eeabf6b894b9.jpg: 416x416 1 1, 8.8ms\n",
      "image 735/1766 /mnt/c/Users/Razogarz/PycharmProjects/airport-controller/rivalAgents/valid/images/027891_jpg.rf.f49f79c98db9b3bea57b3d06d8864356.jpg: 416x416 (no detections), 13.7ms\n",
      "image 736/1766 /mnt/c/Users/Razogarz/PycharmProjects/airport-controller/rivalAgents/valid/images/027929_jpg.rf.fe35b2ef8492b0d582c3a83acad1a0fd.jpg: 416x416 (no detections), 13.9ms\n",
      "image 737/1766 /mnt/c/Users/Razogarz/PycharmProjects/airport-controller/rivalAgents/valid/images/027933_jpg.rf.0eb58efc6c008dca481abb28b551f8a3.jpg: 416x416 (no detections), 6.5ms\n",
      "image 738/1766 /mnt/c/Users/Razogarz/PycharmProjects/airport-controller/rivalAgents/valid/images/027990_jpg.rf.110a38478433968e2c6d1d7fc1adef77.jpg: 416x416 1 1, 11.5ms\n",
      "image 739/1766 /mnt/c/Users/Razogarz/PycharmProjects/airport-controller/rivalAgents/valid/images/028001_jpg.rf.4bbda026b38eb3896defcdeb2babbea1.jpg: 416x416 1 4, 7.8ms\n",
      "image 740/1766 /mnt/c/Users/Razogarz/PycharmProjects/airport-controller/rivalAgents/valid/images/028009_jpg.rf.c1cc8a477b71a913b5f1ed8aafc04020.jpg: 416x416 2 4s, 13.2ms\n",
      "image 741/1766 /mnt/c/Users/Razogarz/PycharmProjects/airport-controller/rivalAgents/valid/images/028029_jpg.rf.c8799e1c2f11a1524e486dc51bc0b460.jpg: 416x416 1 4, 8.6ms\n",
      "image 742/1766 /mnt/c/Users/Razogarz/PycharmProjects/airport-controller/rivalAgents/valid/images/028037_jpg.rf.11fe7792cf53c9f2887feac60e9315fc.jpg: 416x416 1 1, 9.5ms\n",
      "image 743/1766 /mnt/c/Users/Razogarz/PycharmProjects/airport-controller/rivalAgents/valid/images/028040_jpg.rf.221b554d992fefaf514753b79c1ccfcc.jpg: 416x416 (no detections), 10.2ms\n",
      "image 744/1766 /mnt/c/Users/Razogarz/PycharmProjects/airport-controller/rivalAgents/valid/images/028041_jpg.rf.3acd6679b11ec0921605886f0f52e1f6.jpg: 416x416 (no detections), 14.8ms\n",
      "image 745/1766 /mnt/c/Users/Razogarz/PycharmProjects/airport-controller/rivalAgents/valid/images/028046_jpg.rf.c1cc2067211fe54a7a0d44a3f55232f6.jpg: 416x416 1 1, 12.2ms\n",
      "image 746/1766 /mnt/c/Users/Razogarz/PycharmProjects/airport-controller/rivalAgents/valid/images/028057_jpg.rf.3cd88b348f3da22d116a6349ad273256.jpg: 416x416 (no detections), 15.3ms\n",
      "image 747/1766 /mnt/c/Users/Razogarz/PycharmProjects/airport-controller/rivalAgents/valid/images/028062_jpg.rf.4379b337fe6fe7d673709845d3866926.jpg: 416x416 (no detections), 11.0ms\n",
      "image 748/1766 /mnt/c/Users/Razogarz/PycharmProjects/airport-controller/rivalAgents/valid/images/028070_jpg.rf.aed6c23edcb7456e62d244b6b4b526c6.jpg: 416x416 (no detections), 17.5ms\n",
      "image 749/1766 /mnt/c/Users/Razogarz/PycharmProjects/airport-controller/rivalAgents/valid/images/028122_jpg.rf.3233ec700201e2922ca7c86ef48e22b9.jpg: 416x416 (no detections), 20.0ms\n",
      "image 750/1766 /mnt/c/Users/Razogarz/PycharmProjects/airport-controller/rivalAgents/valid/images/028140_jpg.rf.d5e5b2eb61bd79cb79545ec5c489b3b4.jpg: 416x416 1 4, 14.2ms\n",
      "image 751/1766 /mnt/c/Users/Razogarz/PycharmProjects/airport-controller/rivalAgents/valid/images/028156_jpg.rf.7792de9aa22a14e13533b667ec230bb6.jpg: 416x416 1 4, 12.3ms\n",
      "image 752/1766 /mnt/c/Users/Razogarz/PycharmProjects/airport-controller/rivalAgents/valid/images/028157_jpg.rf.b80b4edfc4c100c8ef3c0079deab7a4d.jpg: 416x416 1 1, 22.1ms\n",
      "image 753/1766 /mnt/c/Users/Razogarz/PycharmProjects/airport-controller/rivalAgents/valid/images/028181_jpg.rf.b63a3c9d79e67f6ee57f9d394b5050b7.jpg: 416x416 (no detections), 14.6ms\n",
      "image 754/1766 /mnt/c/Users/Razogarz/PycharmProjects/airport-controller/rivalAgents/valid/images/028184_jpg.rf.5c02c239780adaf7431993023de67d47.jpg: 416x416 1 4, 11.3ms\n",
      "image 755/1766 /mnt/c/Users/Razogarz/PycharmProjects/airport-controller/rivalAgents/valid/images/028205_jpg.rf.4597e3f058565e9bd4fa8316e0df20e2.jpg: 416x416 (no detections), 9.5ms\n",
      "image 756/1766 /mnt/c/Users/Razogarz/PycharmProjects/airport-controller/rivalAgents/valid/images/028211_jpg.rf.3e9f5159b89dc79d41fe2fbda5680f2a.jpg: 416x416 1 4, 12.7ms\n",
      "image 757/1766 /mnt/c/Users/Razogarz/PycharmProjects/airport-controller/rivalAgents/valid/images/028225_jpg.rf.27a638d9b39bca09573b1b8c1f758cc4.jpg: 416x416 1 4, 12.3ms\n",
      "image 758/1766 /mnt/c/Users/Razogarz/PycharmProjects/airport-controller/rivalAgents/valid/images/028236_jpg.rf.f54212df1db5a777080afb5dfaf0d0e3.jpg: 416x416 1 1, 11.5ms\n",
      "image 759/1766 /mnt/c/Users/Razogarz/PycharmProjects/airport-controller/rivalAgents/valid/images/028239_jpg.rf.4b587c23ae541ddce9cc1664d615d98d.jpg: 416x416 1 4, 15.5ms\n",
      "image 760/1766 /mnt/c/Users/Razogarz/PycharmProjects/airport-controller/rivalAgents/valid/images/028259_jpg.rf.01cbbc23b5b515251aa60da3fe977b84.jpg: 416x416 (no detections), 14.4ms\n",
      "image 761/1766 /mnt/c/Users/Razogarz/PycharmProjects/airport-controller/rivalAgents/valid/images/028274_jpg.rf.f83063ce3bac37b63e697b016606d5a6.jpg: 416x416 (no detections), 11.7ms\n",
      "image 762/1766 /mnt/c/Users/Razogarz/PycharmProjects/airport-controller/rivalAgents/valid/images/028275_jpg.rf.aec1f77c6539efecac890f6558d5f812.jpg: 416x416 1 3, 15.6ms\n",
      "image 763/1766 /mnt/c/Users/Razogarz/PycharmProjects/airport-controller/rivalAgents/valid/images/028279_jpg.rf.75319790a43fe7ff852ab2d92a8ac3a3.jpg: 416x416 1 0, 1 1, 6.5ms\n",
      "image 764/1766 /mnt/c/Users/Razogarz/PycharmProjects/airport-controller/rivalAgents/valid/images/028295_jpg.rf.39f3f6e76bf4b9db4cf97cfa082912c4.jpg: 416x416 2 3s, 11.7ms\n",
      "image 765/1766 /mnt/c/Users/Razogarz/PycharmProjects/airport-controller/rivalAgents/valid/images/028308_jpg.rf.ad32057d641a83e68dd32b4b4bc81807.jpg: 416x416 (no detections), 14.8ms\n",
      "image 766/1766 /mnt/c/Users/Razogarz/PycharmProjects/airport-controller/rivalAgents/valid/images/028323_jpg.rf.ac4cafa8c9d0a31200eca356386458eb.jpg: 416x416 1 3, 20.1ms\n",
      "image 767/1766 /mnt/c/Users/Razogarz/PycharmProjects/airport-controller/rivalAgents/valid/images/028327_jpg.rf.d714d262b3814a7500368649770e6cbb.jpg: 416x416 1 2, 1 3, 16.9ms\n",
      "image 768/1766 /mnt/c/Users/Razogarz/PycharmProjects/airport-controller/rivalAgents/valid/images/028331_jpg.rf.b6b0f8fcdc655ac661191255b1dbc447.jpg: 416x416 1 4, 19.1ms\n",
      "image 769/1766 /mnt/c/Users/Razogarz/PycharmProjects/airport-controller/rivalAgents/valid/images/028348_jpg.rf.59218f86cab3e38a49dee6d918d4c226.jpg: 416x416 (no detections), 9.1ms\n",
      "image 770/1766 /mnt/c/Users/Razogarz/PycharmProjects/airport-controller/rivalAgents/valid/images/028351_jpg.rf.c3ff4a363ff8fbd59a2305b8144c16d9.jpg: 416x416 1 1, 13.5ms\n",
      "image 771/1766 /mnt/c/Users/Razogarz/PycharmProjects/airport-controller/rivalAgents/valid/images/028368_jpg.rf.11c894c0fbdb8d9b795fa5a7dfdd2bfb.jpg: 416x416 2 4s, 11.4ms\n",
      "image 772/1766 /mnt/c/Users/Razogarz/PycharmProjects/airport-controller/rivalAgents/valid/images/028377_jpg.rf.5c4de2b2715cbc40275f999f0a7cf625.jpg: 416x416 (no detections), 8.7ms\n",
      "image 773/1766 /mnt/c/Users/Razogarz/PycharmProjects/airport-controller/rivalAgents/valid/images/028380_jpg.rf.767ce728231bcdef6c724f169720d040.jpg: 416x416 (no detections), 12.3ms\n",
      "image 774/1766 /mnt/c/Users/Razogarz/PycharmProjects/airport-controller/rivalAgents/valid/images/028394_jpg.rf.cafbd09e85b6dbe59d1f4caaa4d88ba9.jpg: 416x416 1 2, 10.7ms\n",
      "image 775/1766 /mnt/c/Users/Razogarz/PycharmProjects/airport-controller/rivalAgents/valid/images/028410_jpg.rf.771fa25b2dba3b9d8a40ddf47deb1ba1.jpg: 416x416 1 1, 18.3ms\n",
      "image 776/1766 /mnt/c/Users/Razogarz/PycharmProjects/airport-controller/rivalAgents/valid/images/028454_jpg.rf.8c7885ebd808a4380dadd4a1787c37c1.jpg: 416x416 1 4, 14.7ms\n",
      "image 777/1766 /mnt/c/Users/Razogarz/PycharmProjects/airport-controller/rivalAgents/valid/images/028473_jpg.rf.3c3a1e3645019665679094c9020b2299.jpg: 416x416 (no detections), 11.1ms\n",
      "image 778/1766 /mnt/c/Users/Razogarz/PycharmProjects/airport-controller/rivalAgents/valid/images/028482_jpg.rf.8edca3d00e520bc670433878cc21dd57.jpg: 416x416 (no detections), 13.3ms\n",
      "image 779/1766 /mnt/c/Users/Razogarz/PycharmProjects/airport-controller/rivalAgents/valid/images/028486_jpg.rf.e899981a5e0840d0537bfccc817a99ca.jpg: 416x416 1 4, 13.3ms\n",
      "image 780/1766 /mnt/c/Users/Razogarz/PycharmProjects/airport-controller/rivalAgents/valid/images/028487_jpg.rf.96763f12aba5b33afe9b96f24bae63ae.jpg: 416x416 (no detections), 14.2ms\n",
      "image 781/1766 /mnt/c/Users/Razogarz/PycharmProjects/airport-controller/rivalAgents/valid/images/028499_jpg.rf.41de0f2fd642828cd6ded0900ed0e8e1.jpg: 416x416 1 1, 11.3ms\n",
      "image 782/1766 /mnt/c/Users/Razogarz/PycharmProjects/airport-controller/rivalAgents/valid/images/028535_jpg.rf.77083d391f12911df7680b3ffb9bf1c0.jpg: 416x416 (no detections), 15.9ms\n",
      "image 783/1766 /mnt/c/Users/Razogarz/PycharmProjects/airport-controller/rivalAgents/valid/images/028541_jpg.rf.ff50e75816fc6a57e7b0df20d1320efd.jpg: 416x416 1 3, 7.6ms\n",
      "image 784/1766 /mnt/c/Users/Razogarz/PycharmProjects/airport-controller/rivalAgents/valid/images/028551_jpg.rf.7afdc2a7c03d1d429af327df3547a56f.jpg: 416x416 1 4, 8.9ms\n",
      "image 785/1766 /mnt/c/Users/Razogarz/PycharmProjects/airport-controller/rivalAgents/valid/images/028604_jpg.rf.612266c0ddc76a7cb04fa587d1d4e26b.jpg: 416x416 (no detections), 14.9ms\n",
      "image 786/1766 /mnt/c/Users/Razogarz/PycharmProjects/airport-controller/rivalAgents/valid/images/028608_jpg.rf.cabb9a1a78e3b9f14a874dea8b9c646c.jpg: 416x416 1 0, 2 4s, 14.9ms\n",
      "image 787/1766 /mnt/c/Users/Razogarz/PycharmProjects/airport-controller/rivalAgents/valid/images/028618_jpg.rf.5103cdb0280ff8b218d3fe01473e96c4.jpg: 416x416 (no detections), 12.4ms\n",
      "image 788/1766 /mnt/c/Users/Razogarz/PycharmProjects/airport-controller/rivalAgents/valid/images/028620_jpg.rf.b91edca24b42bd1d1349ffb73a4124fc.jpg: 416x416 (no detections), 12.9ms\n",
      "image 789/1766 /mnt/c/Users/Razogarz/PycharmProjects/airport-controller/rivalAgents/valid/images/028635_jpg.rf.4bead058c767d3cfe1564bd42f3f0c2a.jpg: 416x416 (no detections), 17.9ms\n",
      "image 790/1766 /mnt/c/Users/Razogarz/PycharmProjects/airport-controller/rivalAgents/valid/images/028648_jpg.rf.c1291d18c7e2792f5e2a995824bb7f94.jpg: 416x416 2 4s, 8.7ms\n",
      "image 791/1766 /mnt/c/Users/Razogarz/PycharmProjects/airport-controller/rivalAgents/valid/images/028654_jpg.rf.5e1890654319066eef16b0736e83c14b.jpg: 416x416 1 3, 12.5ms\n",
      "image 792/1766 /mnt/c/Users/Razogarz/PycharmProjects/airport-controller/rivalAgents/valid/images/028662_jpg.rf.3e91ddc995e0ce416509bd2dbda0dabc.jpg: 416x416 1 1, 18.9ms\n",
      "image 793/1766 /mnt/c/Users/Razogarz/PycharmProjects/airport-controller/rivalAgents/valid/images/028685_jpg.rf.8c8f5b9f2f02eb6bad63bc56eb5eb9fa.jpg: 416x416 1 1, 10.1ms\n",
      "image 794/1766 /mnt/c/Users/Razogarz/PycharmProjects/airport-controller/rivalAgents/valid/images/028697_jpg.rf.3476838cca81865e6cfd607d3df3eb62.jpg: 416x416 (no detections), 12.2ms\n",
      "image 795/1766 /mnt/c/Users/Razogarz/PycharmProjects/airport-controller/rivalAgents/valid/images/028715_jpg.rf.336c2a0b90438dba797ef75a4a9916e3.jpg: 416x416 1 1, 14.4ms\n",
      "image 796/1766 /mnt/c/Users/Razogarz/PycharmProjects/airport-controller/rivalAgents/valid/images/028718_jpg.rf.61e43268d1db503f53090b1ef122a565.jpg: 416x416 1 4, 15.2ms\n",
      "image 797/1766 /mnt/c/Users/Razogarz/PycharmProjects/airport-controller/rivalAgents/valid/images/028739_jpg.rf.58764435f772fb779b0f586364240422.jpg: 416x416 1 1, 8.3ms\n",
      "image 798/1766 /mnt/c/Users/Razogarz/PycharmProjects/airport-controller/rivalAgents/valid/images/028777_jpg.rf.366c5279a41b1dc1b61f68de60a83240.jpg: 416x416 (no detections), 13.4ms\n",
      "image 799/1766 /mnt/c/Users/Razogarz/PycharmProjects/airport-controller/rivalAgents/valid/images/028811_jpg.rf.5fd11485031499b451e3eb530f318b92.jpg: 416x416 1 3, 6.8ms\n",
      "image 800/1766 /mnt/c/Users/Razogarz/PycharmProjects/airport-controller/rivalAgents/valid/images/028814_jpg.rf.c4db7118db634755c55576563653314e.jpg: 416x416 (no detections), 9.7ms\n",
      "image 801/1766 /mnt/c/Users/Razogarz/PycharmProjects/airport-controller/rivalAgents/valid/images/028893_jpg.rf.512e6907f9a2698de53f00dbd15eed5b.jpg: 416x416 1 3, 8.0ms\n",
      "image 802/1766 /mnt/c/Users/Razogarz/PycharmProjects/airport-controller/rivalAgents/valid/images/028901_jpg.rf.cb3e30fd3721c494fb919157b165c0aa.jpg: 416x416 1 1, 16.3ms\n",
      "image 803/1766 /mnt/c/Users/Razogarz/PycharmProjects/airport-controller/rivalAgents/valid/images/028904_jpg.rf.f6a136ba8a81ffefee4b0fe1f59c4605.jpg: 416x416 1 4, 15.2ms\n",
      "image 804/1766 /mnt/c/Users/Razogarz/PycharmProjects/airport-controller/rivalAgents/valid/images/028915_jpg.rf.555b07744bcf5c7ead7f007c32e14b8f.jpg: 416x416 (no detections), 6.7ms\n",
      "image 805/1766 /mnt/c/Users/Razogarz/PycharmProjects/airport-controller/rivalAgents/valid/images/028952_jpg.rf.7925186e9a7a1eed1733a2e6e569a9fd.jpg: 416x416 (no detections), 13.0ms\n",
      "image 806/1766 /mnt/c/Users/Razogarz/PycharmProjects/airport-controller/rivalAgents/valid/images/028957_jpg.rf.0c1b039ffb2361fbe9a638f8b9e4b7e0.jpg: 416x416 1 0, 14.9ms\n",
      "image 807/1766 /mnt/c/Users/Razogarz/PycharmProjects/airport-controller/rivalAgents/valid/images/028970_jpg.rf.63ef33fdf1b2fe966b980cc41fc76870.jpg: 416x416 1 3, 9.5ms\n",
      "image 808/1766 /mnt/c/Users/Razogarz/PycharmProjects/airport-controller/rivalAgents/valid/images/028972_jpg.rf.1784ee05d4d9760a6c70f5e3609083d1.jpg: 416x416 (no detections), 8.9ms\n",
      "image 809/1766 /mnt/c/Users/Razogarz/PycharmProjects/airport-controller/rivalAgents/valid/images/028989_jpg.rf.281ca95373a8a90810740eb884ef9aad.jpg: 416x416 1 1, 11.3ms\n",
      "image 810/1766 /mnt/c/Users/Razogarz/PycharmProjects/airport-controller/rivalAgents/valid/images/028999_jpg.rf.b7faef15a2d93b4ebfb9a98b0dae37a4.jpg: 416x416 (no detections), 17.3ms\n",
      "image 811/1766 /mnt/c/Users/Razogarz/PycharmProjects/airport-controller/rivalAgents/valid/images/029000_jpg.rf.8f4ac5d60f05a192134f673dc9aa268b.jpg: 416x416 (no detections), 13.7ms\n",
      "image 812/1766 /mnt/c/Users/Razogarz/PycharmProjects/airport-controller/rivalAgents/valid/images/029007_jpg.rf.a57275853daada767a5915bd8290cd88.jpg: 416x416 (no detections), 12.9ms\n",
      "image 813/1766 /mnt/c/Users/Razogarz/PycharmProjects/airport-controller/rivalAgents/valid/images/029044_jpg.rf.96cab32c0eb44a5ebee5930d9f8db1f9.jpg: 416x416 3 2s, 1 3, 8.5ms\n",
      "image 814/1766 /mnt/c/Users/Razogarz/PycharmProjects/airport-controller/rivalAgents/valid/images/029057_jpg.rf.8954376a55928c4162639bb553e829c5.jpg: 416x416 (no detections), 11.8ms\n",
      "image 815/1766 /mnt/c/Users/Razogarz/PycharmProjects/airport-controller/rivalAgents/valid/images/029110_jpg.rf.0f7af53a90e684cc21afcdd97afc8d8e.jpg: 416x416 (no detections), 12.8ms\n",
      "image 816/1766 /mnt/c/Users/Razogarz/PycharmProjects/airport-controller/rivalAgents/valid/images/029195_jpg.rf.5786e2beb472e839bec93d0abef78094.jpg: 416x416 1 1, 13.4ms\n",
      "image 817/1766 /mnt/c/Users/Razogarz/PycharmProjects/airport-controller/rivalAgents/valid/images/029202_jpg.rf.251dbaa6bc929760f3096730832aa50b.jpg: 416x416 (no detections), 9.2ms\n",
      "image 818/1766 /mnt/c/Users/Razogarz/PycharmProjects/airport-controller/rivalAgents/valid/images/029214_jpg.rf.000272bd181ce83d2e61f8bf709e53fd.jpg: 416x416 1 3, 15.0ms\n",
      "image 819/1766 /mnt/c/Users/Razogarz/PycharmProjects/airport-controller/rivalAgents/valid/images/029235_jpg.rf.a846171a1ed9820cd7b4f3349eadc2a1.jpg: 416x416 (no detections), 17.1ms\n",
      "image 820/1766 /mnt/c/Users/Razogarz/PycharmProjects/airport-controller/rivalAgents/valid/images/029239_jpg.rf.6dff61dd5554a0abfe4439cf28d18fdd.jpg: 416x416 (no detections), 9.8ms\n",
      "image 821/1766 /mnt/c/Users/Razogarz/PycharmProjects/airport-controller/rivalAgents/valid/images/029240_jpg.rf.8c9ebc3a5ddab5e81abe18e20421fa63.jpg: 416x416 2 3s, 6.9ms\n",
      "image 822/1766 /mnt/c/Users/Razogarz/PycharmProjects/airport-controller/rivalAgents/valid/images/029262_jpg.rf.3507afe011c60ab5d6f397de2803bf66.jpg: 416x416 (no detections), 11.6ms\n",
      "image 823/1766 /mnt/c/Users/Razogarz/PycharmProjects/airport-controller/rivalAgents/valid/images/029298_jpg.rf.d814fb896bf667b7fec1a088593df946.jpg: 416x416 (no detections), 17.1ms\n",
      "image 824/1766 /mnt/c/Users/Razogarz/PycharmProjects/airport-controller/rivalAgents/valid/images/029306_jpg.rf.89c6ec1f56839326679e22a14e3e1544.jpg: 416x416 (no detections), 7.7ms\n",
      "image 825/1766 /mnt/c/Users/Razogarz/PycharmProjects/airport-controller/rivalAgents/valid/images/029315_jpg.rf.a8f1be5bfb7f5259f0c883beaf478914.jpg: 416x416 1 1, 17.4ms\n",
      "image 826/1766 /mnt/c/Users/Razogarz/PycharmProjects/airport-controller/rivalAgents/valid/images/029350_jpg.rf.2ca769e6b4c6c235b28069a5d4054f6b.jpg: 416x416 (no detections), 14.1ms\n",
      "image 827/1766 /mnt/c/Users/Razogarz/PycharmProjects/airport-controller/rivalAgents/valid/images/029397_jpg.rf.0ab456760e85765c77fc08ca00cf7067.jpg: 416x416 2 3s, 9.7ms\n",
      "image 828/1766 /mnt/c/Users/Razogarz/PycharmProjects/airport-controller/rivalAgents/valid/images/029419_jpg.rf.c63c95ef31016dc80aa09a0d96569da8.jpg: 416x416 1 3, 7.9ms\n",
      "image 829/1766 /mnt/c/Users/Razogarz/PycharmProjects/airport-controller/rivalAgents/valid/images/029455_jpg.rf.0f02179a3463014e020cff540f5dfa01.jpg: 416x416 1 1, 10.6ms\n",
      "image 830/1766 /mnt/c/Users/Razogarz/PycharmProjects/airport-controller/rivalAgents/valid/images/029471_jpg.rf.7efd1658009e922b8b8e6d8db0ec6562.jpg: 416x416 1 3, 17.9ms\n",
      "image 831/1766 /mnt/c/Users/Razogarz/PycharmProjects/airport-controller/rivalAgents/valid/images/029495_jpg.rf.0dd0abc2f4df92a39559d3ba9e92ca6a.jpg: 416x416 (no detections), 9.4ms\n",
      "image 832/1766 /mnt/c/Users/Razogarz/PycharmProjects/airport-controller/rivalAgents/valid/images/029498_jpg.rf.7e0c0031d834cda7220ed2262b518107.jpg: 416x416 2 1s, 9.2ms\n",
      "image 833/1766 /mnt/c/Users/Razogarz/PycharmProjects/airport-controller/rivalAgents/valid/images/029503_jpg.rf.fb4788830c7bd5d8de623dda8ec5319e.jpg: 416x416 (no detections), 18.3ms\n",
      "image 834/1766 /mnt/c/Users/Razogarz/PycharmProjects/airport-controller/rivalAgents/valid/images/029563_jpg.rf.25083cf9a4567ff31bf50336a0ef2dae.jpg: 416x416 1 4, 12.7ms\n",
      "image 835/1766 /mnt/c/Users/Razogarz/PycharmProjects/airport-controller/rivalAgents/valid/images/029564_jpg.rf.0b1ee1dff0744b4c22ed567517c77061.jpg: 416x416 1 3, 14.4ms\n",
      "image 836/1766 /mnt/c/Users/Razogarz/PycharmProjects/airport-controller/rivalAgents/valid/images/029572_jpg.rf.1237549be49a2259f7aa359c050916f7.jpg: 416x416 1 4, 7.3ms\n",
      "image 837/1766 /mnt/c/Users/Razogarz/PycharmProjects/airport-controller/rivalAgents/valid/images/029587_jpg.rf.678c751b6bce41ee362fe0c66040b0e2.jpg: 416x416 1 3, 12.1ms\n",
      "image 838/1766 /mnt/c/Users/Razogarz/PycharmProjects/airport-controller/rivalAgents/valid/images/029644_jpg.rf.d4d8b741705751cec5f961274c1b9abc.jpg: 416x416 1 1, 1 4, 11.0ms\n",
      "image 839/1766 /mnt/c/Users/Razogarz/PycharmProjects/airport-controller/rivalAgents/valid/images/029651_jpg.rf.f53d8dafaf586e85d242cb8198754d60.jpg: 416x416 2 3s, 12.3ms\n",
      "image 840/1766 /mnt/c/Users/Razogarz/PycharmProjects/airport-controller/rivalAgents/valid/images/029657_jpg.rf.b9df0e91faa6d23a99cc4bdf6bd2223e.jpg: 416x416 (no detections), 10.8ms\n",
      "image 841/1766 /mnt/c/Users/Razogarz/PycharmProjects/airport-controller/rivalAgents/valid/images/029659_jpg.rf.bddc302fd8d7a22f4381c64acea52882.jpg: 416x416 1 4, 13.8ms\n",
      "image 842/1766 /mnt/c/Users/Razogarz/PycharmProjects/airport-controller/rivalAgents/valid/images/029666_jpg.rf.aa272ddab13bf96eda350dc4da18524d.jpg: 416x416 1 1, 6.4ms\n",
      "image 843/1766 /mnt/c/Users/Razogarz/PycharmProjects/airport-controller/rivalAgents/valid/images/029695_jpg.rf.a43ef1a25aabfc98c4d6d68676c22321.jpg: 416x416 (no detections), 10.0ms\n",
      "image 844/1766 /mnt/c/Users/Razogarz/PycharmProjects/airport-controller/rivalAgents/valid/images/029715_jpg.rf.1ce7539b897f4881fb1182176dcf5fc7.jpg: 416x416 (no detections), 8.3ms\n",
      "image 845/1766 /mnt/c/Users/Razogarz/PycharmProjects/airport-controller/rivalAgents/valid/images/029766_jpg.rf.fcb271c25d0e603fabcb34805a099a10.jpg: 416x416 2 3s, 12.5ms\n",
      "image 846/1766 /mnt/c/Users/Razogarz/PycharmProjects/airport-controller/rivalAgents/valid/images/029772_jpg.rf.9a68cf0c1e8e2ea5a75cfa06e707f239.jpg: 416x416 1 1, 15.0ms\n",
      "image 847/1766 /mnt/c/Users/Razogarz/PycharmProjects/airport-controller/rivalAgents/valid/images/029798_jpg.rf.c09d66dd32d4ec5b443fc32cbf2d8b56.jpg: 416x416 1 0, 1 1, 9.6ms\n",
      "image 848/1766 /mnt/c/Users/Razogarz/PycharmProjects/airport-controller/rivalAgents/valid/images/029804_jpg.rf.dc6312b2810ff21a093b948e6a709188.jpg: 416x416 2 3s, 16.9ms\n",
      "image 849/1766 /mnt/c/Users/Razogarz/PycharmProjects/airport-controller/rivalAgents/valid/images/029810_jpg.rf.c375b595cf33287908cc9941a3c006b3.jpg: 416x416 1 1, 9.1ms\n",
      "image 850/1766 /mnt/c/Users/Razogarz/PycharmProjects/airport-controller/rivalAgents/valid/images/029833_jpg.rf.8215ae7e177accf9c6aace11a2942e94.jpg: 416x416 1 1, 13.4ms\n",
      "image 851/1766 /mnt/c/Users/Razogarz/PycharmProjects/airport-controller/rivalAgents/valid/images/029852_jpg.rf.32267968d12952bb6c60dc6881c7ed29.jpg: 416x416 1 1, 8.6ms\n",
      "image 852/1766 /mnt/c/Users/Razogarz/PycharmProjects/airport-controller/rivalAgents/valid/images/029854_jpg.rf.3e11b2c5298a42d9c9c3a991a4364475.jpg: 416x416 2 4s, 13.9ms\n",
      "image 853/1766 /mnt/c/Users/Razogarz/PycharmProjects/airport-controller/rivalAgents/valid/images/029869_jpg.rf.e27c89cea8b4b22b86058c6c187d14e5.jpg: 416x416 1 4, 12.7ms\n",
      "image 854/1766 /mnt/c/Users/Razogarz/PycharmProjects/airport-controller/rivalAgents/valid/images/029921_jpg.rf.71140c1758ca4fb080e19cf59e15dfa7.jpg: 416x416 1 3, 10.3ms\n",
      "image 855/1766 /mnt/c/Users/Razogarz/PycharmProjects/airport-controller/rivalAgents/valid/images/029955_jpg.rf.621e108ce870086f43d098a74a6d6152.jpg: 416x416 (no detections), 16.3ms\n",
      "image 856/1766 /mnt/c/Users/Razogarz/PycharmProjects/airport-controller/rivalAgents/valid/images/029957_jpg.rf.4c03c4db06db80bc6d30f3b87e7eee6c.jpg: 416x416 2 4s, 13.6ms\n",
      "image 857/1766 /mnt/c/Users/Razogarz/PycharmProjects/airport-controller/rivalAgents/valid/images/029959_jpg.rf.eea9bd463545a673ce905892a8c6fc90.jpg: 416x416 1 1, 18.4ms\n",
      "image 858/1766 /mnt/c/Users/Razogarz/PycharmProjects/airport-controller/rivalAgents/valid/images/029970_jpg.rf.4b57ea29e4e6cc09172801651a1fc7f5.jpg: 416x416 1 1, 1 4, 12.8ms\n",
      "image 859/1766 /mnt/c/Users/Razogarz/PycharmProjects/airport-controller/rivalAgents/valid/images/029978_jpg.rf.4941b37cc7a5cd743cf5b7866ef49f8f.jpg: 416x416 1 4, 7.4ms\n",
      "image 860/1766 /mnt/c/Users/Razogarz/PycharmProjects/airport-controller/rivalAgents/valid/images/029982_jpg.rf.0c74362ff5257385d7e06f7e3761a234.jpg: 416x416 (no detections), 7.4ms\n",
      "image 861/1766 /mnt/c/Users/Razogarz/PycharmProjects/airport-controller/rivalAgents/valid/images/029983_jpg.rf.c48d50b395feb0996a2da28c21cc0de4.jpg: 416x416 1 4, 8.1ms\n",
      "image 862/1766 /mnt/c/Users/Razogarz/PycharmProjects/airport-controller/rivalAgents/valid/images/030013_jpg.rf.4c25840506fd6f4a4d1e4c87353241c3.jpg: 416x416 1 3, 12.9ms\n",
      "image 863/1766 /mnt/c/Users/Razogarz/PycharmProjects/airport-controller/rivalAgents/valid/images/030014_jpg.rf.8a948ab989ffa20f585e135ca150c551.jpg: 416x416 (no detections), 18.2ms\n",
      "image 864/1766 /mnt/c/Users/Razogarz/PycharmProjects/airport-controller/rivalAgents/valid/images/030016_jpg.rf.30bc0907d013f837df78fcedb0217060.jpg: 416x416 1 4, 7.4ms\n",
      "image 865/1766 /mnt/c/Users/Razogarz/PycharmProjects/airport-controller/rivalAgents/valid/images/030070_jpg.rf.a5d6ed5c4cb77598978b6223ad64ea9d.jpg: 416x416 (no detections), 13.4ms\n",
      "image 866/1766 /mnt/c/Users/Razogarz/PycharmProjects/airport-controller/rivalAgents/valid/images/030084_jpg.rf.6f289c8589b084ae29c14b832e4ff57d.jpg: 416x416 1 3, 18.3ms\n",
      "image 867/1766 /mnt/c/Users/Razogarz/PycharmProjects/airport-controller/rivalAgents/valid/images/030109_jpg.rf.01c0fab4297e2f2d5d76cc44f242e524.jpg: 416x416 (no detections), 12.0ms\n",
      "image 868/1766 /mnt/c/Users/Razogarz/PycharmProjects/airport-controller/rivalAgents/valid/images/030111_jpg.rf.d9e521ea3429d94c138630793c053257.jpg: 416x416 (no detections), 12.2ms\n",
      "image 869/1766 /mnt/c/Users/Razogarz/PycharmProjects/airport-controller/rivalAgents/valid/images/030116_jpg.rf.6434c659676bedb9c91aa3446fd87112.jpg: 416x416 1 1, 12.2ms\n",
      "image 870/1766 /mnt/c/Users/Razogarz/PycharmProjects/airport-controller/rivalAgents/valid/images/030128_jpg.rf.fb0e324f122dd833fee178d8607b3808.jpg: 416x416 (no detections), 12.8ms\n",
      "image 871/1766 /mnt/c/Users/Razogarz/PycharmProjects/airport-controller/rivalAgents/valid/images/030140_jpg.rf.721ce286057af48c74e2380b8cc2ff1b.jpg: 416x416 (no detections), 12.1ms\n",
      "image 872/1766 /mnt/c/Users/Razogarz/PycharmProjects/airport-controller/rivalAgents/valid/images/030160_jpg.rf.2b901e4e2404c8f915c393db722bc4ac.jpg: 416x416 1 1, 16.9ms\n",
      "image 873/1766 /mnt/c/Users/Razogarz/PycharmProjects/airport-controller/rivalAgents/valid/images/030165_jpg.rf.051c85cdb9f08b45d019ceada4b01ccf.jpg: 416x416 (no detections), 15.7ms\n",
      "image 874/1766 /mnt/c/Users/Razogarz/PycharmProjects/airport-controller/rivalAgents/valid/images/030208_jpg.rf.34e7740d1a11b37ee3abf116cbace4a1.jpg: 416x416 (no detections), 8.2ms\n",
      "image 875/1766 /mnt/c/Users/Razogarz/PycharmProjects/airport-controller/rivalAgents/valid/images/030214_jpg.rf.2cb318bfe61a441e7c669725b4f9913e.jpg: 416x416 1 0, 11.9ms\n",
      "image 876/1766 /mnt/c/Users/Razogarz/PycharmProjects/airport-controller/rivalAgents/valid/images/030220_jpg.rf.76e0ec0a880289628a518744bd2ef81a.jpg: 416x416 (no detections), 12.7ms\n",
      "image 877/1766 /mnt/c/Users/Razogarz/PycharmProjects/airport-controller/rivalAgents/valid/images/030240_jpg.rf.1d42a50f6a5bdb91be841ad5529a228e.jpg: 416x416 1 1, 10.5ms\n",
      "image 878/1766 /mnt/c/Users/Razogarz/PycharmProjects/airport-controller/rivalAgents/valid/images/030246_jpg.rf.5b0c4bd19f4d01f53d6090fb8b1c11f1.jpg: 416x416 2 1s, 10.3ms\n",
      "image 879/1766 /mnt/c/Users/Razogarz/PycharmProjects/airport-controller/rivalAgents/valid/images/030255_jpg.rf.94844a20e33ff898cd98e598fd898622.jpg: 416x416 1 1, 13.1ms\n",
      "image 880/1766 /mnt/c/Users/Razogarz/PycharmProjects/airport-controller/rivalAgents/valid/images/030266_jpg.rf.63797abca78cf9f9ec02d5cc43e1366f.jpg: 416x416 1 4, 10.7ms\n",
      "image 881/1766 /mnt/c/Users/Razogarz/PycharmProjects/airport-controller/rivalAgents/valid/images/030270_jpg.rf.3636e7a2fc1c3fada37a3382d1653a0e.jpg: 416x416 1 4, 18.7ms\n",
      "image 882/1766 /mnt/c/Users/Razogarz/PycharmProjects/airport-controller/rivalAgents/valid/images/030281_jpg.rf.78ae09c13313839afe75471c5913c386.jpg: 416x416 1 1, 10.8ms\n",
      "image 883/1766 /mnt/c/Users/Razogarz/PycharmProjects/airport-controller/rivalAgents/valid/images/030284_jpg.rf.142dfe9007d23a8bbdc52deb7a274bfa.jpg: 416x416 1 3, 13.3ms\n",
      "image 884/1766 /mnt/c/Users/Razogarz/PycharmProjects/airport-controller/rivalAgents/valid/images/030311_jpg.rf.0948d5ee1021c5163e0fc5e85263fb1a.jpg: 416x416 1 1, 12.5ms\n",
      "image 885/1766 /mnt/c/Users/Razogarz/PycharmProjects/airport-controller/rivalAgents/valid/images/030327_jpg.rf.c40525bf9b99efaeea8338811312c58a.jpg: 416x416 (no detections), 15.0ms\n",
      "image 886/1766 /mnt/c/Users/Razogarz/PycharmProjects/airport-controller/rivalAgents/valid/images/030347_jpg.rf.4c6eb9407f8603da4402378f96cbd33d.jpg: 416x416 1 4, 7.5ms\n",
      "image 887/1766 /mnt/c/Users/Razogarz/PycharmProjects/airport-controller/rivalAgents/valid/images/030354_jpg.rf.0a74ad5558159287e3f4aaf6a19bbaa6.jpg: 416x416 2 0s, 1 1, 11.3ms\n",
      "image 888/1766 /mnt/c/Users/Razogarz/PycharmProjects/airport-controller/rivalAgents/valid/images/030384_jpg.rf.f03ebdaf18f55b8fe2246abf55282bbd.jpg: 416x416 1 3, 13.4ms\n",
      "image 889/1766 /mnt/c/Users/Razogarz/PycharmProjects/airport-controller/rivalAgents/valid/images/030388_jpg.rf.448a13643ff1306ed0dfc0ef45a8efa1.jpg: 416x416 (no detections), 19.2ms\n",
      "image 890/1766 /mnt/c/Users/Razogarz/PycharmProjects/airport-controller/rivalAgents/valid/images/030413_jpg.rf.0693ba615af3f1698585869fe402d339.jpg: 416x416 1 3, 20.1ms\n",
      "image 891/1766 /mnt/c/Users/Razogarz/PycharmProjects/airport-controller/rivalAgents/valid/images/030418_jpg.rf.0d53463c318b5d480bece870bb423a50.jpg: 416x416 (no detections), 12.2ms\n",
      "image 892/1766 /mnt/c/Users/Razogarz/PycharmProjects/airport-controller/rivalAgents/valid/images/030419_jpg.rf.a322050849bc2f0236a41393c5538998.jpg: 416x416 1 1, 1 4, 13.9ms\n",
      "image 893/1766 /mnt/c/Users/Razogarz/PycharmProjects/airport-controller/rivalAgents/valid/images/030435_jpg.rf.2f40ab4a8f9c58742ab309025025b589.jpg: 416x416 (no detections), 14.2ms\n",
      "image 894/1766 /mnt/c/Users/Razogarz/PycharmProjects/airport-controller/rivalAgents/valid/images/030463_jpg.rf.0c9fc1724c3b1c8cb397f52a2c0e688f.jpg: 416x416 1 4, 7.6ms\n",
      "image 895/1766 /mnt/c/Users/Razogarz/PycharmProjects/airport-controller/rivalAgents/valid/images/030524_jpg.rf.9a7ccdab4c08ad6948e9d748d5cd7828.jpg: 416x416 (no detections), 10.5ms\n",
      "image 896/1766 /mnt/c/Users/Razogarz/PycharmProjects/airport-controller/rivalAgents/valid/images/030535_jpg.rf.103bb55d30f886a629f77c28fcea63ee.jpg: 416x416 1 4, 6.7ms\n",
      "image 897/1766 /mnt/c/Users/Razogarz/PycharmProjects/airport-controller/rivalAgents/valid/images/030537_jpg.rf.4af10f9b13e1a171fb9b1a46462ae9db.jpg: 416x416 1 1, 14.3ms\n",
      "image 898/1766 /mnt/c/Users/Razogarz/PycharmProjects/airport-controller/rivalAgents/valid/images/030544_jpg.rf.8db9f4a43eff6580bd3571f7e70578c8.jpg: 416x416 1 3, 14.4ms\n",
      "image 899/1766 /mnt/c/Users/Razogarz/PycharmProjects/airport-controller/rivalAgents/valid/images/030557_jpg.rf.2a837cbe91fb8c76f431626637d5408a.jpg: 416x416 1 1, 15.9ms\n",
      "image 900/1766 /mnt/c/Users/Razogarz/PycharmProjects/airport-controller/rivalAgents/valid/images/030563_jpg.rf.6248e7a9ee95db83939f1cdb9b54231e.jpg: 416x416 (no detections), 8.2ms\n",
      "image 901/1766 /mnt/c/Users/Razogarz/PycharmProjects/airport-controller/rivalAgents/valid/images/030565_jpg.rf.8dc816a6ba6c5ce86e10cf7cfe717fbf.jpg: 416x416 1 3, 12.9ms\n",
      "image 902/1766 /mnt/c/Users/Razogarz/PycharmProjects/airport-controller/rivalAgents/valid/images/030569_jpg.rf.ea4aae1803555fc979a6bb2d998dba8d.jpg: 416x416 (no detections), 8.0ms\n",
      "image 903/1766 /mnt/c/Users/Razogarz/PycharmProjects/airport-controller/rivalAgents/valid/images/030586_jpg.rf.1192758bb86953928e64ec1d505de01f.jpg: 416x416 2 3s, 14.3ms\n",
      "image 904/1766 /mnt/c/Users/Razogarz/PycharmProjects/airport-controller/rivalAgents/valid/images/030596_jpg.rf.50b43ff38bc77c9a30aa5b65a1a4456b.jpg: 416x416 1 4, 7.0ms\n",
      "image 905/1766 /mnt/c/Users/Razogarz/PycharmProjects/airport-controller/rivalAgents/valid/images/030603_jpg.rf.59b3a18adbbff3ba93aa07006dcf978e.jpg: 416x416 2 0s, 11.9ms\n",
      "image 906/1766 /mnt/c/Users/Razogarz/PycharmProjects/airport-controller/rivalAgents/valid/images/030616_jpg.rf.bbbfda37a11feb0d218d1348f2ddd758.jpg: 416x416 1 3, 13.8ms\n",
      "image 907/1766 /mnt/c/Users/Razogarz/PycharmProjects/airport-controller/rivalAgents/valid/images/030670_jpg.rf.606a9843b625a98b5bef3aba24ad5aa4.jpg: 416x416 (no detections), 8.7ms\n",
      "image 908/1766 /mnt/c/Users/Razogarz/PycharmProjects/airport-controller/rivalAgents/valid/images/030689_jpg.rf.a615c90d62198c69f5520af56f7e08c4.jpg: 416x416 (no detections), 20.5ms\n",
      "image 909/1766 /mnt/c/Users/Razogarz/PycharmProjects/airport-controller/rivalAgents/valid/images/030706_jpg.rf.6337f6c42f1e15f9ac8063283df9e496.jpg: 416x416 (no detections), 8.8ms\n",
      "image 910/1766 /mnt/c/Users/Razogarz/PycharmProjects/airport-controller/rivalAgents/valid/images/030723_jpg.rf.b87b5bcf2acc2444571dcb9c1bcf91fb.jpg: 416x416 (no detections), 15.1ms\n",
      "image 911/1766 /mnt/c/Users/Razogarz/PycharmProjects/airport-controller/rivalAgents/valid/images/030725_jpg.rf.5886b06002ed6a18eddb45cdb859eba6.jpg: 416x416 2 1s, 11.4ms\n",
      "image 912/1766 /mnt/c/Users/Razogarz/PycharmProjects/airport-controller/rivalAgents/valid/images/030735_jpg.rf.f725978059240d740d6bbabf70fd8b58.jpg: 416x416 1 1, 15.1ms\n",
      "image 913/1766 /mnt/c/Users/Razogarz/PycharmProjects/airport-controller/rivalAgents/valid/images/030758_jpg.rf.d9cfbc5d32f7192841db83ae857e7810.jpg: 416x416 2 4s, 14.4ms\n",
      "image 914/1766 /mnt/c/Users/Razogarz/PycharmProjects/airport-controller/rivalAgents/valid/images/030774_jpg.rf.b6c7f63a69cbf8984b7157f3c8c7996e.jpg: 416x416 1 1, 15.4ms\n",
      "image 915/1766 /mnt/c/Users/Razogarz/PycharmProjects/airport-controller/rivalAgents/valid/images/030782_jpg.rf.65cfeb3bbb890c910eac103bf1b4b219.jpg: 416x416 1 4, 10.7ms\n",
      "image 916/1766 /mnt/c/Users/Razogarz/PycharmProjects/airport-controller/rivalAgents/valid/images/030796_jpg.rf.9bd58f0c3b880077d98ce1054eede2b1.jpg: 416x416 1 1, 20.4ms\n",
      "image 917/1766 /mnt/c/Users/Razogarz/PycharmProjects/airport-controller/rivalAgents/valid/images/030809_jpg.rf.c501f404af4b7aacd0a683cbbfa1d140.jpg: 416x416 (no detections), 14.6ms\n",
      "image 918/1766 /mnt/c/Users/Razogarz/PycharmProjects/airport-controller/rivalAgents/valid/images/030813_jpg.rf.645ed3f61968cedd6af53356730c8755.jpg: 416x416 (no detections), 13.7ms\n",
      "image 919/1766 /mnt/c/Users/Razogarz/PycharmProjects/airport-controller/rivalAgents/valid/images/030815_jpg.rf.bbb880632c71c08e2feafafb41015812.jpg: 416x416 (no detections), 15.5ms\n",
      "image 920/1766 /mnt/c/Users/Razogarz/PycharmProjects/airport-controller/rivalAgents/valid/images/030837_jpg.rf.6d4965e2f1524060e1d0bd2cf29562df.jpg: 416x416 1 4, 7.6ms\n",
      "image 921/1766 /mnt/c/Users/Razogarz/PycharmProjects/airport-controller/rivalAgents/valid/images/030854_jpg.rf.0305f1f00fd931f5065d53c486ad4c30.jpg: 416x416 (no detections), 16.4ms\n",
      "image 922/1766 /mnt/c/Users/Razogarz/PycharmProjects/airport-controller/rivalAgents/valid/images/030878_jpg.rf.c754cbdb73b88caed043383efd11ee2a.jpg: 416x416 1 3, 15.4ms\n",
      "image 923/1766 /mnt/c/Users/Razogarz/PycharmProjects/airport-controller/rivalAgents/valid/images/030907_jpg.rf.57bbed001c5be96f1717f1c305e7b9fb.jpg: 416x416 1 1, 10.8ms\n",
      "image 924/1766 /mnt/c/Users/Razogarz/PycharmProjects/airport-controller/rivalAgents/valid/images/030919_jpg.rf.02734dea1f6983005269b0bc20861971.jpg: 416x416 1 4, 9.9ms\n",
      "image 925/1766 /mnt/c/Users/Razogarz/PycharmProjects/airport-controller/rivalAgents/valid/images/030929_jpg.rf.426e183a9a62e37e488a731c5cd7f8c9.jpg: 416x416 1 1, 14.8ms\n",
      "image 926/1766 /mnt/c/Users/Razogarz/PycharmProjects/airport-controller/rivalAgents/valid/images/030934_jpg.rf.6b86f2edf015f4a2ca28492d8f53c9bd.jpg: 416x416 1 4, 15.2ms\n",
      "image 927/1766 /mnt/c/Users/Razogarz/PycharmProjects/airport-controller/rivalAgents/valid/images/030936_jpg.rf.f3bd78ce906644f5fd370d6c6dbf39c6.jpg: 416x416 (no detections), 18.3ms\n",
      "image 928/1766 /mnt/c/Users/Razogarz/PycharmProjects/airport-controller/rivalAgents/valid/images/030940_jpg.rf.5cb30ccfbf06f2ace0b889cb0d6ec2dd.jpg: 416x416 (no detections), 14.3ms\n",
      "image 929/1766 /mnt/c/Users/Razogarz/PycharmProjects/airport-controller/rivalAgents/valid/images/030983_jpg.rf.a9ad9ba6828deab8306df7c4dfc86592.jpg: 416x416 (no detections), 31.4ms\n",
      "image 930/1766 /mnt/c/Users/Razogarz/PycharmProjects/airport-controller/rivalAgents/valid/images/031024_jpg.rf.8a1b4603334a40acf6b8c6e26b3e75f4.jpg: 416x416 1 4, 24.0ms\n",
      "image 931/1766 /mnt/c/Users/Razogarz/PycharmProjects/airport-controller/rivalAgents/valid/images/031074_jpg.rf.934db2df26a1a094beec516996f0d592.jpg: 416x416 2 3s, 1 4, 14.5ms\n",
      "image 932/1766 /mnt/c/Users/Razogarz/PycharmProjects/airport-controller/rivalAgents/valid/images/031093_jpg.rf.7ce1e0d1a19e24fda31ac7844918b381.jpg: 416x416 (no detections), 20.3ms\n",
      "image 933/1766 /mnt/c/Users/Razogarz/PycharmProjects/airport-controller/rivalAgents/valid/images/031107_jpg.rf.ea07bf1cefa78f676521e33d5a9efed0.jpg: 416x416 1 1, 23.5ms\n",
      "image 934/1766 /mnt/c/Users/Razogarz/PycharmProjects/airport-controller/rivalAgents/valid/images/031121_jpg.rf.68efa693fc0448ffec840524f730c0d6.jpg: 416x416 1 4, 15.8ms\n",
      "image 935/1766 /mnt/c/Users/Razogarz/PycharmProjects/airport-controller/rivalAgents/valid/images/031139_jpg.rf.129c4c0e34352bdf712dadab99d3d82d.jpg: 416x416 (no detections), 20.3ms\n",
      "image 936/1766 /mnt/c/Users/Razogarz/PycharmProjects/airport-controller/rivalAgents/valid/images/031184_jpg.rf.9f128539932a239b20a2b230f570846c.jpg: 416x416 1 4, 13.8ms\n",
      "image 937/1766 /mnt/c/Users/Razogarz/PycharmProjects/airport-controller/rivalAgents/valid/images/031204_jpg.rf.f73a8399e4210e00e1233b82e24fbc6c.jpg: 416x416 2 1s, 10.3ms\n",
      "image 938/1766 /mnt/c/Users/Razogarz/PycharmProjects/airport-controller/rivalAgents/valid/images/031219_jpg.rf.a9f2a11686e734ce1f002f0725e441d7.jpg: 416x416 2 3s, 19.6ms\n",
      "image 939/1766 /mnt/c/Users/Razogarz/PycharmProjects/airport-controller/rivalAgents/valid/images/031233_jpg.rf.cdb35d1531aca43f917173390cc521bb.jpg: 416x416 1 4, 20.0ms\n",
      "image 940/1766 /mnt/c/Users/Razogarz/PycharmProjects/airport-controller/rivalAgents/valid/images/031234_jpg.rf.1c16c1535df80f3913d721aa77a81b3e.jpg: 416x416 1 3, 8.6ms\n",
      "image 941/1766 /mnt/c/Users/Razogarz/PycharmProjects/airport-controller/rivalAgents/valid/images/031255_jpg.rf.f6068cde1c7033c1f962712fd85427f2.jpg: 416x416 (no detections), 14.1ms\n",
      "image 942/1766 /mnt/c/Users/Razogarz/PycharmProjects/airport-controller/rivalAgents/valid/images/031259_jpg.rf.42cfbd4a3d5f35b5dd2f96ac5bb527a7.jpg: 416x416 (no detections), 12.6ms\n",
      "image 943/1766 /mnt/c/Users/Razogarz/PycharmProjects/airport-controller/rivalAgents/valid/images/031269_jpg.rf.9f3eaf3a880130bcd7c5e1d4d8b0a850.jpg: 416x416 1 0, 2 1s, 12.6ms\n",
      "image 944/1766 /mnt/c/Users/Razogarz/PycharmProjects/airport-controller/rivalAgents/valid/images/031280_jpg.rf.f772a520f1420a960097895f41e62e8a.jpg: 416x416 1 3, 22.3ms\n",
      "image 945/1766 /mnt/c/Users/Razogarz/PycharmProjects/airport-controller/rivalAgents/valid/images/031284_jpg.rf.0e0c692e4d33dff344e800c85eece8c9.jpg: 416x416 2 3s, 9.1ms\n",
      "image 946/1766 /mnt/c/Users/Razogarz/PycharmProjects/airport-controller/rivalAgents/valid/images/031287_jpg.rf.d88db42d77646aac340f7982308608f9.jpg: 416x416 2 1s, 15.5ms\n",
      "image 947/1766 /mnt/c/Users/Razogarz/PycharmProjects/airport-controller/rivalAgents/valid/images/031311_jpg.rf.69acf5f0064d1a8f39982d932dde5035.jpg: 416x416 (no detections), 26.3ms\n",
      "image 948/1766 /mnt/c/Users/Razogarz/PycharmProjects/airport-controller/rivalAgents/valid/images/031316_jpg.rf.b6c8ac436ad681989a13b0fd3c890fd7.jpg: 416x416 (no detections), 13.5ms\n",
      "image 949/1766 /mnt/c/Users/Razogarz/PycharmProjects/airport-controller/rivalAgents/valid/images/031330_jpg.rf.bcbe23d624e7d55e6e6ffb68994f26cb.jpg: 416x416 (no detections), 21.6ms\n",
      "image 950/1766 /mnt/c/Users/Razogarz/PycharmProjects/airport-controller/rivalAgents/valid/images/031336_jpg.rf.b7e5fd53e86f88ab9c4dbf8a0ffbd2d7.jpg: 416x416 (no detections), 16.1ms\n",
      "image 951/1766 /mnt/c/Users/Razogarz/PycharmProjects/airport-controller/rivalAgents/valid/images/031343_jpg.rf.8a3c67b5d5fcb0e87c3a409a76197c2a.jpg: 416x416 (no detections), 16.8ms\n",
      "image 952/1766 /mnt/c/Users/Razogarz/PycharmProjects/airport-controller/rivalAgents/valid/images/031349_jpg.rf.12e64e982a50fd8c8f0f83e154398c40.jpg: 416x416 1 4, 21.4ms\n",
      "image 953/1766 /mnt/c/Users/Razogarz/PycharmProjects/airport-controller/rivalAgents/valid/images/031356_jpg.rf.433e5574e789539c7783cc58bf6a4ed5.jpg: 416x416 (no detections), 13.8ms\n",
      "image 954/1766 /mnt/c/Users/Razogarz/PycharmProjects/airport-controller/rivalAgents/valid/images/031360_jpg.rf.b903ced4919cbe7cc4aac73046fe53fc.jpg: 416x416 1 1, 1 4, 16.5ms\n",
      "image 955/1766 /mnt/c/Users/Razogarz/PycharmProjects/airport-controller/rivalAgents/valid/images/031375_jpg.rf.1980db5885d9b510149af299d1547ddf.jpg: 416x416 (no detections), 16.6ms\n",
      "image 956/1766 /mnt/c/Users/Razogarz/PycharmProjects/airport-controller/rivalAgents/valid/images/031379_jpg.rf.420ec25b728c3bdd7b8da8c3e62ea89a.jpg: 416x416 (no detections), 17.4ms\n",
      "image 957/1766 /mnt/c/Users/Razogarz/PycharmProjects/airport-controller/rivalAgents/valid/images/031397_jpg.rf.3070ca1a0c481e377fdf56a388b9f8d8.jpg: 416x416 2 4s, 12.9ms\n",
      "image 958/1766 /mnt/c/Users/Razogarz/PycharmProjects/airport-controller/rivalAgents/valid/images/031430_jpg.rf.5963809c5ef3f918a7f745e6ed1a6274.jpg: 416x416 (no detections), 25.9ms\n",
      "image 959/1766 /mnt/c/Users/Razogarz/PycharmProjects/airport-controller/rivalAgents/valid/images/031443_jpg.rf.7701755ee71fe8fe00c263ab511b6d5c.jpg: 416x416 (no detections), 15.2ms\n",
      "image 960/1766 /mnt/c/Users/Razogarz/PycharmProjects/airport-controller/rivalAgents/valid/images/031460_jpg.rf.27544a5886d205a2774b30eaddcb935c.jpg: 416x416 1 1, 28.7ms\n",
      "image 961/1766 /mnt/c/Users/Razogarz/PycharmProjects/airport-controller/rivalAgents/valid/images/031483_jpg.rf.b12b21e0f3b128339de645d0c90e268f.jpg: 416x416 1 0, 16.6ms\n",
      "image 962/1766 /mnt/c/Users/Razogarz/PycharmProjects/airport-controller/rivalAgents/valid/images/031484_jpg.rf.9a07295b13b9731a1543ea71471d76a6.jpg: 416x416 1 3, 28.6ms\n",
      "image 963/1766 /mnt/c/Users/Razogarz/PycharmProjects/airport-controller/rivalAgents/valid/images/031487_jpg.rf.0a373b892698d5b42548170633698670.jpg: 416x416 1 3, 14.5ms\n",
      "image 964/1766 /mnt/c/Users/Razogarz/PycharmProjects/airport-controller/rivalAgents/valid/images/031498_jpg.rf.9c375febe239c4aecdd086f649399047.jpg: 416x416 (no detections), 13.0ms\n",
      "image 965/1766 /mnt/c/Users/Razogarz/PycharmProjects/airport-controller/rivalAgents/valid/images/031502_jpg.rf.ef649392b32069856094f5961faba9b1.jpg: 416x416 1 3, 17.7ms\n",
      "image 966/1766 /mnt/c/Users/Razogarz/PycharmProjects/airport-controller/rivalAgents/valid/images/031505_jpg.rf.78c6659622c8f34acff2b71cb2f3b297.jpg: 416x416 1 1, 13.4ms\n",
      "image 967/1766 /mnt/c/Users/Razogarz/PycharmProjects/airport-controller/rivalAgents/valid/images/031506_jpg.rf.8b19d75a742716be0a44f1bec670ddf0.jpg: 416x416 1 1, 16.4ms\n",
      "image 968/1766 /mnt/c/Users/Razogarz/PycharmProjects/airport-controller/rivalAgents/valid/images/031513_jpg.rf.ac2085d382e2db0a5d71d5eb6e330386.jpg: 416x416 1 4, 11.2ms\n",
      "image 969/1766 /mnt/c/Users/Razogarz/PycharmProjects/airport-controller/rivalAgents/valid/images/031555_jpg.rf.49e5f911af3b20f94a5ecb0bd39d13bb.jpg: 416x416 2 3s, 11.6ms\n",
      "image 970/1766 /mnt/c/Users/Razogarz/PycharmProjects/airport-controller/rivalAgents/valid/images/031580_jpg.rf.97715930df530f36ae64d6254480e6a1.jpg: 416x416 1 1, 16.3ms\n",
      "image 971/1766 /mnt/c/Users/Razogarz/PycharmProjects/airport-controller/rivalAgents/valid/images/031584_jpg.rf.ea230c9a0328e4e5b10e36811887df8f.jpg: 416x416 (no detections), 13.4ms\n",
      "image 972/1766 /mnt/c/Users/Razogarz/PycharmProjects/airport-controller/rivalAgents/valid/images/031606_jpg.rf.48da0cb4cdb667770a01866198296323.jpg: 416x416 1 1, 1 4, 13.4ms\n",
      "image 973/1766 /mnt/c/Users/Razogarz/PycharmProjects/airport-controller/rivalAgents/valid/images/031630_jpg.rf.a29ee7e51b646809e012a1b395d4bfc9.jpg: 416x416 1 3, 18.9ms\n",
      "image 974/1766 /mnt/c/Users/Razogarz/PycharmProjects/airport-controller/rivalAgents/valid/images/031651_jpg.rf.992f7fb989ce91a132dc81f531edd405.jpg: 416x416 1 0, 1 3, 17.3ms\n",
      "image 975/1766 /mnt/c/Users/Razogarz/PycharmProjects/airport-controller/rivalAgents/valid/images/031665_jpg.rf.f3af1ff4eab84f86d1721f12eefb5917.jpg: 416x416 1 0, 1 4, 11.8ms\n",
      "image 976/1766 /mnt/c/Users/Razogarz/PycharmProjects/airport-controller/rivalAgents/valid/images/031678_jpg.rf.376c2205e7d4409166b6ac9a53e6050d.jpg: 416x416 1 1, 8.2ms\n",
      "image 977/1766 /mnt/c/Users/Razogarz/PycharmProjects/airport-controller/rivalAgents/valid/images/031708_jpg.rf.6ccecdd6ce85148503ddf1f2b0de3278.jpg: 416x416 2 3s, 1 4, 12.0ms\n",
      "image 978/1766 /mnt/c/Users/Razogarz/PycharmProjects/airport-controller/rivalAgents/valid/images/031723_jpg.rf.a44a1f87aa37109a90847d5dab763c64.jpg: 416x416 1 1, 15.1ms\n",
      "image 979/1766 /mnt/c/Users/Razogarz/PycharmProjects/airport-controller/rivalAgents/valid/images/031744_jpg.rf.1c41dd0511140f135e81e83d1a44471a.jpg: 416x416 2 4s, 11.3ms\n",
      "image 980/1766 /mnt/c/Users/Razogarz/PycharmProjects/airport-controller/rivalAgents/valid/images/031748_jpg.rf.4d87450aeb3ae66439b220041fbd63cd.jpg: 416x416 1 0, 8.7ms\n",
      "image 981/1766 /mnt/c/Users/Razogarz/PycharmProjects/airport-controller/rivalAgents/valid/images/031755_jpg.rf.899542801edc9f2fc54650fc4ddc432f.jpg: 416x416 1 4, 10.2ms\n",
      "image 982/1766 /mnt/c/Users/Razogarz/PycharmProjects/airport-controller/rivalAgents/valid/images/031771_jpg.rf.f24e9981255f496673f8f490876b3868.jpg: 416x416 2 3s, 13.4ms\n",
      "image 983/1766 /mnt/c/Users/Razogarz/PycharmProjects/airport-controller/rivalAgents/valid/images/031791_jpg.rf.487230ec406cb9ad0292bf0d4546a277.jpg: 416x416 1 3, 10.0ms\n",
      "image 984/1766 /mnt/c/Users/Razogarz/PycharmProjects/airport-controller/rivalAgents/valid/images/031816_jpg.rf.a8f86f91801e77588a833e660338240b.jpg: 416x416 (no detections), 7.1ms\n",
      "image 985/1766 /mnt/c/Users/Razogarz/PycharmProjects/airport-controller/rivalAgents/valid/images/031840_jpg.rf.d4f5bdab6bc9eb7f04480c0d08f8411a.jpg: 416x416 1 1, 7.7ms\n",
      "image 986/1766 /mnt/c/Users/Razogarz/PycharmProjects/airport-controller/rivalAgents/valid/images/031869_jpg.rf.70acc094d9d2a2a29eeba25fa8bae489.jpg: 416x416 1 4, 25.2ms\n",
      "image 987/1766 /mnt/c/Users/Razogarz/PycharmProjects/airport-controller/rivalAgents/valid/images/031897_jpg.rf.fcb25cfb7d3b8aeef84152399e8560ae.jpg: 416x416 1 2, 14.2ms\n",
      "image 988/1766 /mnt/c/Users/Razogarz/PycharmProjects/airport-controller/rivalAgents/valid/images/031907_jpg.rf.364df20a58d6a2411b2af53d01f74016.jpg: 416x416 (no detections), 16.3ms\n",
      "image 989/1766 /mnt/c/Users/Razogarz/PycharmProjects/airport-controller/rivalAgents/valid/images/031908_jpg.rf.78bff6b5b2d94f711bb24a2f09963008.jpg: 416x416 (no detections), 16.4ms\n",
      "image 990/1766 /mnt/c/Users/Razogarz/PycharmProjects/airport-controller/rivalAgents/valid/images/031972_jpg.rf.15e6e54d715c71085b17df4d456170bc.jpg: 416x416 1 1, 18.1ms\n",
      "image 991/1766 /mnt/c/Users/Razogarz/PycharmProjects/airport-controller/rivalAgents/valid/images/031978_jpg.rf.2eefbed4d086f2c0aebceb6d4e0700c0.jpg: 416x416 (no detections), 16.6ms\n",
      "image 992/1766 /mnt/c/Users/Razogarz/PycharmProjects/airport-controller/rivalAgents/valid/images/031981_jpg.rf.24e18fe6000e18fa43d150a104349e29.jpg: 416x416 (no detections), 12.3ms\n",
      "image 993/1766 /mnt/c/Users/Razogarz/PycharmProjects/airport-controller/rivalAgents/valid/images/032016_jpg.rf.2fba8330859fde07bccf92ed6828c870.jpg: 416x416 (no detections), 18.0ms\n",
      "image 994/1766 /mnt/c/Users/Razogarz/PycharmProjects/airport-controller/rivalAgents/valid/images/032033_jpg.rf.26dbeeb429b58bd63f962e0908ecbc48.jpg: 416x416 (no detections), 10.5ms\n",
      "image 995/1766 /mnt/c/Users/Razogarz/PycharmProjects/airport-controller/rivalAgents/valid/images/032034_jpg.rf.aaa15555958488130c41ed132cf2b73f.jpg: 416x416 2 3s, 13.4ms\n",
      "image 996/1766 /mnt/c/Users/Razogarz/PycharmProjects/airport-controller/rivalAgents/valid/images/032045_jpg.rf.d284a98f07072c8e52af261bf0a3291c.jpg: 416x416 1 3, 17.0ms\n",
      "image 997/1766 /mnt/c/Users/Razogarz/PycharmProjects/airport-controller/rivalAgents/valid/images/032070_jpg.rf.b2fcec9b268eaa3c72d3306de08e7da8.jpg: 416x416 1 1, 15.1ms\n",
      "image 998/1766 /mnt/c/Users/Razogarz/PycharmProjects/airport-controller/rivalAgents/valid/images/032078_jpg.rf.691e66928fdd1d578c8fb226d7a1bbf3.jpg: 416x416 1 3, 7.3ms\n",
      "image 999/1766 /mnt/c/Users/Razogarz/PycharmProjects/airport-controller/rivalAgents/valid/images/032139_jpg.rf.7b2945098ae57e6715dc03e24e073370.jpg: 416x416 (no detections), 13.4ms\n",
      "image 1000/1766 /mnt/c/Users/Razogarz/PycharmProjects/airport-controller/rivalAgents/valid/images/032159_jpg.rf.a5d6995479eb712ac4b66460d632ccda.jpg: 416x416 (no detections), 8.2ms\n",
      "image 1001/1766 /mnt/c/Users/Razogarz/PycharmProjects/airport-controller/rivalAgents/valid/images/032186_jpg.rf.6d1f6781ee6f9376d53c4ab67cbefec3.jpg: 416x416 (no detections), 19.1ms\n",
      "image 1002/1766 /mnt/c/Users/Razogarz/PycharmProjects/airport-controller/rivalAgents/valid/images/032196_jpg.rf.d4681edaf1868df65be8831ecea91a69.jpg: 416x416 (no detections), 15.0ms\n",
      "image 1003/1766 /mnt/c/Users/Razogarz/PycharmProjects/airport-controller/rivalAgents/valid/images/032221_jpg.rf.d2508237f0daa97dee64f870303739c1.jpg: 416x416 1 1, 1 4, 9.4ms\n",
      "image 1004/1766 /mnt/c/Users/Razogarz/PycharmProjects/airport-controller/rivalAgents/valid/images/032229_jpg.rf.830b7b3a0d1c6f41a8c97bf6426ce50f.jpg: 416x416 1 4, 12.9ms\n",
      "image 1005/1766 /mnt/c/Users/Razogarz/PycharmProjects/airport-controller/rivalAgents/valid/images/032238_jpg.rf.7935a8926af0166ee4652c5fe4978aea.jpg: 416x416 (no detections), 12.4ms\n",
      "image 1006/1766 /mnt/c/Users/Razogarz/PycharmProjects/airport-controller/rivalAgents/valid/images/032246_jpg.rf.48601852cf1902189eedfeda91f6be7a.jpg: 416x416 1 4, 14.3ms\n",
      "image 1007/1766 /mnt/c/Users/Razogarz/PycharmProjects/airport-controller/rivalAgents/valid/images/032271_jpg.rf.e8721bf2bbc1022b641f88039ea33ea0.jpg: 416x416 1 4, 9.2ms\n",
      "image 1008/1766 /mnt/c/Users/Razogarz/PycharmProjects/airport-controller/rivalAgents/valid/images/032294_jpg.rf.91583b2b422fed524ddcfe7409d6b4ec.jpg: 416x416 (no detections), 13.8ms\n",
      "image 1009/1766 /mnt/c/Users/Razogarz/PycharmProjects/airport-controller/rivalAgents/valid/images/032300_jpg.rf.bc5eeea9bbb930448ddc333df6aba981.jpg: 416x416 (no detections), 10.8ms\n",
      "image 1010/1766 /mnt/c/Users/Razogarz/PycharmProjects/airport-controller/rivalAgents/valid/images/032317_jpg.rf.552ecfe22e71bbf35c1b6a7bed43561b.jpg: 416x416 (no detections), 12.4ms\n",
      "image 1011/1766 /mnt/c/Users/Razogarz/PycharmProjects/airport-controller/rivalAgents/valid/images/032399_jpg.rf.5682acbd505a6d6b65cc9aad73d47d6f.jpg: 416x416 (no detections), 12.5ms\n",
      "image 1012/1766 /mnt/c/Users/Razogarz/PycharmProjects/airport-controller/rivalAgents/valid/images/032415_jpg.rf.2decbc39412c01950defc1ccb75486d9.jpg: 416x416 (no detections), 7.1ms\n",
      "image 1013/1766 /mnt/c/Users/Razogarz/PycharmProjects/airport-controller/rivalAgents/valid/images/032421_jpg.rf.b077092e9b032b3f0b03335604baa644.jpg: 416x416 1 1, 8.7ms\n",
      "image 1014/1766 /mnt/c/Users/Razogarz/PycharmProjects/airport-controller/rivalAgents/valid/images/032435_jpg.rf.7e51bc19de4dc4ace04f5121f2c0dccd.jpg: 416x416 1 3, 10.9ms\n",
      "image 1015/1766 /mnt/c/Users/Razogarz/PycharmProjects/airport-controller/rivalAgents/valid/images/032459_jpg.rf.15ff960bb697e9201cd5a180adf29637.jpg: 416x416 1 1, 13.8ms\n",
      "image 1016/1766 /mnt/c/Users/Razogarz/PycharmProjects/airport-controller/rivalAgents/valid/images/032476_jpg.rf.25de8103e28c5ecbeafc63c5e17f4dfb.jpg: 416x416 (no detections), 11.1ms\n",
      "image 1017/1766 /mnt/c/Users/Razogarz/PycharmProjects/airport-controller/rivalAgents/valid/images/032504_jpg.rf.05d1dc3479d4099fb283e5e250c75cc8.jpg: 416x416 (no detections), 11.4ms\n",
      "image 1018/1766 /mnt/c/Users/Razogarz/PycharmProjects/airport-controller/rivalAgents/valid/images/032505_jpg.rf.d4f13af080fc9e1c1d2bccaa76fa02a6.jpg: 416x416 (no detections), 14.8ms\n",
      "image 1019/1766 /mnt/c/Users/Razogarz/PycharmProjects/airport-controller/rivalAgents/valid/images/032506_jpg.rf.868a37fe01c56f31932e262c47444831.jpg: 416x416 1 1, 1 4, 17.2ms\n",
      "image 1020/1766 /mnt/c/Users/Razogarz/PycharmProjects/airport-controller/rivalAgents/valid/images/032511_jpg.rf.7eb429321b07c30d2d073253df1d2a38.jpg: 416x416 1 1, 13.7ms\n",
      "image 1021/1766 /mnt/c/Users/Razogarz/PycharmProjects/airport-controller/rivalAgents/valid/images/032512_jpg.rf.7495b83e327586987b303b0998389e64.jpg: 416x416 1 4, 17.5ms\n",
      "image 1022/1766 /mnt/c/Users/Razogarz/PycharmProjects/airport-controller/rivalAgents/valid/images/032528_jpg.rf.3cd984783051ae34147aa363a041b54d.jpg: 416x416 (no detections), 16.3ms\n",
      "image 1023/1766 /mnt/c/Users/Razogarz/PycharmProjects/airport-controller/rivalAgents/valid/images/032537_jpg.rf.06dac3f54a3b9c8e11c66b0c0e96da19.jpg: 416x416 2 4s, 24.9ms\n",
      "image 1024/1766 /mnt/c/Users/Razogarz/PycharmProjects/airport-controller/rivalAgents/valid/images/032548_jpg.rf.67093bfbc70984656112bf0bea7d3935.jpg: 416x416 1 0, 1 1, 12.7ms\n",
      "image 1025/1766 /mnt/c/Users/Razogarz/PycharmProjects/airport-controller/rivalAgents/valid/images/032551_jpg.rf.02b8a8ca3b2c078321ddef33fbea0e77.jpg: 416x416 1 4, 17.8ms\n",
      "image 1026/1766 /mnt/c/Users/Razogarz/PycharmProjects/airport-controller/rivalAgents/valid/images/032556_jpg.rf.85acfc0ff4fbf85af1af93ac7be4b981.jpg: 416x416 (no detections), 15.1ms\n",
      "image 1027/1766 /mnt/c/Users/Razogarz/PycharmProjects/airport-controller/rivalAgents/valid/images/032569_jpg.rf.f46ce6d8031f6eb471265103fc554363.jpg: 416x416 2 3s, 7.5ms\n",
      "image 1028/1766 /mnt/c/Users/Razogarz/PycharmProjects/airport-controller/rivalAgents/valid/images/032570_jpg.rf.4961aa7ca4887e135b1618c9ea2bad55.jpg: 416x416 1 4, 11.9ms\n",
      "image 1029/1766 /mnt/c/Users/Razogarz/PycharmProjects/airport-controller/rivalAgents/valid/images/032574_jpg.rf.6777c9759c6eff82c8b949042c20e2b3.jpg: 416x416 (no detections), 13.7ms\n",
      "image 1030/1766 /mnt/c/Users/Razogarz/PycharmProjects/airport-controller/rivalAgents/valid/images/032578_jpg.rf.074473b7a9419828843141c89a6b6213.jpg: 416x416 1 1, 12.9ms\n",
      "image 1031/1766 /mnt/c/Users/Razogarz/PycharmProjects/airport-controller/rivalAgents/valid/images/032590_jpg.rf.77be278904234e58bae4717875118424.jpg: 416x416 1 1, 15.7ms\n",
      "image 1032/1766 /mnt/c/Users/Razogarz/PycharmProjects/airport-controller/rivalAgents/valid/images/032617_jpg.rf.2316b53db114d8a108a2972ac3f910dd.jpg: 416x416 1 4, 12.0ms\n",
      "image 1033/1766 /mnt/c/Users/Razogarz/PycharmProjects/airport-controller/rivalAgents/valid/images/032644_jpg.rf.0ed31a8c124f5fefd3ae4dcf4cadb754.jpg: 416x416 (no detections), 14.7ms\n",
      "image 1034/1766 /mnt/c/Users/Razogarz/PycharmProjects/airport-controller/rivalAgents/valid/images/032646_jpg.rf.19c71ed4c90c8676e7ec4f45974a2a28.jpg: 416x416 1 3, 8.2ms\n",
      "image 1035/1766 /mnt/c/Users/Razogarz/PycharmProjects/airport-controller/rivalAgents/valid/images/032706_jpg.rf.566ad68dca642ec1972403408e406468.jpg: 416x416 (no detections), 13.7ms\n",
      "image 1036/1766 /mnt/c/Users/Razogarz/PycharmProjects/airport-controller/rivalAgents/valid/images/032720_jpg.rf.8c1e5eb91cfc69de165daa6b23f6de6f.jpg: 416x416 1 4, 18.5ms\n",
      "image 1037/1766 /mnt/c/Users/Razogarz/PycharmProjects/airport-controller/rivalAgents/valid/images/032743_jpg.rf.b274a8ae2afd2c0179b57912269c59af.jpg: 416x416 1 3, 12.0ms\n",
      "image 1038/1766 /mnt/c/Users/Razogarz/PycharmProjects/airport-controller/rivalAgents/valid/images/032775_jpg.rf.322e3a1ede4cc9915dac448ef9a6092b.jpg: 416x416 1 2, 3 3s, 15.2ms\n",
      "image 1039/1766 /mnt/c/Users/Razogarz/PycharmProjects/airport-controller/rivalAgents/valid/images/032779_jpg.rf.a291718e651025be76ea2d1a8f9ed44e.jpg: 416x416 2 1s, 18.7ms\n",
      "image 1040/1766 /mnt/c/Users/Razogarz/PycharmProjects/airport-controller/rivalAgents/valid/images/032795_jpg.rf.f96180666c384ddcacb2efe0684132f5.jpg: 416x416 1 1, 11.7ms\n",
      "image 1041/1766 /mnt/c/Users/Razogarz/PycharmProjects/airport-controller/rivalAgents/valid/images/032835_jpg.rf.355fb98663bdcd7733a4f24f8f26a1af.jpg: 416x416 (no detections), 7.5ms\n",
      "image 1042/1766 /mnt/c/Users/Razogarz/PycharmProjects/airport-controller/rivalAgents/valid/images/032837_jpg.rf.7f1400b3f3b8591f0a41ccc34763d6f8.jpg: 416x416 1 1, 7.0ms\n",
      "image 1043/1766 /mnt/c/Users/Razogarz/PycharmProjects/airport-controller/rivalAgents/valid/images/032861_jpg.rf.0b6459cac438c0783fe4329297ace1d5.jpg: 416x416 (no detections), 13.8ms\n",
      "image 1044/1766 /mnt/c/Users/Razogarz/PycharmProjects/airport-controller/rivalAgents/valid/images/032880_jpg.rf.84cd6327ab8611e2f1375453f75bc070.jpg: 416x416 1 4, 9.6ms\n",
      "image 1045/1766 /mnt/c/Users/Razogarz/PycharmProjects/airport-controller/rivalAgents/valid/images/032889_jpg.rf.c8dbc7ea521cd7301b50221eca79a586.jpg: 416x416 (no detections), 8.8ms\n",
      "image 1046/1766 /mnt/c/Users/Razogarz/PycharmProjects/airport-controller/rivalAgents/valid/images/032890_jpg.rf.d2c88a812914c2c84b2ecabf89e3bce6.jpg: 416x416 (no detections), 6.8ms\n",
      "image 1047/1766 /mnt/c/Users/Razogarz/PycharmProjects/airport-controller/rivalAgents/valid/images/032896_jpg.rf.a223405d1ee47e00478afde273158350.jpg: 416x416 2 4s, 16.2ms\n",
      "image 1048/1766 /mnt/c/Users/Razogarz/PycharmProjects/airport-controller/rivalAgents/valid/images/032905_jpg.rf.d386b3affa1b3f037319a687b3ce1a60.jpg: 416x416 (no detections), 9.8ms\n",
      "image 1049/1766 /mnt/c/Users/Razogarz/PycharmProjects/airport-controller/rivalAgents/valid/images/032936_jpg.rf.918a580e7fabad9278a33f076780599d.jpg: 416x416 2 4s, 13.3ms\n",
      "image 1050/1766 /mnt/c/Users/Razogarz/PycharmProjects/airport-controller/rivalAgents/valid/images/032942_jpg.rf.ab29e71d2b36834d0fdfb62ad4410d5d.jpg: 416x416 (no detections), 7.1ms\n",
      "image 1051/1766 /mnt/c/Users/Razogarz/PycharmProjects/airport-controller/rivalAgents/valid/images/032948_jpg.rf.2f6305d96896e3b33475e40efa591081.jpg: 416x416 (no detections), 10.7ms\n",
      "image 1052/1766 /mnt/c/Users/Razogarz/PycharmProjects/airport-controller/rivalAgents/valid/images/032961_jpg.rf.ea69ac6106307a52465c04d833547e13.jpg: 416x416 (no detections), 12.3ms\n",
      "image 1053/1766 /mnt/c/Users/Razogarz/PycharmProjects/airport-controller/rivalAgents/valid/images/032981_jpg.rf.164bd3338855c35471767e49d2646eec.jpg: 416x416 (no detections), 13.6ms\n",
      "image 1054/1766 /mnt/c/Users/Razogarz/PycharmProjects/airport-controller/rivalAgents/valid/images/032984_jpg.rf.69987158a93dc6f049421f20903a3527.jpg: 416x416 (no detections), 14.3ms\n",
      "image 1055/1766 /mnt/c/Users/Razogarz/PycharmProjects/airport-controller/rivalAgents/valid/images/032986_jpg.rf.3dda6a56aabeb938009a9c662fd81b2d.jpg: 416x416 (no detections), 7.1ms\n",
      "image 1056/1766 /mnt/c/Users/Razogarz/PycharmProjects/airport-controller/rivalAgents/valid/images/032996_jpg.rf.5bc4f7b166d9c44224882be39b49bf7b.jpg: 416x416 1 4, 13.6ms\n",
      "image 1057/1766 /mnt/c/Users/Razogarz/PycharmProjects/airport-controller/rivalAgents/valid/images/033014_jpg.rf.dd9f613eb7b108a8b2573d309ea499e7.jpg: 416x416 1 1, 10.1ms\n",
      "image 1058/1766 /mnt/c/Users/Razogarz/PycharmProjects/airport-controller/rivalAgents/valid/images/033054_jpg.rf.468d1e029bfd82641442bc18a265f25a.jpg: 416x416 1 4, 12.3ms\n",
      "image 1059/1766 /mnt/c/Users/Razogarz/PycharmProjects/airport-controller/rivalAgents/valid/images/033058_jpg.rf.0b96d04f7d0166c148dffa8237763902.jpg: 416x416 1 1, 13.3ms\n",
      "image 1060/1766 /mnt/c/Users/Razogarz/PycharmProjects/airport-controller/rivalAgents/valid/images/033059_jpg.rf.8dd00ee530029ebced1acc2dae7f353d.jpg: 416x416 (no detections), 7.3ms\n",
      "image 1061/1766 /mnt/c/Users/Razogarz/PycharmProjects/airport-controller/rivalAgents/valid/images/033062_jpg.rf.eab7340e25a1156ae68be0d0aef947ea.jpg: 416x416 1 4, 11.1ms\n",
      "image 1062/1766 /mnt/c/Users/Razogarz/PycharmProjects/airport-controller/rivalAgents/valid/images/033092_jpg.rf.d17267e680ec0406a6acb869dc959c3a.jpg: 416x416 1 1, 12.7ms\n",
      "image 1063/1766 /mnt/c/Users/Razogarz/PycharmProjects/airport-controller/rivalAgents/valid/images/033094_jpg.rf.def3876cec84dc52cf4874ea23541738.jpg: 416x416 1 1, 7.3ms\n",
      "image 1064/1766 /mnt/c/Users/Razogarz/PycharmProjects/airport-controller/rivalAgents/valid/images/033096_jpg.rf.dd424892d1bea7ac944949c3ea208772.jpg: 416x416 (no detections), 7.9ms\n",
      "image 1065/1766 /mnt/c/Users/Razogarz/PycharmProjects/airport-controller/rivalAgents/valid/images/033098_jpg.rf.4105085372483bc422d4355597264e85.jpg: 416x416 1 4, 9.7ms\n",
      "image 1066/1766 /mnt/c/Users/Razogarz/PycharmProjects/airport-controller/rivalAgents/valid/images/033112_jpg.rf.7b870e98f6c81b0670c83bd3e0948e03.jpg: 416x416 (no detections), 15.8ms\n",
      "image 1067/1766 /mnt/c/Users/Razogarz/PycharmProjects/airport-controller/rivalAgents/valid/images/033114_jpg.rf.98cf1292569f9abfbfbc2ffd2ab8580b.jpg: 416x416 (no detections), 11.9ms\n",
      "image 1068/1766 /mnt/c/Users/Razogarz/PycharmProjects/airport-controller/rivalAgents/valid/images/033124_jpg.rf.6409128ba16815e882cc40977acfe57d.jpg: 416x416 3 3s, 7.8ms\n",
      "image 1069/1766 /mnt/c/Users/Razogarz/PycharmProjects/airport-controller/rivalAgents/valid/images/033125_jpg.rf.fb56424cf9069e15f19f47f4289cb289.jpg: 416x416 (no detections), 10.3ms\n",
      "image 1070/1766 /mnt/c/Users/Razogarz/PycharmProjects/airport-controller/rivalAgents/valid/images/033143_jpg.rf.98ffe14cc79501a5c98fdb99969487cb.jpg: 416x416 1 4, 11.1ms\n",
      "image 1071/1766 /mnt/c/Users/Razogarz/PycharmProjects/airport-controller/rivalAgents/valid/images/033146_jpg.rf.80f53df8f273bbc1abe4c9113b2e1f62.jpg: 416x416 1 2, 1 4, 14.1ms\n",
      "image 1072/1766 /mnt/c/Users/Razogarz/PycharmProjects/airport-controller/rivalAgents/valid/images/033235_jpg.rf.5cc2bf4155ce1e759b047b1d515a308c.jpg: 416x416 1 1, 12.7ms\n",
      "image 1073/1766 /mnt/c/Users/Razogarz/PycharmProjects/airport-controller/rivalAgents/valid/images/033251_jpg.rf.60e0a581342114f81128e0f846c2efb6.jpg: 416x416 (no detections), 8.9ms\n",
      "image 1074/1766 /mnt/c/Users/Razogarz/PycharmProjects/airport-controller/rivalAgents/valid/images/033272_jpg.rf.fdfccb044b5f9b336c3fb9a2f1bc80fa.jpg: 416x416 1 3, 12.4ms\n",
      "image 1075/1766 /mnt/c/Users/Razogarz/PycharmProjects/airport-controller/rivalAgents/valid/images/033283_jpg.rf.26f5903d171aeaa9b95ffa92e73a33e4.jpg: 416x416 1 3, 9.2ms\n",
      "image 1076/1766 /mnt/c/Users/Razogarz/PycharmProjects/airport-controller/rivalAgents/valid/images/033293_jpg.rf.4d825e213b11dbe9a133cfa2c4854241.jpg: 416x416 (no detections), 12.0ms\n",
      "image 1077/1766 /mnt/c/Users/Razogarz/PycharmProjects/airport-controller/rivalAgents/valid/images/033295_jpg.rf.73ac621b5c9531d38efc699dd0a57fb2.jpg: 416x416 2 1s, 11.5ms\n",
      "image 1078/1766 /mnt/c/Users/Razogarz/PycharmProjects/airport-controller/rivalAgents/valid/images/033297_jpg.rf.6675a86680ab24dc7c5ab41d1e11cc54.jpg: 416x416 (no detections), 14.3ms\n",
      "image 1079/1766 /mnt/c/Users/Razogarz/PycharmProjects/airport-controller/rivalAgents/valid/images/033312_jpg.rf.67a8a7d70c7c6ef30f4064e0eed81a28.jpg: 416x416 (no detections), 8.9ms\n",
      "image 1080/1766 /mnt/c/Users/Razogarz/PycharmProjects/airport-controller/rivalAgents/valid/images/033320_jpg.rf.95a47e588d3438810558904109688731.jpg: 416x416 1 3, 14.1ms\n",
      "image 1081/1766 /mnt/c/Users/Razogarz/PycharmProjects/airport-controller/rivalAgents/valid/images/033345_jpg.rf.bbb374477ce80417daef42c47a2fcdde.jpg: 416x416 2 4s, 9.1ms\n",
      "image 1082/1766 /mnt/c/Users/Razogarz/PycharmProjects/airport-controller/rivalAgents/valid/images/033349_jpg.rf.31274d524335d4eeaaafdbe408c080ea.jpg: 416x416 2 4s, 13.4ms\n",
      "image 1083/1766 /mnt/c/Users/Razogarz/PycharmProjects/airport-controller/rivalAgents/valid/images/033362_jpg.rf.81300baf75f310d2207a16e4fe860937.jpg: 416x416 2 4s, 13.4ms\n",
      "image 1084/1766 /mnt/c/Users/Razogarz/PycharmProjects/airport-controller/rivalAgents/valid/images/033366_jpg.rf.0acd0d89ebbe50c5a6c18ad64682d533.jpg: 416x416 (no detections), 14.2ms\n",
      "image 1085/1766 /mnt/c/Users/Razogarz/PycharmProjects/airport-controller/rivalAgents/valid/images/033371_jpg.rf.bc33de2631a2282459d01849054ad979.jpg: 416x416 (no detections), 13.1ms\n",
      "image 1086/1766 /mnt/c/Users/Razogarz/PycharmProjects/airport-controller/rivalAgents/valid/images/033374_jpg.rf.2ee4f8cf0e16048885840675ea9d4df7.jpg: 416x416 (no detections), 6.7ms\n",
      "image 1087/1766 /mnt/c/Users/Razogarz/PycharmProjects/airport-controller/rivalAgents/valid/images/033381_jpg.rf.5f86471abb6149649abfcf33d9ee200e.jpg: 416x416 (no detections), 28.0ms\n",
      "image 1088/1766 /mnt/c/Users/Razogarz/PycharmProjects/airport-controller/rivalAgents/valid/images/033410_jpg.rf.dff57fb3eb0987fb36ee285741e82d0f.jpg: 416x416 (no detections), 10.3ms\n",
      "image 1089/1766 /mnt/c/Users/Razogarz/PycharmProjects/airport-controller/rivalAgents/valid/images/033457_jpg.rf.42b67125380f00542034684901a07d38.jpg: 416x416 (no detections), 16.2ms\n",
      "image 1090/1766 /mnt/c/Users/Razogarz/PycharmProjects/airport-controller/rivalAgents/valid/images/033470_jpg.rf.ee3b2e3e1d75bf9834a4bbf951a96705.jpg: 416x416 1 0, 1 1, 19.8ms\n",
      "image 1091/1766 /mnt/c/Users/Razogarz/PycharmProjects/airport-controller/rivalAgents/valid/images/033486_jpg.rf.4801029655f5c4afcef2bae21da19794.jpg: 416x416 1 4, 7.1ms\n",
      "image 1092/1766 /mnt/c/Users/Razogarz/PycharmProjects/airport-controller/rivalAgents/valid/images/033489_jpg.rf.465b1ec7b342a0a16d1a277bff4a3bac.jpg: 416x416 2 4s, 13.4ms\n",
      "image 1093/1766 /mnt/c/Users/Razogarz/PycharmProjects/airport-controller/rivalAgents/valid/images/033491_jpg.rf.a1db1af1b4cf75a241e6983f1cf9d5ba.jpg: 416x416 1 1, 7.3ms\n",
      "image 1094/1766 /mnt/c/Users/Razogarz/PycharmProjects/airport-controller/rivalAgents/valid/images/033515_jpg.rf.78a4799d60915318d4a1bb101b560c56.jpg: 416x416 (no detections), 7.1ms\n",
      "image 1095/1766 /mnt/c/Users/Razogarz/PycharmProjects/airport-controller/rivalAgents/valid/images/033529_jpg.rf.3efc44db06005bf712ad94fcdceba798.jpg: 416x416 1 1, 1 4, 7.5ms\n",
      "image 1096/1766 /mnt/c/Users/Razogarz/PycharmProjects/airport-controller/rivalAgents/valid/images/033531_jpg.rf.0139518893733fec1724605990a3f075.jpg: 416x416 (no detections), 11.0ms\n",
      "image 1097/1766 /mnt/c/Users/Razogarz/PycharmProjects/airport-controller/rivalAgents/valid/images/033589_jpg.rf.39dfe6e59e1e07486953fbe64665e3c2.jpg: 416x416 1 2, 13.4ms\n",
      "image 1098/1766 /mnt/c/Users/Razogarz/PycharmProjects/airport-controller/rivalAgents/valid/images/033600_jpg.rf.9bf65bf5dc5fb5687fbe4c3fa1f3800b.jpg: 416x416 1 1, 1 4, 7.1ms\n",
      "image 1099/1766 /mnt/c/Users/Razogarz/PycharmProjects/airport-controller/rivalAgents/valid/images/033602_jpg.rf.1a90a679e2efff276c98e801f4465158.jpg: 416x416 2 4s, 7.8ms\n",
      "image 1100/1766 /mnt/c/Users/Razogarz/PycharmProjects/airport-controller/rivalAgents/valid/images/033635_jpg.rf.c1e8e0de1aef15b4538a787d289e497a.jpg: 416x416 2 3s, 18.0ms\n",
      "image 1101/1766 /mnt/c/Users/Razogarz/PycharmProjects/airport-controller/rivalAgents/valid/images/033646_jpg.rf.c290455babe8c5045b20d1cce6c6d3aa.jpg: 416x416 1 3, 14.8ms\n",
      "image 1102/1766 /mnt/c/Users/Razogarz/PycharmProjects/airport-controller/rivalAgents/valid/images/033652_jpg.rf.188188955854f47d55e31f927a37118d.jpg: 416x416 1 4, 16.0ms\n",
      "image 1103/1766 /mnt/c/Users/Razogarz/PycharmProjects/airport-controller/rivalAgents/valid/images/033663_jpg.rf.aba0e74f21c6688d329f7eefb801c77f.jpg: 416x416 2 4s, 9.3ms\n",
      "image 1104/1766 /mnt/c/Users/Razogarz/PycharmProjects/airport-controller/rivalAgents/valid/images/033692_jpg.rf.60819e7557e041598961c1aa401f3d91.jpg: 416x416 (no detections), 12.9ms\n",
      "image 1105/1766 /mnt/c/Users/Razogarz/PycharmProjects/airport-controller/rivalAgents/valid/images/033703_jpg.rf.df7bec2ffd6885bd588e4c6675e11856.jpg: 416x416 (no detections), 9.6ms\n",
      "image 1106/1766 /mnt/c/Users/Razogarz/PycharmProjects/airport-controller/rivalAgents/valid/images/033746_jpg.rf.82defecaf03c0182d081754e14b805f7.jpg: 416x416 (no detections), 9.2ms\n",
      "image 1107/1766 /mnt/c/Users/Razogarz/PycharmProjects/airport-controller/rivalAgents/valid/images/033750_jpg.rf.ca6a01d16f8c169abb17ffa8fe441658.jpg: 416x416 (no detections), 16.8ms\n",
      "image 1108/1766 /mnt/c/Users/Razogarz/PycharmProjects/airport-controller/rivalAgents/valid/images/033751_jpg.rf.8f31b4401e92bc33435cdb09a9bbf916.jpg: 416x416 1 1, 9.7ms\n",
      "image 1109/1766 /mnt/c/Users/Razogarz/PycharmProjects/airport-controller/rivalAgents/valid/images/033758_jpg.rf.5ace82aaaef7f31c6f1894115c58cfa0.jpg: 416x416 (no detections), 11.3ms\n",
      "image 1110/1766 /mnt/c/Users/Razogarz/PycharmProjects/airport-controller/rivalAgents/valid/images/033767_jpg.rf.06751e96311e9dcc95939e352a1e2734.jpg: 416x416 2 4s, 16.3ms\n",
      "image 1111/1766 /mnt/c/Users/Razogarz/PycharmProjects/airport-controller/rivalAgents/valid/images/033780_jpg.rf.54f4fd6c497ecb2204d6109fe7864909.jpg: 416x416 1 4, 13.8ms\n",
      "image 1112/1766 /mnt/c/Users/Razogarz/PycharmProjects/airport-controller/rivalAgents/valid/images/033809_jpg.rf.084e9e1a36e25597a429bec87f538b4e.jpg: 416x416 2 4s, 10.6ms\n",
      "image 1113/1766 /mnt/c/Users/Razogarz/PycharmProjects/airport-controller/rivalAgents/valid/images/033829_jpg.rf.c7cb2abe2fff2c6965261cc57288d426.jpg: 416x416 2 4s, 12.9ms\n",
      "image 1114/1766 /mnt/c/Users/Razogarz/PycharmProjects/airport-controller/rivalAgents/valid/images/033866_jpg.rf.9f0940ca9fe857604d5d9d62d22d1257.jpg: 416x416 (no detections), 7.3ms\n",
      "image 1115/1766 /mnt/c/Users/Razogarz/PycharmProjects/airport-controller/rivalAgents/valid/images/033882_jpg.rf.6f189e85206f779ba11bc0e6924d12f8.jpg: 416x416 1 4, 9.0ms\n",
      "image 1116/1766 /mnt/c/Users/Razogarz/PycharmProjects/airport-controller/rivalAgents/valid/images/033948_jpg.rf.a30014a6906849f65cdfac08e50fbe6c.jpg: 416x416 1 4, 10.5ms\n",
      "image 1117/1766 /mnt/c/Users/Razogarz/PycharmProjects/airport-controller/rivalAgents/valid/images/034031_jpg.rf.fc1931675caaea338a894d9cadba61cc.jpg: 416x416 (no detections), 10.7ms\n",
      "image 1118/1766 /mnt/c/Users/Razogarz/PycharmProjects/airport-controller/rivalAgents/valid/images/034032_jpg.rf.a809ce695f68b4baa654ff1cb19b129b.jpg: 416x416 1 1, 13.4ms\n",
      "image 1119/1766 /mnt/c/Users/Razogarz/PycharmProjects/airport-controller/rivalAgents/valid/images/034048_jpg.rf.6a625b1c12909aeb8b3474e89c8a59d8.jpg: 416x416 (no detections), 10.1ms\n",
      "image 1120/1766 /mnt/c/Users/Razogarz/PycharmProjects/airport-controller/rivalAgents/valid/images/034069_jpg.rf.5e306ea1960874ff330fceeccdc0a16a.jpg: 416x416 1 1, 7.2ms\n",
      "image 1121/1766 /mnt/c/Users/Razogarz/PycharmProjects/airport-controller/rivalAgents/valid/images/034075_jpg.rf.d5ed25156be05fc1f3145382a0a168f2.jpg: 416x416 (no detections), 7.6ms\n",
      "image 1122/1766 /mnt/c/Users/Razogarz/PycharmProjects/airport-controller/rivalAgents/valid/images/034102_jpg.rf.7ea878b315b32eeb4e2d0d53268b6fb6.jpg: 416x416 (no detections), 11.9ms\n",
      "image 1123/1766 /mnt/c/Users/Razogarz/PycharmProjects/airport-controller/rivalAgents/valid/images/034117_jpg.rf.6ce9d5360174b43e8747a06964a48731.jpg: 416x416 1 1, 6.6ms\n",
      "image 1124/1766 /mnt/c/Users/Razogarz/PycharmProjects/airport-controller/rivalAgents/valid/images/034136_jpg.rf.36756a7c4d788665f37397549fa6b0f1.jpg: 416x416 1 4, 6.6ms\n",
      "image 1125/1766 /mnt/c/Users/Razogarz/PycharmProjects/airport-controller/rivalAgents/valid/images/034139_jpg.rf.4f1ebfde112fd4fcab622691c8a0b938.jpg: 416x416 (no detections), 13.2ms\n",
      "image 1126/1766 /mnt/c/Users/Razogarz/PycharmProjects/airport-controller/rivalAgents/valid/images/034141_jpg.rf.29482f8e74414b6ed096b2928a9ab18f.jpg: 416x416 1 4, 8.0ms\n",
      "image 1127/1766 /mnt/c/Users/Razogarz/PycharmProjects/airport-controller/rivalAgents/valid/images/034173_jpg.rf.2566d77b5916a6f9b6bd669e8c155dc0.jpg: 416x416 (no detections), 12.4ms\n",
      "image 1128/1766 /mnt/c/Users/Razogarz/PycharmProjects/airport-controller/rivalAgents/valid/images/034175_jpg.rf.2fbcd49d3a32d50a3a139848648645fd.jpg: 416x416 1 3, 17.0ms\n",
      "image 1129/1766 /mnt/c/Users/Razogarz/PycharmProjects/airport-controller/rivalAgents/valid/images/034188_jpg.rf.edbd5fef9dc1c7806709e0263b333286.jpg: 416x416 1 3, 7.8ms\n",
      "image 1130/1766 /mnt/c/Users/Razogarz/PycharmProjects/airport-controller/rivalAgents/valid/images/034198_jpg.rf.656489ef6be003fd2a3b3d420db61fe4.jpg: 416x416 (no detections), 15.8ms\n",
      "image 1131/1766 /mnt/c/Users/Razogarz/PycharmProjects/airport-controller/rivalAgents/valid/images/034225_jpg.rf.b8ca8287c38089f2a8f8d4585ce977c8.jpg: 416x416 1 4, 14.3ms\n",
      "image 1132/1766 /mnt/c/Users/Razogarz/PycharmProjects/airport-controller/rivalAgents/valid/images/034250_jpg.rf.5c0f66c1fda9f4641b1181d3de4fb233.jpg: 416x416 (no detections), 14.3ms\n",
      "image 1133/1766 /mnt/c/Users/Razogarz/PycharmProjects/airport-controller/rivalAgents/valid/images/034254_jpg.rf.eb94a511646248339c21775c20b79769.jpg: 416x416 1 4, 14.1ms\n",
      "image 1134/1766 /mnt/c/Users/Razogarz/PycharmProjects/airport-controller/rivalAgents/valid/images/034276_jpg.rf.1414584f90e40b743e77bb82bddbf1f8.jpg: 416x416 (no detections), 15.1ms\n",
      "image 1135/1766 /mnt/c/Users/Razogarz/PycharmProjects/airport-controller/rivalAgents/valid/images/034277_jpg.rf.02d5c91d90c111245309618b5dfb2a2f.jpg: 416x416 1 3, 7.4ms\n",
      "image 1136/1766 /mnt/c/Users/Razogarz/PycharmProjects/airport-controller/rivalAgents/valid/images/034287_jpg.rf.c41da6d33b3b66a444deecb26e95b56c.jpg: 416x416 (no detections), 13.2ms\n",
      "image 1137/1766 /mnt/c/Users/Razogarz/PycharmProjects/airport-controller/rivalAgents/valid/images/034292_jpg.rf.ec520108f100a5b10ad3b6ff7e145383.jpg: 416x416 (no detections), 8.4ms\n",
      "image 1138/1766 /mnt/c/Users/Razogarz/PycharmProjects/airport-controller/rivalAgents/valid/images/034318_jpg.rf.6b162b8856fe95d63307d07ef4bbe509.jpg: 416x416 1 1, 8.0ms\n",
      "image 1139/1766 /mnt/c/Users/Razogarz/PycharmProjects/airport-controller/rivalAgents/valid/images/034327_jpg.rf.873fda538b269ed0a74f2a4982cc391d.jpg: 416x416 (no detections), 6.3ms\n",
      "image 1140/1766 /mnt/c/Users/Razogarz/PycharmProjects/airport-controller/rivalAgents/valid/images/034339_jpg.rf.58954bdd5ebcb138da62670d615a233b.jpg: 416x416 1 4, 6.7ms\n",
      "image 1141/1766 /mnt/c/Users/Razogarz/PycharmProjects/airport-controller/rivalAgents/valid/images/034394_jpg.rf.8e034728b7804779d37ae3b6f350ac70.jpg: 416x416 (no detections), 14.0ms\n",
      "image 1142/1766 /mnt/c/Users/Razogarz/PycharmProjects/airport-controller/rivalAgents/valid/images/034421_jpg.rf.7bf367104177bafedd34087b10c00830.jpg: 416x416 (no detections), 9.6ms\n",
      "image 1143/1766 /mnt/c/Users/Razogarz/PycharmProjects/airport-controller/rivalAgents/valid/images/034430_jpg.rf.ff9e0c5857da89b14c75aff958ec6751.jpg: 416x416 1 3, 10.0ms\n",
      "image 1144/1766 /mnt/c/Users/Razogarz/PycharmProjects/airport-controller/rivalAgents/valid/images/034439_jpg.rf.c89c6067570367e47a5c34fa012f0ec7.jpg: 416x416 1 3, 9.3ms\n",
      "image 1145/1766 /mnt/c/Users/Razogarz/PycharmProjects/airport-controller/rivalAgents/valid/images/034440_jpg.rf.d3f8991d5cf26adb10d1ee4d1eae1d5d.jpg: 416x416 1 1, 11.7ms\n",
      "image 1146/1766 /mnt/c/Users/Razogarz/PycharmProjects/airport-controller/rivalAgents/valid/images/034460_jpg.rf.c6658b2b689f7be7e2c47d3e4b5433b2.jpg: 416x416 1 1, 1 4, 13.5ms\n",
      "image 1147/1766 /mnt/c/Users/Razogarz/PycharmProjects/airport-controller/rivalAgents/valid/images/034472_jpg.rf.7bcbf518a11bedbdb523527fb88aaf9b.jpg: 416x416 1 4, 9.3ms\n",
      "image 1148/1766 /mnt/c/Users/Razogarz/PycharmProjects/airport-controller/rivalAgents/valid/images/034491_jpg.rf.e20fdecf6917f66cf50c5ea4de6187bd.jpg: 416x416 (no detections), 10.5ms\n",
      "image 1149/1766 /mnt/c/Users/Razogarz/PycharmProjects/airport-controller/rivalAgents/valid/images/034508_jpg.rf.d2e4d571474d0bd543b8eefa3d6539f1.jpg: 416x416 1 0, 18.3ms\n",
      "image 1150/1766 /mnt/c/Users/Razogarz/PycharmProjects/airport-controller/rivalAgents/valid/images/034512_jpg.rf.4c6911407c4b18cb62bde57ef9184f31.jpg: 416x416 1 4, 13.5ms\n",
      "image 1151/1766 /mnt/c/Users/Razogarz/PycharmProjects/airport-controller/rivalAgents/valid/images/034518_jpg.rf.b6416b8166b67c6c79b39197cc58a681.jpg: 416x416 1 4, 7.3ms\n",
      "image 1152/1766 /mnt/c/Users/Razogarz/PycharmProjects/airport-controller/rivalAgents/valid/images/034532_jpg.rf.7bba74299f94da329397ae51d0d8f5ee.jpg: 416x416 1 4, 10.7ms\n",
      "image 1153/1766 /mnt/c/Users/Razogarz/PycharmProjects/airport-controller/rivalAgents/valid/images/034535_jpg.rf.0215d3801ab0f166cdac1f7428847aac.jpg: 416x416 (no detections), 12.7ms\n",
      "image 1154/1766 /mnt/c/Users/Razogarz/PycharmProjects/airport-controller/rivalAgents/valid/images/034557_jpg.rf.d01d3eee540a29fb0cced78ab660060e.jpg: 416x416 (no detections), 7.4ms\n",
      "image 1155/1766 /mnt/c/Users/Razogarz/PycharmProjects/airport-controller/rivalAgents/valid/images/034565_jpg.rf.77b7381710362a2d9e6fa8867618be38.jpg: 416x416 (no detections), 11.0ms\n",
      "image 1156/1766 /mnt/c/Users/Razogarz/PycharmProjects/airport-controller/rivalAgents/valid/images/034610_jpg.rf.168df1ea5a525023fc403db870bdce34.jpg: 416x416 1 4, 10.5ms\n",
      "image 1157/1766 /mnt/c/Users/Razogarz/PycharmProjects/airport-controller/rivalAgents/valid/images/034619_jpg.rf.118ce8a894b7af5f5d031e6b15e0461a.jpg: 416x416 (no detections), 9.6ms\n",
      "image 1158/1766 /mnt/c/Users/Razogarz/PycharmProjects/airport-controller/rivalAgents/valid/images/034626_jpg.rf.0221baf652bd8dbdd4b20d649eb647cb.jpg: 416x416 (no detections), 9.1ms\n",
      "image 1159/1766 /mnt/c/Users/Razogarz/PycharmProjects/airport-controller/rivalAgents/valid/images/034643_jpg.rf.3034a538f3a1ecafe9ef9843a252e8ad.jpg: 416x416 1 1, 9.7ms\n",
      "image 1160/1766 /mnt/c/Users/Razogarz/PycharmProjects/airport-controller/rivalAgents/valid/images/034662_jpg.rf.3e508ab686523b7f356ab4ed42b5b833.jpg: 416x416 1 4, 12.6ms\n",
      "image 1161/1766 /mnt/c/Users/Razogarz/PycharmProjects/airport-controller/rivalAgents/valid/images/034680_jpg.rf.40037ae6065cca67a73ee63c82c4982b.jpg: 416x416 (no detections), 12.6ms\n",
      "image 1162/1766 /mnt/c/Users/Razogarz/PycharmProjects/airport-controller/rivalAgents/valid/images/034689_jpg.rf.03520a3402661db0ded4389e37a9a161.jpg: 416x416 (no detections), 8.6ms\n",
      "image 1163/1766 /mnt/c/Users/Razogarz/PycharmProjects/airport-controller/rivalAgents/valid/images/034697_jpg.rf.3121288b0d6188aaf794453ddaddbcba.jpg: 416x416 (no detections), 8.6ms\n",
      "image 1164/1766 /mnt/c/Users/Razogarz/PycharmProjects/airport-controller/rivalAgents/valid/images/034704_jpg.rf.c6e2324bfba377c28cccd83164f109bb.jpg: 416x416 (no detections), 17.4ms\n",
      "image 1165/1766 /mnt/c/Users/Razogarz/PycharmProjects/airport-controller/rivalAgents/valid/images/034720_jpg.rf.b1517dbd08cf464553aa237d12765bcd.jpg: 416x416 2 1s, 9.6ms\n",
      "image 1166/1766 /mnt/c/Users/Razogarz/PycharmProjects/airport-controller/rivalAgents/valid/images/034744_jpg.rf.f98079b7aaf0ac10b3eb85dee3d62646.jpg: 416x416 2 4s, 13.4ms\n",
      "image 1167/1766 /mnt/c/Users/Razogarz/PycharmProjects/airport-controller/rivalAgents/valid/images/034754_jpg.rf.512ec166de45ac151284f75cccc318b0.jpg: 416x416 (no detections), 11.3ms\n",
      "image 1168/1766 /mnt/c/Users/Razogarz/PycharmProjects/airport-controller/rivalAgents/valid/images/034760_jpg.rf.6c40f6c9c59eaf7905a3db31fa31c2d1.jpg: 416x416 2 4s, 15.7ms\n",
      "image 1169/1766 /mnt/c/Users/Razogarz/PycharmProjects/airport-controller/rivalAgents/valid/images/034789_jpg.rf.b8acd4ac6302486d32d05001c76e9dc0.jpg: 416x416 1 2, 19.8ms\n",
      "image 1170/1766 /mnt/c/Users/Razogarz/PycharmProjects/airport-controller/rivalAgents/valid/images/034796_jpg.rf.f22f81891a70328d4a2f0514502394b5.jpg: 416x416 (no detections), 7.0ms\n",
      "image 1171/1766 /mnt/c/Users/Razogarz/PycharmProjects/airport-controller/rivalAgents/valid/images/034810_jpg.rf.7eda84436171e73a7811709b0a72b31d.jpg: 416x416 (no detections), 9.9ms\n",
      "image 1172/1766 /mnt/c/Users/Razogarz/PycharmProjects/airport-controller/rivalAgents/valid/images/034821_jpg.rf.c71060e7849c999f9a2efe4531965a31.jpg: 416x416 1 1, 9.0ms\n",
      "image 1173/1766 /mnt/c/Users/Razogarz/PycharmProjects/airport-controller/rivalAgents/valid/images/034853_jpg.rf.059d54fc471a68ab4dafaa0b74b3ed71.jpg: 416x416 1 3, 12.2ms\n",
      "image 1174/1766 /mnt/c/Users/Razogarz/PycharmProjects/airport-controller/rivalAgents/valid/images/034875_jpg.rf.99a1233c44bab76dba8c4776febd5209.jpg: 416x416 (no detections), 14.1ms\n",
      "image 1175/1766 /mnt/c/Users/Razogarz/PycharmProjects/airport-controller/rivalAgents/valid/images/034956_jpg.rf.57e82ffaa23bf1fd92b5d609db5b33f1.jpg: 416x416 (no detections), 9.8ms\n",
      "image 1176/1766 /mnt/c/Users/Razogarz/PycharmProjects/airport-controller/rivalAgents/valid/images/034970_jpg.rf.20d208e4b85d082370df1ecdb3d3037d.jpg: 416x416 (no detections), 11.3ms\n",
      "image 1177/1766 /mnt/c/Users/Razogarz/PycharmProjects/airport-controller/rivalAgents/valid/images/034971_jpg.rf.88537ccc1e526265bd8be5496a373101.jpg: 416x416 2 3s, 12.7ms\n",
      "image 1178/1766 /mnt/c/Users/Razogarz/PycharmProjects/airport-controller/rivalAgents/valid/images/034990_jpg.rf.ead58d56624a9108d71b9f47afb58195.jpg: 416x416 1 2, 9.4ms\n",
      "image 1179/1766 /mnt/c/Users/Razogarz/PycharmProjects/airport-controller/rivalAgents/valid/images/035022_jpg.rf.3bd2b0bf778959ec48727962584dd82d.jpg: 416x416 1 3, 8.2ms\n",
      "image 1180/1766 /mnt/c/Users/Razogarz/PycharmProjects/airport-controller/rivalAgents/valid/images/035028_jpg.rf.b9502872e9d5d1b12b7fa991e285e23c.jpg: 416x416 (no detections), 12.7ms\n",
      "image 1181/1766 /mnt/c/Users/Razogarz/PycharmProjects/airport-controller/rivalAgents/valid/images/035030_jpg.rf.c8805eb7e2d40203f9b03958c4b7b66d.jpg: 416x416 (no detections), 8.6ms\n",
      "image 1182/1766 /mnt/c/Users/Razogarz/PycharmProjects/airport-controller/rivalAgents/valid/images/035035_jpg.rf.0994bf33a1e26c47f9693137ddbfc76a.jpg: 416x416 1 4, 14.7ms\n",
      "image 1183/1766 /mnt/c/Users/Razogarz/PycharmProjects/airport-controller/rivalAgents/valid/images/035043_jpg.rf.63666e7896f4b67d87768247f416d0d5.jpg: 416x416 1 3, 9.2ms\n",
      "image 1184/1766 /mnt/c/Users/Razogarz/PycharmProjects/airport-controller/rivalAgents/valid/images/035058_jpg.rf.8caaa3a3af15fefc660a519ab582bf15.jpg: 416x416 (no detections), 10.4ms\n",
      "image 1185/1766 /mnt/c/Users/Razogarz/PycharmProjects/airport-controller/rivalAgents/valid/images/035061_jpg.rf.66ea5de24b8412d689011a65a1c487da.jpg: 416x416 (no detections), 11.9ms\n",
      "image 1186/1766 /mnt/c/Users/Razogarz/PycharmProjects/airport-controller/rivalAgents/valid/images/035063_jpg.rf.6a865fcbc0a23e51be014bec33a1881f.jpg: 416x416 (no detections), 13.3ms\n",
      "image 1187/1766 /mnt/c/Users/Razogarz/PycharmProjects/airport-controller/rivalAgents/valid/images/035122_jpg.rf.09c472023492e4157236d3ebb2156faa.jpg: 416x416 1 4, 12.2ms\n",
      "image 1188/1766 /mnt/c/Users/Razogarz/PycharmProjects/airport-controller/rivalAgents/valid/images/035135_jpg.rf.dd977d40e75ff8aad9a4bc48e73c2c12.jpg: 416x416 (no detections), 14.2ms\n",
      "image 1189/1766 /mnt/c/Users/Razogarz/PycharmProjects/airport-controller/rivalAgents/valid/images/035136_jpg.rf.de25ea77f40fec395ec4c3e721fa3add.jpg: 416x416 (no detections), 10.4ms\n",
      "image 1190/1766 /mnt/c/Users/Razogarz/PycharmProjects/airport-controller/rivalAgents/valid/images/035147_jpg.rf.3ab015f1c9621a75b9db6ce77067c491.jpg: 416x416 (no detections), 16.3ms\n",
      "image 1191/1766 /mnt/c/Users/Razogarz/PycharmProjects/airport-controller/rivalAgents/valid/images/035200_jpg.rf.20cfcaf887e4a8972d6c3298dfc2f0b8.jpg: 416x416 1 1, 6.9ms\n",
      "image 1192/1766 /mnt/c/Users/Razogarz/PycharmProjects/airport-controller/rivalAgents/valid/images/035204_jpg.rf.24e96b24a2dfcf33100fe521a0b19a23.jpg: 416x416 (no detections), 12.9ms\n",
      "image 1193/1766 /mnt/c/Users/Razogarz/PycharmProjects/airport-controller/rivalAgents/valid/images/035273_jpg.rf.eef5be36c7f8bccb7506e1ecf214ffa0.jpg: 416x416 1 4, 12.6ms\n",
      "image 1194/1766 /mnt/c/Users/Razogarz/PycharmProjects/airport-controller/rivalAgents/valid/images/035278_jpg.rf.83ac703089d2d1bc31df95b2e542157b.jpg: 416x416 (no detections), 9.1ms\n",
      "image 1195/1766 /mnt/c/Users/Razogarz/PycharmProjects/airport-controller/rivalAgents/valid/images/035306_jpg.rf.6f3e51ee3188c0b4f59aee25259a1313.jpg: 416x416 (no detections), 9.8ms\n",
      "image 1196/1766 /mnt/c/Users/Razogarz/PycharmProjects/airport-controller/rivalAgents/valid/images/035340_jpg.rf.4084e4f3aa4cc077416a350984e271d4.jpg: 416x416 1 4, 13.5ms\n",
      "image 1197/1766 /mnt/c/Users/Razogarz/PycharmProjects/airport-controller/rivalAgents/valid/images/035348_jpg.rf.350ba7454b7af2925d9eafb7fdbf2acc.jpg: 416x416 2 4s, 7.4ms\n",
      "image 1198/1766 /mnt/c/Users/Razogarz/PycharmProjects/airport-controller/rivalAgents/valid/images/035353_jpg.rf.6cfaf5fcd2986adbccba4213a59cf2f0.jpg: 416x416 1 1, 7.7ms\n",
      "image 1199/1766 /mnt/c/Users/Razogarz/PycharmProjects/airport-controller/rivalAgents/valid/images/035373_jpg.rf.fffcf7aa199461b5f17133b14b29da68.jpg: 416x416 (no detections), 7.4ms\n",
      "image 1200/1766 /mnt/c/Users/Razogarz/PycharmProjects/airport-controller/rivalAgents/valid/images/035395_jpg.rf.a1314c18a732731920abcb29affe48f8.jpg: 416x416 (no detections), 13.8ms\n",
      "image 1201/1766 /mnt/c/Users/Razogarz/PycharmProjects/airport-controller/rivalAgents/valid/images/035402_jpg.rf.57457e0b9d2a0e0f8801f8db73a3f1d8.jpg: 416x416 1 1, 12.4ms\n",
      "image 1202/1766 /mnt/c/Users/Razogarz/PycharmProjects/airport-controller/rivalAgents/valid/images/035405_jpg.rf.d757e2f36e7f548ab3b1efadb49031a3.jpg: 416x416 1 4, 14.5ms\n",
      "image 1203/1766 /mnt/c/Users/Razogarz/PycharmProjects/airport-controller/rivalAgents/valid/images/035416_jpg.rf.fe23841c4f00083b0fa3cf069ce1971f.jpg: 416x416 1 4, 16.0ms\n",
      "image 1204/1766 /mnt/c/Users/Razogarz/PycharmProjects/airport-controller/rivalAgents/valid/images/035429_jpg.rf.6f481476db8c1e8ad2d6f4239fe51d46.jpg: 416x416 (no detections), 17.3ms\n",
      "image 1205/1766 /mnt/c/Users/Razogarz/PycharmProjects/airport-controller/rivalAgents/valid/images/035432_jpg.rf.0d9b1ade904de61f87d1aecff6f0c153.jpg: 416x416 1 1, 19.3ms\n",
      "image 1206/1766 /mnt/c/Users/Razogarz/PycharmProjects/airport-controller/rivalAgents/valid/images/035457_jpg.rf.2e3eefcb22d081d6fb13b9cf126e9141.jpg: 416x416 1 4, 17.8ms\n",
      "image 1207/1766 /mnt/c/Users/Razogarz/PycharmProjects/airport-controller/rivalAgents/valid/images/035469_jpg.rf.1c79c574aa0a7af639b6115a5aed24b2.jpg: 416x416 1 3, 15.8ms\n",
      "image 1208/1766 /mnt/c/Users/Razogarz/PycharmProjects/airport-controller/rivalAgents/valid/images/035471_jpg.rf.7ecf62434f9b3939e19b60ab143c440a.jpg: 416x416 (no detections), 9.9ms\n",
      "image 1209/1766 /mnt/c/Users/Razogarz/PycharmProjects/airport-controller/rivalAgents/valid/images/035489_jpg.rf.80d658071354e54194fb2171758e5993.jpg: 416x416 (no detections), 10.7ms\n",
      "image 1210/1766 /mnt/c/Users/Razogarz/PycharmProjects/airport-controller/rivalAgents/valid/images/035547_jpg.rf.9f556930bd7e68c4af6770b5a468cfde.jpg: 416x416 (no detections), 13.2ms\n",
      "image 1211/1766 /mnt/c/Users/Razogarz/PycharmProjects/airport-controller/rivalAgents/valid/images/035548_jpg.rf.6c466525f6a2e97b1b2278bcde6f328c.jpg: 416x416 1 1, 10.1ms\n",
      "image 1212/1766 /mnt/c/Users/Razogarz/PycharmProjects/airport-controller/rivalAgents/valid/images/035555_jpg.rf.d6cfc9456339f3a7c62601b102091f76.jpg: 416x416 2 4s, 13.2ms\n",
      "image 1213/1766 /mnt/c/Users/Razogarz/PycharmProjects/airport-controller/rivalAgents/valid/images/035592_jpg.rf.bd562a9e55965b918e5e69f7b33b9a13.jpg: 416x416 2 4s, 7.0ms\n",
      "image 1214/1766 /mnt/c/Users/Razogarz/PycharmProjects/airport-controller/rivalAgents/valid/images/035594_jpg.rf.192f1339f2330531e8e3326b51cac514.jpg: 416x416 1 1, 17.3ms\n",
      "image 1215/1766 /mnt/c/Users/Razogarz/PycharmProjects/airport-controller/rivalAgents/valid/images/035602_jpg.rf.ce290cba4f5f0def6b0062c7de01250f.jpg: 416x416 2 3s, 8.5ms\n",
      "image 1216/1766 /mnt/c/Users/Razogarz/PycharmProjects/airport-controller/rivalAgents/valid/images/035610_jpg.rf.a8f7f46320e548da405ec86d672ea05e.jpg: 416x416 (no detections), 12.8ms\n",
      "image 1217/1766 /mnt/c/Users/Razogarz/PycharmProjects/airport-controller/rivalAgents/valid/images/035638_jpg.rf.5d7a372fa49c67f1c2ddc40ecccb3942.jpg: 416x416 (no detections), 12.4ms\n",
      "image 1218/1766 /mnt/c/Users/Razogarz/PycharmProjects/airport-controller/rivalAgents/valid/images/035639_jpg.rf.cad00303b00da0d054fa53456638d3c1.jpg: 416x416 1 4, 11.9ms\n",
      "image 1219/1766 /mnt/c/Users/Razogarz/PycharmProjects/airport-controller/rivalAgents/valid/images/035653_jpg.rf.8c55031d1f9e531286ca4cb568ad69d3.jpg: 416x416 1 4, 9.6ms\n",
      "image 1220/1766 /mnt/c/Users/Razogarz/PycharmProjects/airport-controller/rivalAgents/valid/images/035669_jpg.rf.a6ed94e956eaf24c0994307293df7d91.jpg: 416x416 1 3, 6.8ms\n",
      "image 1221/1766 /mnt/c/Users/Razogarz/PycharmProjects/airport-controller/rivalAgents/valid/images/035683_jpg.rf.8bac96260ee8c39324bde82bef9a5c25.jpg: 416x416 1 1, 13.2ms\n",
      "image 1222/1766 /mnt/c/Users/Razogarz/PycharmProjects/airport-controller/rivalAgents/valid/images/035692_jpg.rf.d70b342858dbf31a879c26dc23bfc27f.jpg: 416x416 1 4, 14.6ms\n",
      "image 1223/1766 /mnt/c/Users/Razogarz/PycharmProjects/airport-controller/rivalAgents/valid/images/035695_jpg.rf.0f59b857ecf035bc549ab19eb5cf2662.jpg: 416x416 3 4s, 13.5ms\n",
      "image 1224/1766 /mnt/c/Users/Razogarz/PycharmProjects/airport-controller/rivalAgents/valid/images/035712_jpg.rf.2baf4c6ccd1a5824a86f37505feb7b1e.jpg: 416x416 1 4, 11.1ms\n",
      "image 1225/1766 /mnt/c/Users/Razogarz/PycharmProjects/airport-controller/rivalAgents/valid/images/035713_jpg.rf.ce2f6cbcb19c4cdfde0d300db11cc3bb.jpg: 416x416 (no detections), 10.6ms\n",
      "image 1226/1766 /mnt/c/Users/Razogarz/PycharmProjects/airport-controller/rivalAgents/valid/images/035738_jpg.rf.31e4679574075f4774ba08c769d5dcb2.jpg: 416x416 (no detections), 14.0ms\n",
      "image 1227/1766 /mnt/c/Users/Razogarz/PycharmProjects/airport-controller/rivalAgents/valid/images/035743_jpg.rf.2f1e4b3d7d9bcea18eace1c07e8f9e96.jpg: 416x416 1 4, 13.7ms\n",
      "image 1228/1766 /mnt/c/Users/Razogarz/PycharmProjects/airport-controller/rivalAgents/valid/images/035766_jpg.rf.4ba8b72ff51212b6166856d793ebe6de.jpg: 416x416 1 4, 6.7ms\n",
      "image 1229/1766 /mnt/c/Users/Razogarz/PycharmProjects/airport-controller/rivalAgents/valid/images/035805_jpg.rf.638e4adde585384f0d3cb1df7e6dc7be.jpg: 416x416 (no detections), 14.4ms\n",
      "image 1230/1766 /mnt/c/Users/Razogarz/PycharmProjects/airport-controller/rivalAgents/valid/images/035817_jpg.rf.bdf6dd657110405e2e955ff2fc2626b2.jpg: 416x416 1 4, 9.8ms\n",
      "image 1231/1766 /mnt/c/Users/Razogarz/PycharmProjects/airport-controller/rivalAgents/valid/images/035828_jpg.rf.cd3cb070eafddd8f07a2187164909055.jpg: 416x416 1 3, 6.9ms\n",
      "image 1232/1766 /mnt/c/Users/Razogarz/PycharmProjects/airport-controller/rivalAgents/valid/images/035832_jpg.rf.75bea1b63f912d8835d7a77c0ca7394a.jpg: 416x416 (no detections), 14.1ms\n",
      "image 1233/1766 /mnt/c/Users/Razogarz/PycharmProjects/airport-controller/rivalAgents/valid/images/035833_jpg.rf.137d93ad76d3d3072ccf8c4942448048.jpg: 416x416 1 4, 14.4ms\n",
      "image 1234/1766 /mnt/c/Users/Razogarz/PycharmProjects/airport-controller/rivalAgents/valid/images/035838_jpg.rf.2e8fb681d8b0a5684d65e387d8f4ea9e.jpg: 416x416 (no detections), 10.0ms\n",
      "image 1235/1766 /mnt/c/Users/Razogarz/PycharmProjects/airport-controller/rivalAgents/valid/images/035862_jpg.rf.fc844cc44943b31845e654e3e21419c4.jpg: 416x416 (no detections), 9.3ms\n",
      "image 1236/1766 /mnt/c/Users/Razogarz/PycharmProjects/airport-controller/rivalAgents/valid/images/035894_jpg.rf.bab82a876a38b337b1bf437b1073a11d.jpg: 416x416 1 0, 13.3ms\n",
      "image 1237/1766 /mnt/c/Users/Razogarz/PycharmProjects/airport-controller/rivalAgents/valid/images/035911_jpg.rf.320b48f7561739239b4b87ef52292957.jpg: 416x416 (no detections), 15.2ms\n",
      "image 1238/1766 /mnt/c/Users/Razogarz/PycharmProjects/airport-controller/rivalAgents/valid/images/035921_jpg.rf.0cb36c24984dac24ee8a75b49283c093.jpg: 416x416 2 3s, 12.9ms\n",
      "image 1239/1766 /mnt/c/Users/Razogarz/PycharmProjects/airport-controller/rivalAgents/valid/images/035927_jpg.rf.51dc4278c091bf67f5a8a3dc776bf8a4.jpg: 416x416 1 1, 13.9ms\n",
      "image 1240/1766 /mnt/c/Users/Razogarz/PycharmProjects/airport-controller/rivalAgents/valid/images/035932_jpg.rf.3585a6c791a05b474a0dc3d03901116e.jpg: 416x416 1 1, 1 4, 8.7ms\n",
      "image 1241/1766 /mnt/c/Users/Razogarz/PycharmProjects/airport-controller/rivalAgents/valid/images/035947_jpg.rf.b96ebe3211aaca2cba6947d26320e571.jpg: 416x416 1 1, 18.7ms\n",
      "image 1242/1766 /mnt/c/Users/Razogarz/PycharmProjects/airport-controller/rivalAgents/valid/images/035955_jpg.rf.944704ec826d27772abd475593551514.jpg: 416x416 (no detections), 8.8ms\n",
      "image 1243/1766 /mnt/c/Users/Razogarz/PycharmProjects/airport-controller/rivalAgents/valid/images/035977_jpg.rf.89c6e171992ce69d0496037326285a76.jpg: 416x416 1 4, 14.0ms\n",
      "image 1244/1766 /mnt/c/Users/Razogarz/PycharmProjects/airport-controller/rivalAgents/valid/images/035992_jpg.rf.ce8b4e6772d11c2777d630051432f0f2.jpg: 416x416 (no detections), 13.9ms\n",
      "image 1245/1766 /mnt/c/Users/Razogarz/PycharmProjects/airport-controller/rivalAgents/valid/images/035998_jpg.rf.5be7ae0f16770e4cfb9c697347de4d09.jpg: 416x416 (no detections), 8.6ms\n",
      "image 1246/1766 /mnt/c/Users/Razogarz/PycharmProjects/airport-controller/rivalAgents/valid/images/036005_jpg.rf.da73ce330d2f136fee673b1dc927b6cd.jpg: 416x416 (no detections), 14.9ms\n",
      "image 1247/1766 /mnt/c/Users/Razogarz/PycharmProjects/airport-controller/rivalAgents/valid/images/036008_jpg.rf.7f3b78a0f21b8ae0fb072c5a3edf072a.jpg: 416x416 (no detections), 6.7ms\n",
      "image 1248/1766 /mnt/c/Users/Razogarz/PycharmProjects/airport-controller/rivalAgents/valid/images/036022_jpg.rf.71612ad252d06095a8372d61a86a8a76.jpg: 416x416 1 3, 13.6ms\n",
      "image 1249/1766 /mnt/c/Users/Razogarz/PycharmProjects/airport-controller/rivalAgents/valid/images/036028_jpg.rf.9a7194ec4d8033dbf11f7794c27615f9.jpg: 416x416 1 0, 20.2ms\n",
      "image 1250/1766 /mnt/c/Users/Razogarz/PycharmProjects/airport-controller/rivalAgents/valid/images/036030_jpg.rf.1a5d2ef15a5dfb7d17571f3a3777271f.jpg: 416x416 (no detections), 11.8ms\n",
      "image 1251/1766 /mnt/c/Users/Razogarz/PycharmProjects/airport-controller/rivalAgents/valid/images/036031_jpg.rf.2096134258ceac97868e0b26b4b788d3.jpg: 416x416 1 1, 13.4ms\n",
      "image 1252/1766 /mnt/c/Users/Razogarz/PycharmProjects/airport-controller/rivalAgents/valid/images/036064_jpg.rf.f3e2a8ce3abceefb624dcc9a04ac760c.jpg: 416x416 1 4, 13.8ms\n",
      "image 1253/1766 /mnt/c/Users/Razogarz/PycharmProjects/airport-controller/rivalAgents/valid/images/036087_jpg.rf.bbae01bf5c931627dc09418c798e5e04.jpg: 416x416 2 4s, 9.5ms\n",
      "image 1254/1766 /mnt/c/Users/Razogarz/PycharmProjects/airport-controller/rivalAgents/valid/images/036112_jpg.rf.227007dcd5f8bf993a9b559e5bd6b16a.jpg: 416x416 (no detections), 7.0ms\n",
      "image 1255/1766 /mnt/c/Users/Razogarz/PycharmProjects/airport-controller/rivalAgents/valid/images/036130_jpg.rf.537c0868a0e1b3cd5ea569ee6f594401.jpg: 416x416 1 3, 15.6ms\n",
      "image 1256/1766 /mnt/c/Users/Razogarz/PycharmProjects/airport-controller/rivalAgents/valid/images/036135_jpg.rf.f17f05654b0d98e93c6f02bfe8727db9.jpg: 416x416 (no detections), 19.3ms\n",
      "image 1257/1766 /mnt/c/Users/Razogarz/PycharmProjects/airport-controller/rivalAgents/valid/images/036139_jpg.rf.efcdef786af911e27bdcf0e7ac661e06.jpg: 416x416 1 1, 20.7ms\n",
      "image 1258/1766 /mnt/c/Users/Razogarz/PycharmProjects/airport-controller/rivalAgents/valid/images/036141_jpg.rf.1e61d78f87dc960b567177316666c97b.jpg: 416x416 (no detections), 12.9ms\n",
      "image 1259/1766 /mnt/c/Users/Razogarz/PycharmProjects/airport-controller/rivalAgents/valid/images/036143_jpg.rf.ad8807a57a0d4949905800c091eac8b5.jpg: 416x416 (no detections), 6.8ms\n",
      "image 1260/1766 /mnt/c/Users/Razogarz/PycharmProjects/airport-controller/rivalAgents/valid/images/036144_jpg.rf.5ae4fdbbd6b95a2ddf609d497da3795c.jpg: 416x416 (no detections), 12.5ms\n",
      "image 1261/1766 /mnt/c/Users/Razogarz/PycharmProjects/airport-controller/rivalAgents/valid/images/036176_jpg.rf.e3dad21877b69936030c3b3da8ea9e63.jpg: 416x416 (no detections), 22.0ms\n",
      "image 1262/1766 /mnt/c/Users/Razogarz/PycharmProjects/airport-controller/rivalAgents/valid/images/036180_jpg.rf.bb5ef87d5f17957ef4f1155d746c2204.jpg: 416x416 1 4, 11.3ms\n",
      "image 1263/1766 /mnt/c/Users/Razogarz/PycharmProjects/airport-controller/rivalAgents/valid/images/036183_jpg.rf.6bb39d83be7f7c862725ce80d51bcf4c.jpg: 416x416 1 4, 14.2ms\n",
      "image 1264/1766 /mnt/c/Users/Razogarz/PycharmProjects/airport-controller/rivalAgents/valid/images/036202_jpg.rf.246f1b7ae74f785a592796ff417e2a3e.jpg: 416x416 (no detections), 18.3ms\n",
      "image 1265/1766 /mnt/c/Users/Razogarz/PycharmProjects/airport-controller/rivalAgents/valid/images/036212_jpg.rf.e90e23f98f0a3947bf3371f53ef7558a.jpg: 416x416 2 1s, 21.4ms\n",
      "image 1266/1766 /mnt/c/Users/Razogarz/PycharmProjects/airport-controller/rivalAgents/valid/images/036218_jpg.rf.266f5a8785f340ca581facddf6d1d2ff.jpg: 416x416 (no detections), 6.3ms\n",
      "image 1267/1766 /mnt/c/Users/Razogarz/PycharmProjects/airport-controller/rivalAgents/valid/images/036225_jpg.rf.614da051a649c308b9c2e4a11af4a09f.jpg: 416x416 1 4, 6.5ms\n",
      "image 1268/1766 /mnt/c/Users/Razogarz/PycharmProjects/airport-controller/rivalAgents/valid/images/036247_jpg.rf.7e451aaef6f810e2200711fb8a33d768.jpg: 416x416 (no detections), 11.4ms\n",
      "image 1269/1766 /mnt/c/Users/Razogarz/PycharmProjects/airport-controller/rivalAgents/valid/images/036248_jpg.rf.df4af3639bd5c0a9b1432a626785a006.jpg: 416x416 (no detections), 12.2ms\n",
      "image 1270/1766 /mnt/c/Users/Razogarz/PycharmProjects/airport-controller/rivalAgents/valid/images/036257_jpg.rf.c22b595a6a2c6183679aa9872203af5f.jpg: 416x416 (no detections), 9.2ms\n",
      "image 1271/1766 /mnt/c/Users/Razogarz/PycharmProjects/airport-controller/rivalAgents/valid/images/036274_jpg.rf.d7bf183a0515be1da314f61168300605.jpg: 416x416 1 1, 12.7ms\n",
      "image 1272/1766 /mnt/c/Users/Razogarz/PycharmProjects/airport-controller/rivalAgents/valid/images/036280_jpg.rf.1ddd86e048170043d20c688d2dd3dce8.jpg: 416x416 (no detections), 12.5ms\n",
      "image 1273/1766 /mnt/c/Users/Razogarz/PycharmProjects/airport-controller/rivalAgents/valid/images/036290_jpg.rf.0c8baece90374f8687358abefedcf123.jpg: 416x416 (no detections), 14.0ms\n",
      "image 1274/1766 /mnt/c/Users/Razogarz/PycharmProjects/airport-controller/rivalAgents/valid/images/036325_jpg.rf.652fb1a268c5fd0849807296b2b0433f.jpg: 416x416 1 4, 14.8ms\n",
      "image 1275/1766 /mnt/c/Users/Razogarz/PycharmProjects/airport-controller/rivalAgents/valid/images/036338_jpg.rf.b3e0958b336bf062ee9adfb2d7da3350.jpg: 416x416 1 4, 7.0ms\n",
      "image 1276/1766 /mnt/c/Users/Razogarz/PycharmProjects/airport-controller/rivalAgents/valid/images/036358_jpg.rf.97e4babfa605605e8f7b1ddaba2b7a80.jpg: 416x416 1 3, 13.4ms\n",
      "image 1277/1766 /mnt/c/Users/Razogarz/PycharmProjects/airport-controller/rivalAgents/valid/images/036361_jpg.rf.d72080cd3a214b2d51760a95ac00ebc7.jpg: 416x416 1 1, 1 4, 13.9ms\n",
      "image 1278/1766 /mnt/c/Users/Razogarz/PycharmProjects/airport-controller/rivalAgents/valid/images/036362_jpg.rf.47506ef0c61fb50d945213cfe581a299.jpg: 416x416 (no detections), 6.5ms\n",
      "image 1279/1766 /mnt/c/Users/Razogarz/PycharmProjects/airport-controller/rivalAgents/valid/images/036376_jpg.rf.3491825d3a5b270c9552f3cdc20297f7.jpg: 416x416 (no detections), 11.0ms\n",
      "image 1280/1766 /mnt/c/Users/Razogarz/PycharmProjects/airport-controller/rivalAgents/valid/images/036377_jpg.rf.fb7430ad1ca0975f46abc0a6fbd76fec.jpg: 416x416 1 0, 8.1ms\n",
      "image 1281/1766 /mnt/c/Users/Razogarz/PycharmProjects/airport-controller/rivalAgents/valid/images/036401_jpg.rf.59f549b5fa0ebd48abc02a17d4ef0e39.jpg: 416x416 1 3, 11.3ms\n",
      "image 1282/1766 /mnt/c/Users/Razogarz/PycharmProjects/airport-controller/rivalAgents/valid/images/036427_jpg.rf.0e0aa78007b1d5426c6637624dd9c5df.jpg: 416x416 (no detections), 7.5ms\n",
      "image 1283/1766 /mnt/c/Users/Razogarz/PycharmProjects/airport-controller/rivalAgents/valid/images/036449_jpg.rf.a7ddd88df4364e2e064fda166b586a7d.jpg: 416x416 1 1, 10.3ms\n",
      "image 1284/1766 /mnt/c/Users/Razogarz/PycharmProjects/airport-controller/rivalAgents/valid/images/036452_jpg.rf.b7419f7c040189150b11db12d741260e.jpg: 416x416 2 1s, 6.8ms\n",
      "image 1285/1766 /mnt/c/Users/Razogarz/PycharmProjects/airport-controller/rivalAgents/valid/images/036456_jpg.rf.a426e629304db4019d53dc411706c5d6.jpg: 416x416 (no detections), 15.8ms\n",
      "image 1286/1766 /mnt/c/Users/Razogarz/PycharmProjects/airport-controller/rivalAgents/valid/images/036461_jpg.rf.06f953547a2106450504e9f584f34a7f.jpg: 416x416 1 4, 10.7ms\n",
      "image 1287/1766 /mnt/c/Users/Razogarz/PycharmProjects/airport-controller/rivalAgents/valid/images/036469_jpg.rf.2ec3560856b9f72884ff12c4320629d9.jpg: 416x416 (no detections), 15.8ms\n",
      "image 1288/1766 /mnt/c/Users/Razogarz/PycharmProjects/airport-controller/rivalAgents/valid/images/036470_jpg.rf.8afe2ac72725867a8c81ef25149c4f6a.jpg: 416x416 1 3, 6.8ms\n",
      "image 1289/1766 /mnt/c/Users/Razogarz/PycharmProjects/airport-controller/rivalAgents/valid/images/036483_jpg.rf.c5d62c854bafbb0137c09b258429d722.jpg: 416x416 (no detections), 13.4ms\n",
      "image 1290/1766 /mnt/c/Users/Razogarz/PycharmProjects/airport-controller/rivalAgents/valid/images/036486_jpg.rf.ab86a0df6c1d6979e74ffa1bf7de64c1.jpg: 416x416 1 4, 8.9ms\n",
      "image 1291/1766 /mnt/c/Users/Razogarz/PycharmProjects/airport-controller/rivalAgents/valid/images/036508_jpg.rf.8426fd5e5ba5e84edfa2ac9ed1333fc8.jpg: 416x416 1 4, 12.1ms\n",
      "image 1292/1766 /mnt/c/Users/Razogarz/PycharmProjects/airport-controller/rivalAgents/valid/images/036536_jpg.rf.a25a8afa62df1b9efda67ae51cc632c4.jpg: 416x416 (no detections), 17.0ms\n",
      "image 1293/1766 /mnt/c/Users/Razogarz/PycharmProjects/airport-controller/rivalAgents/valid/images/036542_jpg.rf.bb6f2979517dbf06d70c71dd253063de.jpg: 416x416 1 3, 1 4, 13.6ms\n",
      "image 1294/1766 /mnt/c/Users/Razogarz/PycharmProjects/airport-controller/rivalAgents/valid/images/036596_jpg.rf.a822dc17861df19f95f16c4b458411b9.jpg: 416x416 2 4s, 12.9ms\n",
      "image 1295/1766 /mnt/c/Users/Razogarz/PycharmProjects/airport-controller/rivalAgents/valid/images/036599_jpg.rf.a7cdae8ea3378b3f941f05b54d70818a.jpg: 416x416 1 1, 1 4, 7.0ms\n",
      "image 1296/1766 /mnt/c/Users/Razogarz/PycharmProjects/airport-controller/rivalAgents/valid/images/036600_jpg.rf.fd2b1f5b1b0f0dd2db7a6ad12c16b740.jpg: 416x416 (no detections), 13.1ms\n",
      "image 1297/1766 /mnt/c/Users/Razogarz/PycharmProjects/airport-controller/rivalAgents/valid/images/036608_jpg.rf.12f0877bef12950437ca91cbf7a88bf2.jpg: 416x416 1 1, 9.9ms\n",
      "image 1298/1766 /mnt/c/Users/Razogarz/PycharmProjects/airport-controller/rivalAgents/valid/images/036616_jpg.rf.c3454f46e6f5af8d5a79eb9adb4740da.jpg: 416x416 (no detections), 10.2ms\n",
      "image 1299/1766 /mnt/c/Users/Razogarz/PycharmProjects/airport-controller/rivalAgents/valid/images/036622_jpg.rf.6958c871de0e7bcb9a643933113b8e0c.jpg: 416x416 1 1, 1 4, 10.8ms\n",
      "image 1300/1766 /mnt/c/Users/Razogarz/PycharmProjects/airport-controller/rivalAgents/valid/images/036631_jpg.rf.b8943179d0a921e532f9ad32839ed50c.jpg: 416x416 1 3, 12.3ms\n",
      "image 1301/1766 /mnt/c/Users/Razogarz/PycharmProjects/airport-controller/rivalAgents/valid/images/036696_jpg.rf.f8b233048b9f2b57f57dd1872f6412c7.jpg: 416x416 (no detections), 8.8ms\n",
      "image 1302/1766 /mnt/c/Users/Razogarz/PycharmProjects/airport-controller/rivalAgents/valid/images/036700_jpg.rf.2e793824984c0741d6799f55d56ce4da.jpg: 416x416 (no detections), 13.9ms\n",
      "image 1303/1766 /mnt/c/Users/Razogarz/PycharmProjects/airport-controller/rivalAgents/valid/images/036713_jpg.rf.15b2273b42233f113a9ec3a89545aec1.jpg: 416x416 (no detections), 6.9ms\n",
      "image 1304/1766 /mnt/c/Users/Razogarz/PycharmProjects/airport-controller/rivalAgents/valid/images/036764_jpg.rf.7c5efdd3fd001f3386bb0d8c48c8a740.jpg: 416x416 1 1, 1 4, 10.0ms\n",
      "image 1305/1766 /mnt/c/Users/Razogarz/PycharmProjects/airport-controller/rivalAgents/valid/images/036772_jpg.rf.a486860f2d4dd4b6155f4c5438683f10.jpg: 416x416 1 1, 18.2ms\n",
      "image 1306/1766 /mnt/c/Users/Razogarz/PycharmProjects/airport-controller/rivalAgents/valid/images/036779_jpg.rf.67d4762710ea860515c715a37a7c9aed.jpg: 416x416 (no detections), 16.2ms\n",
      "image 1307/1766 /mnt/c/Users/Razogarz/PycharmProjects/airport-controller/rivalAgents/valid/images/036801_jpg.rf.72a893a39c686286637537b85035cd25.jpg: 416x416 (no detections), 18.9ms\n",
      "image 1308/1766 /mnt/c/Users/Razogarz/PycharmProjects/airport-controller/rivalAgents/valid/images/036802_jpg.rf.0af190385635173949ff014a6d537352.jpg: 416x416 2 3s, 14.1ms\n",
      "image 1309/1766 /mnt/c/Users/Razogarz/PycharmProjects/airport-controller/rivalAgents/valid/images/036815_jpg.rf.b010187d421914dc4432f0015231fd53.jpg: 416x416 (no detections), 15.7ms\n",
      "image 1310/1766 /mnt/c/Users/Razogarz/PycharmProjects/airport-controller/rivalAgents/valid/images/036816_jpg.rf.3f0162692d4910636dcae0cb25689acb.jpg: 416x416 (no detections), 6.3ms\n",
      "image 1311/1766 /mnt/c/Users/Razogarz/PycharmProjects/airport-controller/rivalAgents/valid/images/036818_jpg.rf.04880003c979909d4aec6897a5b24ebc.jpg: 416x416 1 4, 13.9ms\n",
      "image 1312/1766 /mnt/c/Users/Razogarz/PycharmProjects/airport-controller/rivalAgents/valid/images/036828_jpg.rf.0a12e05efaf5039fc435abf63dd8d87d.jpg: 416x416 1 4, 6.7ms\n",
      "image 1313/1766 /mnt/c/Users/Razogarz/PycharmProjects/airport-controller/rivalAgents/valid/images/036834_jpg.rf.c72964daed99bad9f553df8fe22f7ef6.jpg: 416x416 (no detections), 10.0ms\n",
      "image 1314/1766 /mnt/c/Users/Razogarz/PycharmProjects/airport-controller/rivalAgents/valid/images/036853_jpg.rf.a4d82e830bd0505a439419174b950320.jpg: 416x416 1 4, 25.7ms\n",
      "image 1315/1766 /mnt/c/Users/Razogarz/PycharmProjects/airport-controller/rivalAgents/valid/images/036861_jpg.rf.f33c97077f6e3e3f90a6e33faece496d.jpg: 416x416 1 1, 16.3ms\n",
      "image 1316/1766 /mnt/c/Users/Razogarz/PycharmProjects/airport-controller/rivalAgents/valid/images/036868_jpg.rf.c40504879db07ce0f6426feb2e78d3c1.jpg: 416x416 1 1, 20.2ms\n",
      "image 1317/1766 /mnt/c/Users/Razogarz/PycharmProjects/airport-controller/rivalAgents/valid/images/036892_jpg.rf.5480fbdc88d44ea77ffe473f767187a9.jpg: 416x416 (no detections), 9.2ms\n",
      "image 1318/1766 /mnt/c/Users/Razogarz/PycharmProjects/airport-controller/rivalAgents/valid/images/036894_jpg.rf.0273991c3e435921905870109f3e9b24.jpg: 416x416 2 1s, 17.5ms\n",
      "image 1319/1766 /mnt/c/Users/Razogarz/PycharmProjects/airport-controller/rivalAgents/valid/images/036901_jpg.rf.62564703a5693e9da7e7751bc6d7a9f5.jpg: 416x416 1 1, 13.1ms\n",
      "image 1320/1766 /mnt/c/Users/Razogarz/PycharmProjects/airport-controller/rivalAgents/valid/images/036903_jpg.rf.0f5c1d5e3ab87967c5a654690296ec81.jpg: 416x416 2 3s, 25.1ms\n",
      "image 1321/1766 /mnt/c/Users/Razogarz/PycharmProjects/airport-controller/rivalAgents/valid/images/036904_jpg.rf.6ec540783e9dad816ab78a3fbbc08226.jpg: 416x416 1 4, 13.6ms\n",
      "image 1322/1766 /mnt/c/Users/Razogarz/PycharmProjects/airport-controller/rivalAgents/valid/images/036907_jpg.rf.f0fb0b86af14cbab4568d8886bf97d52.jpg: 416x416 1 1, 8.6ms\n",
      "image 1323/1766 /mnt/c/Users/Razogarz/PycharmProjects/airport-controller/rivalAgents/valid/images/036926_jpg.rf.0b17ed1ce19252d799b2c99d2063abfb.jpg: 416x416 1 1, 6.3ms\n",
      "image 1324/1766 /mnt/c/Users/Razogarz/PycharmProjects/airport-controller/rivalAgents/valid/images/036942_jpg.rf.37bf178a0d7409cc31740420e8bfce65.jpg: 416x416 1 1, 12.9ms\n",
      "image 1325/1766 /mnt/c/Users/Razogarz/PycharmProjects/airport-controller/rivalAgents/valid/images/036956_jpg.rf.ec5a5b072303e0aa49a804bb9283c7ae.jpg: 416x416 1 0, 1 3, 16.2ms\n",
      "image 1326/1766 /mnt/c/Users/Razogarz/PycharmProjects/airport-controller/rivalAgents/valid/images/036962_jpg.rf.d215cdfe167206737ac32d343a8ad298.jpg: 416x416 1 4, 16.2ms\n",
      "image 1327/1766 /mnt/c/Users/Razogarz/PycharmProjects/airport-controller/rivalAgents/valid/images/036976_jpg.rf.43c800e08f5e9462a1ab1d2cf0da5661.jpg: 416x416 1 4, 11.7ms\n",
      "image 1328/1766 /mnt/c/Users/Razogarz/PycharmProjects/airport-controller/rivalAgents/valid/images/036981_jpg.rf.cc9d8fe32250e5e3cd4e34d2605cced8.jpg: 416x416 1 1, 1 3, 13.3ms\n",
      "image 1329/1766 /mnt/c/Users/Razogarz/PycharmProjects/airport-controller/rivalAgents/valid/images/036983_jpg.rf.d0390250773038c32762811ffa236b8a.jpg: 416x416 (no detections), 9.9ms\n",
      "image 1330/1766 /mnt/c/Users/Razogarz/PycharmProjects/airport-controller/rivalAgents/valid/images/036984_jpg.rf.2d20aa057bb14626983e46c3745166aa.jpg: 416x416 1 4, 24.9ms\n",
      "image 1331/1766 /mnt/c/Users/Razogarz/PycharmProjects/airport-controller/rivalAgents/valid/images/036991_jpg.rf.764a2afbf33d3ebf075aefaf5c2be24c.jpg: 416x416 (no detections), 12.6ms\n",
      "image 1332/1766 /mnt/c/Users/Razogarz/PycharmProjects/airport-controller/rivalAgents/valid/images/036994_jpg.rf.c877bec812705b3d257dffefa1679f53.jpg: 416x416 (no detections), 18.5ms\n",
      "image 1333/1766 /mnt/c/Users/Razogarz/PycharmProjects/airport-controller/rivalAgents/valid/images/037000_jpg.rf.cd71911d3de0eb2d01aa897c0338dea3.jpg: 416x416 1 1, 16.2ms\n",
      "image 1334/1766 /mnt/c/Users/Razogarz/PycharmProjects/airport-controller/rivalAgents/valid/images/037004_jpg.rf.0decc9263feba75ac687b24cef7a4803.jpg: 416x416 (no detections), 7.6ms\n",
      "image 1335/1766 /mnt/c/Users/Razogarz/PycharmProjects/airport-controller/rivalAgents/valid/images/037032_jpg.rf.ac4109da9ade8612fe9ddd66bdf94917.jpg: 416x416 (no detections), 15.8ms\n",
      "image 1336/1766 /mnt/c/Users/Razogarz/PycharmProjects/airport-controller/rivalAgents/valid/images/037051_jpg.rf.1be5115f18215c63e43f3bf9cdb3f5db.jpg: 416x416 2 1s, 9.1ms\n",
      "image 1337/1766 /mnt/c/Users/Razogarz/PycharmProjects/airport-controller/rivalAgents/valid/images/037061_jpg.rf.43e60022667259980d9db9bf6f423664.jpg: 416x416 (no detections), 21.9ms\n",
      "image 1338/1766 /mnt/c/Users/Razogarz/PycharmProjects/airport-controller/rivalAgents/valid/images/037067_jpg.rf.fa16a5865c83cb62cd2dd6ca8c9a379f.jpg: 416x416 1 1, 17.6ms\n",
      "image 1339/1766 /mnt/c/Users/Razogarz/PycharmProjects/airport-controller/rivalAgents/valid/images/037092_jpg.rf.19999c5de76eabaa08b3bad76dc547f9.jpg: 416x416 (no detections), 18.5ms\n",
      "image 1340/1766 /mnt/c/Users/Razogarz/PycharmProjects/airport-controller/rivalAgents/valid/images/037101_jpg.rf.3aa872f0dfc44e31f39fd19ebdbac4fa.jpg: 416x416 1 4, 13.8ms\n",
      "image 1341/1766 /mnt/c/Users/Razogarz/PycharmProjects/airport-controller/rivalAgents/valid/images/037113_jpg.rf.8dde6ceed2cb2c054cec86f60d5740be.jpg: 416x416 1 0, 19.4ms\n",
      "image 1342/1766 /mnt/c/Users/Razogarz/PycharmProjects/airport-controller/rivalAgents/valid/images/037116_jpg.rf.6b491ff331ecdd152dddeec436f4139f.jpg: 416x416 1 4, 11.9ms\n",
      "image 1343/1766 /mnt/c/Users/Razogarz/PycharmProjects/airport-controller/rivalAgents/valid/images/037125_jpg.rf.0af122f4a5bb19394652d72d0f16f643.jpg: 416x416 (no detections), 15.2ms\n",
      "image 1344/1766 /mnt/c/Users/Razogarz/PycharmProjects/airport-controller/rivalAgents/valid/images/037128_jpg.rf.9a7cbd8bf4dd8f35b2c8027fbeb19666.jpg: 416x416 1 4, 16.8ms\n",
      "image 1345/1766 /mnt/c/Users/Razogarz/PycharmProjects/airport-controller/rivalAgents/valid/images/037134_jpg.rf.c77e743a6226fbd57a3b1def7719a1e6.jpg: 416x416 1 1, 16.1ms\n",
      "image 1346/1766 /mnt/c/Users/Razogarz/PycharmProjects/airport-controller/rivalAgents/valid/images/037154_jpg.rf.d7be6d920a76429bf7141ccfd6b2d11f.jpg: 416x416 (no detections), 10.8ms\n",
      "image 1347/1766 /mnt/c/Users/Razogarz/PycharmProjects/airport-controller/rivalAgents/valid/images/037168_jpg.rf.4d8849744cc0c27259a6b66ade147e5b.jpg: 416x416 1 1, 1 3, 17.6ms\n",
      "image 1348/1766 /mnt/c/Users/Razogarz/PycharmProjects/airport-controller/rivalAgents/valid/images/037173_jpg.rf.14be2a492ce49cd7b2c60b2dd57c87f5.jpg: 416x416 2 1s, 21.5ms\n",
      "image 1349/1766 /mnt/c/Users/Razogarz/PycharmProjects/airport-controller/rivalAgents/valid/images/037195_jpg.rf.5addb42f357c728db8f31a925b657c23.jpg: 416x416 1 1, 14.6ms\n",
      "image 1350/1766 /mnt/c/Users/Razogarz/PycharmProjects/airport-controller/rivalAgents/valid/images/037236_jpg.rf.954af59dfb4fb2d02000be7bc77429ef.jpg: 416x416 (no detections), 14.4ms\n",
      "image 1351/1766 /mnt/c/Users/Razogarz/PycharmProjects/airport-controller/rivalAgents/valid/images/037243_jpg.rf.4a263926c391d6d139bd2ff928d4a265.jpg: 416x416 1 4, 17.7ms\n",
      "image 1352/1766 /mnt/c/Users/Razogarz/PycharmProjects/airport-controller/rivalAgents/valid/images/037245_jpg.rf.399bf2aefa344536630ea9f0a6a5f6be.jpg: 416x416 (no detections), 19.5ms\n",
      "image 1353/1766 /mnt/c/Users/Razogarz/PycharmProjects/airport-controller/rivalAgents/valid/images/037260_jpg.rf.82b46b2ca0670b9899dd18bf503050a1.jpg: 416x416 (no detections), 19.4ms\n",
      "image 1354/1766 /mnt/c/Users/Razogarz/PycharmProjects/airport-controller/rivalAgents/valid/images/037296_jpg.rf.6fd3d1d1c72a8d8dbd2a0574e1eee212.jpg: 416x416 (no detections), 8.6ms\n",
      "image 1355/1766 /mnt/c/Users/Razogarz/PycharmProjects/airport-controller/rivalAgents/valid/images/037302_jpg.rf.07ee0ce44cdaccabfdcb85bd7710861f.jpg: 416x416 (no detections), 9.0ms\n",
      "image 1356/1766 /mnt/c/Users/Razogarz/PycharmProjects/airport-controller/rivalAgents/valid/images/037303_jpg.rf.dac7e53bcc1f018174f5f6e6b36c659b.jpg: 416x416 (no detections), 6.9ms\n",
      "image 1357/1766 /mnt/c/Users/Razogarz/PycharmProjects/airport-controller/rivalAgents/valid/images/037306_jpg.rf.b24b335c4750bd43bf4ca21c5e3de20a.jpg: 416x416 (no detections), 16.6ms\n",
      "image 1358/1766 /mnt/c/Users/Razogarz/PycharmProjects/airport-controller/rivalAgents/valid/images/037307_jpg.rf.800fb4c9a1588f757d837dea13e1cb43.jpg: 416x416 (no detections), 10.8ms\n",
      "image 1359/1766 /mnt/c/Users/Razogarz/PycharmProjects/airport-controller/rivalAgents/valid/images/037337_jpg.rf.d89bd49200df69432bcd98fb29c703bc.jpg: 416x416 1 4, 7.7ms\n",
      "image 1360/1766 /mnt/c/Users/Razogarz/PycharmProjects/airport-controller/rivalAgents/valid/images/037345_jpg.rf.f4c6d467665cd33fe63aca72a13f1baa.jpg: 416x416 (no detections), 16.9ms\n",
      "image 1361/1766 /mnt/c/Users/Razogarz/PycharmProjects/airport-controller/rivalAgents/valid/images/037353_jpg.rf.3855ba40f94767e1f48509b6c773eb70.jpg: 416x416 1 4, 30.3ms\n",
      "image 1362/1766 /mnt/c/Users/Razogarz/PycharmProjects/airport-controller/rivalAgents/valid/images/037362_jpg.rf.205851088df1dc88ad8b564121aa30df.jpg: 416x416 1 1, 18.5ms\n",
      "image 1363/1766 /mnt/c/Users/Razogarz/PycharmProjects/airport-controller/rivalAgents/valid/images/037369_jpg.rf.c4c2fde8ac42705d418e67f52ae2fe49.jpg: 416x416 1 1, 13.7ms\n",
      "image 1364/1766 /mnt/c/Users/Razogarz/PycharmProjects/airport-controller/rivalAgents/valid/images/037383_jpg.rf.5c692f480919ae18c2f9088ce8538f4d.jpg: 416x416 (no detections), 14.4ms\n",
      "image 1365/1766 /mnt/c/Users/Razogarz/PycharmProjects/airport-controller/rivalAgents/valid/images/037398_jpg.rf.1a4146872710dac4d5a0e4a9be6bd80c.jpg: 416x416 2 4s, 15.1ms\n",
      "image 1366/1766 /mnt/c/Users/Razogarz/PycharmProjects/airport-controller/rivalAgents/valid/images/037412_jpg.rf.22a9bcb1915f8a5718170ca4262ee834.jpg: 416x416 (no detections), 7.1ms\n",
      "image 1367/1766 /mnt/c/Users/Razogarz/PycharmProjects/airport-controller/rivalAgents/valid/images/037414_jpg.rf.6e4636ae05d5bfe404e312e4377070b2.jpg: 416x416 1 3, 13.0ms\n",
      "image 1368/1766 /mnt/c/Users/Razogarz/PycharmProjects/airport-controller/rivalAgents/valid/images/037437_jpg.rf.f59896b851c2a8b477be8a8f5bdcd797.jpg: 416x416 1 4, 12.4ms\n",
      "image 1369/1766 /mnt/c/Users/Razogarz/PycharmProjects/airport-controller/rivalAgents/valid/images/037438_jpg.rf.9ab21fc5cf14f6ac01b97979b3488268.jpg: 416x416 (no detections), 6.8ms\n",
      "image 1370/1766 /mnt/c/Users/Razogarz/PycharmProjects/airport-controller/rivalAgents/valid/images/037440_jpg.rf.f2d0e6cd5db45443bd4f8b9418d04d3d.jpg: 416x416 1 4, 13.8ms\n",
      "image 1371/1766 /mnt/c/Users/Razogarz/PycharmProjects/airport-controller/rivalAgents/valid/images/037442_jpg.rf.ea262e4c0c227a99306cbb24db070204.jpg: 416x416 1 0, 8.7ms\n",
      "image 1372/1766 /mnt/c/Users/Razogarz/PycharmProjects/airport-controller/rivalAgents/valid/images/037467_jpg.rf.91b9fbd5f1d906bb89f8fcae531009bb.jpg: 416x416 (no detections), 11.2ms\n",
      "image 1373/1766 /mnt/c/Users/Razogarz/PycharmProjects/airport-controller/rivalAgents/valid/images/037479_jpg.rf.972c09dfa7a4d9680cf00283df2fb255.jpg: 416x416 (no detections), 7.8ms\n",
      "image 1374/1766 /mnt/c/Users/Razogarz/PycharmProjects/airport-controller/rivalAgents/valid/images/037499_jpg.rf.470d3cff1d1c1ab8e83becc62236ee1f.jpg: 416x416 1 4, 9.0ms\n",
      "image 1375/1766 /mnt/c/Users/Razogarz/PycharmProjects/airport-controller/rivalAgents/valid/images/037514_jpg.rf.9e9190851756f0b91ea10ed04eb2b000.jpg: 416x416 1 1, 12.1ms\n",
      "image 1376/1766 /mnt/c/Users/Razogarz/PycharmProjects/airport-controller/rivalAgents/valid/images/037531_jpg.rf.2b0f237fe8cc0560d4bfbcb690e73b76.jpg: 416x416 1 1, 9.4ms\n",
      "image 1377/1766 /mnt/c/Users/Razogarz/PycharmProjects/airport-controller/rivalAgents/valid/images/037547_jpg.rf.15590bdb4718a5db2672a7935864a61a.jpg: 416x416 (no detections), 9.4ms\n",
      "image 1378/1766 /mnt/c/Users/Razogarz/PycharmProjects/airport-controller/rivalAgents/valid/images/037560_jpg.rf.0c065172913162ec935a5bd0555e6f9a.jpg: 416x416 1 1, 10.6ms\n",
      "image 1379/1766 /mnt/c/Users/Razogarz/PycharmProjects/airport-controller/rivalAgents/valid/images/037567_jpg.rf.764064421a19ba516976398a3fb525ba.jpg: 416x416 (no detections), 10.0ms\n",
      "image 1380/1766 /mnt/c/Users/Razogarz/PycharmProjects/airport-controller/rivalAgents/valid/images/037572_jpg.rf.b95a191eca5809ff9bfd14c71c235dad.jpg: 416x416 (no detections), 9.9ms\n",
      "image 1381/1766 /mnt/c/Users/Razogarz/PycharmProjects/airport-controller/rivalAgents/valid/images/037577_jpg.rf.2cf15e91097213e06167279f5957f2f1.jpg: 416x416 (no detections), 14.5ms\n",
      "image 1382/1766 /mnt/c/Users/Razogarz/PycharmProjects/airport-controller/rivalAgents/valid/images/037601_jpg.rf.93f010a0c2bb88a65ebb2249b15ea9a6.jpg: 416x416 (no detections), 12.7ms\n",
      "image 1383/1766 /mnt/c/Users/Razogarz/PycharmProjects/airport-controller/rivalAgents/valid/images/037604_jpg.rf.494b034630c0d632e3f5725cd33c8129.jpg: 416x416 (no detections), 15.8ms\n",
      "image 1384/1766 /mnt/c/Users/Razogarz/PycharmProjects/airport-controller/rivalAgents/valid/images/037605_jpg.rf.04c35370d7b98324b103ba1951426fa8.jpg: 416x416 1 1, 18.3ms\n",
      "image 1385/1766 /mnt/c/Users/Razogarz/PycharmProjects/airport-controller/rivalAgents/valid/images/037617_jpg.rf.dd5ecc04aa2e7f25cc14e5b9d856c98d.jpg: 416x416 (no detections), 12.7ms\n",
      "image 1386/1766 /mnt/c/Users/Razogarz/PycharmProjects/airport-controller/rivalAgents/valid/images/037642_jpg.rf.efc38c0eab5c43a22fa6ca306576cf64.jpg: 416x416 (no detections), 11.9ms\n",
      "image 1387/1766 /mnt/c/Users/Razogarz/PycharmProjects/airport-controller/rivalAgents/valid/images/037646_jpg.rf.eb978471599cf700a67ebd98862e378f.jpg: 416x416 1 4, 7.2ms\n",
      "image 1388/1766 /mnt/c/Users/Razogarz/PycharmProjects/airport-controller/rivalAgents/valid/images/037655_jpg.rf.355537f4cc7c2f3677c4bbaa03b7126f.jpg: 416x416 (no detections), 10.8ms\n",
      "image 1389/1766 /mnt/c/Users/Razogarz/PycharmProjects/airport-controller/rivalAgents/valid/images/037670_jpg.rf.57a968ed606cec74b64d59e152d16511.jpg: 416x416 (no detections), 18.4ms\n",
      "image 1390/1766 /mnt/c/Users/Razogarz/PycharmProjects/airport-controller/rivalAgents/valid/images/037675_jpg.rf.8b34c9359e548872f59e4ec0bf319cbb.jpg: 416x416 1 4, 13.2ms\n",
      "image 1391/1766 /mnt/c/Users/Razogarz/PycharmProjects/airport-controller/rivalAgents/valid/images/037687_jpg.rf.993869f782baf0f95562f91a35e19d6a.jpg: 416x416 (no detections), 13.2ms\n",
      "image 1392/1766 /mnt/c/Users/Razogarz/PycharmProjects/airport-controller/rivalAgents/valid/images/037688_jpg.rf.499bddc9f4b0ba1e061311272a762092.jpg: 416x416 1 4, 12.1ms\n",
      "image 1393/1766 /mnt/c/Users/Razogarz/PycharmProjects/airport-controller/rivalAgents/valid/images/037709_jpg.rf.341dd1405b42debf35935c919b1ab273.jpg: 416x416 (no detections), 14.1ms\n",
      "image 1394/1766 /mnt/c/Users/Razogarz/PycharmProjects/airport-controller/rivalAgents/valid/images/037731_jpg.rf.09dbf6e1194bcce9d62befb99ef95892.jpg: 416x416 1 1, 8.3ms\n",
      "image 1395/1766 /mnt/c/Users/Razogarz/PycharmProjects/airport-controller/rivalAgents/valid/images/037737_jpg.rf.db9c320467d7dc48cef58d7ee0b5704e.jpg: 416x416 1 1, 12.7ms\n",
      "image 1396/1766 /mnt/c/Users/Razogarz/PycharmProjects/airport-controller/rivalAgents/valid/images/037739_jpg.rf.6553934f6befc990e3b8874dcd9f2b85.jpg: 416x416 1 0, 11.0ms\n",
      "image 1397/1766 /mnt/c/Users/Razogarz/PycharmProjects/airport-controller/rivalAgents/valid/images/037741_jpg.rf.2718005411a1a9b9f7f1c85648198492.jpg: 416x416 (no detections), 13.4ms\n",
      "image 1398/1766 /mnt/c/Users/Razogarz/PycharmProjects/airport-controller/rivalAgents/valid/images/037742_jpg.rf.5e79a25bddf17c8978576799699588e1.jpg: 416x416 1 4, 12.3ms\n",
      "image 1399/1766 /mnt/c/Users/Razogarz/PycharmProjects/airport-controller/rivalAgents/valid/images/037764_jpg.rf.d49660d7b1fcc6970d76d1fc4d779da7.jpg: 416x416 (no detections), 6.9ms\n",
      "image 1400/1766 /mnt/c/Users/Razogarz/PycharmProjects/airport-controller/rivalAgents/valid/images/037777_jpg.rf.c44167d0977a10ef0fcbe13731ab3128.jpg: 416x416 (no detections), 15.3ms\n",
      "image 1401/1766 /mnt/c/Users/Razogarz/PycharmProjects/airport-controller/rivalAgents/valid/images/037811_jpg.rf.4e38318759c21ec43e6e6001a5c089d4.jpg: 416x416 1 4, 12.1ms\n",
      "image 1402/1766 /mnt/c/Users/Razogarz/PycharmProjects/airport-controller/rivalAgents/valid/images/037873_jpg.rf.1ad2c0196ed540f3ff28a94c2f8b6460.jpg: 416x416 1 1, 13.1ms\n",
      "image 1403/1766 /mnt/c/Users/Razogarz/PycharmProjects/airport-controller/rivalAgents/valid/images/037884_jpg.rf.bc24402f2b8e218ef682eb2eb3e1cf8b.jpg: 416x416 1 4, 13.4ms\n",
      "image 1404/1766 /mnt/c/Users/Razogarz/PycharmProjects/airport-controller/rivalAgents/valid/images/037900_jpg.rf.5bf6f0c9dd72ca3b97eb7df3eeb34a9e.jpg: 416x416 1 4, 9.7ms\n",
      "image 1405/1766 /mnt/c/Users/Razogarz/PycharmProjects/airport-controller/rivalAgents/valid/images/037917_jpg.rf.e38c4db782832df48c7cef142cad4b16.jpg: 416x416 1 4, 9.2ms\n",
      "image 1406/1766 /mnt/c/Users/Razogarz/PycharmProjects/airport-controller/rivalAgents/valid/images/037982_jpg.rf.fc3a8404cf5078c37259fb4d2a2156a4.jpg: 416x416 2 1s, 16.0ms\n",
      "image 1407/1766 /mnt/c/Users/Razogarz/PycharmProjects/airport-controller/rivalAgents/valid/images/037988_jpg.rf.1d022d838730b9feba17997d992c1e05.jpg: 416x416 (no detections), 15.2ms\n",
      "image 1408/1766 /mnt/c/Users/Razogarz/PycharmProjects/airport-controller/rivalAgents/valid/images/038003_jpg.rf.c6f73f97bd281822ba240d05a8a93bbe.jpg: 416x416 (no detections), 13.4ms\n",
      "image 1409/1766 /mnt/c/Users/Razogarz/PycharmProjects/airport-controller/rivalAgents/valid/images/038011_jpg.rf.d7aed044e39cb84b73bd4f35e504e80e.jpg: 416x416 (no detections), 12.5ms\n",
      "image 1410/1766 /mnt/c/Users/Razogarz/PycharmProjects/airport-controller/rivalAgents/valid/images/038024_jpg.rf.f6dae1f494fc25239332e602a178ae2b.jpg: 416x416 1 4, 21.6ms\n",
      "image 1411/1766 /mnt/c/Users/Razogarz/PycharmProjects/airport-controller/rivalAgents/valid/images/038028_jpg.rf.489a0b3cd5dea773cf0135eb80103204.jpg: 416x416 1 3, 11.0ms\n",
      "image 1412/1766 /mnt/c/Users/Razogarz/PycharmProjects/airport-controller/rivalAgents/valid/images/038031_jpg.rf.f59d875d07d26f92bc6dd24db15203a2.jpg: 416x416 (no detections), 11.7ms\n",
      "image 1413/1766 /mnt/c/Users/Razogarz/PycharmProjects/airport-controller/rivalAgents/valid/images/038048_jpg.rf.39e2f4ac255cabca5885ba7220db4c9f.jpg: 416x416 (no detections), 33.5ms\n",
      "image 1414/1766 /mnt/c/Users/Razogarz/PycharmProjects/airport-controller/rivalAgents/valid/images/038097_jpg.rf.e44de8694bd7fd1a3661882aa79199c9.jpg: 416x416 1 1, 13.2ms\n",
      "image 1415/1766 /mnt/c/Users/Razogarz/PycharmProjects/airport-controller/rivalAgents/valid/images/038098_jpg.rf.16c7f2f1c209129015cee3544e0649f9.jpg: 416x416 (no detections), 10.7ms\n",
      "image 1416/1766 /mnt/c/Users/Razogarz/PycharmProjects/airport-controller/rivalAgents/valid/images/038106_jpg.rf.ed7dad7bf7333acda8a23bfa00738697.jpg: 416x416 2 3s, 9.8ms\n",
      "image 1417/1766 /mnt/c/Users/Razogarz/PycharmProjects/airport-controller/rivalAgents/valid/images/038124_jpg.rf.b1e131c14180def5a9ec3752a5c0a695.jpg: 416x416 1 1, 15.6ms\n",
      "image 1418/1766 /mnt/c/Users/Razogarz/PycharmProjects/airport-controller/rivalAgents/valid/images/038128_jpg.rf.7151c76b60ff68e10d81fe468fbb134f.jpg: 416x416 (no detections), 8.6ms\n",
      "image 1419/1766 /mnt/c/Users/Razogarz/PycharmProjects/airport-controller/rivalAgents/valid/images/038148_jpg.rf.487e285786786b9d6d584c572e67b766.jpg: 416x416 (no detections), 15.4ms\n",
      "image 1420/1766 /mnt/c/Users/Razogarz/PycharmProjects/airport-controller/rivalAgents/valid/images/038160_jpg.rf.086924521ad03254fb833821d7612093.jpg: 416x416 (no detections), 18.2ms\n",
      "image 1421/1766 /mnt/c/Users/Razogarz/PycharmProjects/airport-controller/rivalAgents/valid/images/038180_jpg.rf.b3222e447ef3302889a3e68d3691205e.jpg: 416x416 1 1, 9.2ms\n",
      "image 1422/1766 /mnt/c/Users/Razogarz/PycharmProjects/airport-controller/rivalAgents/valid/images/038199_jpg.rf.d6e4bf954e25b616265d20bacbdadc85.jpg: 416x416 1 4, 11.0ms\n",
      "image 1423/1766 /mnt/c/Users/Razogarz/PycharmProjects/airport-controller/rivalAgents/valid/images/038201_jpg.rf.6b328e0b8eed3713b4deaf12ad54dab5.jpg: 416x416 1 1, 8.9ms\n",
      "image 1424/1766 /mnt/c/Users/Razogarz/PycharmProjects/airport-controller/rivalAgents/valid/images/038208_jpg.rf.d8c0138b7fa1f15bc3e89b1e4b9716dd.jpg: 416x416 (no detections), 17.2ms\n",
      "image 1425/1766 /mnt/c/Users/Razogarz/PycharmProjects/airport-controller/rivalAgents/valid/images/038252_jpg.rf.aae8128dd4a944266f5afd60055d826a.jpg: 416x416 2 3s, 13.9ms\n",
      "image 1426/1766 /mnt/c/Users/Razogarz/PycharmProjects/airport-controller/rivalAgents/valid/images/038258_jpg.rf.6ac1b07cfa30425f2d5f771ad35a1a9e.jpg: 416x416 (no detections), 14.5ms\n",
      "image 1427/1766 /mnt/c/Users/Razogarz/PycharmProjects/airport-controller/rivalAgents/valid/images/038287_jpg.rf.7ad873499882ad6c323ca79cbd48b1f6.jpg: 416x416 (no detections), 14.2ms\n",
      "image 1428/1766 /mnt/c/Users/Razogarz/PycharmProjects/airport-controller/rivalAgents/valid/images/038290_jpg.rf.39925e4f4cde883908d7e65285fefa97.jpg: 416x416 1 1, 14.3ms\n",
      "image 1429/1766 /mnt/c/Users/Razogarz/PycharmProjects/airport-controller/rivalAgents/valid/images/038291_jpg.rf.e78aa7d4894aa80217f3a004398143a6.jpg: 416x416 1 4, 8.6ms\n",
      "image 1430/1766 /mnt/c/Users/Razogarz/PycharmProjects/airport-controller/rivalAgents/valid/images/038300_jpg.rf.46c290a1a795ee7a11373136ba891f18.jpg: 416x416 (no detections), 16.7ms\n",
      "image 1431/1766 /mnt/c/Users/Razogarz/PycharmProjects/airport-controller/rivalAgents/valid/images/038302_jpg.rf.6afdbe146cebb541dac4706b7088b815.jpg: 416x416 (no detections), 14.4ms\n",
      "image 1432/1766 /mnt/c/Users/Razogarz/PycharmProjects/airport-controller/rivalAgents/valid/images/038304_jpg.rf.37393f7a13b3ef4ee7436f46491f0a76.jpg: 416x416 1 0, 13.9ms\n",
      "image 1433/1766 /mnt/c/Users/Razogarz/PycharmProjects/airport-controller/rivalAgents/valid/images/038346_jpg.rf.df95e7e606d82d56073a6e70ef02a480.jpg: 416x416 (no detections), 14.2ms\n",
      "image 1434/1766 /mnt/c/Users/Razogarz/PycharmProjects/airport-controller/rivalAgents/valid/images/038355_jpg.rf.2042dc296e2d03a5ae6be764b062f9be.jpg: 416x416 (no detections), 12.0ms\n",
      "image 1435/1766 /mnt/c/Users/Razogarz/PycharmProjects/airport-controller/rivalAgents/valid/images/038366_jpg.rf.ce915a9480d4e751e7b06bd137bd108b.jpg: 416x416 (no detections), 12.5ms\n",
      "image 1436/1766 /mnt/c/Users/Razogarz/PycharmProjects/airport-controller/rivalAgents/valid/images/038374_jpg.rf.dc645f5c6189c4005a37d45e0547216a.jpg: 416x416 1 1, 2 4s, 12.6ms\n",
      "image 1437/1766 /mnt/c/Users/Razogarz/PycharmProjects/airport-controller/rivalAgents/valid/images/038378_jpg.rf.91ece5cec92339b15e3f28a21b57de8d.jpg: 416x416 (no detections), 12.3ms\n",
      "image 1438/1766 /mnt/c/Users/Razogarz/PycharmProjects/airport-controller/rivalAgents/valid/images/038384_jpg.rf.fd86fa9f02fe9fcdc049c69d0c3f8c46.jpg: 416x416 (no detections), 14.2ms\n",
      "image 1439/1766 /mnt/c/Users/Razogarz/PycharmProjects/airport-controller/rivalAgents/valid/images/038396_jpg.rf.8f5b36fca0db245521cae3c10e24d4f7.jpg: 416x416 2 1s, 8.1ms\n",
      "image 1440/1766 /mnt/c/Users/Razogarz/PycharmProjects/airport-controller/rivalAgents/valid/images/038398_jpg.rf.7f2e02b119dd15bb4c31a5b9ece252dd.jpg: 416x416 (no detections), 15.8ms\n",
      "image 1441/1766 /mnt/c/Users/Razogarz/PycharmProjects/airport-controller/rivalAgents/valid/images/038399_jpg.rf.82dd7cb56f0f70e90ebcac20ebc14566.jpg: 416x416 (no detections), 7.5ms\n",
      "image 1442/1766 /mnt/c/Users/Razogarz/PycharmProjects/airport-controller/rivalAgents/valid/images/038401_jpg.rf.d9a579e95193f42878dc563b5b09abbc.jpg: 416x416 1 3, 8.1ms\n",
      "image 1443/1766 /mnt/c/Users/Razogarz/PycharmProjects/airport-controller/rivalAgents/valid/images/038414_jpg.rf.779818fe2e9b1468f37cfed74bf18eb8.jpg: 416x416 1 4, 7.1ms\n",
      "image 1444/1766 /mnt/c/Users/Razogarz/PycharmProjects/airport-controller/rivalAgents/valid/images/038420_jpg.rf.2d2c8830096efe487c7cb194ec98eb6d.jpg: 416x416 1 4, 11.2ms\n",
      "image 1445/1766 /mnt/c/Users/Razogarz/PycharmProjects/airport-controller/rivalAgents/valid/images/038422_jpg.rf.e7f422f58423622154f12d352721ac8c.jpg: 416x416 1 4, 13.0ms\n",
      "image 1446/1766 /mnt/c/Users/Razogarz/PycharmProjects/airport-controller/rivalAgents/valid/images/038427_jpg.rf.1dc3767a43b1f0d6022a23650b28a09a.jpg: 416x416 1 4, 10.9ms\n",
      "image 1447/1766 /mnt/c/Users/Razogarz/PycharmProjects/airport-controller/rivalAgents/valid/images/038438_jpg.rf.ed39c527efa77d9d43033e5da93b633b.jpg: 416x416 (no detections), 11.1ms\n",
      "image 1448/1766 /mnt/c/Users/Razogarz/PycharmProjects/airport-controller/rivalAgents/valid/images/038441_jpg.rf.88b6003b5cdb08594c17eeb3214697b9.jpg: 416x416 (no detections), 13.0ms\n",
      "image 1449/1766 /mnt/c/Users/Razogarz/PycharmProjects/airport-controller/rivalAgents/valid/images/038455_jpg.rf.9567e17390393b56537879af9e7e8f1b.jpg: 416x416 (no detections), 16.5ms\n",
      "image 1450/1766 /mnt/c/Users/Razogarz/PycharmProjects/airport-controller/rivalAgents/valid/images/038456_jpg.rf.3d694943dc924e43dc85633ebe0a91c5.jpg: 416x416 1 4, 13.8ms\n",
      "image 1451/1766 /mnt/c/Users/Razogarz/PycharmProjects/airport-controller/rivalAgents/valid/images/038461_jpg.rf.53ab891bbdfaae7cebf91c3654b2a18d.jpg: 416x416 (no detections), 13.3ms\n",
      "image 1452/1766 /mnt/c/Users/Razogarz/PycharmProjects/airport-controller/rivalAgents/valid/images/038462_jpg.rf.ccbcfb990fe3f8acd5aea81eaf2a2eff.jpg: 416x416 2 3s, 12.9ms\n",
      "image 1453/1766 /mnt/c/Users/Razogarz/PycharmProjects/airport-controller/rivalAgents/valid/images/038468_jpg.rf.d43dea429098897a90582848097d386b.jpg: 416x416 1 0, 10.9ms\n",
      "image 1454/1766 /mnt/c/Users/Razogarz/PycharmProjects/airport-controller/rivalAgents/valid/images/038493_jpg.rf.f3f4a490ef9ec8606f6f3bf24c71d61f.jpg: 416x416 (no detections), 12.3ms\n",
      "image 1455/1766 /mnt/c/Users/Razogarz/PycharmProjects/airport-controller/rivalAgents/valid/images/038502_jpg.rf.04bdc1d71ccd808236c24b12cbdaaec8.jpg: 416x416 (no detections), 9.7ms\n",
      "image 1456/1766 /mnt/c/Users/Razogarz/PycharmProjects/airport-controller/rivalAgents/valid/images/038504_jpg.rf.a97244b7d208b02e2606e2fc3f0f08f8.jpg: 416x416 (no detections), 17.9ms\n",
      "image 1457/1766 /mnt/c/Users/Razogarz/PycharmProjects/airport-controller/rivalAgents/valid/images/038517_jpg.rf.8ae3ddffcb1fbbe38fd161eeaa97520f.jpg: 416x416 1 3, 14.5ms\n",
      "image 1458/1766 /mnt/c/Users/Razogarz/PycharmProjects/airport-controller/rivalAgents/valid/images/038595_jpg.rf.48febe8c38491e1af0066feb67bb63aa.jpg: 416x416 (no detections), 17.0ms\n",
      "image 1459/1766 /mnt/c/Users/Razogarz/PycharmProjects/airport-controller/rivalAgents/valid/images/038598_jpg.rf.9b557bac64eec2737a7f8c4f0b769033.jpg: 416x416 1 1, 9.7ms\n",
      "image 1460/1766 /mnt/c/Users/Razogarz/PycharmProjects/airport-controller/rivalAgents/valid/images/038602_jpg.rf.48113734e2b09486e60fb29ae2aac9bb.jpg: 416x416 1 3, 14.9ms\n",
      "image 1461/1766 /mnt/c/Users/Razogarz/PycharmProjects/airport-controller/rivalAgents/valid/images/038607_jpg.rf.105d5574138b834d796fdfc150da744f.jpg: 416x416 1 1, 11.0ms\n",
      "image 1462/1766 /mnt/c/Users/Razogarz/PycharmProjects/airport-controller/rivalAgents/valid/images/038623_jpg.rf.b34d1cb2950334af8885afd70ebcad06.jpg: 416x416 (no detections), 7.4ms\n",
      "image 1463/1766 /mnt/c/Users/Razogarz/PycharmProjects/airport-controller/rivalAgents/valid/images/038627_jpg.rf.c8289f1a2abbd1d5fc3bf067f31bd3e1.jpg: 416x416 1 1, 13.3ms\n",
      "image 1464/1766 /mnt/c/Users/Razogarz/PycharmProjects/airport-controller/rivalAgents/valid/images/038648_jpg.rf.4388e4be830d43c12944fddd8f9c2219.jpg: 416x416 1 3, 15.6ms\n",
      "image 1465/1766 /mnt/c/Users/Razogarz/PycharmProjects/airport-controller/rivalAgents/valid/images/038699_jpg.rf.da131f42474e57c9b1c866dd97d64359.jpg: 416x416 1 0, 1 3, 13.4ms\n",
      "image 1466/1766 /mnt/c/Users/Razogarz/PycharmProjects/airport-controller/rivalAgents/valid/images/038703_jpg.rf.72081fe467e68c8d04768dd7f248cc81.jpg: 416x416 1 3, 13.8ms\n",
      "image 1467/1766 /mnt/c/Users/Razogarz/PycharmProjects/airport-controller/rivalAgents/valid/images/038707_jpg.rf.bcbbbf97efd1ef8ecc315d0a36913a99.jpg: 416x416 (no detections), 7.9ms\n",
      "image 1468/1766 /mnt/c/Users/Razogarz/PycharmProjects/airport-controller/rivalAgents/valid/images/038717_jpg.rf.e8fad1979c34c81409cf6cdec4343158.jpg: 416x416 1 4, 13.6ms\n",
      "image 1469/1766 /mnt/c/Users/Razogarz/PycharmProjects/airport-controller/rivalAgents/valid/images/038743_jpg.rf.1a65096c987e6e6bb6f2792bff330cf1.jpg: 416x416 (no detections), 8.0ms\n",
      "image 1470/1766 /mnt/c/Users/Razogarz/PycharmProjects/airport-controller/rivalAgents/valid/images/038752_jpg.rf.2a534074f0ed37b1cb8cfcc8654fa4bd.jpg: 416x416 (no detections), 18.4ms\n",
      "image 1471/1766 /mnt/c/Users/Razogarz/PycharmProjects/airport-controller/rivalAgents/valid/images/038758_jpg.rf.d554a7ba6767e3f18ebbee4400e490e8.jpg: 416x416 (no detections), 7.3ms\n",
      "image 1472/1766 /mnt/c/Users/Razogarz/PycharmProjects/airport-controller/rivalAgents/valid/images/038807_jpg.rf.76597f0ab9bb4b7065086513cd6cd89c.jpg: 416x416 (no detections), 15.4ms\n",
      "image 1473/1766 /mnt/c/Users/Razogarz/PycharmProjects/airport-controller/rivalAgents/valid/images/038817_jpg.rf.0565bcb307aa3f67a96a513b93a91345.jpg: 416x416 1 1, 13.0ms\n",
      "image 1474/1766 /mnt/c/Users/Razogarz/PycharmProjects/airport-controller/rivalAgents/valid/images/038820_jpg.rf.49c24cc356c4143ca30055e4e54d55b0.jpg: 416x416 1 4, 10.3ms\n",
      "image 1475/1766 /mnt/c/Users/Razogarz/PycharmProjects/airport-controller/rivalAgents/valid/images/038827_jpg.rf.3fbc05546b9c1bbfbb46ed6d35500d38.jpg: 416x416 (no detections), 10.5ms\n",
      "image 1476/1766 /mnt/c/Users/Razogarz/PycharmProjects/airport-controller/rivalAgents/valid/images/038851_jpg.rf.0bd95f3271773e02df62741f9a1f32e9.jpg: 416x416 (no detections), 10.0ms\n",
      "image 1477/1766 /mnt/c/Users/Razogarz/PycharmProjects/airport-controller/rivalAgents/valid/images/038855_jpg.rf.cfa4aca9f64a32b566948c71074d9dec.jpg: 416x416 1 1, 1 4, 10.7ms\n",
      "image 1478/1766 /mnt/c/Users/Razogarz/PycharmProjects/airport-controller/rivalAgents/valid/images/038858_jpg.rf.85ecbf9b61757d7e184189ac409f40b8.jpg: 416x416 (no detections), 14.7ms\n",
      "image 1479/1766 /mnt/c/Users/Razogarz/PycharmProjects/airport-controller/rivalAgents/valid/images/038871_jpg.rf.6995c7a635dde35aeec38152c27ad015.jpg: 416x416 (no detections), 8.3ms\n",
      "image 1480/1766 /mnt/c/Users/Razogarz/PycharmProjects/airport-controller/rivalAgents/valid/images/038876_jpg.rf.4ba7a878b3e2f9f44bd878ef28ef0651.jpg: 416x416 (no detections), 16.5ms\n",
      "image 1481/1766 /mnt/c/Users/Razogarz/PycharmProjects/airport-controller/rivalAgents/valid/images/038882_jpg.rf.917fe86497461462cc70b5f61be0b2cb.jpg: 416x416 1 4, 11.5ms\n",
      "image 1482/1766 /mnt/c/Users/Razogarz/PycharmProjects/airport-controller/rivalAgents/valid/images/038885_jpg.rf.5c9db4a977e04d852747122610e5f12c.jpg: 416x416 1 4, 12.0ms\n",
      "image 1483/1766 /mnt/c/Users/Razogarz/PycharmProjects/airport-controller/rivalAgents/valid/images/038887_jpg.rf.ede480ea7d7dda963769a884d9437a3f.jpg: 416x416 1 4, 20.9ms\n",
      "image 1484/1766 /mnt/c/Users/Razogarz/PycharmProjects/airport-controller/rivalAgents/valid/images/038899_jpg.rf.b7709db799ab980cdd8f96310c585d0d.jpg: 416x416 (no detections), 18.9ms\n",
      "image 1485/1766 /mnt/c/Users/Razogarz/PycharmProjects/airport-controller/rivalAgents/valid/images/038913_jpg.rf.8decf98d14ba89b17dbbf58466615669.jpg: 416x416 1 4, 9.8ms\n",
      "image 1486/1766 /mnt/c/Users/Razogarz/PycharmProjects/airport-controller/rivalAgents/valid/images/038925_jpg.rf.443e11c4583bf9b8038b73a00a86e38c.jpg: 416x416 (no detections), 16.0ms\n",
      "image 1487/1766 /mnt/c/Users/Razogarz/PycharmProjects/airport-controller/rivalAgents/valid/images/038934_jpg.rf.9e960f81819d98f049d034a4cbed6d47.jpg: 416x416 (no detections), 8.2ms\n",
      "image 1488/1766 /mnt/c/Users/Razogarz/PycharmProjects/airport-controller/rivalAgents/valid/images/038949_jpg.rf.6a9ec1001c4ed6be4491d9fbff831e31.jpg: 416x416 (no detections), 15.8ms\n",
      "image 1489/1766 /mnt/c/Users/Razogarz/PycharmProjects/airport-controller/rivalAgents/valid/images/038961_jpg.rf.cc7c637ac32bbc25e1c08c0897abae0e.jpg: 416x416 1 4, 14.4ms\n",
      "image 1490/1766 /mnt/c/Users/Razogarz/PycharmProjects/airport-controller/rivalAgents/valid/images/038975_jpg.rf.336d94d563228527328b36a9682159be.jpg: 416x416 (no detections), 13.1ms\n",
      "image 1491/1766 /mnt/c/Users/Razogarz/PycharmProjects/airport-controller/rivalAgents/valid/images/038976_jpg.rf.9c4223c47529b982e7a5f63bb7ced7ba.jpg: 416x416 (no detections), 12.0ms\n",
      "image 1492/1766 /mnt/c/Users/Razogarz/PycharmProjects/airport-controller/rivalAgents/valid/images/038982_jpg.rf.b28568837f81fe3696615c0262a9d4ef.jpg: 416x416 1 3, 17.8ms\n",
      "image 1493/1766 /mnt/c/Users/Razogarz/PycharmProjects/airport-controller/rivalAgents/valid/images/038983_jpg.rf.9342ee4ba34d334bd749397c25c4fd12.jpg: 416x416 1 4, 7.6ms\n",
      "image 1494/1766 /mnt/c/Users/Razogarz/PycharmProjects/airport-controller/rivalAgents/valid/images/038991_jpg.rf.b98e6a97de782189ebf645a69e0d2af0.jpg: 416x416 (no detections), 8.2ms\n",
      "image 1495/1766 /mnt/c/Users/Razogarz/PycharmProjects/airport-controller/rivalAgents/valid/images/038994_jpg.rf.b6ed689704473fdd8898670d12b3a781.jpg: 416x416 1 4, 7.2ms\n",
      "image 1496/1766 /mnt/c/Users/Razogarz/PycharmProjects/airport-controller/rivalAgents/valid/images/039000_jpg.rf.1ce426985e08d048c17110288712987c.jpg: 416x416 1 1, 9.4ms\n",
      "image 1497/1766 /mnt/c/Users/Razogarz/PycharmProjects/airport-controller/rivalAgents/valid/images/039018_jpg.rf.16acba1020328620e159e206f29d8c53.jpg: 416x416 1 1, 1 4, 6.4ms\n",
      "image 1498/1766 /mnt/c/Users/Razogarz/PycharmProjects/airport-controller/rivalAgents/valid/images/039026_jpg.rf.988804d60d3ed3217da008d2400fe678.jpg: 416x416 1 1, 6.5ms\n",
      "image 1499/1766 /mnt/c/Users/Razogarz/PycharmProjects/airport-controller/rivalAgents/valid/images/039034_jpg.rf.fb81c21972fee23f4c192ce9edeef6e3.jpg: 416x416 2 4s, 6.4ms\n",
      "image 1500/1766 /mnt/c/Users/Razogarz/PycharmProjects/airport-controller/rivalAgents/valid/images/039041_jpg.rf.a331dc214e8cced732e8922584b2f66a.jpg: 416x416 1 3, 13.4ms\n",
      "image 1501/1766 /mnt/c/Users/Razogarz/PycharmProjects/airport-controller/rivalAgents/valid/images/039065_jpg.rf.48cc3ba833b3bd1626d4eb10394183a6.jpg: 416x416 1 4, 6.3ms\n",
      "image 1502/1766 /mnt/c/Users/Razogarz/PycharmProjects/airport-controller/rivalAgents/valid/images/039090_jpg.rf.3fcc9fcdcc79d6e4923d13191e87f4e4.jpg: 416x416 (no detections), 8.1ms\n",
      "image 1503/1766 /mnt/c/Users/Razogarz/PycharmProjects/airport-controller/rivalAgents/valid/images/039097_jpg.rf.5eed618acbfd45dc25c6186576819f87.jpg: 416x416 (no detections), 8.1ms\n",
      "image 1504/1766 /mnt/c/Users/Razogarz/PycharmProjects/airport-controller/rivalAgents/valid/images/039121_jpg.rf.dc7cbc59ede7449ce1497ca1d993290a.jpg: 416x416 1 1, 14.7ms\n",
      "image 1505/1766 /mnt/c/Users/Razogarz/PycharmProjects/airport-controller/rivalAgents/valid/images/039126_jpg.rf.0207f4edd6dd45735f52172791efd481.jpg: 416x416 1 1, 7.1ms\n",
      "image 1506/1766 /mnt/c/Users/Razogarz/PycharmProjects/airport-controller/rivalAgents/valid/images/039127_jpg.rf.8cd9d0124855ab5c945cfa1438ce8385.jpg: 416x416 (no detections), 14.3ms\n",
      "image 1507/1766 /mnt/c/Users/Razogarz/PycharmProjects/airport-controller/rivalAgents/valid/images/039128_jpg.rf.0ae487059c92ad043bc96cbd4519baa0.jpg: 416x416 1 1, 1 3, 9.4ms\n",
      "image 1508/1766 /mnt/c/Users/Razogarz/PycharmProjects/airport-controller/rivalAgents/valid/images/039144_jpg.rf.4ac3593b5ad05ef304c57f3f25d3ef0f.jpg: 416x416 (no detections), 16.0ms\n",
      "image 1509/1766 /mnt/c/Users/Razogarz/PycharmProjects/airport-controller/rivalAgents/valid/images/039157_jpg.rf.ca526668409bb4155c62004240583174.jpg: 416x416 (no detections), 7.6ms\n",
      "image 1510/1766 /mnt/c/Users/Razogarz/PycharmProjects/airport-controller/rivalAgents/valid/images/039185_jpg.rf.b8983623d667e521d82d56b2f3ad1e79.jpg: 416x416 1 4, 13.0ms\n",
      "image 1511/1766 /mnt/c/Users/Razogarz/PycharmProjects/airport-controller/rivalAgents/valid/images/039208_jpg.rf.03d39514b39bb6bfa86d01a7433d0eb2.jpg: 416x416 (no detections), 26.2ms\n",
      "image 1512/1766 /mnt/c/Users/Razogarz/PycharmProjects/airport-controller/rivalAgents/valid/images/039209_jpg.rf.735d66f0ca536dea0cece79082c2f6f8.jpg: 416x416 1 1, 6.6ms\n",
      "image 1513/1766 /mnt/c/Users/Razogarz/PycharmProjects/airport-controller/rivalAgents/valid/images/039215_jpg.rf.1fa0afcef17c33d3987db65b03a4ea66.jpg: 416x416 1 4, 11.6ms\n",
      "image 1514/1766 /mnt/c/Users/Razogarz/PycharmProjects/airport-controller/rivalAgents/valid/images/039230_jpg.rf.39935633f1f257206964d4d0223a94ba.jpg: 416x416 (no detections), 9.4ms\n",
      "image 1515/1766 /mnt/c/Users/Razogarz/PycharmProjects/airport-controller/rivalAgents/valid/images/039244_jpg.rf.30867c0578964466562aba4b3f01aabe.jpg: 416x416 (no detections), 8.5ms\n",
      "image 1516/1766 /mnt/c/Users/Razogarz/PycharmProjects/airport-controller/rivalAgents/valid/images/039304_jpg.rf.c43013994722b6ee91112fb109ff3179.jpg: 416x416 1 0, 7.1ms\n",
      "image 1517/1766 /mnt/c/Users/Razogarz/PycharmProjects/airport-controller/rivalAgents/valid/images/039334_jpg.rf.597f5617ccc98d2e43082a0c41432cbd.jpg: 416x416 (no detections), 10.6ms\n",
      "image 1518/1766 /mnt/c/Users/Razogarz/PycharmProjects/airport-controller/rivalAgents/valid/images/039351_jpg.rf.517d6bffa06c2a52430125e5ec80b6e4.jpg: 416x416 1 4, 12.9ms\n",
      "image 1519/1766 /mnt/c/Users/Razogarz/PycharmProjects/airport-controller/rivalAgents/valid/images/039355_jpg.rf.2528fe7b5991585400b1535da75219ef.jpg: 416x416 1 4, 14.0ms\n",
      "image 1520/1766 /mnt/c/Users/Razogarz/PycharmProjects/airport-controller/rivalAgents/valid/images/039365_jpg.rf.992910a83a4d105a04c562bdf29d9490.jpg: 416x416 1 1, 15.5ms\n",
      "image 1521/1766 /mnt/c/Users/Razogarz/PycharmProjects/airport-controller/rivalAgents/valid/images/039369_jpg.rf.0a5e7e09d94acdb470f8d6175909e5a8.jpg: 416x416 1 4, 13.3ms\n",
      "image 1522/1766 /mnt/c/Users/Razogarz/PycharmProjects/airport-controller/rivalAgents/valid/images/039381_jpg.rf.7e18c9393ab41834ab9f81a57566c2f0.jpg: 416x416 (no detections), 8.5ms\n",
      "image 1523/1766 /mnt/c/Users/Razogarz/PycharmProjects/airport-controller/rivalAgents/valid/images/039403_jpg.rf.f58c0dca82ff7a240bafea0e850089aa.jpg: 416x416 (no detections), 18.5ms\n",
      "image 1524/1766 /mnt/c/Users/Razogarz/PycharmProjects/airport-controller/rivalAgents/valid/images/039436_jpg.rf.04270d757133fe10c2c94a0712c6fd60.jpg: 416x416 (no detections), 12.6ms\n",
      "image 1525/1766 /mnt/c/Users/Razogarz/PycharmProjects/airport-controller/rivalAgents/valid/images/039447_jpg.rf.2db00f9be41f5cce83810b2ccb852013.jpg: 416x416 1 1, 11.5ms\n",
      "image 1526/1766 /mnt/c/Users/Razogarz/PycharmProjects/airport-controller/rivalAgents/valid/images/039450_jpg.rf.ab8fdb2d6861e08def966c9fdb566c2c.jpg: 416x416 1 4, 13.6ms\n",
      "image 1527/1766 /mnt/c/Users/Razogarz/PycharmProjects/airport-controller/rivalAgents/valid/images/039455_jpg.rf.0b74b515f4d05e5acfa2edbbc8eafa76.jpg: 416x416 (no detections), 17.1ms\n",
      "image 1528/1766 /mnt/c/Users/Razogarz/PycharmProjects/airport-controller/rivalAgents/valid/images/039456_jpg.rf.7e91da74a77f54e90d47442eca7c9547.jpg: 416x416 1 1, 17.1ms\n",
      "image 1529/1766 /mnt/c/Users/Razogarz/PycharmProjects/airport-controller/rivalAgents/valid/images/039462_jpg.rf.1b5422bff32b0249f694c1e37e3343c1.jpg: 416x416 1 3, 14.1ms\n",
      "image 1530/1766 /mnt/c/Users/Razogarz/PycharmProjects/airport-controller/rivalAgents/valid/images/039463_jpg.rf.99ace56b2079e6c4a852f943f795287c.jpg: 416x416 1 2, 18.0ms\n",
      "image 1531/1766 /mnt/c/Users/Razogarz/PycharmProjects/airport-controller/rivalAgents/valid/images/039466_jpg.rf.2dcb6fda0605ce465ff4d39d790158a9.jpg: 416x416 2 1s, 13.1ms\n",
      "image 1532/1766 /mnt/c/Users/Razogarz/PycharmProjects/airport-controller/rivalAgents/valid/images/039475_jpg.rf.cb98c87e4407ec942f9bb0cc50a7bdbf.jpg: 416x416 1 1, 12.2ms\n",
      "image 1533/1766 /mnt/c/Users/Razogarz/PycharmProjects/airport-controller/rivalAgents/valid/images/039493_jpg.rf.c1b080de72fd0c3c6952ccbea7b5f347.jpg: 416x416 (no detections), 15.6ms\n",
      "image 1534/1766 /mnt/c/Users/Razogarz/PycharmProjects/airport-controller/rivalAgents/valid/images/039517_jpg.rf.7213f0ab5f8ce9b53b347ad1ab64dd8b.jpg: 416x416 (no detections), 10.4ms\n",
      "image 1535/1766 /mnt/c/Users/Razogarz/PycharmProjects/airport-controller/rivalAgents/valid/images/039519_jpg.rf.1420c74bf13b877bc4ba0fd44d646441.jpg: 416x416 (no detections), 11.0ms\n",
      "image 1536/1766 /mnt/c/Users/Razogarz/PycharmProjects/airport-controller/rivalAgents/valid/images/039521_jpg.rf.65e3aec77b1fa2a209a8c96d3a4e3edf.jpg: 416x416 1 1, 14.5ms\n",
      "image 1537/1766 /mnt/c/Users/Razogarz/PycharmProjects/airport-controller/rivalAgents/valid/images/039531_jpg.rf.117abae85210ac32ee32d4504f3aeac1.jpg: 416x416 (no detections), 12.4ms\n",
      "image 1538/1766 /mnt/c/Users/Razogarz/PycharmProjects/airport-controller/rivalAgents/valid/images/039532_jpg.rf.99aa78c2175d687f64515b9e9d7aec7c.jpg: 416x416 1 1, 7.1ms\n",
      "image 1539/1766 /mnt/c/Users/Razogarz/PycharmProjects/airport-controller/rivalAgents/valid/images/039549_jpg.rf.0d7bfba420f3b0c84c61bac1ba7ca68c.jpg: 416x416 (no detections), 12.4ms\n",
      "image 1540/1766 /mnt/c/Users/Razogarz/PycharmProjects/airport-controller/rivalAgents/valid/images/039591_jpg.rf.d2e499b701a0f5cfe6f3c3f5841a28ff.jpg: 416x416 (no detections), 10.6ms\n",
      "image 1541/1766 /mnt/c/Users/Razogarz/PycharmProjects/airport-controller/rivalAgents/valid/images/039592_jpg.rf.e595c9133150d32011d7a801ccf37116.jpg: 416x416 1 1, 7.7ms\n",
      "image 1542/1766 /mnt/c/Users/Razogarz/PycharmProjects/airport-controller/rivalAgents/valid/images/039611_jpg.rf.652a87284a2ab9a9cdad6cb6cfe8ef03.jpg: 416x416 (no detections), 9.4ms\n",
      "image 1543/1766 /mnt/c/Users/Razogarz/PycharmProjects/airport-controller/rivalAgents/valid/images/039645_jpg.rf.ade61c4d9b6da57781bc328b0258de91.jpg: 416x416 1 1, 10.2ms\n",
      "image 1544/1766 /mnt/c/Users/Razogarz/PycharmProjects/airport-controller/rivalAgents/valid/images/039653_jpg.rf.4ef2bbc8ccdbbe89dd3097d5cfe5b65e.jpg: 416x416 (no detections), 8.5ms\n",
      "image 1545/1766 /mnt/c/Users/Razogarz/PycharmProjects/airport-controller/rivalAgents/valid/images/039675_jpg.rf.1842be85efa786087cab7a1fcafa84ab.jpg: 416x416 1 3, 11.5ms\n",
      "image 1546/1766 /mnt/c/Users/Razogarz/PycharmProjects/airport-controller/rivalAgents/valid/images/039678_jpg.rf.9930d46477e3a1239cc78a50fd2574f1.jpg: 416x416 (no detections), 11.0ms\n",
      "image 1547/1766 /mnt/c/Users/Razogarz/PycharmProjects/airport-controller/rivalAgents/valid/images/039686_jpg.rf.24e7837b778f49e3234f47ff9e0dcc27.jpg: 416x416 2 3s, 12.8ms\n",
      "image 1548/1766 /mnt/c/Users/Razogarz/PycharmProjects/airport-controller/rivalAgents/valid/images/039700_jpg.rf.67ae5378afa4c60e822cdeee30dc4be6.jpg: 416x416 1 3, 13.3ms\n",
      "image 1549/1766 /mnt/c/Users/Razogarz/PycharmProjects/airport-controller/rivalAgents/valid/images/039713_jpg.rf.e331460a4c69bb900f1baab3a4cfae85.jpg: 416x416 1 4, 6.3ms\n",
      "image 1550/1766 /mnt/c/Users/Razogarz/PycharmProjects/airport-controller/rivalAgents/valid/images/039727_jpg.rf.ad9002c0c812ed67b8bb4ba8dca17691.jpg: 416x416 1 4, 12.8ms\n",
      "image 1551/1766 /mnt/c/Users/Razogarz/PycharmProjects/airport-controller/rivalAgents/valid/images/039748_jpg.rf.1edc647f794d99d876c4a110607bf816.jpg: 416x416 (no detections), 8.5ms\n",
      "image 1552/1766 /mnt/c/Users/Razogarz/PycharmProjects/airport-controller/rivalAgents/valid/images/039755_jpg.rf.337e01b6cefc2861b9a916b915bdc580.jpg: 416x416 1 4, 13.0ms\n",
      "image 1553/1766 /mnt/c/Users/Razogarz/PycharmProjects/airport-controller/rivalAgents/valid/images/039765_jpg.rf.72757755855f4f20edc883fccca7ef04.jpg: 416x416 (no detections), 17.1ms\n",
      "image 1554/1766 /mnt/c/Users/Razogarz/PycharmProjects/airport-controller/rivalAgents/valid/images/039766_jpg.rf.77cae006a07ca02a54edd824fba12cf1.jpg: 416x416 (no detections), 7.8ms\n",
      "image 1555/1766 /mnt/c/Users/Razogarz/PycharmProjects/airport-controller/rivalAgents/valid/images/039767_jpg.rf.af20296b195d04e93f72160d72a680e9.jpg: 416x416 2 0s, 1 1, 9.3ms\n",
      "image 1556/1766 /mnt/c/Users/Razogarz/PycharmProjects/airport-controller/rivalAgents/valid/images/039773_jpg.rf.c53b87214f39668a4ff3e4d9c21c25fd.jpg: 416x416 (no detections), 6.6ms\n",
      "image 1557/1766 /mnt/c/Users/Razogarz/PycharmProjects/airport-controller/rivalAgents/valid/images/039789_jpg.rf.66d3a1987fd6eba4fbb1bd022edff9eb.jpg: 416x416 1 4, 6.6ms\n",
      "image 1558/1766 /mnt/c/Users/Razogarz/PycharmProjects/airport-controller/rivalAgents/valid/images/039791_jpg.rf.95a25a3beb3947b6d6d67df4e39b32f9.jpg: 416x416 1 4, 13.2ms\n",
      "image 1559/1766 /mnt/c/Users/Razogarz/PycharmProjects/airport-controller/rivalAgents/valid/images/039792_jpg.rf.c39c94de2034a6949ca6d57d49aa613d.jpg: 416x416 (no detections), 9.7ms\n",
      "image 1560/1766 /mnt/c/Users/Razogarz/PycharmProjects/airport-controller/rivalAgents/valid/images/039802_jpg.rf.9d75e852e6ef9f7eed42e7ddf60a7177.jpg: 416x416 (no detections), 14.1ms\n",
      "image 1561/1766 /mnt/c/Users/Razogarz/PycharmProjects/airport-controller/rivalAgents/valid/images/039810_jpg.rf.46745eae72e4b1cc68a5b3289611a4d7.jpg: 416x416 (no detections), 9.3ms\n",
      "image 1562/1766 /mnt/c/Users/Razogarz/PycharmProjects/airport-controller/rivalAgents/valid/images/039816_jpg.rf.934962f7ac99b2eeec243cada3266262.jpg: 416x416 (no detections), 6.6ms\n",
      "image 1563/1766 /mnt/c/Users/Razogarz/PycharmProjects/airport-controller/rivalAgents/valid/images/039827_jpg.rf.4c6bfacc21118af2682097e39bc69c69.jpg: 416x416 2 1s, 12.3ms\n",
      "image 1564/1766 /mnt/c/Users/Razogarz/PycharmProjects/airport-controller/rivalAgents/valid/images/039835_jpg.rf.395a417e2d813ba04a7aa4763f09be77.jpg: 416x416 (no detections), 6.6ms\n",
      "image 1565/1766 /mnt/c/Users/Razogarz/PycharmProjects/airport-controller/rivalAgents/valid/images/039866_jpg.rf.2a3adc19ceeee5981a100037e1ba2b5d.jpg: 416x416 (no detections), 12.0ms\n",
      "image 1566/1766 /mnt/c/Users/Razogarz/PycharmProjects/airport-controller/rivalAgents/valid/images/039867_jpg.rf.77bf4cc1cc941aa38d6197cabc14370d.jpg: 416x416 1 1, 11.4ms\n",
      "image 1567/1766 /mnt/c/Users/Razogarz/PycharmProjects/airport-controller/rivalAgents/valid/images/039869_jpg.rf.6488d6435c7e5f9f2948a95992f187da.jpg: 416x416 2 4s, 8.8ms\n",
      "image 1568/1766 /mnt/c/Users/Razogarz/PycharmProjects/airport-controller/rivalAgents/valid/images/039876_jpg.rf.81140e877bc4104b99704ffcd38b1237.jpg: 416x416 1 1, 13.3ms\n",
      "image 1569/1766 /mnt/c/Users/Razogarz/PycharmProjects/airport-controller/rivalAgents/valid/images/039879_jpg.rf.27dc79827d0b273f439e587b89752108.jpg: 416x416 (no detections), 6.7ms\n",
      "image 1570/1766 /mnt/c/Users/Razogarz/PycharmProjects/airport-controller/rivalAgents/valid/images/039912_jpg.rf.b1ae48f6cbce8f8d6bb4b85ce477351a.jpg: 416x416 1 1, 14.2ms\n",
      "image 1571/1766 /mnt/c/Users/Razogarz/PycharmProjects/airport-controller/rivalAgents/valid/images/039919_jpg.rf.afcf7797feab7bbde2cfefe5bc5595aa.jpg: 416x416 (no detections), 9.9ms\n",
      "image 1572/1766 /mnt/c/Users/Razogarz/PycharmProjects/airport-controller/rivalAgents/valid/images/039940_jpg.rf.7690ab07c621e6798748e6f9670a6954.jpg: 416x416 (no detections), 13.6ms\n",
      "image 1573/1766 /mnt/c/Users/Razogarz/PycharmProjects/airport-controller/rivalAgents/valid/images/039949_jpg.rf.8809f1c5884df1811a28d9214f4da840.jpg: 416x416 1 3, 12.3ms\n",
      "image 1574/1766 /mnt/c/Users/Razogarz/PycharmProjects/airport-controller/rivalAgents/valid/images/039952_jpg.rf.31ee053940dc761c57c64fedd5881086.jpg: 416x416 (no detections), 12.8ms\n",
      "image 1575/1766 /mnt/c/Users/Razogarz/PycharmProjects/airport-controller/rivalAgents/valid/images/039957_jpg.rf.8a93eebbdac33309f1cb2b5ec1573d95.jpg: 416x416 1 1, 7.7ms\n",
      "image 1576/1766 /mnt/c/Users/Razogarz/PycharmProjects/airport-controller/rivalAgents/valid/images/039961_jpg.rf.c983a5afb02d6217dfabf9f9b667158e.jpg: 416x416 1 4, 8.3ms\n",
      "image 1577/1766 /mnt/c/Users/Razogarz/PycharmProjects/airport-controller/rivalAgents/valid/images/039990_jpg.rf.b5ebfa5d7debad6059fe077aad2a07f4.jpg: 416x416 1 1, 18.5ms\n",
      "image 1578/1766 /mnt/c/Users/Razogarz/PycharmProjects/airport-controller/rivalAgents/valid/images/039997_jpg.rf.c3f83d968cffa462fc3a4b536dc0fe5b.jpg: 416x416 1 4, 17.7ms\n",
      "image 1579/1766 /mnt/c/Users/Razogarz/PycharmProjects/airport-controller/rivalAgents/valid/images/040009_jpg.rf.0057b2eb680e1e34beea3d41d768a562.jpg: 416x416 (no detections), 7.5ms\n",
      "image 1580/1766 /mnt/c/Users/Razogarz/PycharmProjects/airport-controller/rivalAgents/valid/images/040035_jpg.rf.9229a28b175df379cab290dbdccbe38f.jpg: 416x416 (no detections), 16.2ms\n",
      "image 1581/1766 /mnt/c/Users/Razogarz/PycharmProjects/airport-controller/rivalAgents/valid/images/040048_jpg.rf.e52e89b8ecc2cf4017e7ce7a3d8104e6.jpg: 416x416 (no detections), 13.3ms\n",
      "image 1582/1766 /mnt/c/Users/Razogarz/PycharmProjects/airport-controller/rivalAgents/valid/images/040050_jpg.rf.a0ff7425b9103435df4def3c973f45a4.jpg: 416x416 (no detections), 14.4ms\n",
      "image 1583/1766 /mnt/c/Users/Razogarz/PycharmProjects/airport-controller/rivalAgents/valid/images/040093_jpg.rf.d916e0abdf1e5c39ee800e252eea38af.jpg: 416x416 1 4, 13.5ms\n",
      "image 1584/1766 /mnt/c/Users/Razogarz/PycharmProjects/airport-controller/rivalAgents/valid/images/040127_jpg.rf.9b01302205f699f3ed1e97fd97bbe5c3.jpg: 416x416 (no detections), 16.1ms\n",
      "image 1585/1766 /mnt/c/Users/Razogarz/PycharmProjects/airport-controller/rivalAgents/valid/images/040145_jpg.rf.918fb5d623c78608e05edbce1f41ab91.jpg: 416x416 1 4, 14.3ms\n",
      "image 1586/1766 /mnt/c/Users/Razogarz/PycharmProjects/airport-controller/rivalAgents/valid/images/040155_jpg.rf.3fdfb2d12eb0d434524aa309f5e85dc7.jpg: 416x416 1 4, 8.5ms\n",
      "image 1587/1766 /mnt/c/Users/Razogarz/PycharmProjects/airport-controller/rivalAgents/valid/images/040210_jpg.rf.d5c90f7cbe9f53e52360aec823c487bd.jpg: 416x416 (no detections), 12.2ms\n",
      "image 1588/1766 /mnt/c/Users/Razogarz/PycharmProjects/airport-controller/rivalAgents/valid/images/040221_jpg.rf.2361797a77229da8e3362e65c603602f.jpg: 416x416 (no detections), 8.5ms\n",
      "image 1589/1766 /mnt/c/Users/Razogarz/PycharmProjects/airport-controller/rivalAgents/valid/images/040254_jpg.rf.63d004a7685c7ff0f806fb4372efef9c.jpg: 416x416 (no detections), 11.4ms\n",
      "image 1590/1766 /mnt/c/Users/Razogarz/PycharmProjects/airport-controller/rivalAgents/valid/images/040284_jpg.rf.0fb0cfa57f149b7010c29015da2e8aba.jpg: 416x416 1 3, 11.1ms\n",
      "image 1591/1766 /mnt/c/Users/Razogarz/PycharmProjects/airport-controller/rivalAgents/valid/images/040285_jpg.rf.db5bfd10970a17edac9503779b6df706.jpg: 416x416 (no detections), 11.8ms\n",
      "image 1592/1766 /mnt/c/Users/Razogarz/PycharmProjects/airport-controller/rivalAgents/valid/images/040311_jpg.rf.f10bfc3725385c6fc218c8739ea72181.jpg: 416x416 (no detections), 10.7ms\n",
      "image 1593/1766 /mnt/c/Users/Razogarz/PycharmProjects/airport-controller/rivalAgents/valid/images/040315_jpg.rf.0649d08683168a6e76000f2c9b70b1ab.jpg: 416x416 1 3, 8.8ms\n",
      "image 1594/1766 /mnt/c/Users/Razogarz/PycharmProjects/airport-controller/rivalAgents/valid/images/040348_jpg.rf.673a7ab4b2aa6907cb1c139a1d5dd8a3.jpg: 416x416 1 1, 1 4, 13.2ms\n",
      "image 1595/1766 /mnt/c/Users/Razogarz/PycharmProjects/airport-controller/rivalAgents/valid/images/040363_jpg.rf.7efff3b5a041dd923266386931d2564b.jpg: 416x416 (no detections), 12.4ms\n",
      "image 1596/1766 /mnt/c/Users/Razogarz/PycharmProjects/airport-controller/rivalAgents/valid/images/040365_jpg.rf.8168a87cbddb795042f58bc9c0a0272b.jpg: 416x416 (no detections), 9.0ms\n",
      "image 1597/1766 /mnt/c/Users/Razogarz/PycharmProjects/airport-controller/rivalAgents/valid/images/040425_jpg.rf.9e7bb1d1a90c8868797a29879f53393f.jpg: 416x416 1 1, 6.3ms\n",
      "image 1598/1766 /mnt/c/Users/Razogarz/PycharmProjects/airport-controller/rivalAgents/valid/images/040431_jpg.rf.80736ff2bc50dda816d274dc90a78d17.jpg: 416x416 1 1, 14.6ms\n",
      "image 1599/1766 /mnt/c/Users/Razogarz/PycharmProjects/airport-controller/rivalAgents/valid/images/040438_jpg.rf.a55ad1d2ebe02b66ca1ef6a6614535e0.jpg: 416x416 1 4, 15.0ms\n",
      "image 1600/1766 /mnt/c/Users/Razogarz/PycharmProjects/airport-controller/rivalAgents/valid/images/040445_jpg.rf.a412c38386acd3c9f4b15a7afad300ad.jpg: 416x416 (no detections), 6.9ms\n",
      "image 1601/1766 /mnt/c/Users/Razogarz/PycharmProjects/airport-controller/rivalAgents/valid/images/040457_jpg.rf.d97533900f375df6f255e2bd52743b47.jpg: 416x416 (no detections), 15.7ms\n",
      "image 1602/1766 /mnt/c/Users/Razogarz/PycharmProjects/airport-controller/rivalAgents/valid/images/040479_jpg.rf.71eb69dfed36d7837674bbac9b6f13c5.jpg: 416x416 (no detections), 11.7ms\n",
      "image 1603/1766 /mnt/c/Users/Razogarz/PycharmProjects/airport-controller/rivalAgents/valid/images/040487_jpg.rf.0edcafdb0600e53b6fdd0104ed3bc7ce.jpg: 416x416 1 4, 12.0ms\n",
      "image 1604/1766 /mnt/c/Users/Razogarz/PycharmProjects/airport-controller/rivalAgents/valid/images/040505_jpg.rf.c5066c39946b3680cfcfc6e7f3c75bd4.jpg: 416x416 (no detections), 19.2ms\n",
      "image 1605/1766 /mnt/c/Users/Razogarz/PycharmProjects/airport-controller/rivalAgents/valid/images/040506_jpg.rf.0a48a4a7961f69724691a74ab2bc337b.jpg: 416x416 (no detections), 6.6ms\n",
      "image 1606/1766 /mnt/c/Users/Razogarz/PycharmProjects/airport-controller/rivalAgents/valid/images/040512_jpg.rf.3592a8a23e9f0dac30e3e65bb27ed375.jpg: 416x416 1 4, 8.8ms\n",
      "image 1607/1766 /mnt/c/Users/Razogarz/PycharmProjects/airport-controller/rivalAgents/valid/images/040529_jpg.rf.59fc50ba3e0422e35d6b29a06263c264.jpg: 416x416 1 1, 1 4, 13.9ms\n",
      "image 1608/1766 /mnt/c/Users/Razogarz/PycharmProjects/airport-controller/rivalAgents/valid/images/040586_jpg.rf.45de28a270202fc4de0c5dac58488ff7.jpg: 416x416 (no detections), 9.2ms\n",
      "image 1609/1766 /mnt/c/Users/Razogarz/PycharmProjects/airport-controller/rivalAgents/valid/images/040610_jpg.rf.f89f38bb74c8aead7791b23c2285a2ce.jpg: 416x416 1 4, 12.4ms\n",
      "image 1610/1766 /mnt/c/Users/Razogarz/PycharmProjects/airport-controller/rivalAgents/valid/images/040615_jpg.rf.9a44bb76056059e0de04cbbbc1ba4736.jpg: 416x416 (no detections), 15.0ms\n",
      "image 1611/1766 /mnt/c/Users/Razogarz/PycharmProjects/airport-controller/rivalAgents/valid/images/040626_jpg.rf.608df990fb27e6dab048a8d17f342927.jpg: 416x416 2 4s, 11.2ms\n",
      "image 1612/1766 /mnt/c/Users/Razogarz/PycharmProjects/airport-controller/rivalAgents/valid/images/040627_jpg.rf.78c18c66cf981fd630dc2e8b0a159b82.jpg: 416x416 1 4, 14.9ms\n",
      "image 1613/1766 /mnt/c/Users/Razogarz/PycharmProjects/airport-controller/rivalAgents/valid/images/040644_jpg.rf.4ecfbe99c90b46c1a65ef00c10c483f4.jpg: 416x416 (no detections), 11.9ms\n",
      "image 1614/1766 /mnt/c/Users/Razogarz/PycharmProjects/airport-controller/rivalAgents/valid/images/040674_jpg.rf.b81c2d4ea50ee297219fcccaf0e1dd63.jpg: 416x416 (no detections), 6.7ms\n",
      "image 1615/1766 /mnt/c/Users/Razogarz/PycharmProjects/airport-controller/rivalAgents/valid/images/040679_jpg.rf.7f7a949cec790a86c45c2909adac348f.jpg: 416x416 1 3, 19.1ms\n",
      "image 1616/1766 /mnt/c/Users/Razogarz/PycharmProjects/airport-controller/rivalAgents/valid/images/040706_jpg.rf.4e47740e4e0786e102f0fe067ceba20a.jpg: 416x416 1 1, 12.6ms\n",
      "image 1617/1766 /mnt/c/Users/Razogarz/PycharmProjects/airport-controller/rivalAgents/valid/images/040718_jpg.rf.530f21d9630325fc6c3f2a0560730de6.jpg: 416x416 (no detections), 7.9ms\n",
      "image 1618/1766 /mnt/c/Users/Razogarz/PycharmProjects/airport-controller/rivalAgents/valid/images/040768_jpg.rf.aa1959dccd762234208aea62132a3441.jpg: 416x416 (no detections), 13.4ms\n",
      "image 1619/1766 /mnt/c/Users/Razogarz/PycharmProjects/airport-controller/rivalAgents/valid/images/040784_jpg.rf.a095fa0746fd49dd4d99df042ce033cc.jpg: 416x416 (no detections), 9.9ms\n",
      "image 1620/1766 /mnt/c/Users/Razogarz/PycharmProjects/airport-controller/rivalAgents/valid/images/040831_jpg.rf.9c3b218b4d94d95f461968b7d3ed370c.jpg: 416x416 1 4, 12.2ms\n",
      "image 1621/1766 /mnt/c/Users/Razogarz/PycharmProjects/airport-controller/rivalAgents/valid/images/040835_jpg.rf.aea87d78b1f8a9582817b25b41e5a6f5.jpg: 416x416 1 1, 19.4ms\n",
      "image 1622/1766 /mnt/c/Users/Razogarz/PycharmProjects/airport-controller/rivalAgents/valid/images/040865_jpg.rf.2659c3c6a60c8ca49987065a0b48b5d8.jpg: 416x416 1 4, 21.1ms\n",
      "image 1623/1766 /mnt/c/Users/Razogarz/PycharmProjects/airport-controller/rivalAgents/valid/images/040868_jpg.rf.9f4885de219e3eb0bdad0bdcc624063a.jpg: 416x416 (no detections), 11.9ms\n",
      "image 1624/1766 /mnt/c/Users/Razogarz/PycharmProjects/airport-controller/rivalAgents/valid/images/040873_jpg.rf.5f9df516e3c187566e576af496718182.jpg: 416x416 1 1, 22.4ms\n",
      "image 1625/1766 /mnt/c/Users/Razogarz/PycharmProjects/airport-controller/rivalAgents/valid/images/040949_jpg.rf.79847842b783a285219bd7542d60dfea.jpg: 416x416 1 4, 25.0ms\n",
      "image 1626/1766 /mnt/c/Users/Razogarz/PycharmProjects/airport-controller/rivalAgents/valid/images/040980_jpg.rf.262e942b157f6df8478b3e0d579eacfa.jpg: 416x416 2 4s, 10.5ms\n",
      "image 1627/1766 /mnt/c/Users/Razogarz/PycharmProjects/airport-controller/rivalAgents/valid/images/040989_jpg.rf.1f95eee335e6685c370f0fbabd9e1b1c.jpg: 416x416 (no detections), 6.6ms\n",
      "image 1628/1766 /mnt/c/Users/Razogarz/PycharmProjects/airport-controller/rivalAgents/valid/images/041001_jpg.rf.a5183120348a590aa0fcdd03e7c02f0a.jpg: 416x416 1 4, 13.3ms\n",
      "image 1629/1766 /mnt/c/Users/Razogarz/PycharmProjects/airport-controller/rivalAgents/valid/images/041010_jpg.rf.4eeaec9ad6bc57d6ebf58a585cf05e11.jpg: 416x416 1 4, 18.6ms\n",
      "image 1630/1766 /mnt/c/Users/Razogarz/PycharmProjects/airport-controller/rivalAgents/valid/images/041045_jpg.rf.75ea1a58c1327257b076395117f2ce4a.jpg: 416x416 1 4, 10.5ms\n",
      "image 1631/1766 /mnt/c/Users/Razogarz/PycharmProjects/airport-controller/rivalAgents/valid/images/041049_jpg.rf.0a2082f2192be86073fb044d38d4db56.jpg: 416x416 1 4, 14.4ms\n",
      "image 1632/1766 /mnt/c/Users/Razogarz/PycharmProjects/airport-controller/rivalAgents/valid/images/041056_jpg.rf.cb850a8800c98ee8c480549eb38fbd61.jpg: 416x416 1 4, 10.5ms\n",
      "image 1633/1766 /mnt/c/Users/Razogarz/PycharmProjects/airport-controller/rivalAgents/valid/images/041059_jpg.rf.725de61395190ccdb5d5e09c45e11c2d.jpg: 416x416 (no detections), 7.6ms\n",
      "image 1634/1766 /mnt/c/Users/Razogarz/PycharmProjects/airport-controller/rivalAgents/valid/images/041072_jpg.rf.1f8d36ce31230a5387ae6fbadf1c0d1e.jpg: 416x416 1 3, 7.9ms\n",
      "image 1635/1766 /mnt/c/Users/Razogarz/PycharmProjects/airport-controller/rivalAgents/valid/images/041074_jpg.rf.122d3e4314fe9e8401087d6861e18e3b.jpg: 416x416 1 3, 12.8ms\n",
      "image 1636/1766 /mnt/c/Users/Razogarz/PycharmProjects/airport-controller/rivalAgents/valid/images/041123_jpg.rf.91e5483374e95092ff4e14c7b954eb4b.jpg: 416x416 (no detections), 10.9ms\n",
      "image 1637/1766 /mnt/c/Users/Razogarz/PycharmProjects/airport-controller/rivalAgents/valid/images/041181_jpg.rf.5e7d371f354a241ad2219121c47dd4c1.jpg: 416x416 (no detections), 7.3ms\n",
      "image 1638/1766 /mnt/c/Users/Razogarz/PycharmProjects/airport-controller/rivalAgents/valid/images/041182_jpg.rf.f9102f6eb3133098cbdf7970e621f262.jpg: 416x416 (no detections), 7.1ms\n",
      "image 1639/1766 /mnt/c/Users/Razogarz/PycharmProjects/airport-controller/rivalAgents/valid/images/041204_jpg.rf.1a055cdf75eb887fa15c163ee457fff8.jpg: 416x416 (no detections), 12.4ms\n",
      "image 1640/1766 /mnt/c/Users/Razogarz/PycharmProjects/airport-controller/rivalAgents/valid/images/041213_jpg.rf.3c69407198fe47d4e0a32f1f2824ddec.jpg: 416x416 (no detections), 12.4ms\n",
      "image 1641/1766 /mnt/c/Users/Razogarz/PycharmProjects/airport-controller/rivalAgents/valid/images/041220_jpg.rf.1016950df657f4ed061c4afe76ee95bd.jpg: 416x416 (no detections), 15.9ms\n",
      "image 1642/1766 /mnt/c/Users/Razogarz/PycharmProjects/airport-controller/rivalAgents/valid/images/041228_jpg.rf.5cc7e416bcc81216eaea689ab2d6a736.jpg: 416x416 1 4, 10.9ms\n",
      "image 1643/1766 /mnt/c/Users/Razogarz/PycharmProjects/airport-controller/rivalAgents/valid/images/041232_jpg.rf.43d126eb41d657aa17e559ff8334fb7b.jpg: 416x416 1 4, 12.4ms\n",
      "image 1644/1766 /mnt/c/Users/Razogarz/PycharmProjects/airport-controller/rivalAgents/valid/images/041254_jpg.rf.2d912874468f0ed6798ff0625a93c701.jpg: 416x416 1 1, 15.4ms\n",
      "image 1645/1766 /mnt/c/Users/Razogarz/PycharmProjects/airport-controller/rivalAgents/valid/images/041260_jpg.rf.482c8e41b58afd1fdfa8734c9dceb6d5.jpg: 416x416 1 0, 11.7ms\n",
      "image 1646/1766 /mnt/c/Users/Razogarz/PycharmProjects/airport-controller/rivalAgents/valid/images/041287_jpg.rf.7acd3012abe3e7e08d064a3a6720b503.jpg: 416x416 1 4, 7.1ms\n",
      "image 1647/1766 /mnt/c/Users/Razogarz/PycharmProjects/airport-controller/rivalAgents/valid/images/041302_jpg.rf.6f85d3e6fc7e2f2c778149adeedae016.jpg: 416x416 1 3, 16.6ms\n",
      "image 1648/1766 /mnt/c/Users/Razogarz/PycharmProjects/airport-controller/rivalAgents/valid/images/041340_jpg.rf.a094c0fb28cec5286dd2ba542ff909c3.jpg: 416x416 (no detections), 9.3ms\n",
      "image 1649/1766 /mnt/c/Users/Razogarz/PycharmProjects/airport-controller/rivalAgents/valid/images/041394_jpg.rf.a3ec3b0cf631f8de1c2a62173bbee51c.jpg: 416x416 (no detections), 15.7ms\n",
      "image 1650/1766 /mnt/c/Users/Razogarz/PycharmProjects/airport-controller/rivalAgents/valid/images/041410_jpg.rf.da1b52dd9b908a19647fe0d38c2bb62b.jpg: 416x416 1 1, 11.5ms\n",
      "image 1651/1766 /mnt/c/Users/Razogarz/PycharmProjects/airport-controller/rivalAgents/valid/images/041418_jpg.rf.347dc11a587ca2af2377df6a6b756a0f.jpg: 416x416 1 1, 13.3ms\n",
      "image 1652/1766 /mnt/c/Users/Razogarz/PycharmProjects/airport-controller/rivalAgents/valid/images/041421_jpg.rf.5c57234ed4df57841bee32477fd35b22.jpg: 416x416 1 4, 7.3ms\n",
      "image 1653/1766 /mnt/c/Users/Razogarz/PycharmProjects/airport-controller/rivalAgents/valid/images/041422_jpg.rf.d0cf09c2a15ed2691563291eeae699fe.jpg: 416x416 1 1, 1 4, 11.4ms\n",
      "image 1654/1766 /mnt/c/Users/Razogarz/PycharmProjects/airport-controller/rivalAgents/valid/images/041446_jpg.rf.7c303480c314df40b623769e7e341d05.jpg: 416x416 (no detections), 15.4ms\n",
      "image 1655/1766 /mnt/c/Users/Razogarz/PycharmProjects/airport-controller/rivalAgents/valid/images/041457_jpg.rf.9b520a4d786eda4ead85a159bc220fa5.jpg: 416x416 (no detections), 10.8ms\n",
      "image 1656/1766 /mnt/c/Users/Razogarz/PycharmProjects/airport-controller/rivalAgents/valid/images/041481_jpg.rf.19d5e61c0d0dd77505d75a7de9652fdd.jpg: 416x416 (no detections), 8.6ms\n",
      "image 1657/1766 /mnt/c/Users/Razogarz/PycharmProjects/airport-controller/rivalAgents/valid/images/041483_jpg.rf.664862b563fa5579a2f11e254ab4b6c9.jpg: 416x416 (no detections), 10.0ms\n",
      "image 1658/1766 /mnt/c/Users/Razogarz/PycharmProjects/airport-controller/rivalAgents/valid/images/041486_jpg.rf.7d79dfc392a138d3aee72ad4df2fada3.jpg: 416x416 1 1, 1 4, 20.7ms\n",
      "image 1659/1766 /mnt/c/Users/Razogarz/PycharmProjects/airport-controller/rivalAgents/valid/images/041509_jpg.rf.4f074c8117332923b6d13efab1d88e8a.jpg: 416x416 (no detections), 12.3ms\n",
      "image 1660/1766 /mnt/c/Users/Razogarz/PycharmProjects/airport-controller/rivalAgents/valid/images/041515_jpg.rf.f66da4a28fc02508998c2d6c539fecad.jpg: 416x416 (no detections), 6.8ms\n",
      "image 1661/1766 /mnt/c/Users/Razogarz/PycharmProjects/airport-controller/rivalAgents/valid/images/041530_jpg.rf.8d84c96a8a1afaf7f2374c76e6f88f85.jpg: 416x416 1 4, 11.0ms\n",
      "image 1662/1766 /mnt/c/Users/Razogarz/PycharmProjects/airport-controller/rivalAgents/valid/images/041541_jpg.rf.e46458d57a2240170969202d33e00d4c.jpg: 416x416 (no detections), 9.8ms\n",
      "image 1663/1766 /mnt/c/Users/Razogarz/PycharmProjects/airport-controller/rivalAgents/valid/images/041546_jpg.rf.0820d445fb0f48b26dc5b0c097beef4e.jpg: 416x416 (no detections), 13.0ms\n",
      "image 1664/1766 /mnt/c/Users/Razogarz/PycharmProjects/airport-controller/rivalAgents/valid/images/041549_jpg.rf.6b6e7aa09c70b00dda41009068f4ff85.jpg: 416x416 (no detections), 18.3ms\n",
      "image 1665/1766 /mnt/c/Users/Razogarz/PycharmProjects/airport-controller/rivalAgents/valid/images/041550_jpg.rf.404f1779397351e59453ae674ed22904.jpg: 416x416 (no detections), 12.7ms\n",
      "image 1666/1766 /mnt/c/Users/Razogarz/PycharmProjects/airport-controller/rivalAgents/valid/images/041551_jpg.rf.db49edb6464714fccc22748d7b9240dc.jpg: 416x416 (no detections), 6.6ms\n",
      "image 1667/1766 /mnt/c/Users/Razogarz/PycharmProjects/airport-controller/rivalAgents/valid/images/041560_jpg.rf.508ece19eda6ffbf82b744de8489c5c0.jpg: 416x416 1 4, 15.0ms\n",
      "image 1668/1766 /mnt/c/Users/Razogarz/PycharmProjects/airport-controller/rivalAgents/valid/images/041581_jpg.rf.2c0d4fbd99dded1c16ed208f9265e4e8.jpg: 416x416 (no detections), 14.4ms\n",
      "image 1669/1766 /mnt/c/Users/Razogarz/PycharmProjects/airport-controller/rivalAgents/valid/images/041606_jpg.rf.143e841ff09e0a1e5d6f4aaf81a691de.jpg: 416x416 (no detections), 9.8ms\n",
      "image 1670/1766 /mnt/c/Users/Razogarz/PycharmProjects/airport-controller/rivalAgents/valid/images/041634_jpg.rf.5286e2cd64136cbebd1054b83605534b.jpg: 416x416 1 1, 14.2ms\n",
      "image 1671/1766 /mnt/c/Users/Razogarz/PycharmProjects/airport-controller/rivalAgents/valid/images/041645_jpg.rf.fea174fe42a8a6c0343c47bbd80a8bc5.jpg: 416x416 (no detections), 9.0ms\n",
      "image 1672/1766 /mnt/c/Users/Razogarz/PycharmProjects/airport-controller/rivalAgents/valid/images/041683_jpg.rf.e7b56a35172278f92336793e7ccd6b70.jpg: 416x416 2 1s, 12.6ms\n",
      "image 1673/1766 /mnt/c/Users/Razogarz/PycharmProjects/airport-controller/rivalAgents/valid/images/041690_jpg.rf.a20c0f8f20c6ee78f35f1f43df5f33e8.jpg: 416x416 1 4, 8.1ms\n",
      "image 1674/1766 /mnt/c/Users/Razogarz/PycharmProjects/airport-controller/rivalAgents/valid/images/041701_jpg.rf.7863b69dc2277cd93010d489d4975d57.jpg: 416x416 (no detections), 9.4ms\n",
      "image 1675/1766 /mnt/c/Users/Razogarz/PycharmProjects/airport-controller/rivalAgents/valid/images/041708_jpg.rf.1571bd4b0a64b1da455854b17f85f236.jpg: 416x416 1 4, 12.2ms\n",
      "image 1676/1766 /mnt/c/Users/Razogarz/PycharmProjects/airport-controller/rivalAgents/valid/images/041720_jpg.rf.14775f124b5a126e74dcf0f8aa26f152.jpg: 416x416 (no detections), 13.7ms\n",
      "image 1677/1766 /mnt/c/Users/Razogarz/PycharmProjects/airport-controller/rivalAgents/valid/images/041732_jpg.rf.9daf3724ca273a815208c9b87eb8c391.jpg: 416x416 (no detections), 10.8ms\n",
      "image 1678/1766 /mnt/c/Users/Razogarz/PycharmProjects/airport-controller/rivalAgents/valid/images/041757_jpg.rf.a410b13d7b708dc1f3b9de2dabc2fa81.jpg: 416x416 1 1, 13.1ms\n",
      "image 1679/1766 /mnt/c/Users/Razogarz/PycharmProjects/airport-controller/rivalAgents/valid/images/041765_jpg.rf.34e35776d70014db694e03edcdc480eb.jpg: 416x416 1 4, 7.1ms\n",
      "image 1680/1766 /mnt/c/Users/Razogarz/PycharmProjects/airport-controller/rivalAgents/valid/images/041773_jpg.rf.dd8ee5b10acc228129f17e00e51d8134.jpg: 416x416 (no detections), 9.5ms\n",
      "image 1681/1766 /mnt/c/Users/Razogarz/PycharmProjects/airport-controller/rivalAgents/valid/images/041801_jpg.rf.7e317fdd904b21004fb66952f4cf71ac.jpg: 416x416 (no detections), 14.2ms\n",
      "image 1682/1766 /mnt/c/Users/Razogarz/PycharmProjects/airport-controller/rivalAgents/valid/images/041816_jpg.rf.8c3930c9fedefe74d62dcf722748c61f.jpg: 416x416 1 4, 6.6ms\n",
      "image 1683/1766 /mnt/c/Users/Razogarz/PycharmProjects/airport-controller/rivalAgents/valid/images/041821_jpg.rf.91a19d9e40996520979ca911f8924b69.jpg: 416x416 (no detections), 7.8ms\n",
      "image 1684/1766 /mnt/c/Users/Razogarz/PycharmProjects/airport-controller/rivalAgents/valid/images/041838_jpg.rf.737bd864c0ccdb35a4907478c49cc34c.jpg: 416x416 (no detections), 13.6ms\n",
      "image 1685/1766 /mnt/c/Users/Razogarz/PycharmProjects/airport-controller/rivalAgents/valid/images/041847_jpg.rf.e1e146b081d6bb7cfd1894261d2d140a.jpg: 416x416 2 1s, 22.3ms\n",
      "image 1686/1766 /mnt/c/Users/Razogarz/PycharmProjects/airport-controller/rivalAgents/valid/images/041857_jpg.rf.c04734b89dd9bb5b2542243ccf03d605.jpg: 416x416 (no detections), 13.0ms\n",
      "image 1687/1766 /mnt/c/Users/Razogarz/PycharmProjects/airport-controller/rivalAgents/valid/images/041863_jpg.rf.3c88bc062f1278f50498611dfa8d042c.jpg: 416x416 (no detections), 9.8ms\n",
      "image 1688/1766 /mnt/c/Users/Razogarz/PycharmProjects/airport-controller/rivalAgents/valid/images/041879_jpg.rf.58e9a53a4f6e31b5e39d5c96cdda7245.jpg: 416x416 (no detections), 6.5ms\n",
      "image 1689/1766 /mnt/c/Users/Razogarz/PycharmProjects/airport-controller/rivalAgents/valid/images/041888_jpg.rf.9b513134007c6188ff15f6a5cd5d5279.jpg: 416x416 (no detections), 11.3ms\n",
      "image 1690/1766 /mnt/c/Users/Razogarz/PycharmProjects/airport-controller/rivalAgents/valid/images/041899_jpg.rf.669ed31ba68c8255ee3eb26ec0906e13.jpg: 416x416 (no detections), 7.5ms\n",
      "image 1691/1766 /mnt/c/Users/Razogarz/PycharmProjects/airport-controller/rivalAgents/valid/images/041909_jpg.rf.bf48626378a70611bf16327fb7e6c5b7.jpg: 416x416 1 4, 17.6ms\n",
      "image 1692/1766 /mnt/c/Users/Razogarz/PycharmProjects/airport-controller/rivalAgents/valid/images/041910_jpg.rf.9dd9943774eafdf551d19201f90a544d.jpg: 416x416 (no detections), 11.3ms\n",
      "image 1693/1766 /mnt/c/Users/Razogarz/PycharmProjects/airport-controller/rivalAgents/valid/images/041919_jpg.rf.f181ee39298d06c418dc5003512d98cf.jpg: 416x416 1 1, 13.0ms\n",
      "image 1694/1766 /mnt/c/Users/Razogarz/PycharmProjects/airport-controller/rivalAgents/valid/images/041962_jpg.rf.d3b4ce58fc66a32b7e41cb7ca3aa02b7.jpg: 416x416 (no detections), 12.5ms\n",
      "image 1695/1766 /mnt/c/Users/Razogarz/PycharmProjects/airport-controller/rivalAgents/valid/images/041978_jpg.rf.2954185de6c830cb1dab49b0a8f14528.jpg: 416x416 1 4, 14.4ms\n",
      "image 1696/1766 /mnt/c/Users/Razogarz/PycharmProjects/airport-controller/rivalAgents/valid/images/041984_jpg.rf.4796ce7d0cfd2ec170d91109b49945d7.jpg: 416x416 (no detections), 20.4ms\n",
      "image 1697/1766 /mnt/c/Users/Razogarz/PycharmProjects/airport-controller/rivalAgents/valid/images/041988_jpg.rf.1d44a862047032b6d526a1c2f2190658.jpg: 416x416 1 4, 15.1ms\n",
      "image 1698/1766 /mnt/c/Users/Razogarz/PycharmProjects/airport-controller/rivalAgents/valid/images/041992_jpg.rf.4395774b83fd23e5eb29ded99ff05580.jpg: 416x416 (no detections), 9.4ms\n",
      "image 1699/1766 /mnt/c/Users/Razogarz/PycharmProjects/airport-controller/rivalAgents/valid/images/041993_jpg.rf.b532c282d9c3b8cd2ab4209f8db3aa24.jpg: 416x416 1 1, 1 4, 12.9ms\n",
      "image 1700/1766 /mnt/c/Users/Razogarz/PycharmProjects/airport-controller/rivalAgents/valid/images/042034_jpg.rf.c3b99ad04869305e71c5400c9a60f8ad.jpg: 416x416 1 0, 12.4ms\n",
      "image 1701/1766 /mnt/c/Users/Razogarz/PycharmProjects/airport-controller/rivalAgents/valid/images/042044_jpg.rf.6bdaf442b973c5cbdc371d7ae877e043.jpg: 416x416 2 1s, 6.3ms\n",
      "image 1702/1766 /mnt/c/Users/Razogarz/PycharmProjects/airport-controller/rivalAgents/valid/images/042047_jpg.rf.fac5b3e4fbb5d845f5739ee17d728929.jpg: 416x416 1 4, 11.7ms\n",
      "image 1703/1766 /mnt/c/Users/Razogarz/PycharmProjects/airport-controller/rivalAgents/valid/images/042048_jpg.rf.400d19bc1984ec3dbeed0493b07997de.jpg: 416x416 (no detections), 7.2ms\n",
      "image 1704/1766 /mnt/c/Users/Razogarz/PycharmProjects/airport-controller/rivalAgents/valid/images/042074_jpg.rf.10612b247e5ce0ab5cdf4039638135d4.jpg: 416x416 (no detections), 9.7ms\n",
      "image 1705/1766 /mnt/c/Users/Razogarz/PycharmProjects/airport-controller/rivalAgents/valid/images/042105_jpg.rf.89533c5653262d9d0fe49d91b06c60e6.jpg: 416x416 (no detections), 14.3ms\n",
      "image 1706/1766 /mnt/c/Users/Razogarz/PycharmProjects/airport-controller/rivalAgents/valid/images/042112_jpg.rf.5ca647b1346596f83bc6791a22611bfc.jpg: 416x416 (no detections), 8.8ms\n",
      "image 1707/1766 /mnt/c/Users/Razogarz/PycharmProjects/airport-controller/rivalAgents/valid/images/042115_jpg.rf.3bd7028ea7059798dbcf1133fc1ed3fe.jpg: 416x416 1 4, 9.1ms\n",
      "image 1708/1766 /mnt/c/Users/Razogarz/PycharmProjects/airport-controller/rivalAgents/valid/images/042117_jpg.rf.0815e267c3fa0b3d30de70d4f32b2494.jpg: 416x416 1 0, 1 1, 14.6ms\n",
      "image 1709/1766 /mnt/c/Users/Razogarz/PycharmProjects/airport-controller/rivalAgents/valid/images/042131_jpg.rf.2a35f9c341b510c7db8c39c647487198.jpg: 416x416 1 4, 7.4ms\n",
      "image 1710/1766 /mnt/c/Users/Razogarz/PycharmProjects/airport-controller/rivalAgents/valid/images/042135_jpg.rf.877d14db143e91c8c0aba09bf7da1e60.jpg: 416x416 (no detections), 10.5ms\n",
      "image 1711/1766 /mnt/c/Users/Razogarz/PycharmProjects/airport-controller/rivalAgents/valid/images/042143_jpg.rf.4c880612ea13c126006f3d939dd5a90c.jpg: 416x416 (no detections), 6.9ms\n",
      "image 1712/1766 /mnt/c/Users/Razogarz/PycharmProjects/airport-controller/rivalAgents/valid/images/042147_jpg.rf.74f438c51625337857fae6560f3ffacc.jpg: 416x416 1 1, 14.2ms\n",
      "image 1713/1766 /mnt/c/Users/Razogarz/PycharmProjects/airport-controller/rivalAgents/valid/images/042168_jpg.rf.f1dc3e1137a49fdf67363d5565252a4c.jpg: 416x416 1 4, 7.3ms\n",
      "image 1714/1766 /mnt/c/Users/Razogarz/PycharmProjects/airport-controller/rivalAgents/valid/images/042180_jpg.rf.9b2d3b9c41b2e66622a78dfc54e76245.jpg: 416x416 1 3, 15.4ms\n",
      "image 1715/1766 /mnt/c/Users/Razogarz/PycharmProjects/airport-controller/rivalAgents/valid/images/042201_jpg.rf.38a53bf2023360937782830124da56fa.jpg: 416x416 (no detections), 9.8ms\n",
      "image 1716/1766 /mnt/c/Users/Razogarz/PycharmProjects/airport-controller/rivalAgents/valid/images/042203_jpg.rf.b3b306ad26f4899ad3fc9ad65f8b4e2a.jpg: 416x416 (no detections), 17.4ms\n",
      "image 1717/1766 /mnt/c/Users/Razogarz/PycharmProjects/airport-controller/rivalAgents/valid/images/042210_jpg.rf.075167cc07a21438c29d73144f92a93d.jpg: 416x416 (no detections), 14.7ms\n",
      "image 1718/1766 /mnt/c/Users/Razogarz/PycharmProjects/airport-controller/rivalAgents/valid/images/042229_jpg.rf.6b2b3994f61df05391226e04635026fc.jpg: 416x416 1 1, 20.5ms\n",
      "image 1719/1766 /mnt/c/Users/Razogarz/PycharmProjects/airport-controller/rivalAgents/valid/images/042272_jpg.rf.9530eb8b6d6e3ea1c983e21ccca6a8fe.jpg: 416x416 (no detections), 19.9ms\n",
      "image 1720/1766 /mnt/c/Users/Razogarz/PycharmProjects/airport-controller/rivalAgents/valid/images/042309_jpg.rf.763bd54338a57bb2b79e1c55bb478206.jpg: 416x416 1 1, 1 4, 6.3ms\n",
      "image 1721/1766 /mnt/c/Users/Razogarz/PycharmProjects/airport-controller/rivalAgents/valid/images/042330_jpg.rf.3e8e32bfd4af232226be239c23b07b71.jpg: 416x416 1 4, 17.5ms\n",
      "image 1722/1766 /mnt/c/Users/Razogarz/PycharmProjects/airport-controller/rivalAgents/valid/images/042335_jpg.rf.61059387ed422e20256baaf2eab5b5d8.jpg: 416x416 (no detections), 9.0ms\n",
      "image 1723/1766 /mnt/c/Users/Razogarz/PycharmProjects/airport-controller/rivalAgents/valid/images/042345_jpg.rf.febadb9ba8565ea30be9ad7ccc7377ab.jpg: 416x416 (no detections), 10.1ms\n",
      "image 1724/1766 /mnt/c/Users/Razogarz/PycharmProjects/airport-controller/rivalAgents/valid/images/042367_jpg.rf.6137fd250621a638c41f9dc019a198d2.jpg: 416x416 (no detections), 14.4ms\n",
      "image 1725/1766 /mnt/c/Users/Razogarz/PycharmProjects/airport-controller/rivalAgents/valid/images/042370_jpg.rf.af0bcd43829b5b5e370cf637f35c9012.jpg: 416x416 1 1, 19.2ms\n",
      "image 1726/1766 /mnt/c/Users/Razogarz/PycharmProjects/airport-controller/rivalAgents/valid/images/042383_jpg.rf.bebcd4840b232ded3f136d8cc4e4af65.jpg: 416x416 (no detections), 14.3ms\n",
      "image 1727/1766 /mnt/c/Users/Razogarz/PycharmProjects/airport-controller/rivalAgents/valid/images/042389_jpg.rf.4cb90dafb872d1eced10f11052870be4.jpg: 416x416 (no detections), 9.7ms\n",
      "image 1728/1766 /mnt/c/Users/Razogarz/PycharmProjects/airport-controller/rivalAgents/valid/images/042390_jpg.rf.8521fb9ae36534ca139e5466b480c200.jpg: 416x416 1 4, 13.1ms\n",
      "image 1729/1766 /mnt/c/Users/Razogarz/PycharmProjects/airport-controller/rivalAgents/valid/images/042410_jpg.rf.c2d4a12f4e51f797761e6bbf3036c84c.jpg: 416x416 1 4, 7.3ms\n",
      "image 1730/1766 /mnt/c/Users/Razogarz/PycharmProjects/airport-controller/rivalAgents/valid/images/042471_jpg.rf.bd4cf25c70b69be8aee1c00ae6cc5159.jpg: 416x416 1 4, 15.1ms\n",
      "image 1731/1766 /mnt/c/Users/Razogarz/PycharmProjects/airport-controller/rivalAgents/valid/images/042507_jpg.rf.4ce49f825c88f9d236c809015dc21619.jpg: 416x416 (no detections), 7.5ms\n",
      "image 1732/1766 /mnt/c/Users/Razogarz/PycharmProjects/airport-controller/rivalAgents/valid/images/042508_jpg.rf.41f4785b75e03dea3f1ad1a120eab2df.jpg: 416x416 2 4s, 19.7ms\n",
      "image 1733/1766 /mnt/c/Users/Razogarz/PycharmProjects/airport-controller/rivalAgents/valid/images/042540_jpg.rf.2418669f1ce9ca35824ca387f0b5b241.jpg: 416x416 (no detections), 15.7ms\n",
      "image 1734/1766 /mnt/c/Users/Razogarz/PycharmProjects/airport-controller/rivalAgents/valid/images/042548_jpg.rf.05c45f5d3894fb2531f89c853bad9204.jpg: 416x416 (no detections), 22.1ms\n",
      "image 1735/1766 /mnt/c/Users/Razogarz/PycharmProjects/airport-controller/rivalAgents/valid/images/042570_jpg.rf.a162c8d8c773ff6a974a19fbfef01dec.jpg: 416x416 (no detections), 20.7ms\n",
      "image 1736/1766 /mnt/c/Users/Razogarz/PycharmProjects/airport-controller/rivalAgents/valid/images/042577_jpg.rf.e62537dafdd6bb99d8a6258569e36ea7.jpg: 416x416 (no detections), 24.9ms\n",
      "image 1737/1766 /mnt/c/Users/Razogarz/PycharmProjects/airport-controller/rivalAgents/valid/images/042608_jpg.rf.846e40f790756971172dd11470890db5.jpg: 416x416 (no detections), 16.6ms\n",
      "image 1738/1766 /mnt/c/Users/Razogarz/PycharmProjects/airport-controller/rivalAgents/valid/images/042616_jpg.rf.48583cad378e045b0918e6a8158742fd.jpg: 416x416 (no detections), 20.1ms\n",
      "image 1739/1766 /mnt/c/Users/Razogarz/PycharmProjects/airport-controller/rivalAgents/valid/images/042633_jpg.rf.42755018b7d5ad4ba0740e6b27082d98.jpg: 416x416 (no detections), 16.1ms\n",
      "image 1740/1766 /mnt/c/Users/Razogarz/PycharmProjects/airport-controller/rivalAgents/valid/images/042641_jpg.rf.6d477e2b3e39db73ac4fce22f82be782.jpg: 416x416 (no detections), 7.5ms\n",
      "image 1741/1766 /mnt/c/Users/Razogarz/PycharmProjects/airport-controller/rivalAgents/valid/images/042653_jpg.rf.8e2eb9225870d4941c93657fb3c3c305.jpg: 416x416 (no detections), 9.1ms\n",
      "image 1742/1766 /mnt/c/Users/Razogarz/PycharmProjects/airport-controller/rivalAgents/valid/images/042655_jpg.rf.dd129b58478e1785813b16b79c7e744c.jpg: 416x416 1 4, 7.5ms\n",
      "image 1743/1766 /mnt/c/Users/Razogarz/PycharmProjects/airport-controller/rivalAgents/valid/images/042662_jpg.rf.5a27d2e1c131686536cc05580769361e.jpg: 416x416 (no detections), 17.3ms\n",
      "image 1744/1766 /mnt/c/Users/Razogarz/PycharmProjects/airport-controller/rivalAgents/valid/images/042664_jpg.rf.83a843fa25f33d9f99e55f5f4d86bbee.jpg: 416x416 (no detections), 16.8ms\n",
      "image 1745/1766 /mnt/c/Users/Razogarz/PycharmProjects/airport-controller/rivalAgents/valid/images/042667_jpg.rf.e307b53d0fa0ca9fd0a8f2510e15fa71.jpg: 416x416 (no detections), 37.8ms\n",
      "image 1746/1766 /mnt/c/Users/Razogarz/PycharmProjects/airport-controller/rivalAgents/valid/images/042691_jpg.rf.f1160f22fe052246607fc717ef4af5ce.jpg: 416x416 1 4, 12.7ms\n",
      "image 1747/1766 /mnt/c/Users/Razogarz/PycharmProjects/airport-controller/rivalAgents/valid/images/042701_jpg.rf.b8012bd353946244453859ed7d32235c.jpg: 416x416 1 4, 22.3ms\n",
      "image 1748/1766 /mnt/c/Users/Razogarz/PycharmProjects/airport-controller/rivalAgents/valid/images/042729_jpg.rf.d931e08897629981c7d034876b7d7239.jpg: 416x416 (no detections), 17.6ms\n",
      "image 1749/1766 /mnt/c/Users/Razogarz/PycharmProjects/airport-controller/rivalAgents/valid/images/042744_jpg.rf.51632c19457d2d01f62282f0d51adc15.jpg: 416x416 (no detections), 15.0ms\n",
      "image 1750/1766 /mnt/c/Users/Razogarz/PycharmProjects/airport-controller/rivalAgents/valid/images/042751_jpg.rf.da42b5c7049f20cca4f22f9b28a136bf.jpg: 416x416 (no detections), 27.2ms\n",
      "image 1751/1766 /mnt/c/Users/Razogarz/PycharmProjects/airport-controller/rivalAgents/valid/images/042753_jpg.rf.8c42e149bba8969b15f5c699395d271b.jpg: 416x416 (no detections), 10.8ms\n",
      "image 1752/1766 /mnt/c/Users/Razogarz/PycharmProjects/airport-controller/rivalAgents/valid/images/042755_jpg.rf.3b2274959a7bc250e0419fc7674c5c44.jpg: 416x416 2 4s, 14.5ms\n",
      "image 1753/1766 /mnt/c/Users/Razogarz/PycharmProjects/airport-controller/rivalAgents/valid/images/042764_jpg.rf.5ef87240eb39e15dd8b873633c40d975.jpg: 416x416 (no detections), 12.6ms\n",
      "image 1754/1766 /mnt/c/Users/Razogarz/PycharmProjects/airport-controller/rivalAgents/valid/images/042767_jpg.rf.0dab95fb467e961027d9f1cc1e089f84.jpg: 416x416 1 1, 26.3ms\n",
      "image 1755/1766 /mnt/c/Users/Razogarz/PycharmProjects/airport-controller/rivalAgents/valid/images/042803_jpg.rf.0654ca12cee5d5ac4ba09a8f42c573f5.jpg: 416x416 (no detections), 9.7ms\n",
      "image 1756/1766 /mnt/c/Users/Razogarz/PycharmProjects/airport-controller/rivalAgents/valid/images/042821_jpg.rf.b2418fb373307152cee4691ac32dfb75.jpg: 416x416 (no detections), 18.2ms\n",
      "image 1757/1766 /mnt/c/Users/Razogarz/PycharmProjects/airport-controller/rivalAgents/valid/images/042846_jpg.rf.0acd10a5bee7228f8e978d1a5650ad28.jpg: 416x416 1 4, 21.8ms\n",
      "image 1758/1766 /mnt/c/Users/Razogarz/PycharmProjects/airport-controller/rivalAgents/valid/images/042869_jpg.rf.d55f07e2f996511a6d827ae1b3d778d5.jpg: 416x416 1 3, 8.6ms\n",
      "image 1759/1766 /mnt/c/Users/Razogarz/PycharmProjects/airport-controller/rivalAgents/valid/images/042877_jpg.rf.a4212f6c23ef051b139dbe197c75e82a.jpg: 416x416 (no detections), 13.5ms\n",
      "image 1760/1766 /mnt/c/Users/Razogarz/PycharmProjects/airport-controller/rivalAgents/valid/images/042890_jpg.rf.6993d39ca00847b691aa925af46fb9ed.jpg: 416x416 (no detections), 13.1ms\n",
      "image 1761/1766 /mnt/c/Users/Razogarz/PycharmProjects/airport-controller/rivalAgents/valid/images/042893_jpg.rf.3b89c04c2f8bba42f286f32f1bf8da16.jpg: 416x416 1 4, 14.7ms\n",
      "image 1762/1766 /mnt/c/Users/Razogarz/PycharmProjects/airport-controller/rivalAgents/valid/images/042914_jpg.rf.81db8c00042e1c9cfd16c252b7d4a512.jpg: 416x416 1 1, 14.6ms\n",
      "image 1763/1766 /mnt/c/Users/Razogarz/PycharmProjects/airport-controller/rivalAgents/valid/images/042923_jpg.rf.9e9a10350da109f12875d26020da1ce0.jpg: 416x416 (no detections), 6.7ms\n",
      "image 1764/1766 /mnt/c/Users/Razogarz/PycharmProjects/airport-controller/rivalAgents/valid/images/042945_jpg.rf.eaa2f42a7aacb48dd2ea969c3a07de00.jpg: 416x416 1 1, 13.0ms\n",
      "image 1765/1766 /mnt/c/Users/Razogarz/PycharmProjects/airport-controller/rivalAgents/valid/images/042950_jpg.rf.0cfa30f0f1ef4896e6a1bf5a6738ef45.jpg: 416x416 1 3, 11.3ms\n",
      "image 1766/1766 /mnt/c/Users/Razogarz/PycharmProjects/airport-controller/rivalAgents/valid/images/042957_jpg.rf.fedc053bf4a27724a1c9f4e502da4b57.jpg: 416x416 (no detections), 19.3ms\n",
      "Speed: 1.5ms preprocess, 13.2ms inference, 3.3ms postprocess per image at shape (1, 3, 416, 416)\n",
      "Results saved to \u001B[1mruns/detect/train113\u001B[0m\n"
     ]
    }
   ],
   "execution_count": 6
  },
  {
   "metadata": {
    "ExecuteTime": {
     "end_time": "2025-06-23T15:24:08.506814Z",
     "start_time": "2025-06-23T15:24:08.454265Z"
    }
   },
   "cell_type": "code",
   "source": "res = model.predict('./valid/images/009860_jpg.rf.8cd060cd8962fbce097d1fcf9e4fb18d.jpg', conf=0.15, iou=0.9)",
   "id": "47964b86165b75da",
   "outputs": [
    {
     "name": "stdout",
     "output_type": "stream",
     "text": [
      "\n",
      "image 1/1 /mnt/c/Users/Razogarz/PycharmProjects/airport-controller/rivalAgents/valid/images/009860_jpg.rf.8cd060cd8962fbce097d1fcf9e4fb18d.jpg: 416x416 (no detections), 13.9ms\n",
      "Speed: 1.4ms preprocess, 13.9ms inference, 1.8ms postprocess per image at shape (1, 3, 416, 416)\n"
     ]
    }
   ],
   "execution_count": 7
  },
  {
   "metadata": {
    "ExecuteTime": {
     "end_time": "2025-06-23T15:24:08.588706Z",
     "start_time": "2025-06-23T15:24:08.565789Z"
    }
   },
   "cell_type": "code",
   "source": "res[0].boxes",
   "id": "1377f3e84dec906d",
   "outputs": [
    {
     "data": {
      "text/plain": [
       "ultralytics.engine.results.Boxes object with attributes:\n",
       "\n",
       "cls: tensor([], device='cuda:0')\n",
       "conf: tensor([], device='cuda:0')\n",
       "data: tensor([], device='cuda:0', size=(0, 6))\n",
       "id: None\n",
       "is_track: False\n",
       "orig_shape: (416, 416)\n",
       "shape: torch.Size([0, 6])\n",
       "xywh: tensor([], device='cuda:0', size=(0, 4))\n",
       "xywhn: tensor([], device='cuda:0', size=(0, 4))\n",
       "xyxy: tensor([], device='cuda:0', size=(0, 4))\n",
       "xyxyn: tensor([], device='cuda:0', size=(0, 4))"
      ]
     },
     "execution_count": 8,
     "metadata": {},
     "output_type": "execute_result"
    }
   ],
   "execution_count": 8
  },
  {
   "metadata": {
    "ExecuteTime": {
     "end_time": "2025-06-23T15:24:08.706020Z",
     "start_time": "2025-06-23T15:24:08.614714Z"
    }
   },
   "cell_type": "code",
   "source": [
    "import matplotlib.pyplot as plt\n",
    "\n",
    "image = res[0].plot()\n",
    "plt.figure(figsize=(10, 10))\n",
    "plt.imshow(image)\n",
    "plt.axis('off')\n",
    "plt.savefig(\"marked_image.jpg\")"
   ],
   "id": "974d56a6db568825",
   "outputs": [],
   "execution_count": 9
  },
  {
   "metadata": {
    "ExecuteTime": {
     "end_time": "2025-06-23T15:24:11.346729Z",
     "start_time": "2025-06-23T15:24:08.819941Z"
    }
   },
   "cell_type": "code",
   "source": [
    "exported_path = model.export(\n",
    "    format='onnx',\n",
    "    dynamic=False,\n",
    "    simplify=True,\n",
    "    opset=11\n",
    ")\n",
    "print(\"Exported ONNX at:\", exported_path)"
   ],
   "id": "87c970ff3523fbdf",
   "outputs": [
    {
     "name": "stdout",
     "output_type": "stream",
     "text": [
      "Ultralytics 8.3.148 🚀 Python-3.10.16 torch-2.7.0+cu128 CPU (13th Gen Intel Core(TM) i5-13500H)\n",
      "\n",
      "\u001B[34m\u001B[1mPyTorch:\u001B[0m starting from 'runs/detect/train11/weights/best.pt' with input shape (1, 3, 416, 416) BCHW and output shape(s) (1, 9, 3549) (5.9 MB)\n",
      "\n",
      "\u001B[34m\u001B[1mONNX:\u001B[0m starting export with onnx 1.17.0 opset 11...\n",
      "\u001B[34m\u001B[1mONNX:\u001B[0m slimming with onnxslim 0.1.57...\n",
      "\u001B[34m\u001B[1mONNX:\u001B[0m export success ✅ 2.2s, saved as 'runs/detect/train11/weights/best.onnx' (11.6 MB)\n",
      "\n",
      "Export complete (2.5s)\n",
      "Results saved to \u001B[1m/mnt/c/Users/Razogarz/PycharmProjects/airport-controller/rivalAgents/runs/detect/train11/weights\u001B[0m\n",
      "Predict:         yolo predict task=detect model=runs/detect/train11/weights/best.onnx imgsz=416  \n",
      "Validate:        yolo val task=detect model=runs/detect/train11/weights/best.onnx imgsz=416 data=data.yaml  \n",
      "Visualize:       https://netron.app\n",
      "Exported ONNX at: runs/detect/train11/weights/best.onnx\n"
     ]
    }
   ],
   "execution_count": 11
  },
  {
   "metadata": {
    "ExecuteTime": {
     "end_time": "2025-06-23T15:24:12.118777Z",
     "start_time": "2025-06-23T15:24:11.470318Z"
    }
   },
   "cell_type": "code",
   "source": [
    "import onnxruntime as ort\n",
    "import numpy as np\n",
    "\n",
    "sess = ort.InferenceSession(exported_path)\n",
    "inp_name = sess.get_inputs()[0].name\n",
    "out_name = sess.get_outputs()[0].name\n",
    "\n",
    "dummy = np.random.randn(1, 3, 640, 640).astype(np.float32)\n",
    "\n",
    "outputs = sess.run([out_name], {inp_name: dummy})\n",
    "\n",
    "for i, output in enumerate(outputs[0][0][:10]):\n",
    "    x, y, width, height = output[:4]\n",
    "    class_probs = output[4:]\n",
    "    print (output[4:].size)\n",
    "    print(f\"Example {i + 1}: x={x}, y={y}, width={width}, height={height}, class_probs={class_probs}\")"
   ],
   "id": "87abd49baeb62d37",
   "outputs": [
    {
     "ename": "InvalidArgument",
     "evalue": "[ONNXRuntimeError] : 2 : INVALID_ARGUMENT : Got invalid dimensions for input: images for the following indices\n index: 2 Got: 640 Expected: 416\n index: 3 Got: 640 Expected: 416\n Please fix either the inputs/outputs or the model.",
     "output_type": "error",
     "traceback": [
      "\u001B[0;31m---------------------------------------------------------------------------\u001B[0m",
      "\u001B[0;31mInvalidArgument\u001B[0m                           Traceback (most recent call last)",
      "Cell \u001B[0;32mIn[14], line 13\u001B[0m\n\u001B[1;32m     10\u001B[0m dummy \u001B[38;5;241m=\u001B[39m np\u001B[38;5;241m.\u001B[39mrandom\u001B[38;5;241m.\u001B[39mrandn(\u001B[38;5;241m1\u001B[39m, \u001B[38;5;241m3\u001B[39m, \u001B[38;5;241m640\u001B[39m, \u001B[38;5;241m640\u001B[39m)\u001B[38;5;241m.\u001B[39mastype(np\u001B[38;5;241m.\u001B[39mfloat32)  \u001B[38;5;66;03m# Adjust size to match your model's input\u001B[39;00m\n\u001B[1;32m     12\u001B[0m \u001B[38;5;66;03m# Run inference\u001B[39;00m\n\u001B[0;32m---> 13\u001B[0m outputs \u001B[38;5;241m=\u001B[39m \u001B[43msess\u001B[49m\u001B[38;5;241;43m.\u001B[39;49m\u001B[43mrun\u001B[49m\u001B[43m(\u001B[49m\u001B[43m[\u001B[49m\u001B[43mout_name\u001B[49m\u001B[43m]\u001B[49m\u001B[43m,\u001B[49m\u001B[43m \u001B[49m\u001B[43m{\u001B[49m\u001B[43minp_name\u001B[49m\u001B[43m:\u001B[49m\u001B[43m \u001B[49m\u001B[43mdummy\u001B[49m\u001B[43m}\u001B[49m\u001B[43m)\u001B[49m\n\u001B[1;32m     15\u001B[0m \u001B[38;5;66;03m# Display ten example outputs in the expected format\u001B[39;00m\n\u001B[1;32m     16\u001B[0m \u001B[38;5;28;01mfor\u001B[39;00m i, output \u001B[38;5;129;01min\u001B[39;00m \u001B[38;5;28menumerate\u001B[39m(outputs[\u001B[38;5;241m0\u001B[39m][\u001B[38;5;241m0\u001B[39m][:\u001B[38;5;241m10\u001B[39m]):  \u001B[38;5;66;03m# Access batch 0 and first 10 anchors\u001B[39;00m\n",
      "File \u001B[0;32m~/anaconda3/envs/airport-controller/lib/python3.10/site-packages/onnxruntime/capi/onnxruntime_inference_collection.py:273\u001B[0m, in \u001B[0;36mSession.run\u001B[0;34m(self, output_names, input_feed, run_options)\u001B[0m\n\u001B[1;32m    271\u001B[0m     output_names \u001B[38;5;241m=\u001B[39m [output\u001B[38;5;241m.\u001B[39mname \u001B[38;5;28;01mfor\u001B[39;00m output \u001B[38;5;129;01min\u001B[39;00m \u001B[38;5;28mself\u001B[39m\u001B[38;5;241m.\u001B[39m_outputs_meta]\n\u001B[1;32m    272\u001B[0m \u001B[38;5;28;01mtry\u001B[39;00m:\n\u001B[0;32m--> 273\u001B[0m     \u001B[38;5;28;01mreturn\u001B[39;00m \u001B[38;5;28;43mself\u001B[39;49m\u001B[38;5;241;43m.\u001B[39;49m\u001B[43m_sess\u001B[49m\u001B[38;5;241;43m.\u001B[39;49m\u001B[43mrun\u001B[49m\u001B[43m(\u001B[49m\u001B[43moutput_names\u001B[49m\u001B[43m,\u001B[49m\u001B[43m \u001B[49m\u001B[43minput_feed\u001B[49m\u001B[43m,\u001B[49m\u001B[43m \u001B[49m\u001B[43mrun_options\u001B[49m\u001B[43m)\u001B[49m\n\u001B[1;32m    274\u001B[0m \u001B[38;5;28;01mexcept\u001B[39;00m C\u001B[38;5;241m.\u001B[39mEPFail \u001B[38;5;28;01mas\u001B[39;00m err:\n\u001B[1;32m    275\u001B[0m     \u001B[38;5;28;01mif\u001B[39;00m \u001B[38;5;28mself\u001B[39m\u001B[38;5;241m.\u001B[39m_enable_fallback:\n",
      "\u001B[0;31mInvalidArgument\u001B[0m: [ONNXRuntimeError] : 2 : INVALID_ARGUMENT : Got invalid dimensions for input: images for the following indices\n index: 2 Got: 640 Expected: 416\n index: 3 Got: 640 Expected: 416\n Please fix either the inputs/outputs or the model."
     ]
    }
   ],
   "execution_count": 14
  },
  {
   "metadata": {
    "ExecuteTime": {
     "end_time": "2025-06-23T15:24:12.123511700Z",
     "start_time": "2025-06-22T23:57:56.825573Z"
    }
   },
   "cell_type": "code",
   "source": [
    "import numpy as np, cv2\n",
    "from scipy.special import expit as sigmoid\n",
    "\n",
    "def yolo8_out(raw: np.ndarray, W: int, H: int, conf: float = 0.25, iou: float = 0.45):\n",
    "    arr = raw.squeeze()\n",
    "    if arr.shape[0] == 9:\n",
    "        arr = arr.T\n",
    "    elif arr.shape[1] == 9:\n",
    "        pass\n",
    "    else:\n",
    "        raise ValueError(f\"Unexpected shape: {arr.shape}\")\n",
    "\n",
    "    b, c = arr[:, :4], sigmoid(arr[:, 4:])\n",
    "    ids = c.argmax(1)\n",
    "    s = c[np.arange(len(ids)), ids]\n",
    "    m = s >= conf\n",
    "    if not m.any():\n",
    "        return [], [], []\n",
    "\n",
    "    b, ids, s = b[m], ids[m], s[m]\n",
    "\n",
    "    cx, cy, w, h = b.T\n",
    "    x1 = np.clip(cx - w / 2, 0, W - 1)\n",
    "    y1 = np.clip(cy - h / 2, 0, H - 1)\n",
    "    x2 = np.clip(cx + w / 2, 0, W - 1)\n",
    "    y2 = np.clip(cy + h / 2, 0, H - 1)\n",
    "\n",
    "    boxes_nms = np.column_stack([x1, y1, x2 - x1, y2 - y1]).tolist()\n",
    "    idxs = cv2.dnn.NMSBoxes(boxes_nms, s.tolist(), conf, iou)\n",
    "    if len(idxs) == 0:\n",
    "        return [], [], []\n",
    "\n",
    "    idxs = idxs.flatten()\n",
    "    final_boxes = [[float(x1[i]), float(y1[i]), float(x2[i]), float(y2[i])] for i in idxs]\n",
    "    final_ids = [int(ids[i]) for i in idxs]\n",
    "    final_scores = [float(s[i]) for i in idxs]\n",
    "\n",
    "    return final_boxes, final_ids, final_scores\n",
    "\n",
    "boxes, class_ids, scores = yolo8_out(outputs[0], 614, 614, conf=0.7, iou=0.05)"
   ],
   "id": "ba6a9142163e0030",
   "outputs": [],
   "execution_count": 67
  },
  {
   "metadata": {
    "ExecuteTime": {
     "end_time": "2025-06-23T15:24:12.127033400Z",
     "start_time": "2025-06-22T23:57:56.890586Z"
    }
   },
   "cell_type": "code",
   "source": "print(boxes, class_ids, scores)",
   "id": "bf8912f01ce189e3",
   "outputs": [
    {
     "name": "stdout",
     "output_type": "stream",
     "text": [
      "[[0.0, 140.87054443359375, 114.2115249633789, 358.7400207519531]] [0] [0.7053086757659912]\n"
     ]
    }
   ],
   "execution_count": 68
  },
  {
   "metadata": {
    "ExecuteTime": {
     "end_time": "2025-06-23T15:24:12.128039600Z",
     "start_time": "2025-06-22T23:57:56.935372Z"
    }
   },
   "cell_type": "code",
   "source": "len(boxes)",
   "id": "736aaaa9585ceb0b",
   "outputs": [
    {
     "data": {
      "text/plain": [
       "1"
      ]
     },
     "execution_count": 69,
     "metadata": {},
     "output_type": "execute_result"
    }
   ],
   "execution_count": 69
  },
  {
   "metadata": {
    "ExecuteTime": {
     "end_time": "2025-06-23T15:24:12.147080200Z",
     "start_time": "2025-06-22T23:57:56.983221Z"
    }
   },
   "cell_type": "code",
   "source": [
    "areas = [(b[2] - b[0]) * (b[3] - b[1]) for b in boxes]\n",
    "\n",
    "from matplotlib import pyplot as plt\n",
    "\n",
    "plt.hist(areas, bins=50)\n",
    "plt.savefig(\"areas.jpg\")"
   ],
   "id": "126952ede15efa79",
   "outputs": [],
   "execution_count": 70
  },
  {
   "metadata": {
    "ExecuteTime": {
     "end_time": "2025-06-23T15:24:12.153079300Z",
     "start_time": "2025-06-22T23:57:57.113460Z"
    }
   },
   "cell_type": "code",
   "source": [
    "import numpy as np\n",
    "import cv2\n",
    "import matplotlib.pyplot as plt\n",
    "\n",
    "def draw_boxes(image: np.ndarray, boxes: list, class_ids: list = None, scores: list = None, class_names: list = None, color=(0, 255, 0), thickness=2):\n",
    "    img_out = image.copy()\n",
    "    for i, box in enumerate(boxes):\n",
    "        x1, y1, x2, y2 = map(int, box)\n",
    "        cv2.rectangle(img_out, (x1, y1), (x2, y2), color, thickness)\n",
    "\n",
    "        label = \"\"\n",
    "        if class_ids is not None and class_names is not None:\n",
    "            cls = class_ids[i]\n",
    "            name = class_names[cls] if 0 <= cls < len(class_names) else str(cls)\n",
    "            if scores is not None:\n",
    "                label = f\"{name}: {scores[i]:.2f}\"\n",
    "            else:\n",
    "                label = name\n",
    "        elif class_ids is not None:\n",
    "            cls = class_ids[i]\n",
    "            if scores is not None:\n",
    "                label = f\"{cls}: {scores[i]:.2f}\"\n",
    "            else:\n",
    "                label = str(cls)\n",
    "        elif scores is not None:\n",
    "            label = f\"{scores[i]:.2f}\"\n",
    "\n",
    "        if label:\n",
    "            font = cv2.FONT_HERSHEY_SIMPLEX\n",
    "            font_scale = 0.5\n",
    "            text_thickness = 1\n",
    "            (text_w, text_h), baseline = cv2.getTextSize(label, font, font_scale, text_thickness)\n",
    "            cv2.rectangle(img_out, (x1, y1 - text_h - baseline - 4), (x1 + text_w, y1), color, -1)\n",
    "            cv2.putText(img_out, label, (x1, y1 - baseline - 2), font, font_scale, (0, 0, 0), text_thickness)\n",
    "    return img_out\n",
    "\n",
    "example_boxes = boxes\n",
    "example_class_ids = class_ids\n",
    "example_scores = scores\n",
    "example_class_names = [\"ClassA\", \"ClassB\", \"ClassC\", \"ClassD\", \"ClassE\"]\n",
    "\n",
    "img_with_boxes = draw_boxes(image, example_boxes, example_class_ids, example_scores, example_class_names)\n",
    "\n",
    "plt.figure(figsize=(6, 6))\n",
    "plt.imshow(cv2.cvtColor(img_with_boxes, cv2.COLOR_BGR2RGB))\n",
    "plt.axis('off')\n",
    "plt.savefig(\"boxes.jpg\")"
   ],
   "id": "6133a245137dc808",
   "outputs": [],
   "execution_count": 71
  }
 ],
 "metadata": {
  "kernelspec": {
   "name": "python3",
   "language": "python",
   "display_name": "Python 3 (ipykernel)"
  }
 },
 "nbformat": 5,
 "nbformat_minor": 9
}
